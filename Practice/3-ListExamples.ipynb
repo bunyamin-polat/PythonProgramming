{
 "cells": [
  {
   "cell_type": "markdown",
   "metadata": {},
   "source": [
    "### Example 1: Manage A To Do List"
   ]
  },
  {
   "cell_type": "code",
   "execution_count": 1,
   "metadata": {},
   "outputs": [
    {
     "name": "stdout",
     "output_type": "stream",
     "text": [
      "['Buy Groceries', 'Clean the House', 'Pay Bills']\n",
      "['Buy Groceries', 'Clean the House', 'Pay Bills', 'Schedule meeting', 'Go walking']\n",
      "['Buy Groceries', 'Pay Bills', 'Schedule meeting', 'Go walking']\n",
      "Don't forget to pay the bills\n",
      "To DO list remaining\n",
      "-Buy Groceries\n",
      "-Pay Bills\n",
      "-Schedule meeting\n",
      "-Go walking\n"
     ]
    }
   ],
   "source": [
    "## Create to do list\n",
    "to_do_list = ['Buy Groceries', 'Clean the House', 'Pay Bills']\n",
    "print(to_do_list, end='\\n')\n",
    "\n",
    "## Adding task to list\n",
    "to_do_list.append('Schedule meeting')\n",
    "to_do_list.append('Go walking')\n",
    "print(to_do_list, end='\\n')\n",
    "\n",
    "## Remove the completed task\n",
    "to_do_list.remove('Clean the House')\n",
    "print(to_do_list, end='\\n')\n",
    "\n",
    "## Checking if a task is in the list\n",
    "if 'Pay Bills' in to_do_list:\n",
    "    print(\"Don't forget to pay the bills\")\n",
    "\n",
    "print('To DO list remaining')\n",
    "\n",
    "for task in to_do_list:\n",
    "    print(f'-{task}')"
   ]
  },
  {
   "cell_type": "markdown",
   "metadata": {},
   "source": [
    "### Example 2: Organizing Student Grades"
   ]
  },
  {
   "cell_type": "code",
   "execution_count": 4,
   "metadata": {},
   "outputs": [
    {
     "name": "stdout",
     "output_type": "stream",
     "text": [
      "Average Grade: 88.33\n",
      "Highest Grade: 95\n",
      "Lowest Grade: 80\n"
     ]
    }
   ],
   "source": [
    "grades = [85, 92, 90, 80, 88] # Grades\n",
    "grades.append(95) # Adding a new grade\n",
    "\n",
    "# Calculating the average grade\n",
    "average_grade = sum(grades) / len(grades)\n",
    "print(f\"Average Grade: {average_grade:.2f}\")\n",
    "\n",
    "# Finding the highest and lowest grades\n",
    "highest_grade = max(grades)\n",
    "lowest_grade = min(grades)\n",
    "\n",
    "print(f\"Highest Grade: {highest_grade}\")\n",
    "print(f\"Lowest Grade: {lowest_grade}\")"
   ]
  },
  {
   "cell_type": "markdown",
   "metadata": {},
   "source": [
    "### Example 3: Managing An Inventory"
   ]
  },
  {
   "cell_type": "code",
   "execution_count": 4,
   "metadata": {},
   "outputs": [
    {
     "name": "stdout",
     "output_type": "stream",
     "text": [
      "Apple is in stock\n",
      "\n",
      "Inventory:\n",
      "- Apple\n",
      "- Orange\n",
      "- Pear\n",
      "- Strawberry\n"
     ]
    }
   ],
   "source": [
    "inventory = ['Apple', 'Banana', 'Orange', 'Pear']\n",
    "\n",
    "# Adding a new item to the inventory\n",
    "inventory.append('Strawberry')\n",
    "\n",
    "# Removing an item from the inventory\n",
    "inventory.remove('Banana')\n",
    "\n",
    "# Checking if an item is in the stock\n",
    "item = 'Apple'\n",
    "if item in inventory:\n",
    "    print(f'{item} is in stock')\n",
    "else:\n",
    "    print(f'{item} is out of stock')\n",
    "\n",
    "print()\n",
    "    \n",
    "print('Inventory:')\n",
    "for item in inventory:\n",
    "    print(f'- {item}')"
   ]
  },
  {
   "cell_type": "markdown",
   "metadata": {},
   "source": [
    "### Example 4: Collecting User Feedback"
   ]
  },
  {
   "cell_type": "code",
   "execution_count": 5,
   "metadata": {},
   "outputs": [
    {
     "name": "stdout",
     "output_type": "stream",
     "text": [
      "Positive Feedback Count: 2\n",
      "Negative Feedback Count: 1\n",
      "User Feedback:\n",
      "- Great service\n",
      "- Very satisfied\n",
      "- Could be better\n",
      "- Excellent experience\n",
      "- Poor service\n"
     ]
    }
   ],
   "source": [
    "# List of feedback\n",
    "feedback = ['Great service', 'Very satisfied', 'Could be better', 'Excellent experience']\n",
    "\n",
    "# Adding a new feedback\n",
    "feedback.append('Poor service')\n",
    "\n",
    "# Counting specific feedback\n",
    "positive_feedback = sum(1 for comment in feedback if 'Great' in comment or 'Excellent' in comment)\n",
    "negative_feedback = sum(1 for comment in feedback if 'Poor' in comment)\n",
    "\n",
    "print(f'Positive Feedback Count: {positive_feedback}')\n",
    "print(f'Negative Feedback Count: {negative_feedback}')\n",
    "\n",
    "print('User Feedback:')\n",
    "for comment in feedback:\n",
    "    print(f'- {comment}')"
   ]
  },
  {
   "cell_type": "code",
   "execution_count": null,
   "metadata": {},
   "outputs": [],
   "source": []
  }
 ],
 "metadata": {
  "kernelspec": {
   "display_name": "Python 3",
   "language": "python",
   "name": "python3"
  },
  "language_info": {
   "codemirror_mode": {
    "name": "ipython",
    "version": 3
   },
   "file_extension": ".py",
   "mimetype": "text/x-python",
   "name": "python",
   "nbconvert_exporter": "python",
   "pygments_lexer": "ipython3",
   "version": "3.12.0"
  }
 },
 "nbformat": 4,
 "nbformat_minor": 2
}
