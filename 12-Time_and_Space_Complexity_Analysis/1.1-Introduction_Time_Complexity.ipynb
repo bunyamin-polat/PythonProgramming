{
 "cells": [
  {
   "cell_type": "markdown",
   "metadata": {},
   "source": [
    "## Time Complexity\n",
    "\n",
    "Complexity analysis in Python refers to evaluating the performance (both time and space) of Python code in terms of how it scales with input size. It usually involves determining the Big-O Notation for algorithms or functions, which provides an upper bound on the time or space needed as the input size grows.\n",
    "\n",
    "### Steps to Perform Complexity Analysis:\n",
    "#### 1 - Identify the Input Size:\n",
    "\n",
    "The complexity is often expressed as a function of the input size `𝑛` For example, if you are sorting a list of `𝑛` items, `𝑛` is the size of the list.\n",
    "\n",
    "#### 2 - Determine the Basic Operations:\n",
    "\n",
    "Basic operations like comparisons, assignments, or loops determine how the time or space grows with the input. These operations should be counted.\n",
    "\n",
    "#### 3 - Look for Loops and Recursion:\n",
    "\n",
    "The number of iterations in loops (or depth of recursion) often drives the complexity. Nested loops, for example, will often lead to quadratic complexity.\n",
    "\n",
    "#### 4 - Calculate Time Complexity:\n",
    "\n",
    "Time complexity reflects the number of steps the algorithm takes relative to the input size.\n",
    "\n",
    "\n",
    "**Some common time complexities include:**\n",
    "\n",
    "`O(1)`: Constant time, independent of input size.\n",
    "\n",
    "`O(logn)`: Logarithmic time, e.g., binary search.\n",
    "\n",
    "`O(n)`: Linear time, e.g., iterating through a list.\n",
    "\n",
    "`O(nlogn)`: Quasi-linear time, e.g., efficient sorting algorithms.\n",
    "\n",
    "`O(n^2)`: Quadratic time, e.g., nested loops iterating over the input.\n",
    "\n",
    "`O(2^n)`: Exponential time, e.g., algorithms with exhaustive search.\n",
    "\n",
    "#### Big-O\n",
    "\n",
    "Big-O notation is a mathematical way to describe the efficiency of an algorithm in terms of time or space complexity, particularly as the input size n grows. \n",
    "\n",
    "It provides an upper bound on the number of steps (for time complexity) or amount of memory (for space complexity) an algorithm requires, capturing the worst-case scenario as input size increases.\n",
    "\n",
    "**Why Big-O is Useful**\n",
    "Big-O notation helps us understand:\n",
    "\n",
    "How the runtime or memory requirements of an algorithm grow relative to the input size.\n",
    "\n",
    "Which algorithms are suitable for large inputs.\n",
    "\n",
    "By focusing on the \"growth rate\" and ignoring constants and lower-order terms, Big-O notation lets us compare algorithms based on their scalability."
   ]
  },
  {
   "cell_type": "markdown",
   "metadata": {},
   "source": [
    "### Time taken and Time Complexity\n",
    "\n",
    "#### Time Taken\n",
    "**Definition:** This is the actual time (in seconds, milliseconds, etc.) that a function or algorithm takes to execute for a specific input on a particular machine.\n",
    "\n",
    "**Measurement:** Time taken is measured using real-world tools like time.time() in Python, profiling tools, or other benchmarking utilities.\n",
    "\n",
    "**Factors:** The time taken depends on various factors:\n",
    "\n",
    "**Input size:** Larger inputs will generally take more time.\n",
    "\n",
    "**Machine performance:** Faster processors or more memory can reduce the time taken.\n",
    "\n",
    "**Implementation details:** How the code is written or optimized can impact time.\n",
    "\n",
    "**Use:** Useful for benchmarking or comparing performance in real scenarios and understanding how an algorithm performs with specific inputs on a specific machine\n",
    "\n",
    "#### Time Complexity\n",
    "\n",
    "**Definition:** Time complexity is a theoretical measure that describes how the execution time of an algorithm grows relative to the input size n, using Big-O notation. It reflects the growth rate of an algorithm as input size increases.\n",
    "\n",
    "**Measurement:** Time complexity is calculated by analyzing the algorithm’s structure—such as loops, recursion depth, and nested operations—without considering real execution time.\n",
    "\n",
    "**Factors:** Time complexity depends only on the algorithm's structure, not on external factors.\n",
    "For example: O(n), O(n^2), and O(logn) describe how the algorithm scales but not the actual time.\n",
    "\n",
    "**Use:** Time complexity is crucial for understanding the scalability of an algorithm and comparing different algorithms regardless of implementation details or machine specifications."
   ]
  },
  {
   "cell_type": "markdown",
   "metadata": {},
   "source": [
    "### Let's Find the Time Complexity of the Following Codes"
   ]
  },
  {
   "cell_type": "markdown",
   "metadata": {},
   "source": [
    "```python\n",
    "a = 0\n",
    "for i in range(N):\n",
    "    a += i\n",
    "```\n",
    "    \n",
    "**Explanation:** This code runs a loop N times, so the time complexity is **O(N)**."
   ]
  },
  {
   "cell_type": "markdown",
   "metadata": {},
   "source": [
    "```python\n",
    "a = 0\n",
    "for i in range(N):\n",
    "    for j in range(N):\n",
    "        a = a + i + j\n",
    "```\n",
    "**Explanation:** The nested loops each run N times, resulting in a time complexity of **O(N^2)**."
   ]
  },
  {
   "cell_type": "markdown",
   "metadata": {},
   "source": [
    "```python\n",
    "a = 0\n",
    "for i in range(N):\n",
    "    for j in range(i):\n",
    "        a = a + i + j\n",
    "```\n",
    "**Explanation:** The outer loop runs N times, while the inner loop runs i times. The total time complexity is **O(N^2)**."
   ]
  },
  {
   "cell_type": "markdown",
   "metadata": {},
   "source": [
    "```python\n",
    "a = 0\n",
    "for i in range(N):\n",
    "    for j in range(N, i, -1):\n",
    "        a = a + i + j\n",
    "```\n",
    "**Explanation:** The outer loop runs N times, and the inner loop runs (N - i) times. This results in a time complexity of **O(N^2)**."
   ]
  },
  {
   "cell_type": "markdown",
   "metadata": {},
   "source": [
    "```python\n",
    "a = 0\n",
    "for i in range(N):\n",
    "    for j in range(N):\n",
    "        for k in range(N):\n",
    "            a = a + i + j + k\n",
    "```\n",
    "**Explanation:** Three nested loops each run N times, resulting in a time complexity of **O(N^3)**."
   ]
  },
  {
   "cell_type": "markdown",
   "metadata": {},
   "source": [
    "```python\n",
    "a = 0\n",
    "i = 0\n",
    "while i < N:\n",
    "    a = a + i\n",
    "    i *= 2\n",
    "```\n",
    "**Explanation:** The loop runs log(N) times because `i` is doubling each iteration. The time complexity is **O(log N)**."
   ]
  },
  {
   "cell_type": "markdown",
   "metadata": {},
   "source": [
    "```python\n",
    "def recursive_function(n):\n",
    "    if n <= 1:\n",
    "        return 1\n",
    "    else:\n",
    "        return recursive_function(n-1) + recursive_function(n-1)\n",
    "```\n",
    "**Explanation:** This recursive function has two recursive calls per execution. Therefore, the time complexity is **O(2^N)**."
   ]
  },
  {
   "cell_type": "markdown",
   "metadata": {},
   "source": [
    "```python\n",
    "import math\n",
    "\n",
    "a = 0\n",
    "for i in range(N):\n",
    "    for j in range(int(math.sqrt(N))):\n",
    "        a = a + i + j\n",
    "```\n",
    "**Explanation:** The outer loop runs N times, and the inner loop runs sqrt(N) times. The overall time complexity is **O(N * sqrt(N))**."
   ]
  },
  {
   "cell_type": "markdown",
   "metadata": {},
   "source": []
  }
 ],
 "metadata": {
  "kernelspec": {
   "display_name": "Python 3",
   "language": "python",
   "name": "python3"
  },
  "language_info": {
   "name": "python",
   "version": "3.12.0"
  }
 },
 "nbformat": 4,
 "nbformat_minor": 2
}
