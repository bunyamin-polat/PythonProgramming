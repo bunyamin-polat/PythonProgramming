{
 "cells": [
  {
   "cell_type": "markdown",
   "metadata": {},
   "source": [
    "## Factorial of a number using Recursion\n",
    "\n",
    "You are given a non-negative integer n. Your task is to find the factorial of n, defined as the product of all positive integers less than or equal to n. The factorial of 0 is defined to be 1. You must implement this using recursion.\n",
    "\n",
    "**Input:** A non-negative integer `n`, where `0 <= n <= 20`.\n",
    "\n",
    "**Output:** An integer representing the factorial of `n`.\n",
    "\n",
    "**Example:**\n",
    "\n",
    "    Input: n = 5\n",
    "    Output: 120\n",
    "    \n",
    "    Input: n = 0\n",
    "    Output: 1"
   ]
  },
  {
   "cell_type": "code",
   "execution_count": 3,
   "metadata": {},
   "outputs": [
    {
     "name": "stdout",
     "output_type": "stream",
     "text": [
      "120\n",
      "1\n"
     ]
    }
   ],
   "source": [
    "def factorial(n: int) -> int:\n",
    "    \"\"\"\n",
    "    Function to calculate the factorial of a non-negative integer n using recursion.\n",
    "    Parameters: n (int): The non-negative integer for which the factorial is to be calculated.\n",
    "    Returns: int: The factorial of n.\n",
    "    \"\"\"\n",
    "    \n",
    "    if n < 0:\n",
    "        raise ValueError(\"The input must be a non-negative integer.\")\n",
    "    elif n == 0:\n",
    "        return 1\n",
    "    elif n > 20:\n",
    "        return \"Warning: The input is too large and may cause a stack overflow.\"\n",
    "    else:\n",
    "        return n * factorial(n - 1)\n",
    "\n",
    "\n",
    "print(factorial(5)) # 120\n",
    "print(factorial(0)) # 1"
   ]
  },
  {
   "cell_type": "code",
   "execution_count": 4,
   "metadata": {},
   "outputs": [
    {
     "name": "stdout",
     "output_type": "stream",
     "text": [
      "Warning: The input is too large and may cause a stack overflow.\n"
     ]
    }
   ],
   "source": [
    "print(factorial(21)) # Warning: The input is too large and may cause a stack overflow."
   ]
  },
  {
   "cell_type": "code",
   "execution_count": 5,
   "metadata": {},
   "outputs": [
    {
     "ename": "ValueError",
     "evalue": "The input must be a non-negative integer.",
     "output_type": "error",
     "traceback": [
      "\u001b[0;31m---------------------------------------------------------------------------\u001b[0m",
      "\u001b[0;31mValueError\u001b[0m                                Traceback (most recent call last)",
      "Cell \u001b[0;32mIn[5], line 1\u001b[0m\n\u001b[0;32m----> 1\u001b[0m \u001b[38;5;28mprint\u001b[39m(factorial(\u001b[38;5;241m-\u001b[39m\u001b[38;5;241m1\u001b[39m))\n",
      "Cell \u001b[0;32mIn[3], line 9\u001b[0m, in \u001b[0;36mfactorial\u001b[0;34m(n)\u001b[0m\n\u001b[1;32m      2\u001b[0m \u001b[38;5;250m\u001b[39m\u001b[38;5;124;03m\"\"\"\u001b[39;00m\n\u001b[1;32m      3\u001b[0m \u001b[38;5;124;03mFunction to calculate the factorial of a non-negative integer n using recursion.\u001b[39;00m\n\u001b[1;32m      4\u001b[0m \u001b[38;5;124;03mParameters: n (int): The non-negative integer for which the factorial is to be calculated.\u001b[39;00m\n\u001b[1;32m      5\u001b[0m \u001b[38;5;124;03mReturns: int: The factorial of n.\u001b[39;00m\n\u001b[1;32m      6\u001b[0m \u001b[38;5;124;03m\"\"\"\u001b[39;00m\n\u001b[1;32m      8\u001b[0m \u001b[38;5;28;01mif\u001b[39;00m n \u001b[38;5;241m<\u001b[39m \u001b[38;5;241m0\u001b[39m:\n\u001b[0;32m----> 9\u001b[0m     \u001b[38;5;28;01mraise\u001b[39;00m \u001b[38;5;167;01mValueError\u001b[39;00m(\u001b[38;5;124m\"\u001b[39m\u001b[38;5;124mThe input must be a non-negative integer.\u001b[39m\u001b[38;5;124m\"\u001b[39m)\n\u001b[1;32m     10\u001b[0m \u001b[38;5;28;01melif\u001b[39;00m n \u001b[38;5;241m==\u001b[39m \u001b[38;5;241m0\u001b[39m:\n\u001b[1;32m     11\u001b[0m     \u001b[38;5;28;01mreturn\u001b[39;00m \u001b[38;5;241m1\u001b[39m\n",
      "\u001b[0;31mValueError\u001b[0m: The input must be a non-negative integer."
     ]
    }
   ],
   "source": [
    "print(factorial(-1)) # Warning: The input is too large and may cause a stack overflow."
   ]
  },
  {
   "cell_type": "markdown",
   "metadata": {},
   "source": [
    "## PMI (Principle Mathemathical Induction)\n",
    "\n",
    "1. Base Case: Prove that the statement is true for the smallest value of n.\n",
    "\n",
    "2. Inductive Hypothesis: Assume that the statement is true for some value k.\n",
    "\n",
    "3. Inductive Step: Prove that the statement is true for k + 1 using the assumption in step 2.\n"
   ]
  },
  {
   "cell_type": "code",
   "execution_count": 6,
   "metadata": {},
   "outputs": [
    {
     "name": "stdout",
     "output_type": "stream",
     "text": [
      "32\n"
     ]
    }
   ],
   "source": [
    "def power_two(n: int) -> int:\n",
    "    \"\"\"\n",
    "    Function to calculate 2 raised to the power of n using recursion.\n",
    "    Parameters: n (int): The non-negative integer for which 2 is to be raised to the power of n.\n",
    "    Returns: int: 2 raised to the power of n.\n",
    "    \"\"\"\n",
    "    \n",
    "    if n < 0:\n",
    "        raise ValueError(\"The input must be a non-negative integer.\")\n",
    "    elif n == 0: # Base Case\n",
    "        return 1\n",
    "    else:\n",
    "        return 2 * power_two(n - 1) # Inductive Step\n",
    "    \n",
    "\n",
    "print(power_two(5)) # 32\n"
   ]
  },
  {
   "cell_type": "markdown",
   "metadata": {},
   "source": [
    "\n",
    "## Sum of N numbers using Recursion\n",
    "\n",
    "You are given a non-negative integer `n`. Your task is to find the sum of the first n natural numbers using recursion. The sum of the first `n` natural numbers is given by the formula `S = 1 + 2 + 3 + ... + n`.\n",
    "\n",
    "**Input:** A non-negative integer `n`, where `0 <= n <= 1000`.\n",
    "\n",
    "**Output:** An integer representing the `sum` of the first `n` natural numbers.\n",
    "\n",
    "**Example:**\n",
    "\n",
    "    Input: n = 5\n",
    "    Output: 15  # (1 + 2 + 3 + 4 + 5)\n",
    "    \n",
    "    Input: n = 0\n",
    "    Output: 0   # Sum of zero natural numbers"
   ]
  },
  {
   "cell_type": "code",
   "execution_count": 8,
   "metadata": {},
   "outputs": [
    {
     "name": "stdout",
     "output_type": "stream",
     "text": [
      "15\n",
      "0\n"
     ]
    }
   ],
   "source": [
    "import sys\n",
    "sys.setrecursionlimit(1000)\n",
    "\n",
    "def sum_of_natural_numbers(n: int) -> int:\n",
    "    \"\"\"\n",
    "    Function to calculate the sum of the first n natural numbers using recursion.\n",
    "    Parameters: n (int): The non-negative integer for which the sum is to be calculated.\n",
    "    Returns: int: The sum of the first n natural numbers.\n",
    "    \"\"\"\n",
    "    \n",
    "    if n < 0:\n",
    "        raise ValueError(\"The input must be a non-negative integer.\")\n",
    "    elif n == 0:\n",
    "        return 0\n",
    "    elif n == 1:\n",
    "        return 1\n",
    "    else:\n",
    "        return n + sum_of_natural_numbers(n - 1)\n",
    "    \n",
    "print(sum_of_natural_numbers(5)) # 15\n",
    "print(sum_of_natural_numbers(0)) # 0    "
   ]
  },
  {
   "cell_type": "code",
   "execution_count": 9,
   "metadata": {},
   "outputs": [
    {
     "ename": "RecursionError",
     "evalue": "maximum recursion depth exceeded",
     "output_type": "error",
     "traceback": [
      "\u001b[0;31m---------------------------------------------------------------------------\u001b[0m",
      "\u001b[0;31mRecursionError\u001b[0m                            Traceback (most recent call last)",
      "Cell \u001b[0;32mIn[9], line 1\u001b[0m\n\u001b[0;32m----> 1\u001b[0m \u001b[38;5;28mprint\u001b[39m(sum_of_natural_numbers(\u001b[38;5;241m1002\u001b[39m))\n",
      "Cell \u001b[0;32mIn[8], line 20\u001b[0m, in \u001b[0;36msum_of_natural_numbers\u001b[0;34m(n)\u001b[0m\n\u001b[1;32m     16\u001b[0m     \u001b[38;5;28;01mreturn\u001b[39;00m \u001b[38;5;241m1\u001b[39m\n\u001b[1;32m     17\u001b[0m \u001b[38;5;66;03m# elif n > 1000:\u001b[39;00m\n\u001b[1;32m     18\u001b[0m \u001b[38;5;66;03m#     return \"Warning: The input is too large and may cause a stack overflow.\"\u001b[39;00m\n\u001b[1;32m     19\u001b[0m \u001b[38;5;28;01melse\u001b[39;00m:\n\u001b[0;32m---> 20\u001b[0m     \u001b[38;5;28;01mreturn\u001b[39;00m n \u001b[38;5;241m+\u001b[39m sum_of_natural_numbers(n \u001b[38;5;241m-\u001b[39m \u001b[38;5;241m1\u001b[39m)\n",
      "Cell \u001b[0;32mIn[8], line 20\u001b[0m, in \u001b[0;36msum_of_natural_numbers\u001b[0;34m(n)\u001b[0m\n\u001b[1;32m     16\u001b[0m     \u001b[38;5;28;01mreturn\u001b[39;00m \u001b[38;5;241m1\u001b[39m\n\u001b[1;32m     17\u001b[0m \u001b[38;5;66;03m# elif n > 1000:\u001b[39;00m\n\u001b[1;32m     18\u001b[0m \u001b[38;5;66;03m#     return \"Warning: The input is too large and may cause a stack overflow.\"\u001b[39;00m\n\u001b[1;32m     19\u001b[0m \u001b[38;5;28;01melse\u001b[39;00m:\n\u001b[0;32m---> 20\u001b[0m     \u001b[38;5;28;01mreturn\u001b[39;00m n \u001b[38;5;241m+\u001b[39m sum_of_natural_numbers(n \u001b[38;5;241m-\u001b[39m \u001b[38;5;241m1\u001b[39m)\n",
      "    \u001b[0;31m[... skipping similar frames: sum_of_natural_numbers at line 20 (975 times)]\u001b[0m\n",
      "Cell \u001b[0;32mIn[8], line 20\u001b[0m, in \u001b[0;36msum_of_natural_numbers\u001b[0;34m(n)\u001b[0m\n\u001b[1;32m     16\u001b[0m     \u001b[38;5;28;01mreturn\u001b[39;00m \u001b[38;5;241m1\u001b[39m\n\u001b[1;32m     17\u001b[0m \u001b[38;5;66;03m# elif n > 1000:\u001b[39;00m\n\u001b[1;32m     18\u001b[0m \u001b[38;5;66;03m#     return \"Warning: The input is too large and may cause a stack overflow.\"\u001b[39;00m\n\u001b[1;32m     19\u001b[0m \u001b[38;5;28;01melse\u001b[39;00m:\n\u001b[0;32m---> 20\u001b[0m     \u001b[38;5;28;01mreturn\u001b[39;00m n \u001b[38;5;241m+\u001b[39m sum_of_natural_numbers(n \u001b[38;5;241m-\u001b[39m \u001b[38;5;241m1\u001b[39m)\n",
      "\u001b[0;31mRecursionError\u001b[0m: maximum recursion depth exceeded"
     ]
    }
   ],
   "source": [
    "print(sum_of_natural_numbers(1002)) "
   ]
  },
  {
   "cell_type": "markdown",
   "metadata": {},
   "source": [
    "## Number of Digits using Recursion\n",
    "You are given a positive integer `n`. Your task is to find the number of digits in the integer using recursion.\n",
    "\n",
    "**Input:** A positive integer `n`, where `1 <= n <= 10^9`.\n",
    "\n",
    "**Output:** An integer representing the number of digits in `n`.\n",
    "\n",
    "**Example:**\n",
    "\n",
    "    Input: n = 12345\n",
    "    Output: 5\n",
    "    \n",
    "    Input: n = 7\n",
    "    Output: 1"
   ]
  },
  {
   "cell_type": "code",
   "execution_count": 17,
   "metadata": {},
   "outputs": [
    {
     "name": "stdout",
     "output_type": "stream",
     "text": [
      "5\n",
      "1\n"
     ]
    }
   ],
   "source": [
    "def count_digits(n: int) -> int:\n",
    "    \"\"\"\n",
    "    Function to find the number of digits in a number using recursion.\n",
    "    Parameters: n (int): The positive integer whose digits are to be counted.\n",
    "    Returns: int: The number of digits in the integer.\n",
    "    \"\"\"\n",
    "    \n",
    "    if n < 0:\n",
    "        raise ValueError(\"The input must be a positive integer.\")\n",
    "    if n == 0:\n",
    "        return 1\n",
    "    if n < 10:\n",
    "        return 1\n",
    "    return 1 + count_digits(n // 10)\n",
    "    \n",
    "## Alternatively, we can use the following code to solve the problem.\n",
    "# def count_digits(n: int) -> int:\n",
    "#     if(n>=0 and n<=9):\n",
    "#         return 1\n",
    "#     small_number = int(n / 10)\n",
    "#     small_answer = number_of_digits(small_number)\n",
    "\n",
    "#     answer = 1 + temp\n",
    "\n",
    "#     return answer\n",
    "\n",
    "print(count_digits(12345)) # 5\n",
    "print(count_digits(0)) # 1\n"
   ]
  },
  {
   "cell_type": "markdown",
   "metadata": {},
   "source": [
    "## Fibonacci Series using Recursion\n",
    "\n",
    "You are given a non-negative integer `n`. Your task is to find the nth Fibonacci number using recursion. The Fibonacci sequence is defined as follows:\n",
    "\n",
    "    F(0) = 0\n",
    "\n",
    "    F(1) = 1\n",
    "\n",
    "    F(n) = F(n-1) + F(n-2)\n",
    "\n",
    "**Input:** A non-negative integer `n`, where` 0 <= n <= 30`.\n",
    "\n",
    "**Output:** An integer representing the nth Fibonacci number.\n",
    "\n",
    "**Example:**\n",
    "\n",
    "    Input: n = 5\n",
    "    Output: 5  # Fibonacci sequence: 0, 1, 1, 2, 3, 5\n",
    "    \n",
    "    Input: n = 0\n",
    "    Output: 0  # F(0) = 0"
   ]
  },
  {
   "cell_type": "code",
   "execution_count": null,
   "metadata": {},
   "outputs": [],
   "source": [
    "def fibonacci(n: int) -> int:\n",
    "    \"\"\"\n",
    "    Function to calculate the nth Fibonacci number using recursion.\n",
    "    Parameters: n (int): The non-negative integer for which the Fibonacci number is to be calculated.\n",
    "    Returns: int: The nth Fibonacci number.\n",
    "    \"\"\"\n",
    "    if n < 0:\n",
    "        raise ValueError(\"The input must be a non-negative integer.\")\n",
    "    if n ==0:\n",
    "        return 0\n",
    "    if n == 1:\n",
    "        return 1\n",
    "    return fibonacci(n-1) + fibonacci(n-2)"
   ]
  },
  {
   "cell_type": "markdown",
   "metadata": {},
   "source": [
    "## Print 1 to N using Recursion\n",
    "\n",
    "You are given a positive integer `n`. Your task is to return a list of integers from `1 to n` using recursion.\n",
    "\n",
    "**Input:** A positive integer `n`, where `1 <= n <= 1000`.\n",
    "\n",
    "**Output:** A list of integers from `1 to n`.\n",
    "\n",
    "**Example:**\n",
    "\n",
    "    Input: n = 5\n",
    "    Output: [1, 2, 3, 4, 5]\n",
    "    \n",
    "    Input: n = 3\n",
    "    Output: [1, 2, 3]"
   ]
  },
  {
   "cell_type": "code",
   "execution_count": 18,
   "metadata": {},
   "outputs": [
    {
     "name": "stdout",
     "output_type": "stream",
     "text": [
      "[1, 2, 3, 4, 5]\n",
      "[1]\n"
     ]
    }
   ],
   "source": [
    "def count_to_n(n: int) -> list:\n",
    "    \"\"\"\n",
    "    Function to return a list of integers from 1 to n using recursion.\n",
    "    Parameters: n (int): The positive integer representing the upper limit of the range.\n",
    "    Returns: list: A list of integers from 1 to n.\n",
    "    \"\"\"\n",
    "    \n",
    "    if n < 1:\n",
    "        raise ValueError(\"The input must be a positive integer.\")\n",
    "    if n == 1: # Base Case\n",
    "        return [1]\n",
    "    return count_to_n(n - 1) + [n] # Recursive Step - head recursion\n",
    "\n",
    "print(count_to_n(5)) # [1, 2, 3, 4, 5]\n",
    "print(count_to_n(1)) # [1]\n",
    "    \n",
    "    "
   ]
  },
  {
   "cell_type": "markdown",
   "metadata": {},
   "source": [
    "## Print N to 1 using Recursion\n",
    "\n",
    "You are given a positive integer `n`. Your task is to return a list of integers from `n to 1` using recursion.\n",
    "\n",
    "**Input:** A positive integer `n`, where `1 <= n <= 1000`.\n",
    "\n",
    "**Output:** A list of integers from `n to 1`.\n",
    "\n",
    "**Example:**\n",
    "\n",
    "    Input: n = 5\n",
    "    Output: [5, 4, 3, 2, 1]\n",
    "    \n",
    "    Input: n = 3\n",
    "    Output: [3, 2, 1]"
   ]
  },
  {
   "cell_type": "code",
   "execution_count": null,
   "metadata": {},
   "outputs": [],
   "source": [
    "def count_down(n: int) -> list:\n",
    "    \"\"\"\n",
    "    Function to return a list of integers from n to 1 using recursion.\n",
    "    Parameters: n (int): The positive integer representing the starting point of the range.\n",
    "    Returns: list: A list of integers from n to 1.\n",
    "    \"\"\"\n",
    "    if n <= 0:\n",
    "        raise ValueError(\"The input must be a positive integer.\")\n",
    "    if n == 1: # Base Case\n",
    "        return [1]\n",
    "    \n",
    "    return [n] + count_down(n - 1) # Recursive Step - tail recursion\n",
    "\n",
    "print(count_down(5)) # [5, 4, 3, 2, 1]\n",
    "print(count_down(1)) # [1]\n",
    "    \n",
    "    "
   ]
  }
 ],
 "metadata": {
  "kernelspec": {
   "display_name": "Python 3",
   "language": "python",
   "name": "python3"
  },
  "language_info": {
   "codemirror_mode": {
    "name": "ipython",
    "version": 3
   },
   "file_extension": ".py",
   "mimetype": "text/x-python",
   "name": "python",
   "nbconvert_exporter": "python",
   "pygments_lexer": "ipython3",
   "version": "3.12.0"
  }
 },
 "nbformat": 4,
 "nbformat_minor": 2
}
