{
 "cells": [
  {
   "cell_type": "markdown",
   "id": "83e4f306",
   "metadata": {},
   "source": [
    "## Find the Node Index in Linked List\n",
    "\n",
    "You are given the head of a singly linked list and an integer k. Your task is to find the index of the first node in the linked list whose value equals k. If no such node exists, return -1.\n",
    "\n",
    "The index starts at 0 for the head of the list.\n",
    "\n",
    "\n",
    "**Input Parameters:**\n",
    "\n",
    "`head (ListNode):` The head node of the singly linked list.\n",
    "\n",
    "`k (int):` The value you are looking for in the linked list.\n",
    "\n",
    "**Output:**\n",
    "\n",
    "An integer representing the index of the node where the node's value is equal to k. If no such node exists, return -1.\n",
    "\n",
    "**Example:**\n",
    "\n",
    "    Input: head = [1 -> 2 -> 3 -> 4], k = 3\n",
    "    Output: 2\n",
    "    \n",
    "    Input: head = [1 -> 2 -> 3 -> 4], k = 5\n",
    "    Output: -1\n",
    "    \n",
    "    Input: head = [], k = 3\n",
    "    Output: -1\n"
   ]
  },
  {
   "cell_type": "code",
   "execution_count": 1,
   "id": "1eeba83a",
   "metadata": {},
   "outputs": [],
   "source": [
    "from common import Node, create_ll_from_list, print_LL"
   ]
  },
  {
   "cell_type": "code",
   "execution_count": 2,
   "id": "a3cf7a28",
   "metadata": {},
   "outputs": [],
   "source": [
    "def find_index(head, k):\n",
    "    \"\"\"\n",
    "    Function to find the index of a node in a linked list whose value equals k.\n",
    "    :param head: ListNode -> head of the singly linked list\n",
    "    :param k: int -> the target value\n",
    "    :return: int -> index of the node with value k, or -1 if not found\n",
    "    \"\"\"\n",
    "    temp = head\n",
    "    index = 0\n",
    "    \n",
    "    while temp is not None:\n",
    "        if temp.data == k:\n",
    "            return index\n",
    "        temp = temp.next\n",
    "        index += 1\n",
    "\n",
    "    return -1\n"
   ]
  },
  {
   "cell_type": "code",
   "execution_count": 4,
   "id": "54f5b8d5",
   "metadata": {},
   "outputs": [
    {
     "name": "stdout",
     "output_type": "stream",
     "text": [
      "2\n"
     ]
    }
   ],
   "source": [
    "ll = create_ll_from_list([1, 2, 3, 4, 5])\n",
    "print(find_index(ll, 3))  # Output: 2"
   ]
  },
  {
   "cell_type": "markdown",
   "id": "1b94055d",
   "metadata": {},
   "source": [
    "## Middle of the Linked list\n",
    "\n",
    "Given the head of a singly linked list, write a function to return the middle node of the linked list. If there are two middle nodes, return the second middle node.\n",
    "\n",
    "**Input Parameters:** `head (ListNode):` The head node of the singly linked list.\n",
    "\n",
    "**Output:** The middle node of the linked list.\n",
    "\n",
    "**Example:**\n",
    "\n",
    "    Input: head = [1 -> 2 -> 3 -> 4 -> 5]\n",
    "    Output: 3\n",
    "    \n",
    "    Input: head = [1 -> 2 -> 3 -> 4 -> 5 -> 6]\n",
    "    Output: 4\n",
    "    \n",
    "    Input: head = [1]\n",
    "    Output: 1"
   ]
  },
  {
   "cell_type": "code",
   "execution_count": 5,
   "id": "0892a327",
   "metadata": {},
   "outputs": [],
   "source": [
    "def find_middle(head):\n",
    "    \"\"\"\n",
    "    Function to find the middle node of a singly linked list.\n",
    "    :param head: ListNode -> head of the singly linked list\n",
    "    :return: ListNode -> the middle node of the linked list\n",
    "    \"\"\"\n",
    "    if head is None or head.next is None:\n",
    "        return head\n",
    "    \n",
    "    slow = head\n",
    "    fast = head\n",
    "    \n",
    "    while fast and fast.next:\n",
    "        slow = slow.next\n",
    "        fast = fast.next.next\n",
    "    \n",
    "    return slow\n"
   ]
  },
  {
   "cell_type": "code",
   "execution_count": 6,
   "id": "9c233b8f",
   "metadata": {},
   "outputs": [
    {
     "name": "stdout",
     "output_type": "stream",
     "text": [
      "3\n"
     ]
    }
   ],
   "source": [
    "ll = create_ll_from_list([1, 2, 3, 4, 5])\n",
    "print(find_middle(ll).data)  # Output: 3"
   ]
  },
  {
   "cell_type": "markdown",
   "id": "3a3bffe1",
   "metadata": {},
   "source": [
    "## Remove Linked List Elements\n",
    "\n",
    "Given the head of a singly linked list and an integer val, write a function to remove all nodes from the linked list that have Node.val equal to val. Return the new head of the modified linked list.\n",
    "\n",
    "**Input Parameters:**\n",
    "\n",
    "`head (ListNode):` The head node of the singly linked list.\n",
    "\n",
    "`val (int): `The value to remove from the linked list.\n",
    "\n",
    "**Output:** The new head of the linked list after removing all nodes with the value val.\n",
    "\n",
    "**Example:**\n",
    "\n",
    "    Input: head = [1 -> 2 -> 3 -> 4], val = 5\n",
    "    Output: [1 -> 2 -> 3 -> 4]\n",
    "    \n",
    "    Input: head = [7 -> 7 -> 7 -> 7], val = 7\n",
    "    Output: []\n",
    "    \n",
    "    Input: head = [1 -> 2 -> 6 -> 3 -> 4 -> 5 -> 6], val = 6\n",
    "    Output: [1 -> 2 -> 3 -> 4 -> 5]\n"
   ]
  },
  {
   "cell_type": "code",
   "execution_count": 7,
   "id": "8e7ff359",
   "metadata": {},
   "outputs": [],
   "source": [
    "def remove_elements(head, val):\n",
    "    \"\"\"\n",
    "    Function to remove all nodes with value val from the linked list.\n",
    "    :param head: ListNode -> head of the singly linked list\n",
    "    :param val: int -> the value to be removed\n",
    "    :return: ListNode -> the head of the new linked list\n",
    "    \"\"\"\n",
    "    dummy_head = Node(-1)\n",
    "    dummy_head.next = head\n",
    "\n",
    "    temp = dummy_head\n",
    "    while temp.next is not None:\n",
    "        if temp.next.data == val:\n",
    "            temp.next = temp.next.next\n",
    "        else:\n",
    "            temp = temp.next\n",
    "    return dummy_head.next"
   ]
  },
  {
   "cell_type": "code",
   "execution_count": 8,
   "id": "55e63ff2",
   "metadata": {},
   "outputs": [
    {
     "name": "stdout",
     "output_type": "stream",
     "text": [
      "1 -> 2 -> 3 -> 4 -> 5 -> None\n",
      "1 -> 2 -> 3 -> 4 -> 5 -> None\n"
     ]
    }
   ],
   "source": [
    "ll1 = create_ll_from_list([1, 2, 3, 4, 5])\n",
    "print_LL(ll1)  # Output: 1 -> 2 -> 3 -> 4 -> 5\n",
    "print_LL(remove_elements(ll1, 6))\n"
   ]
  },
  {
   "cell_type": "code",
   "execution_count": 9,
   "id": "9dcbc46c",
   "metadata": {},
   "outputs": [
    {
     "name": "stdout",
     "output_type": "stream",
     "text": [
      "7 -> 7 -> 7 -> 7 -> 7 -> None\n",
      "None\n"
     ]
    }
   ],
   "source": [
    "ll2 = create_ll_from_list([7, 7, 7, 7, 7])\n",
    "print_LL(ll2)\n",
    "print_LL(remove_elements(ll2, 7))"
   ]
  },
  {
   "cell_type": "code",
   "execution_count": 10,
   "id": "a8eef0ea",
   "metadata": {},
   "outputs": [
    {
     "name": "stdout",
     "output_type": "stream",
     "text": [
      "1 -> 2 -> 3 -> 4 -> 5 -> None\n",
      "1 -> 2 -> 3 -> 4 -> None\n"
     ]
    }
   ],
   "source": [
    "ll3 = create_ll_from_list([1, 2, 3, 4, 5])\n",
    "print_LL(ll3)  \n",
    "print_LL(remove_elements(ll3, 5))"
   ]
  },
  {
   "cell_type": "markdown",
   "id": "35bb67f6",
   "metadata": {},
   "source": [
    "## Remove Duplicate Elements from Linked List\n",
    "\n",
    "Given the head of a sorted singly linked list, write a function to remove all duplicates such that each element appears only once. The linked list is sorted in non-decreasing order, so all duplicates will be adjacent. Return the linked list sorted as well.\n",
    "\n",
    "**Input Parameters:**\n",
    "\n",
    "`head (ListNode):` The head node of the sorted singly linked list.\n",
    "\n",
    "**Output:** The head node of the modified linked list with duplicates removed.\n",
    "\n",
    "**Example:**\n",
    "\n",
    "    Input: head = [1 -> 1 -> 2 -> 3 -> 3]\n",
    "    Output: [1 -> 2 -> 3]\n",
    "    \n",
    "    Input: head = [1 -> 1 -> 1 -> 2 -> 3]\n",
    "    Output: [1 -> 2 -> 3]\n",
    "    \n",
    "    Input: head = [1 -> 2 -> 3]\n",
    "    Output: [1 -> 2 -> 3]\n"
   ]
  },
  {
   "cell_type": "code",
   "execution_count": 11,
   "id": "4d54bf2a",
   "metadata": {},
   "outputs": [],
   "source": [
    "def delete_duplicates(head):\n",
    "    \"\"\"\n",
    "    Function to remove duplicates from a sorted linked list.\n",
    "    :param head: ListNode -> head of the sorted singly linked list\n",
    "    :return: ListNode -> the head of the new linked list with duplicates removed\n",
    "    \"\"\"\n",
    "        \n",
    "    current = head\n",
    "    \n",
    "    while current and current.next:\n",
    "        if current.data == current.next.data:\n",
    "            current.next = current.next.next\n",
    "        else:\n",
    "            current = current.next\n",
    "    \n",
    "    return head\n"
   ]
  },
  {
   "cell_type": "code",
   "execution_count": 12,
   "id": "3a7a0cde",
   "metadata": {},
   "outputs": [
    {
     "name": "stdout",
     "output_type": "stream",
     "text": [
      "1 -> 1 -> 2 -> 3 -> 3 -> 4 -> 5 -> None\n",
      "1 -> 2 -> 3 -> 4 -> 5 -> None\n"
     ]
    }
   ],
   "source": [
    "ll = create_ll_from_list([1, 1, 2, 3, 3, 4, 5])\n",
    "print_LL(ll)  \n",
    "print_LL(delete_duplicates(ll)) "
   ]
  },
  {
   "cell_type": "markdown",
   "id": "c1ccfcb1",
   "metadata": {},
   "source": [
    "## Reverse a Linked List\n",
    "\n",
    "Given the head of a singly linked list, write a function to reverse the list and return the new head of the reversed list.\n",
    "\n",
    "**Input Parameters:**\n",
    "\n",
    "`head (ListNode):` The head node of the singly linked list.\n",
    "\n",
    "**Output:** The head node of the reversed singly linked list.\n",
    "\n",
    "**Example:**\n",
    "\n",
    "    Input: head = [1 -> 2 -> 3 -> 4 -> 5]\n",
    "    Output: [5 -> 4 -> 3 -> 2 -> 1]\n",
    "    \n",
    "    Input: head = [1 -> 2]\n",
    "    Output: [2 -> 1]\n",
    "    \n",
    "    Input: head = []\n",
    "    Output: []"
   ]
  },
  {
   "cell_type": "code",
   "execution_count": 13,
   "id": "a06b8c2c",
   "metadata": {},
   "outputs": [],
   "source": [
    "def reverse_linked_list(head):\n",
    "    \"\"\"\n",
    "    Function to reverse a singly linked list.\n",
    "    :param head: ListNode -> head of the singly linked list\n",
    "    :return: ListNode -> the head of the reversed linked list\n",
    "    \"\"\"\n",
    "    \n",
    "    if not head or not head.next:\n",
    "        return head\n",
    "    \n",
    "    prev = None\n",
    "    current = head\n",
    "    \n",
    "    while current is not None:\n",
    "        next_node = current.next\n",
    "        current.next = prev\n",
    "        prev = current\n",
    "        current = next_node\n",
    "    \n",
    "    return prev"
   ]
  },
  {
   "cell_type": "code",
   "execution_count": 14,
   "id": "bb293984",
   "metadata": {},
   "outputs": [
    {
     "name": "stdout",
     "output_type": "stream",
     "text": [
      "1 -> 2 -> 3 -> 4 -> 5 -> None\n",
      "5 -> 4 -> 3 -> 2 -> 1 -> None\n"
     ]
    }
   ],
   "source": [
    "ll = create_ll_from_list([1, 2, 3, 4, 5])\n",
    "print_LL(ll)  # Output: 1 -> 2 -> 3 -> 4 -> 5\n",
    "reversed_ll = reverse_linked_list(ll)\n",
    "print_LL(reversed_ll)  # Output: 5 -> 4 -> 3 ->"
   ]
  },
  {
   "cell_type": "markdown",
   "id": "c6dadd11",
   "metadata": {},
   "source": [
    "## Palindrome Linked List\n",
    "Given the head of a singly linked list, write a function to determine if the linked list is a palindrome. A linked list is considered a palindrome if it reads the same backward as forward.\n",
    "\n",
    "**Input Parameters:**\n",
    "\n",
    "`head (ListNode):` The head node of the singly linked list.\n",
    "\n",
    "**Output:**\n",
    "\n",
    "`bool:` Return True if the linked list is a palindrome, otherwise return False.\n",
    "\n",
    "**Example:**\n",
    "\n",
    "    Input: head = [1 -> 2 -> 2 -> 1]\n",
    "    Output: True\n",
    "    \n",
    "    Input: head = [1 -> 2]\n",
    "    Output: False\n",
    "    \n",
    "    Input: head = [1]\n",
    "    Output: True"
   ]
  },
  {
   "cell_type": "code",
   "execution_count": 17,
   "id": "efe466ac",
   "metadata": {},
   "outputs": [],
   "source": [
    "def is_palindrome(head):\n",
    "    \"\"\"\n",
    "    Function to check if a singly linked list is a palindrome.\n",
    "    :param head: ListNode -> head of the singly linked list\n",
    "    :return: bool -> True if the linked list is a palindrome, False otherwise\n",
    "    \"\"\"\n",
    "    if not head or not head.next:\n",
    "        return True\n",
    "\n",
    "    # Step 1: Find the middle using slow and fast pointers\n",
    "    slow = head\n",
    "    fast = head\n",
    "\n",
    "    while fast and fast.next:\n",
    "        slow = slow.next\n",
    "        fast = fast.next.next\n",
    "\n",
    "     # Step 2: Reverse the second half of the list\n",
    "    prev = None\n",
    "    current = slow\n",
    "    while current:\n",
    "        next_node = current.next\n",
    "        current.next = prev\n",
    "        prev = current\n",
    "        current = next_node\n",
    "\n",
    "    # Step 3: Compare both halves\n",
    "    first = head\n",
    "    second = prev\n",
    "    while second:\n",
    "        if first.data != second.data:\n",
    "            return False\n",
    "        first = first.next\n",
    "        second = second.next\n",
    "\n",
    "    return True\n"
   ]
  },
  {
   "cell_type": "code",
   "execution_count": 18,
   "id": "31108fa7",
   "metadata": {},
   "outputs": [
    {
     "name": "stdout",
     "output_type": "stream",
     "text": [
      "True\n"
     ]
    }
   ],
   "source": [
    "ll = create_ll_from_list([1, 2, 2, 1])\n",
    "print(is_palindrome(ll))  # Output: True"
   ]
  },
  {
   "cell_type": "code",
   "execution_count": 19,
   "id": "e43d7626",
   "metadata": {},
   "outputs": [
    {
     "name": "stdout",
     "output_type": "stream",
     "text": [
      "False\n"
     ]
    }
   ],
   "source": [
    "ll = create_ll_from_list([1, 2])\n",
    "print(is_palindrome(ll))"
   ]
  },
  {
   "cell_type": "markdown",
   "id": "ac0b4251",
   "metadata": {},
   "source": [
    "## Linked List Cycle\n",
    "\n",
    "Given the head of a linked list, determine if the linked list has a cycle in it. A cycle in a linked list occurs if there is some node in the list that can be reached again by continuously following the next pointers.\n",
    "\n",
    "**Input Parameters:**\n",
    "\n",
    "`head (ListNode):` The head node of the linked list.\n",
    "\n",
    "**Output:**\n",
    "\n",
    "`bool:` True if there is a cycle in the linked list, False otherwise.\n",
    "\n",
    "**Example:**\n",
    "\n",
    "    Input: head = [1] (No cycle)\n",
    "    Output: False\n",
    "    \n",
    "    Input: head = [1, 2] (Cycle exists with node value 2 pointing to node with value 1)\n",
    "    Output: True\n",
    "    \n",
    "    Input: head = [3, 2, 0, -4] (Cycle exists with node value -4 pointing to node with value 2)\n",
    "    Output: True\n"
   ]
  },
  {
   "cell_type": "code",
   "execution_count": 11,
   "id": "1e298d55",
   "metadata": {},
   "outputs": [],
   "source": [
    "def has_cycle(head):\n",
    "    \"\"\"\n",
    "    Function to determine if the linked list has a cycle.\n",
    "    :param head: ListNode -> The head node of the linked list\n",
    "    :return: bool -> True if there is a cycle, False otherwise\n",
    "    \"\"\"\n",
    "    if not head or not head.next:\n",
    "        return False\n",
    "    \n",
    "    slow = head\n",
    "    fast = head.next # Start fast one step ahead\n",
    "    \n",
    "    while fast and fast.next:\n",
    "        if slow == fast:\n",
    "            return True\n",
    "        slow = slow.next\n",
    "        fast = fast.next.next\n",
    "    \n",
    "    return False"
   ]
  }
 ],
 "metadata": {
  "kernelspec": {
   "display_name": "base",
   "language": "python",
   "name": "python3"
  },
  "language_info": {
   "codemirror_mode": {
    "name": "ipython",
    "version": 3
   },
   "file_extension": ".py",
   "mimetype": "text/x-python",
   "name": "python",
   "nbconvert_exporter": "python",
   "pygments_lexer": "ipython3",
   "version": "3.12.4"
  }
 },
 "nbformat": 4,
 "nbformat_minor": 5
}
