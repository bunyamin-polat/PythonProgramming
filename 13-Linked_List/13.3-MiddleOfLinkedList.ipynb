{
 "cells": [
  {
   "cell_type": "markdown",
   "id": "37f8db6f",
   "metadata": {},
   "source": [
    "## Middle of Linked List"
   ]
  },
  {
   "cell_type": "code",
   "execution_count": null,
   "id": "21bed973",
   "metadata": {},
   "outputs": [],
   "source": [
    "from common import create_ll_from_list, print_LL, length_LL"
   ]
  },
  {
   "cell_type": "code",
   "execution_count": 2,
   "id": "a2b94549",
   "metadata": {},
   "outputs": [],
   "source": [
    "head_odd = create_ll_from_list([1, 2, 3, 4, 5])\n",
    "head_even = create_ll_from_list([1, 2, 3, 4, 5, 6])"
   ]
  },
  {
   "cell_type": "code",
   "execution_count": 3,
   "id": "d67d412a",
   "metadata": {},
   "outputs": [],
   "source": [
    "def middle_of_linked_list(head):\n",
    "    if head is None or head.next is None:\n",
    "        return head\n",
    "    length = length_LL(head)\n",
    "    middle = length // 2\n",
    "    temp = head\n",
    "    count = 0\n",
    "\n",
    "    while count < middle:\n",
    "        temp = temp.next\n",
    "        count += 1\n",
    "    return temp"
   ]
  },
  {
   "cell_type": "code",
   "execution_count": 4,
   "id": "1f8517cb",
   "metadata": {},
   "outputs": [
    {
     "name": "stdout",
     "output_type": "stream",
     "text": [
      "1 -> 2 -> 3 -> 4 -> 5 -> None\n",
      "1 -> 2 -> 3 -> 4 -> 5 -> 6 -> None\n"
     ]
    }
   ],
   "source": [
    "print_LL(head_odd)\n",
    "print_LL(head_even)"
   ]
  },
  {
   "cell_type": "code",
   "execution_count": 6,
   "id": "1c2ae3e9",
   "metadata": {},
   "outputs": [
    {
     "name": "stdout",
     "output_type": "stream",
     "text": [
      "Middle of odd linked list: 3\n",
      "Middle of even linked list: 4\n"
     ]
    }
   ],
   "source": [
    "odd_middle = middle_of_linked_list(head_odd)\n",
    "even_middle = middle_of_linked_list(head_even)\n",
    "\n",
    "print(\"Middle of odd linked list:\", odd_middle.data if odd_middle else \"None\")\n",
    "print(\"Middle of even linked list:\", even_middle.data if even_middle else \"None\")"
   ]
  },
  {
   "cell_type": "markdown",
   "id": "a1d0045c",
   "metadata": {},
   "source": [
    "## Middle of Linked List two-pointer approach"
   ]
  },
  {
   "cell_type": "code",
   "execution_count": null,
   "id": "7eb0c060",
   "metadata": {},
   "outputs": [],
   "source": [
    "def middle_of_linked_list_two_pointer(head):\n",
    "    if head is None or head.next is None:\n",
    "        return head\n",
    "    \n",
    "    slow = head # Initialize slow pointer\n",
    "    fast = head # Initialize fast pointer\n",
    "\n",
    "    while fast and fast.next:\n",
    "        slow = slow.next # Move slow pointer one step\n",
    "        fast = fast.next.next # Move fast pointer two steps\n",
    "\n",
    "    return slow"
   ]
  },
  {
   "cell_type": "code",
   "execution_count": 8,
   "id": "d9dfb965",
   "metadata": {},
   "outputs": [
    {
     "name": "stdout",
     "output_type": "stream",
     "text": [
      "Middle of odd linked list: 3\n",
      "Middle of even linked list: 4\n"
     ]
    }
   ],
   "source": [
    "odd_middle = middle_of_linked_list_two_pointer(head_odd)\n",
    "even_middle = middle_of_linked_list_two_pointer(head_even)\n",
    "\n",
    "print(\"Middle of odd linked list:\", odd_middle.data if odd_middle else \"None\")\n",
    "print(\"Middle of even linked list:\", even_middle.data if even_middle else \"None\")"
   ]
  },
  {
   "cell_type": "markdown",
   "id": "772b8c07",
   "metadata": {},
   "source": []
  }
 ],
 "metadata": {
  "kernelspec": {
   "display_name": "base",
   "language": "python",
   "name": "python3"
  },
  "language_info": {
   "codemirror_mode": {
    "name": "ipython",
    "version": 3
   },
   "file_extension": ".py",
   "mimetype": "text/x-python",
   "name": "python",
   "nbconvert_exporter": "python",
   "pygments_lexer": "ipython3",
   "version": "3.12.4"
  }
 },
 "nbformat": 4,
 "nbformat_minor": 5
}
