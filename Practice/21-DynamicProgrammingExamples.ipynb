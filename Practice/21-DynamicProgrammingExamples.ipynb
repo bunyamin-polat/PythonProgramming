{
 "cells": [
  {
   "cell_type": "markdown",
   "id": "1ebbb4de",
   "metadata": {},
   "source": [
    "## Longest Increasing Subsequence\n",
    "\n",
    "Given an integer array nums, return the length of the longest strictly increasing subsequence.\n",
    "\n",
    "**Example 1:**\n",
    "\n",
    "    Input: nums = [10,9,2,5,3,7,101,18]\n",
    "    Output: 4\n",
    "\n",
    "**Explanation:** The longest increasing subsequence is [2,3,7,101], therefore the length is 4.\n",
    "\n",
    "**Example 2:**\n",
    "\n",
    "    Input: nums = [0,1,0,3,2,3]\n",
    "    Output: 4\n",
    "\n",
    "**Example 3:**\n",
    "\n",
    "    Input: nums = [7,7,7,7,7,7,7]\n",
    "    Output: 1\n"
   ]
  },
  {
   "cell_type": "code",
   "execution_count": 5,
   "id": "7ec72d23",
   "metadata": {},
   "outputs": [],
   "source": [
    "def length_of_lis(nums):\n",
    "    \"\"\"\n",
    "    Function to return the length of the longest strictly increasing subsequence.\n",
    "    \n",
    "    :param nums: List[int] -> List of integers\n",
    "    :return: int -> Length of the longest increasing subsequence\n",
    "    \"\"\"\n",
    "    if not nums:\n",
    "        return 0\n",
    "    \n",
    "    n = len(nums)\n",
    "    dp = [1] * n  # Initialize the dp array with 1s\n",
    "\n",
    "    for i in range(1, n):  # Iterate through each element\n",
    "        for j in range(i):  # Compare with all previous elements\n",
    "            if nums[i] > nums[j]:\n",
    "                dp[i] = max(dp[i], dp[j] + 1)  # Update dp[i] if a longer subsequence is found\n",
    "\n",
    "    return max(dp)  # Return the maximum value in dp array which represents the longest increasing subsequence length\n"
   ]
  },
  {
   "cell_type": "code",
   "execution_count": 6,
   "id": "96dd1a91",
   "metadata": {},
   "outputs": [
    {
     "name": "stdout",
     "output_type": "stream",
     "text": [
      "4\n"
     ]
    }
   ],
   "source": [
    "nums = [10,9,2,5,3,7,101,18]\n",
    "print(length_of_lis(nums))"
   ]
  },
  {
   "cell_type": "code",
   "execution_count": 7,
   "id": "9a13c1b9",
   "metadata": {},
   "outputs": [
    {
     "name": "stdout",
     "output_type": "stream",
     "text": [
      "1\n"
     ]
    }
   ],
   "source": [
    "nums = [7,7,7,7,7,7,7]\n",
    "print(length_of_lis(nums))"
   ]
  },
  {
   "cell_type": "markdown",
   "id": "f1ef1fb8",
   "metadata": {},
   "source": [
    "## Best Time to Buy and Sell Stock\n",
    "\n",
    "You are given an integer array `prices` where `prices[i]` is the price of a given stock on the `ith` day.\n",
    "\n",
    "On each day, you may decide to buy and/or sell the stock. You can only hold at most one share of the stock at any time. However, you can buy it then immediately sell it on the same day.\n",
    "\n",
    "Find and return the maximum profit you can achieve.\n",
    "\n",
    "**Example 1:**\n",
    "\n",
    "    Input: prices = [7,1,5,3,6,4]\n",
    "    Output: 7\n",
    "\n",
    "**Explanation:** Buy on day 2 (price = 1) and sell on day 3 (price = 5), profit = 5-1 = 4.\n",
    "Then buy on day 4 (price = 3) and sell on day 5 (price = 6), profit = 6-3 = 3.\n",
    "Total profit is 4 + 3 = 7.\n",
    "\n",
    "**Example 2:**\n",
    "\n",
    "    Input: prices = [1,2,3,4,5]\n",
    "    Output: 4\n",
    "\n",
    "**Explanation:** Buy on day 1 (price = 1) and sell on day 5 (price = 5), profit = 5-1 = 4.\n",
    "Total profit is 4.\n",
    "\n",
    "**Example 3:**\n",
    "\n",
    "    Input: prices = [7,6,4,3,1]\n",
    "    Output: 0\n",
    "\n",
    "**Explanation:** There is no way to make a positive profit, so we never buy the stock to achieve the maximum profit of 0."
   ]
  },
  {
   "cell_type": "code",
   "execution_count": 8,
   "id": "f5ae2a08",
   "metadata": {},
   "outputs": [],
   "source": [
    "def max_profit(prices):\n",
    "    \"\"\"\n",
    "    Function to return the maximum profit you can achieve by buying and selling stocks.\n",
    "    \n",
    "    :param prices: List[int] -> List of stock prices per day\n",
    "    :return: int -> Maximum profit\n",
    "    \"\"\"\n",
    "    if not prices:\n",
    "        return 0\n",
    "    \n",
    "    max_profit = 0\n",
    "    n = len(prices)\n",
    "    \n",
    "    for i in range(1, n):\n",
    "        if prices[i] > prices[i - 1]:  # If the current price is greater than the previous price\n",
    "            max_profit += prices[i] - prices[i - 1]  # Add the profit from this transaction\n",
    "\n",
    "    return max_profit"
   ]
  },
  {
   "cell_type": "code",
   "execution_count": 10,
   "id": "05942df9",
   "metadata": {},
   "outputs": [
    {
     "name": "stdout",
     "output_type": "stream",
     "text": [
      "7\n"
     ]
    }
   ],
   "source": [
    "prices = [7,1,5,3,6,4]\n",
    "print(max_profit(prices))"
   ]
  },
  {
   "cell_type": "code",
   "execution_count": 11,
   "id": "1ae447a7",
   "metadata": {},
   "outputs": [
    {
     "name": "stdout",
     "output_type": "stream",
     "text": [
      "0\n"
     ]
    }
   ],
   "source": [
    "prices = [7,6,4,3,1]\n",
    "print(max_profit(prices))"
   ]
  },
  {
   "cell_type": "markdown",
   "id": "cc30d9d7",
   "metadata": {},
   "source": [
    "## Nth Tribonacci Number\n",
    "\n",
    "The Tribonacci sequence is defined as follows:\n",
    "\n",
    "    T0 = 0\n",
    "\n",
    "    T1 = 1\n",
    "\n",
    "    T2 = 1\n",
    "\n",
    "    For n >= 0, Tn+3 = Tn + Tn+1 + Tn+2\n",
    "\n",
    "Given an integer n, return the value of Tn. Use a dynamic programming approach to optimize the solution.\n",
    "\n",
    "\n",
    "**Input Parameters:**\n",
    "\n",
    "`n (int)`: The index of the Tribonacci sequence to compute (0 ≤ n ≤ 37).\n",
    "\n",
    "**Output:** Return the value of `Tn (int)`.\n",
    "\n",
    "**Example:**\n",
    "\n",
    "    Input: n = 4\n",
    "    Output: 4\n",
    "\n",
    "**Explanation:** T_3 = 0 + 1 + 1 = 2, T_4 = 1 + 1 + 2 = 4\n",
    " \n",
    "    Input: n = 25\n",
    "    Output: 1389537"
   ]
  },
  {
   "cell_type": "code",
   "execution_count": 12,
   "id": "77aaada0",
   "metadata": {},
   "outputs": [],
   "source": [
    "def tribonacci(n):\n",
    "    \"\"\"\n",
    "    Function to calculate the nth Tribonacci number using dynamic programming.\n",
    "    \n",
    "    :param n: int -> The index of the Tribonacci sequence\n",
    "    :return: int -> The nth Tribonacci number\n",
    "    \"\"\"\n",
    "    if n == 0:\n",
    "        return 0\n",
    "\n",
    "    a, b, c = 0, 1, 1\n",
    "    for i in range(3, n + 1):\n",
    "        a, b, c = b, c, a + b + c\n",
    "    return c"
   ]
  },
  {
   "cell_type": "code",
   "execution_count": 17,
   "id": "2247c9e0",
   "metadata": {},
   "outputs": [
    {
     "name": "stdout",
     "output_type": "stream",
     "text": [
      "4\n",
      "81\n"
     ]
    }
   ],
   "source": [
    "n = 4\n",
    "print(tribonacci(n))\n",
    "\n",
    "n = 9\n",
    "print(tribonacci(n))"
   ]
  },
  {
   "cell_type": "markdown",
   "id": "01a8ecd6",
   "metadata": {},
   "source": [
    "### Pascals Triangle 2\n",
    "\n",
    "Given an integer rowIndex, return the `rowIndexth (0-indexed)` row of Pascal's triangle.\n",
    "\n",
    "In Pascal's triangle, each number is the sum of the two numbers directly above it. The triangle starts with a single 1 at the top, and each row contains one more element than the previous row.\n",
    "\n",
    "**Input Parameters:**\n",
    "\n",
    "`rowIndex (int)`: The 0-based index of the row in Pascal's triangle to return `(0 ≤ rowIndex ≤ 33)`.\n",
    "\n",
    "**Output:**\n",
    "\n",
    "Return the Pascal's triangle row as a list of integers.\n",
    "\n",
    "**Example:**\n",
    "\n",
    "    Input: rowIndex = 3\n",
    "    Output: [1, 3, 3, 1]\n",
    "\n",
    "    Input: rowIndex = 0\n",
    "    Output: [1]\n",
    "\n",
    "    Input: rowIndex = 1\n",
    "    Output: [1, 1]\n",
    "\n",
    "**Example:**\n",
    "\n",
    "    Input: rowIndex = 3\n",
    "    Output: [1, 3, 3, 1]\n",
    "    \n",
    "    Input: rowIndex = 0\n",
    "    Output: [1]\n",
    "    \n",
    "    Input: rowIndex = 1\n",
    "    Output: [1, 1]"
   ]
  },
  {
   "cell_type": "code",
   "execution_count": 4,
   "id": "a688937f",
   "metadata": {},
   "outputs": [],
   "source": [
    "def get_row(row_index):\n",
    "    \"\"\"\n",
    "    Function to return the row_index-th row of Pascal's triangle.\n",
    "\n",
    "    :param row_index: int -> Index of the row to return\n",
    "    :return: List[int] -> The row_index-th row of Pascal's triangle\n",
    "    \"\"\"\n",
    "    if row_index == 0:\n",
    "        return [1]\n",
    "    row = [1]\n",
    "    for i in range(1, row_index + 1):\n",
    "        row.append(row[i - 1] * (row_index - i + 1) // i)\n",
    "    return row"
   ]
  },
  {
   "cell_type": "code",
   "execution_count": 5,
   "id": "8602d201",
   "metadata": {},
   "outputs": [
    {
     "name": "stdout",
     "output_type": "stream",
     "text": [
      "[1, 3, 3, 1]\n"
     ]
    }
   ],
   "source": [
    "row_index = 3\n",
    "print(get_row(row_index))"
   ]
  },
  {
   "cell_type": "code",
   "execution_count": 6,
   "id": "1372cfb8",
   "metadata": {},
   "outputs": [
    {
     "name": "stdout",
     "output_type": "stream",
     "text": [
      "[1, 2, 1]\n"
     ]
    }
   ],
   "source": [
    "row_index = 2\n",
    "print(get_row(row_index))"
   ]
  },
  {
   "cell_type": "markdown",
   "id": "e2938fe8",
   "metadata": {},
   "source": [
    "### Minimum cost to climb stairs\n",
    "\n",
    "You are given an integer array cost where `cost[i]` is the cost of the i-th step on a staircase. Once you pay the cost, you can either climb one or two steps.\n",
    "\n",
    "You can either start from the step with index 0, or the step with index 1. Return the minimum cost to reach the top of the floor.\n",
    "\n",
    "**Input Parameters:**\n",
    "\n",
    "`cost (List[int])`: An array of integers where `cost[i]` represents the cost of the i-th step. (2 ≤ len(cost) ≤ 1000)\n",
    "\n",
    "**Output:**\n",
    "\n",
    "Return the minimum cost to reach the top of the `floor (int)`.\n",
    "\n",
    "**Example:**\n",
    "\n",
    "```\n",
    "Input: cost = [10, 15, 20]\n",
    "Output: 15\n",
    "Explanation: You will start at index 1.\n",
    "- Pay 15 and climb two steps to reach the top.\n",
    " \n",
    " \n",
    "Input: cost = [1, 100, 1, 1, 1, 100, 1, 1, 100, 1]\n",
    "Output: 6\n",
    "Explanation: You will start at index 0.\n",
    "- Climb one step to index 2, pay 1.\n",
    "- Climb two steps to index 4, pay 1.\n",
    "- Climb two steps to index 6, pay 1.\n",
    "- Climb one step to index 7, pay 1.\n",
    "- Climb two steps to index 9, pay 1.\n",
    "- Climb one step to reach the top.\n",
    "```"
   ]
  },
  {
   "cell_type": "code",
   "execution_count": 7,
   "id": "877fc8d5",
   "metadata": {},
   "outputs": [],
   "source": [
    "def min_cost_climbing_stairs(cost):\n",
    "    \"\"\"\n",
    "    Function to calculate the minimum cost to reach the top of the staircase.\n",
    "    \n",
    "    :param cost: List[int] -> The cost associated with each step\n",
    "    :return: int -> Minimum cost to reach the top\n",
    "    \"\"\"\n",
    "    n = len(cost)\n",
    "    if n == 0:\n",
    "        return 0\n",
    "    if n == 1:\n",
    "        return cost[0]\n",
    "    # Dynamic programming array to store the minimum cost to reach each step\n",
    "    dp = [0] * n\n",
    "    dp[0] = cost[0]\n",
    "    dp[1] = cost[1]\n",
    "    for i in range(2, n):\n",
    "        dp[i] = cost[i] + min(dp[i - 1], dp[i - 2])\n",
    "    return min(dp[n - 1], dp[n - 2])\n",
    "\n"
   ]
  },
  {
   "cell_type": "code",
   "execution_count": 8,
   "id": "ecd8533b",
   "metadata": {},
   "outputs": [
    {
     "name": "stdout",
     "output_type": "stream",
     "text": [
      "6\n"
     ]
    }
   ],
   "source": [
    "cost = [1, 100, 1, 1, 1, 100, 1, 1, 100, 1]\n",
    "print(min_cost_climbing_stairs(cost))"
   ]
  },
  {
   "cell_type": "code",
   "execution_count": 9,
   "id": "0ab7b6cc",
   "metadata": {},
   "outputs": [
    {
     "name": "stdout",
     "output_type": "stream",
     "text": [
      "15\n"
     ]
    }
   ],
   "source": [
    "cost = [10, 15, 20]\n",
    "print(min_cost_climbing_stairs(cost))"
   ]
  },
  {
   "cell_type": "markdown",
   "id": "d4c74720",
   "metadata": {},
   "source": [
    "### Climbing Stairs\n",
    "\n",
    "You are climbing a staircase. It takes n steps to reach the top. \n",
    "\n",
    "Each time you can either climb 1 step or 2 steps. In how many distinct ways can you climb to the top?\n",
    "\n",
    "**Input Parameters:**\n",
    "\n",
    "`n (int)`: The total number of steps required to reach the top (1 ≤ n ≤ 45).\n",
    "\n",
    "**Output:**\n",
    "\n",
    "Return the number of distinct ways to reach the top (int).\n",
    "\n",
    "**Example:**\n",
    "\n",
    "```\n",
    "Input: n = 2\n",
    "Output: 2\n",
    "Explanation: There are two ways to climb to the top.\n",
    "1. 1 step + 1 step\n",
    "2. 2 steps\n",
    " \n",
    "Input: n = 3\n",
    "Output: 3\n",
    "Explanation: There are three ways to climb to the top.\n",
    "1. 1 step + 1 step + 1 step\n",
    "2. 1 step + 2 steps\n",
    "3. 2 steps + 1 step\n",
    "```"
   ]
  },
  {
   "cell_type": "code",
   "execution_count": 10,
   "id": "86458888",
   "metadata": {},
   "outputs": [],
   "source": [
    "def climb_stairs(n):\n",
    "    \"\"\"\n",
    "    Function to calculate the number of distinct ways to climb 'n' steps.\n",
    "    \n",
    "    :param n: int -> Total number of steps\n",
    "    :return: int -> Number of distinct ways to climb to the top\n",
    "    \"\"\"\n",
    "    if n == 1:\n",
    "        return 1\n",
    "    if n == 2:\n",
    "        return 2\n",
    "    # Dynamic programming array to store the number of ways to reach each step\n",
    "    dp = [0] * (n + 1)\n",
    "    dp[1] = 1\n",
    "    dp[2] = 2\n",
    "    for i in range(3, n + 1):\n",
    "        dp[i] = dp[i - 1] + dp[i - 2]\n",
    "    return dp[n]\n"
   ]
  },
  {
   "cell_type": "code",
   "execution_count": 11,
   "id": "43efaccb",
   "metadata": {},
   "outputs": [
    {
     "name": "stdout",
     "output_type": "stream",
     "text": [
      "3\n"
     ]
    }
   ],
   "source": [
    "n = 3\n",
    "print(climb_stairs(n))"
   ]
  },
  {
   "cell_type": "code",
   "execution_count": 12,
   "id": "a5874924",
   "metadata": {},
   "outputs": [
    {
     "name": "stdout",
     "output_type": "stream",
     "text": [
      "8\n"
     ]
    }
   ],
   "source": [
    "n = 5\n",
    "print(climb_stairs(n))"
   ]
  },
  {
   "cell_type": "markdown",
   "id": "b004c23c",
   "metadata": {},
   "source": [
    "### House Robbers\n",
    "\n",
    "You are a professional robber planning to rob houses along a street. Each house has a certain amount of money stashed. \n",
    "\n",
    "The only constraint stopping you from robbing each of them is that adjacent houses have security systems connected, and it will automatically contact the police if two adjacent houses are broken into on the same night.\n",
    "\n",
    "Given an integer array nums representing the amount of money at each house, return the maximum amount of money you can rob tonight without alerting the police.\n",
    "\n",
    "**Input Parameters:**\n",
    "\n",
    "`nums (List[int])`: An array representing the amount of money in each house.\n",
    "\n",
    "**Output:** Return an integer representing the maximum amount of money you can rob without triggering the alarm.\n",
    "\n",
    "**Example:**\n",
    "\n",
    "```\n",
    "Input: nums = [1,2,3,1]\n",
    "Output: 4\n",
    "Explanation: Rob house 1 (money = 1) and then rob house 3 (money = 3).\n",
    "             Total money robbed = 1 + 3 = 4.\n",
    " \n",
    " \n",
    "Input: nums = [2,7,9,3,1]\n",
    "Output: 12\n",
    "Explanation: Rob house 1 (money = 2), rob house 3 (money = 9), and rob house 5 (money = 1).\n",
    "             Total money robbed = 2 + 9 + 1 = 12.\n",
    "```"
   ]
  },
  {
   "cell_type": "code",
   "execution_count": null,
   "id": "a6cc4058",
   "metadata": {},
   "outputs": [],
   "source": [
    "def rob(nums):\n",
    "    \"\"\"\n",
    "    Function to return the maximum amount of money that can be robbed without triggering the alarm.\n",
    "    \n",
    "    :param nums: List[int] -> List of money stashed in each house\n",
    "    :return: int -> Maximum money robbed\n",
    "    \"\"\"\n",
    "    if not nums:\n",
    "        return 0\n",
    "    if len(nums) == 1:\n",
    "        return nums[0]\n",
    "    # Dynamic programming array to store the maximum money robbed up to each house\n",
    "    dp = [0] * len(nums)\n",
    "    dp[0] = nums[0]\n",
    "    dp[1] = max(nums[0], nums[1])\n",
    "    for i in range(2, len(nums)):\n",
    "        dp[i] = max(dp[i - 1], dp[i - 2] + nums[i])\n",
    "    return dp[-1] # Maximum money robbed\n"
   ]
  },
  {
   "cell_type": "code",
   "execution_count": 16,
   "id": "f4965f7d",
   "metadata": {},
   "outputs": [
    {
     "name": "stdout",
     "output_type": "stream",
     "text": [
      "4\n"
     ]
    }
   ],
   "source": [
    "nums = [1, 2, 3, 1]\n",
    "print(rob(nums))"
   ]
  },
  {
   "cell_type": "code",
   "execution_count": 17,
   "id": "16cf9832",
   "metadata": {},
   "outputs": [
    {
     "name": "stdout",
     "output_type": "stream",
     "text": [
      "12\n"
     ]
    }
   ],
   "source": [
    "nums = [2, 7, 9, 3, 1]\n",
    "print(rob(nums))"
   ]
  },
  {
   "cell_type": "markdown",
   "id": "e7be6226",
   "metadata": {},
   "source": [
    "### Triangle Array\n",
    "\n",
    "Given a triangle array, return the minimum path sum from top to bottom. For each step, you may move to an adjacent number of the row below. \n",
    "\n",
    "More formally, if you are on index i on the current row, you may move to either index i or index i + 1 on the next row.\n",
    "\n",
    "**Parameters:**\n",
    "\n",
    "`triangle (List[List[int]])`: A list of lists where each inner list represents a row in the triangle.\n",
    "\n",
    "**Return Values:**\n",
    "\n",
    "`int`: The minimum path sum from the top to the bottom of the triangle.\n",
    "\n",
    "**Example:**\n",
    "\n",
    "```\n",
    "Input: triangle = [[2], [3, 4], [6, 5, 7], [4, 1, 8, 3]] \n",
    "Output: 11 \n",
    "Explanation: The path with the minimum sum is 2 → 3 → 5 → 1, which sums to 11.\n",
    " \n",
    "Input: triangle = [[-10]] \n",
    "Output: -10 \n",
    "Explanation: There is only one element in the triangle.\n",
    "```\n"
   ]
  },
  {
   "cell_type": "code",
   "execution_count": 18,
   "id": "64e4b46a",
   "metadata": {},
   "outputs": [],
   "source": [
    "def minimum_total(triangle):\n",
    "    \n",
    "    n = len(triangle)\n",
    "    if n == 0:\n",
    "        return 0\n",
    "    \n",
    "    # Start from the second to last row and move upwards\n",
    "    for row in range(n - 2, -1, -1):\n",
    "        for col in range(len(triangle[row])):\n",
    "            # Update the current cell with the minimum path sum\n",
    "            triangle[row][col] += min(triangle[row + 1][col], triangle[row + 1][col + 1])\n",
    "    # The top element now contains the minimum path sum\n",
    "    return triangle[0][0]"
   ]
  },
  {
   "cell_type": "code",
   "execution_count": 19,
   "id": "7e653f3e",
   "metadata": {},
   "outputs": [
    {
     "name": "stdout",
     "output_type": "stream",
     "text": [
      "11\n"
     ]
    }
   ],
   "source": [
    "triangle = [[2], [3, 4], [6, 5, 7], [4, 1, 8, 3]]\n",
    "print(minimum_total(triangle)) "
   ]
  },
  {
   "cell_type": "markdown",
   "id": "72676256",
   "metadata": {},
   "source": [
    "### Minimum Falling Path Sum\n",
    "\n",
    "Given an n×n times n×n array of integers matrix, return the minimum sum of any falling path through the matrix.\n",
    "\n",
    "A falling path starts at any element in the first row and chooses the element in the next row that is either directly below or diagonally left/right. \n",
    "\n",
    "Specifically, the next element from position (row, col) will be (row + 1, col - 1), (row + 1, col), or (row + 1, col + 1).\n",
    "\n",
    "**Parameters:**\n",
    "\n",
    "`matrix (List[List[int]])`: A 2D list where each inner list represents a row of the matrix.\n",
    "\n",
    "**Return Values:**\n",
    "\n",
    "`int`: The minimum sum of any falling path through the matrix.\n",
    "\n",
    "**Example:**\n",
    "\n",
    "```\n",
    "Input: matrix = [[2, 1, 3], [6, 5, 4], [7, 8, 9]] \n",
    "Output: 13 \n",
    "Explanation: The minimum path sum is 2 → 1 → 4 → 6 with a total sum of 13.\n",
    " \n",
    "Input: matrix = [[-19, 57], [-40, -5]] \n",
    "Output: -59 \n",
    "Explanation: The minimum path sum is -19 → -40 → -5 with a total sum of -59.\n",
    "```"
   ]
  },
  {
   "cell_type": "code",
   "execution_count": 22,
   "id": "0da1b6a9",
   "metadata": {},
   "outputs": [],
   "source": [
    "def min_falling_path_sum(matrix):\n",
    "    n = len(matrix)\n",
    "    if n == 0:\n",
    "        return 0\n",
    "\n",
    "    for r in range(1, n):\n",
    "        for c in range(n):\n",
    "            up_left  = matrix[r-1][c-1] if c-1 >= 0 else float('inf')\n",
    "            up       = matrix[r-1][c]\n",
    "            up_right = matrix[r-1][c+1] if c+1 < n else float('inf')\n",
    "            matrix[r][c] += min(up_left, up, up_right)\n",
    "\n",
    "    return min(matrix[-1])"
   ]
  },
  {
   "cell_type": "code",
   "execution_count": 23,
   "id": "3a40c3a0",
   "metadata": {},
   "outputs": [
    {
     "name": "stdout",
     "output_type": "stream",
     "text": [
      "13\n"
     ]
    }
   ],
   "source": [
    "matrix = [[2,1,3],[6,5,4],[7,8,9]]\n",
    "print(min_falling_path_sum(matrix))"
   ]
  },
  {
   "cell_type": "markdown",
   "id": "77a3ca8f",
   "metadata": {},
   "source": [
    "### Minimum Falling Path Sum II\n",
    "\n",
    "Given an n×n integer matrix grid, return the minimum sum of a falling path with non-zero shifts. \n",
    "\n",
    "A falling path with non-zero shifts is a choice of exactly one element from each row of grid such that no two elements chosen in adjacent rows are in the same column.\n",
    "\n",
    "**Parameters:**\n",
    "\n",
    "`grid (List[List[int]])`: A 2D list where each inner list represents a row of the matrix.\n",
    "\n",
    "**Return Values:**\n",
    "\n",
    "`int`: The minimum sum of a falling path with non-zero shifts.\n",
    "\n",
    "**Example:**\n",
    "\n",
    "```\n",
    "Input: grid = [[1, 2, 3], [4, 5, 6], [7, 8, 9]] \n",
    "Output: 13 \n",
    "Explanation: The minimum falling path sum with non-zero shifts is 1 → 5 → 7 with a total sum of 13.\n",
    " \n",
    "Input: grid = [[5, 1, 3], [2, 4, 6], [7, 8, 9]] \n",
    "Output: 11\n",
    "Explanation: The minimum falling path sum with non-zero shifts is 1 → 4 → 9 with a total sum of 15.\n",
    "```"
   ]
  },
  {
   "cell_type": "code",
   "execution_count": 24,
   "id": "3a8344a5",
   "metadata": {},
   "outputs": [],
   "source": [
    "def min_falling_path_sum(grid):\n",
    "    \n",
    "    n = len(grid)\n",
    "    \n",
    "    # Initialize dp array with infinity\n",
    "    dp = [[float('inf')] * n for _ in range(n)]\n",
    "    \n",
    "    # Initialize the first row of dp with the first row of the grid\n",
    "    for j in range(n):\n",
    "        dp[0][j] = grid[0][j]\n",
    "    \n",
    "    # Process each row from the second row to the last\n",
    "    for i in range(1, n):\n",
    "        # Find the minimum and second minimum values in the previous row\n",
    "        min1, min2 = float('inf'), float('inf')\n",
    "        min1_index = -1\n",
    "        for j in range(n):\n",
    "            if dp[i-1][j] < min1:\n",
    "                min2 = min1\n",
    "                min1 = dp[i-1][j]\n",
    "                min1_index = j\n",
    "            elif dp[i-1][j] < min2:\n",
    "                min2 = dp[i-1][j]\n",
    "        \n",
    "        # Update the dp values for the current row\n",
    "        for j in range(n):\n",
    "            if j == min1_index:\n",
    "                dp[i][j] = grid[i][j] + min2\n",
    "            else:\n",
    "                dp[i][j] = grid[i][j] + min1\n",
    "    \n",
    "    # The result is the minimum value in the last row of dp\n",
    "    return min(dp[-1])\n"
   ]
  },
  {
   "cell_type": "markdown",
   "id": "ed3638c2",
   "metadata": {},
   "source": [
    "### Unique Paths\n",
    "\n",
    "There is a robot on an m x n grid. The robot starts at the top-left corner (i.e., grid[0][0]) and aims to reach the bottom-right corner (i.e., grid[m - 1][n - 1]). \n",
    "\n",
    "The robot can only move either down or right at any point in time.\n",
    "\n",
    "**Parameters:**\n",
    "\n",
    "`m (int)`: Number of rows in the grid.\n",
    "\n",
    "`n (int)`: Number of columns in the grid.\n",
    "\n",
    "**Return Values:**\n",
    "\n",
    "`int`: The number of possible unique paths from the top-left corner to the bottom-right corner.\n",
    "\n",
    "**Example:**\n",
    "\n",
    "```\n",
    "Input: m = 3, n = 7 \n",
    "Output: 28 \n",
    "Explanation: There are 28 unique paths from the top-left to the bottom-right corner.\n",
    " \n",
    " \n",
    "Input: m = 3, n = 2 \n",
    "Output: 3 \n",
    "Explanation: There are 3 unique paths from the top-left to the bottom-right corner.\n",
    "```"
   ]
  },
  {
   "cell_type": "code",
   "execution_count": 25,
   "id": "3c258580",
   "metadata": {},
   "outputs": [],
   "source": [
    "def unique_paths(m, n):\n",
    "    dp = [1] * n\n",
    "    for _ in range(1, m):\n",
    "        for j in range(1, n):\n",
    "            dp[j] += dp[j - 1]\n",
    "    return dp[-1]"
   ]
  },
  {
   "cell_type": "code",
   "execution_count": 27,
   "id": "495e986e",
   "metadata": {},
   "outputs": [
    {
     "name": "stdout",
     "output_type": "stream",
     "text": [
      "28\n"
     ]
    }
   ],
   "source": [
    "m, n = 3, 7\n",
    "print(unique_paths(m, n))"
   ]
  },
  {
   "cell_type": "markdown",
   "id": "a4659e73",
   "metadata": {},
   "source": [
    "### Unique Paths II\n",
    "\n",
    "You are given an m x n integer array grid. There is a robot initially located at the top-left corner (i.e., grid[0][0]). \n",
    "\n",
    "The robot tries to move to the bottom-right corner (i.e., grid[m - 1][n - 1]). The robot can only move either down or right at any point in time.\n",
    "\n",
    "An obstacle and space are marked as 1 or 0 respectively in grid. A path that the robot takes cannot include any square that is an obstacle.\n",
    "\n",
    "**Parameters:**\n",
    "\n",
    "`grid (List[List[int]])`: An `m x n` grid where `grid[i][j]` is either 0 (open space) or 1 (obstacle).\n",
    "\n",
    "**Return Values:**\n",
    "\n",
    "`int`: The number of possible unique paths from the top-left corner to the bottom-right corner avoiding obstacles.\n",
    "\n",
    "**Example:**\n",
    "\n",
    "```\n",
    "Input: grid = [[0,0,0],[0,1,0],[0,0,0]] \n",
    "Output: 2 \n",
    "Explanation: There are 2 unique paths from the top-left to the bottom-right corner.\n",
    " \n",
    "Input: grid = [[0,1,0],[0,0,0],[0,0,0]] \n",
    "Output: 3\n",
    "Explanation: There are 3 unique path from the top-left to the bottom-right corner.\n",
    "```"
   ]
  },
  {
   "cell_type": "code",
   "execution_count": 30,
   "id": "a978a31b",
   "metadata": {},
   "outputs": [],
   "source": [
    "def unique_paths_with_obstacles(grid):\n",
    "    if not grid or not grid[0]:\n",
    "        return 0\n",
    "    m, n = len(grid), len(grid[0])\n",
    "    dp = [0] * n\n",
    "\n",
    "    dp[0] = 1 if grid[0][0] == 0 else 0\n",
    "\n",
    "    for r in range(m):\n",
    "        for c in range(n):\n",
    "            if grid[r][c] == 1:\n",
    "                dp[c] = 0                      \n",
    "            elif c > 0:\n",
    "                dp[c] += dp[c - 1]\n",
    "    return dp[-1]\n"
   ]
  },
  {
   "cell_type": "code",
   "execution_count": 31,
   "id": "82aa2f8e",
   "metadata": {},
   "outputs": [
    {
     "name": "stdout",
     "output_type": "stream",
     "text": [
      "2\n"
     ]
    }
   ],
   "source": [
    "grid = [[0,0,0],[0,1,0],[0,0,0]]\n",
    "print(unique_paths_with_obstacles(grid))"
   ]
  },
  {
   "cell_type": "code",
   "execution_count": 32,
   "id": "5bbeb59d",
   "metadata": {},
   "outputs": [
    {
     "name": "stdout",
     "output_type": "stream",
     "text": [
      "3\n"
     ]
    }
   ],
   "source": [
    "grid = [[0,1,0],[0,0,0],[0,0,0]]\n",
    "print(unique_paths_with_obstacles(grid))"
   ]
  },
  {
   "cell_type": "code",
   "execution_count": null,
   "id": "6de57e6a",
   "metadata": {},
   "outputs": [],
   "source": []
  }
 ],
 "metadata": {
  "kernelspec": {
   "display_name": "base",
   "language": "python",
   "name": "python3"
  },
  "language_info": {
   "codemirror_mode": {
    "name": "ipython",
    "version": 3
   },
   "file_extension": ".py",
   "mimetype": "text/x-python",
   "name": "python",
   "nbconvert_exporter": "python",
   "pygments_lexer": "ipython3",
   "version": "3.12.4"
  }
 },
 "nbformat": 4,
 "nbformat_minor": 5
}
