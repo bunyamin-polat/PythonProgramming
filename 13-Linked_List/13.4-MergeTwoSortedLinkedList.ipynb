{
 "cells": [
  {
   "cell_type": "markdown",
   "id": "066a99e5",
   "metadata": {},
   "source": [
    "## Merge Two Sorted Linked List"
   ]
  },
  {
   "cell_type": "code",
   "execution_count": 1,
   "id": "89616310",
   "metadata": {},
   "outputs": [],
   "source": [
    "from common import create_ll_from_list, print_LL, length_LL"
   ]
  },
  {
   "cell_type": "code",
   "execution_count": 2,
   "id": "ae27dcec",
   "metadata": {},
   "outputs": [],
   "source": [
    "def merge_two_sorted_linked_lists(head1, head2):\n",
    "    if not head1:\n",
    "        return head2\n",
    "    if not head2:\n",
    "        return head1\n",
    "    \n",
    "    final_head = None\n",
    "    final_tail = None\n",
    "\n",
    "    while head1 is not None and head2 is not None:\n",
    "        if head1.data < head2.data:\n",
    "            if final_head is None:\n",
    "                final_head = head1\n",
    "                final_tail = head1\n",
    "            else:\n",
    "                final_tail.next = head1\n",
    "                final_tail = final_tail.next\n",
    "            head1 = head1.next\n",
    "        else:\n",
    "            if final_head is None:\n",
    "                final_head = head2\n",
    "                final_tail = head2\n",
    "            else:\n",
    "                final_tail.next = head2\n",
    "                final_tail = final_tail.next\n",
    "            head2 = head2.next\n",
    "\n",
    "    if head1 is not None:\n",
    "        final_tail.next = head1\n",
    "    elif head2 is not None:\n",
    "        final_tail.next = head2\n",
    "\n",
    "    return final_head"
   ]
  },
  {
   "cell_type": "code",
   "execution_count": 3,
   "id": "ca7b406e",
   "metadata": {},
   "outputs": [
    {
     "name": "stdout",
     "output_type": "stream",
     "text": [
      "Merged Linked List:\n",
      "1 -> 2 -> 3 -> 4 -> 5 -> 6 -> 7 -> 8 -> None\n",
      "Length of merged linked list: 8\n"
     ]
    }
   ],
   "source": [
    "ll1_head = create_ll_from_list([1, 3, 5, 7])\n",
    "ll2_head = create_ll_from_list([2, 4, 6, 8])\n",
    "merged_head = merge_two_sorted_linked_lists(ll1_head, ll2_head)\n",
    "print(\"Merged Linked List:\")\n",
    "print_LL(merged_head)\n",
    "print(\"Length of merged linked list:\", length_LL(merged_head))"
   ]
  },
  {
   "cell_type": "code",
   "execution_count": null,
   "id": "3450078b",
   "metadata": {},
   "outputs": [],
   "source": []
  }
 ],
 "metadata": {
  "kernelspec": {
   "display_name": "base",
   "language": "python",
   "name": "python3"
  },
  "language_info": {
   "codemirror_mode": {
    "name": "ipython",
    "version": 3
   },
   "file_extension": ".py",
   "mimetype": "text/x-python",
   "name": "python",
   "nbconvert_exporter": "python",
   "pygments_lexer": "ipython3",
   "version": "3.12.4"
  }
 },
 "nbformat": 4,
 "nbformat_minor": 5
}
