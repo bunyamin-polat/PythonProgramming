{
 "cells": [
  {
   "cell_type": "markdown",
   "metadata": {},
   "source": [
    "## Inheritance In Python\n",
    "\n",
    "Inheritance is a fundamental concept in Object-Oriented Programming (OOP) that allows a class to inherit attributes and methods from another class.\n",
    "\n",
    "Inheritance allows one class (child class) to inherit the properties and methods of another class (parent class). This allows for code reuse and the extension of functionality. "
   ]
  },
  {
   "cell_type": "code",
   "execution_count": 1,
   "metadata": {},
   "outputs": [
    {
     "name": "stdout",
     "output_type": "stream",
     "text": [
      "Name: John\n",
      "Age: 30\n",
      "Employee ID: 101\n"
     ]
    }
   ],
   "source": [
    "## Parent Class\n",
    "class Person:\n",
    "    def __init__(self, name, age):\n",
    "        self.name = name\n",
    "        self.age = age\n",
    "    \n",
    "    def display_info(self):\n",
    "        print(f\"Name: {self.name}\\nAge: {self.age}\")\n",
    "\n",
    "## Child class inheriting from parent class\n",
    "class Employee(Person):\n",
    "    def __init__(self, name, age, emp_id):\n",
    "        # calling the parent class constructor\n",
    "        super().__init__(name, age)\n",
    "        self.emp_id = emp_id  # adding new attribute\n",
    "        \n",
    "    def display_emp_info(self):\n",
    "        self.display_info() # calling parent class method\n",
    "        print(f\"Employee ID: {self.emp_id}\")\n",
    "\n",
    "# Creating object of child class(Employee)\n",
    "employee = Employee(\"John\", 30, 101)\n",
    "employee.display_emp_info()\n"
   ]
  },
  {
   "cell_type": "code",
   "execution_count": 2,
   "metadata": {},
   "outputs": [
    {
     "name": "stdout",
     "output_type": "stream",
     "text": [
      "Name: John\n",
      "Age: 30\n"
     ]
    }
   ],
   "source": [
    "employee.display_info() # calling parent class method directly"
   ]
  },
  {
   "cell_type": "markdown",
   "metadata": {},
   "source": [
    "In this example, the `Employee` class inherits the `Person` class, reusing its properties `(name, age)` and methods `display_info()`."
   ]
  },
  {
   "cell_type": "markdown",
   "metadata": {},
   "source": [
    "### Multiple Inheritance"
   ]
  },
  {
   "cell_type": "code",
   "execution_count": null,
   "metadata": {},
   "outputs": [
    {
     "name": "stdout",
     "output_type": "stream",
     "text": [
      "Name: John\n",
      "Age: 30\n",
      "Sport: Cricket\n",
      "Roll No: 101\n"
     ]
    }
   ],
   "source": [
    "# Parent class 1\n",
    "class Person:\n",
    "    def __init__(self, name, age):\n",
    "        self.name = name\n",
    "        self.age = age\n",
    "    \n",
    "    def display_person_info(self):\n",
    "        print(f\"Name: {self.name}\\nAge: {self.age}\")\n",
    "\n",
    "# Parent class 2\n",
    "class Athlette:\n",
    "    def __init__(self, sport):\n",
    "        self.sport = sport\n",
    "    \n",
    "    def display_sport_info(self):\n",
    "        print(f\"Sport: {self.sport}\")\n",
    "\n",
    "# Child class inheriting from multiple parent classes\n",
    "class Student(Person, Athlette):\n",
    "    def __init__(self, name, age, sport, student_id):\n",
    "        # calling parent class constructors\n",
    "        Person.__init__(self, name, age)\n",
    "        Athlette.__init__(self, sport)\n",
    "        self.student_id = student_id  # adding new attribute\n",
    "        \n",
    "    def display_student_info(self):\n",
    "        self.display_person_info() # calling parent class method\n",
    "        self.display_sport_info() # calling parent class method\n",
    "        print(f\"Roll No: {self.student_id}\")\n",
    "    \n",
    "    \n",
    "student = Student(\"John\", 30, \"Cricket\", 101)\n",
    "student.display_student_info()"
   ]
  },
  {
   "cell_type": "code",
   "execution_count": 5,
   "metadata": {},
   "outputs": [
    {
     "name": "stdout",
     "output_type": "stream",
     "text": [
      "Name: John\n",
      "Age: 30\n"
     ]
    }
   ],
   "source": [
    "student.display_person_info() # calling parent class method directly"
   ]
  },
  {
   "cell_type": "code",
   "execution_count": 6,
   "metadata": {},
   "outputs": [
    {
     "name": "stdout",
     "output_type": "stream",
     "text": [
      "Sport: Cricket\n"
     ]
    }
   ],
   "source": [
    "student.display_sport_info() # calling parent class method directly"
   ]
  },
  {
   "cell_type": "markdown",
   "metadata": {},
   "source": [
    "### Conclusion\n",
    "\n",
    "Inheritance is a powerful feature in OOP that allows for code reuse and the creation of a more logical class structure. \n",
    "\n",
    "Single inheritance involves one base class, while multiple inheritance involves more than one base class. \n",
    "\n",
    "Understanding how to implement and use inheritance in Python will enable you to design more efficient and maintainable object-oriented programs."
   ]
  }
 ],
 "metadata": {
  "kernelspec": {
   "display_name": "Python 3",
   "language": "python",
   "name": "python3"
  },
  "language_info": {
   "codemirror_mode": {
    "name": "ipython",
    "version": 3
   },
   "file_extension": ".py",
   "mimetype": "text/x-python",
   "name": "python",
   "nbconvert_exporter": "python",
   "pygments_lexer": "ipython3",
   "version": "-1.-1.-1"
  }
 },
 "nbformat": 4,
 "nbformat_minor": 2
}
