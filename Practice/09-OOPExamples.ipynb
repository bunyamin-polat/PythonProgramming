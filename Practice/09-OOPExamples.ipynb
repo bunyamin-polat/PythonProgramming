{
 "cells": [
  {
   "cell_type": "markdown",
   "metadata": {},
   "source": [
    "## Bank Account System\n",
    "\n",
    "**Class for Bank Account** \n",
    "\n",
    "Design a Python class named `BankAccount` to represent bank accounts. \n",
    "\n",
    "Theory: A bank account typically includes attributes such as account number, balance, and account holder name. \n",
    "\n",
    "The class should handle operations such as deposit, withdrawal, and transfer of funds between accounts. \n",
    "\n",
    "**Operations:** \n",
    "\n",
    "1. Deposit: Add funds to the account \n",
    "2. Withdrawal: Subtract funds from the account \n",
    "3. Transfer: Transfer funds from one account to another \n"
   ]
  },
  {
   "cell_type": "code",
   "execution_count": 5,
   "metadata": {},
   "outputs": [],
   "source": [
    "class BankAccount:\n",
    "    def __init__(self, account_holder, initial_balance):\n",
    "        self.holder = account_holder\n",
    "        self.balance = initial_balance\n",
    "    \n",
    "    def deposit(self, amount):\n",
    "        self.balance += amount\n",
    "        return self.balance\n",
    "    \n",
    "    def withdraw(self, amount):\n",
    "        if amount > self.balance:\n",
    "            return 'Insufficient funds'\n",
    "        self.balance -= amount\n",
    "        return self.balance\n",
    "    \n",
    "    def transfer(self, recipient, amount):\n",
    "        if amount > self.balance:\n",
    "            return 'Insufficient funds'\n",
    "        self.balance -= amount\n",
    "        recipient.balance += amount\n",
    "        return self.balance\n",
    "\n",
    "acc1 = BankAccount(\"John Doe\", 1000) \n",
    "acc2 = BankAccount(\"Jane Smith\", 2000) \n",
    "\n",
    "assert acc1.balance == 1000 \n",
    "assert acc2.balance == 2000 "
   ]
  },
  {
   "cell_type": "code",
   "execution_count": 6,
   "metadata": {},
   "outputs": [
    {
     "name": "stdout",
     "output_type": "stream",
     "text": [
      "1300\n",
      "2100\n"
     ]
    }
   ],
   "source": [
    "acc1.deposit(500) # acc1.balance == 1500\n",
    "acc2.withdraw(100) # acc2.balance == 1900\n",
    "acc1.transfer(acc2, 200) # acc1.balance == 1300, acc2.balance == 2100\n",
    "\n",
    "print(acc1.balance)\n",
    "print(acc2.balance)"
   ]
  },
  {
   "cell_type": "markdown",
   "metadata": {},
   "source": [
    "## Calculator\n",
    "\n",
    "Create a Python class named `Calculator` with the following specifications:\n",
    "\n",
    "**Constructor Method (`__init__`)**: Initializes two attributes, `num1` and `num2`.\n",
    "\n",
    "**Method add**: Takes no arguments and returns the sum of `num1` and `num2`.\n",
    "\n",
    "**Method subtract**: Takes no arguments and returns the result of subtracting `num2` from `num1`.\n",
    "\n",
    "**Method multiply**: Takes a single argument `factor` and returns the product of `num1` and `factor`.\n",
    "\n",
    "**Method divide**: Takes a single argument `divisor` and returns the result of dividing `num1` by `divisor`. If `divisor` is zero, print an error message and return `None`."
   ]
  },
  {
   "cell_type": "code",
   "execution_count": 11,
   "metadata": {},
   "outputs": [],
   "source": [
    "class Calculator:\n",
    "    def __init__(self, num1, num2):\n",
    "        self.num1 = num1\n",
    "        self.num2 = num2\n",
    "        \n",
    "    def add(self):\n",
    "        return self.num1 + self.num2\n",
    "    \n",
    "    def subtract(self):\n",
    "        return self.num1 - self.num2\n",
    "    \n",
    "    def multiply(self, factor):\n",
    "        return self.num1 * factor\n",
    "    \n",
    "    def divide(self, divisor):\n",
    "        if divisor == 0:\n",
    "            return None\n",
    "        return self.num1 / divisor"
   ]
  },
  {
   "cell_type": "code",
   "execution_count": 12,
   "metadata": {},
   "outputs": [
    {
     "name": "stdout",
     "output_type": "stream",
     "text": [
      "Addition Result: 15\n",
      "Subtraction Result: 5\n",
      "Multiplication Result: 30\n",
      "Division Result: 5.0\n",
      "Division Result: None\n"
     ]
    }
   ],
   "source": [
    "## Creating an instance of the Calculator class\n",
    "\n",
    "calculator = Calculator(10, 5) # num1 = 10, num2 = 5\n",
    " \n",
    "print(\"Addition Result:\", calculator.add())\n",
    "\n",
    "print(\"Subtraction Result:\", calculator.subtract())\n",
    " \n",
    "print(\"Multiplication Result:\", calculator.multiply(3))\n",
    " \n",
    "print(\"Division Result:\", calculator.divide(2))\n",
    "\n",
    "print(\"Division Result:\", calculator.divide(0))"
   ]
  },
  {
   "cell_type": "markdown",
   "metadata": {},
   "source": [
    "## Complex Number Class\n",
    "\n",
    "Design a Python class named `ComplexNumber` to represent complex numbers and implement common methods to work with them. \n",
    "\n",
    "A complex number is a number of the form a+bia + bia+bi, where aaa is the real part and bbb is the imaginary part, and iii is the imaginary unit (i.e., −1\\sqrt{-1}−1​).\n",
    "\n",
    "**Specifications**\n",
    "\n",
    "**Constructor Method (`__init__`)**: Initialize two attributes, `real` and `imaginary`, representing the real and imaginary parts of the complex number.\n",
    "\n",
    "**Addition Method (`add`)**: Implement a method to add another `ComplexNumber` object to the current one. The result should be a new ComplexNumber object with the sum of the real and imaginary parts.\n",
    "\n",
    "**Subtraction Method (`subtract`)**: Implement a method to subtract another `ComplexNumber` object from the current one. The result should be a new `ComplexNumber` object with the difference of the real and imaginary parts.\n",
    "\n",
    "**Multiplication Method (`multiply`)**: Implement a method to multiply the current `ComplexNumber` object by another `ComplexNumber` object. The result should be a new `ComplexNumber` object with the product.\n",
    "\n",
    "**Comparison Method (`__eq__`)**: Implement a method to compare two `ComplexNumber` objects for equality. Two complex numbers are considered equal if both their real and imaginary parts are equal.\n",
    "\n",
    "**String Representation Method (`__str__`)**: Implement a method to return a string representation of the complex number in the format `a + bi`.\n",
    "\n",
    "**Comparison with Python's Built-in Complex Class**: After implementing the `ComplexNumber` class, compare its functionality with Python's built-in `complex` class. \n",
    "\n",
    "Show examples of addition, subtraction, multiplication, and division using both classes."
   ]
  },
  {
   "cell_type": "code",
   "execution_count": 17,
   "metadata": {},
   "outputs": [],
   "source": [
    "class ComplexNumber:\n",
    "    \n",
    "    def __init__(self, real=0, imaginary=0):\n",
    "        self.real = real\n",
    "        self.imaginary = imaginary\n",
    "\n",
    "    def add(self, other):\n",
    "        return ComplexNumber(self.real + other.real, self.imaginary + other.imaginary)\n",
    "\n",
    "    def subtract(self, other):\n",
    "        return ComplexNumber(self.real - other.real, self.imaginary - other.imaginary)\n",
    "\n",
    "    def multiply(self, other):\n",
    "        real_part = self.real * other.real - self.imaginary * other.imaginary\n",
    "        imaginary_part = self.real * other.imaginary + self.imaginary * other.real\n",
    "        return ComplexNumber(real_part, imaginary_part)\n",
    "\n",
    "    def __eq__(self, other):\n",
    "        return self.real == other.real and self.imaginary == other.imaginary\n",
    "\n",
    "    def __str__(self):\n",
    "        if self.imaginary >= 0:\n",
    "            return f\"{self.real} + {self.imaginary}i\"\n",
    "        else:\n",
    "            return f\"{self.real} - {-self.imaginary}i\"\n"
   ]
  },
  {
   "cell_type": "code",
   "execution_count": 18,
   "metadata": {},
   "outputs": [
    {
     "name": "stdout",
     "output_type": "stream",
     "text": [
      "Addition Result: 3 + 7i\n",
      "Subtraction Result: 1 - 1i\n",
      "Multiplication Result: -10 + 11i\n",
      "Equality Test: True\n"
     ]
    }
   ],
   "source": [
    "## Creating instances of ComplexNumber class\n",
    "c1 = ComplexNumber(2, 3)\n",
    "c2 = ComplexNumber(1, 4)\n",
    "\n",
    "print(\"Addition Result:\", c1.add(c2))\n",
    " \n",
    "print(\"Subtraction Result:\", c1.subtract(c2))\n",
    " \n",
    "print(\"Multiplication Result:\", c1.multiply(c2))\n",
    " \n",
    "print(\"Equality Test:\", c1 == ComplexNumber(2, 3))"
   ]
  },
  {
   "cell_type": "code",
   "execution_count": 19,
   "metadata": {},
   "outputs": [
    {
     "name": "stdout",
     "output_type": "stream",
     "text": [
      "Python Addition Result: (3+7j)\n",
      "Python Subtraction Result: (1-1j)\n",
      "Python Multiplication Result: (-10+11j)\n"
     ]
    }
   ],
   "source": [
    "# Comparison with Python's built-in complex class\n",
    "py_c1 = complex(2, 3)\n",
    "py_c2 = complex(1, 4)\n",
    " \n",
    "print(\"Python Addition Result:\", py_c1 + py_c2)  # Output: (3+7j)\n",
    "print(\"Python Subtraction Result:\", py_c1 - py_c2)  # Output: (1-1j)\n",
    "print(\"Python Multiplication Result:\", py_c1 * py_c2)  # Output: (-10+11j)"
   ]
  },
  {
   "cell_type": "markdown",
   "metadata": {},
   "source": [
    "## Fraction Class\n",
    "\n",
    "**Implement a Fraction Class**\n",
    "\n",
    "Design a Python class named `Fraction` to represent and manipulate mathematical fractions. The class should support basic arithmetic operations and comparisons.\n",
    "\n",
    "**Specifications:**\n",
    "\n",
    "**Constructor Method (`__init__`)**: Initialize the fraction with two attributes: `numerator` and `denominator`.\n",
    "\n",
    "Ensure that the denominator is not zero. If zero is provided, raise a ValueError.\n",
    "\n",
    "**Methods:**\n",
    "\n",
    "`add(self, other)`: Add another Fraction object to the current fraction.\n",
    "\n",
    "`subtract(self, other)`: Subtract another Fraction object from the current fraction.\n",
    "\n",
    "`multiply(self, other)`: Multiply the current fraction by another Fraction object.\n",
    "\n",
    "`divide(self, other)`: Divide the current fraction by another Fraction object. If the other fraction's numerator is zero, raise a ValueError for division by zero.\n",
    "\n",
    "`__eq__(self, other)`: Check if two Fraction objects are equal.\n",
    "\n",
    "`__str__(self)`: Return a string representation of the fraction in the form numerator/denominator.\n",
    "\n",
    "`__repr__(self)`: Return a detailed string representation for debugging."
   ]
  },
  {
   "cell_type": "code",
   "execution_count": 36,
   "metadata": {},
   "outputs": [],
   "source": [
    "class Fraction:\n",
    "    def __init__(self, numerator, denominator):\n",
    "        if denominator == 0:\n",
    "            raise ValueError(\"Denominator cannot be zero\")\n",
    "        self.numerator = numerator\n",
    "        self.denominator = denominator\n",
    "        self._simplify()  # Simplify the fraction (e.g., 8/12 -> 2/3)\n",
    "\n",
    "    def _find_gcd(self, x, y):\n",
    "        # Helper function to compute the Greatest Common Divisor (GCD)\n",
    "        while y:\n",
    "            x, y = y, x % y\n",
    "        return x\n",
    "\n",
    "    def _simplify(self):\n",
    "        # Simplify the fraction by dividing both numerator and denominator by their GCD\n",
    "        gcd = self._find_gcd(self.numerator, self.denominator)\n",
    "        self.numerator //= gcd\n",
    "        self.denominator //= gcd\n",
    "\n",
    "    def add(self, other):\n",
    "        # Add two fractions\n",
    "        new_numerator = self.numerator * other.denominator + other.numerator * self.denominator\n",
    "        new_denominator = self.denominator * other.denominator\n",
    "        return Fraction(new_numerator, new_denominator)\n",
    "\n",
    "    def subtract(self, other):\n",
    "        # Subtract two fractions\n",
    "        new_numerator = self.numerator * other.denominator - other.numerator * self.denominator\n",
    "        new_denominator = self.denominator * other.denominator\n",
    "        return Fraction(new_numerator, new_denominator)\n",
    "\n",
    "    def multiply(self, other):\n",
    "        # Multiply two fractions\n",
    "        new_numerator = self.numerator * other.numerator\n",
    "        new_denominator = self.denominator * other.denominator\n",
    "        return Fraction(new_numerator, new_denominator)\n",
    "\n",
    "    def divide(self, other):\n",
    "        if other.numerator == 0:\n",
    "            raise ValueError(\"Cannot divide by a fraction with a numerator of zero\")\n",
    "        new_numerator = self.numerator * other.denominator\n",
    "        new_denominator = self.denominator * other.numerator\n",
    "        return Fraction(new_numerator, new_denominator)\n",
    "\n",
    "    def __str__(self):\n",
    "        # String representation of the fraction (e.g., \"3/4\")\n",
    "        return f\"{self.numerator}/{self.denominator}\"\n",
    "\n",
    "    def __eq__(self, other):\n",
    "        # Check if two fractions are equal\n",
    "        return self.numerator == other.numerator and self.denominator == other.denominator\n",
    "\n",
    "    def __repr__(self):\n",
    "        # Official string representation for debugging (e.g., \"Fraction(3, 4)\")\n",
    "        return f\"Fraction({self.numerator}, {self.denominator})\"\n"
   ]
  },
  {
   "cell_type": "code",
   "execution_count": 38,
   "metadata": {},
   "outputs": [
    {
     "name": "stdout",
     "output_type": "stream",
     "text": [
      "5/4\n",
      "-1/4\n",
      "3/8\n",
      "True\n",
      "1/2\n"
     ]
    }
   ],
   "source": [
    "## Creating instances of the Fraction class\n",
    "frac1 = Fraction(1, 2)\n",
    "frac2 = Fraction(3, 4)\n",
    " \n",
    "# Testing the add method\n",
    "print(frac1.add(frac2))  # Output: 5/4\n",
    " \n",
    "# Testing the subtract method\n",
    "print(frac1.subtract(frac2))  # Output: -1/4\n",
    " \n",
    "# Testing the multiply method\n",
    "print(frac1.multiply(frac2))  # Output: 3/8\n",
    " \n",
    "# Testing equality\n",
    "print(frac1 == Fraction(2, 4))  # Output: True\n",
    " \n",
    "# Testing string representation\n",
    "print(frac1)  # Output: 1/2"
   ]
  },
  {
   "cell_type": "code",
   "execution_count": 40,
   "metadata": {},
   "outputs": [
    {
     "name": "stdout",
     "output_type": "stream",
     "text": [
      "2/3\n"
     ]
    }
   ],
   "source": [
    "# Testing the divide method\n",
    "print(frac1.divide(frac2))  # Output: 2/3"
   ]
  },
  {
   "cell_type": "code",
   "execution_count": 41,
   "metadata": {},
   "outputs": [
    {
     "ename": "ValueError",
     "evalue": "Cannot divide by a fraction with a numerator of zero",
     "output_type": "error",
     "traceback": [
      "\u001b[0;31m---------------------------------------------------------------------------\u001b[0m",
      "\u001b[0;31mValueError\u001b[0m                                Traceback (most recent call last)",
      "Cell \u001b[0;32mIn[41], line 2\u001b[0m\n\u001b[1;32m      1\u001b[0m \u001b[38;5;66;03m# Testing the divide method\u001b[39;00m\n\u001b[0;32m----> 2\u001b[0m \u001b[38;5;28mprint\u001b[39m(frac1\u001b[38;5;241m.\u001b[39mdivide(Fraction(\u001b[38;5;241m0\u001b[39m, \u001b[38;5;241m1\u001b[39m)))\n",
      "Cell \u001b[0;32mIn[36], line 41\u001b[0m, in \u001b[0;36mFraction.divide\u001b[0;34m(self, other)\u001b[0m\n\u001b[1;32m     39\u001b[0m \u001b[38;5;28;01mdef\u001b[39;00m \u001b[38;5;21mdivide\u001b[39m(\u001b[38;5;28mself\u001b[39m, other):\n\u001b[1;32m     40\u001b[0m     \u001b[38;5;28;01mif\u001b[39;00m other\u001b[38;5;241m.\u001b[39mnumerator \u001b[38;5;241m==\u001b[39m \u001b[38;5;241m0\u001b[39m:\n\u001b[0;32m---> 41\u001b[0m         \u001b[38;5;28;01mraise\u001b[39;00m \u001b[38;5;167;01mValueError\u001b[39;00m(\u001b[38;5;124m\"\u001b[39m\u001b[38;5;124mCannot divide by a fraction with a numerator of zero\u001b[39m\u001b[38;5;124m\"\u001b[39m)\n\u001b[1;32m     42\u001b[0m     new_numerator \u001b[38;5;241m=\u001b[39m \u001b[38;5;28mself\u001b[39m\u001b[38;5;241m.\u001b[39mnumerator \u001b[38;5;241m*\u001b[39m other\u001b[38;5;241m.\u001b[39mdenominator\n\u001b[1;32m     43\u001b[0m     new_denominator \u001b[38;5;241m=\u001b[39m \u001b[38;5;28mself\u001b[39m\u001b[38;5;241m.\u001b[39mdenominator \u001b[38;5;241m*\u001b[39m other\u001b[38;5;241m.\u001b[39mnumerator\n",
      "\u001b[0;31mValueError\u001b[0m: Cannot divide by a fraction with a numerator of zero"
     ]
    }
   ],
   "source": [
    "# Testing the divide method\n",
    "print(frac1.divide(Fraction(0, 1)))  # Output: Error: Cannot divide by zero"
   ]
  },
  {
   "cell_type": "code",
   "execution_count": null,
   "metadata": {},
   "outputs": [],
   "source": []
  }
 ],
 "metadata": {
  "kernelspec": {
   "display_name": "Python 3",
   "language": "python",
   "name": "python3"
  },
  "language_info": {
   "codemirror_mode": {
    "name": "ipython",
    "version": 3
   },
   "file_extension": ".py",
   "mimetype": "text/x-python",
   "name": "python",
   "nbconvert_exporter": "python",
   "pygments_lexer": "ipython3",
   "version": "3.12.0"
  }
 },
 "nbformat": 4,
 "nbformat_minor": 2
}
