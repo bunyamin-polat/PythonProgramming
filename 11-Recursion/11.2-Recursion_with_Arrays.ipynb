{
 "cells": [
  {
   "cell_type": "markdown",
   "metadata": {},
   "source": [
    "## Recursion in Lists/Arrays"
   ]
  },
  {
   "cell_type": "markdown",
   "metadata": {},
   "source": [
    "### Check If Array is Sorted"
   ]
  },
  {
   "cell_type": "code",
   "execution_count": 2,
   "metadata": {},
   "outputs": [
    {
     "name": "stdout",
     "output_type": "stream",
     "text": [
      "True\n",
      "False\n"
     ]
    }
   ],
   "source": [
    "def check_sorted(lst): # Recursive function - head recursion\n",
    "    if (len(lst) == 0) or (len(lst) == 1):\n",
    "        return True\n",
    "    if lst[0] < lst[1]:\n",
    "        return check_sorted(lst[1:])\n",
    "    else:\n",
    "        return False\n",
    "    \n",
    "print(check_sorted([1, 2, 3, 4, 5]))\n",
    "print(check_sorted([1, 2, 3, 5, 4]))"
   ]
  },
  {
   "cell_type": "code",
   "execution_count": 3,
   "metadata": {},
   "outputs": [
    {
     "name": "stdout",
     "output_type": "stream",
     "text": [
      "True\n",
      "False\n"
     ]
    }
   ],
   "source": [
    "## Alternative solution\n",
    "def check_sorted2(lst): # Recursive function - tail recursion\n",
    "    if(len(lst)==0 or len(lst)==1): # Base case\n",
    "        return True\n",
    "    \n",
    "    if(lst[0] >= lst[1]): # If the first element is greater than the second element\n",
    "        return False\n",
    "    \n",
    "    return check_sorted2(lst[1:]) # Recursive case\n",
    "\n",
    "\n",
    "print(check_sorted([1, 2, 3, 4, 5]))\n",
    "print(check_sorted([1, 2, 3, 5, 4]))"
   ]
  },
  {
   "cell_type": "markdown",
   "metadata": {},
   "source": [
    "### Sum of an Array"
   ]
  },
  {
   "cell_type": "code",
   "execution_count": 2,
   "metadata": {},
   "outputs": [
    {
     "name": "stdout",
     "output_type": "stream",
     "text": [
      "15\n",
      "1\n",
      "0\n"
     ]
    }
   ],
   "source": [
    "def sum_array(lst): # Recursive function - head recursion\n",
    "    if len(lst) == 0: # Base case\n",
    "        return 0\n",
    "    \n",
    "    return lst[0] + sum_array(lst[1:]) # Recursive case\n",
    "\n",
    "print(sum_array([1, 2, 3, 4, 5]))\n",
    "print(sum_array([1]))\n",
    "print(sum_array([]))"
   ]
  },
  {
   "cell_type": "code",
   "execution_count": 3,
   "metadata": {},
   "outputs": [
    {
     "name": "stdout",
     "output_type": "stream",
     "text": [
      "15\n",
      "1\n",
      "0\n"
     ]
    }
   ],
   "source": [
    "def sum_array2(lst, acc=0): # Recursive function - tail recursion\n",
    "    if len(lst) == 0: # Base case\n",
    "        return 0\n",
    "    \n",
    "    acc += lst[0] # Update the accumulator\n",
    "    \n",
    "    return sum_array2(lst[1:], acc) # Recursive case\n",
    "\n",
    "print(sum_array([1, 2, 3, 4, 5]))\n",
    "print(sum_array([1]))\n",
    "print(sum_array([]))"
   ]
  },
  {
   "cell_type": "markdown",
   "metadata": {},
   "source": [
    "## First and Last Index of Array"
   ]
  },
  {
   "cell_type": "code",
   "execution_count": 6,
   "metadata": {},
   "outputs": [
    {
     "name": "stdout",
     "output_type": "stream",
     "text": [
      "1\n",
      "-1\n",
      "6\n",
      "-1\n",
      "0\n"
     ]
    }
   ],
   "source": [
    "def first_index(lst, n):\n",
    "    if len(lst) == 0: # Base case\n",
    "        return -1\n",
    "    if lst[0] == n: # Base case\n",
    "        return 0\n",
    "    else:\n",
    "        index = first_index(lst[1:], n) # Recursive case\n",
    "        if index == -1: # If the element is not found\n",
    "            return -1\n",
    "        else:\n",
    "            return 1 + index    \n",
    "        \n",
    "print(first_index([3,2,5,2,8,2,1],2)) # 1\n",
    "print(first_index([3,2,5,2,8,2,1],10)) # Not found\n",
    "print(first_index([3,2,5,2,8,2,1],1)) # 6\n",
    "print(first_index([],3)) # Not found\n",
    "print(first_index([3],3)) # Not found"
   ]
  },
  {
   "cell_type": "code",
   "execution_count": 7,
   "metadata": {},
   "outputs": [
    {
     "name": "stdout",
     "output_type": "stream",
     "text": [
      "5\n"
     ]
    }
   ],
   "source": [
    "def last_index(lst, n):\n",
    "    if len(lst) == 0:\n",
    "        return -1\n",
    "\n",
    "    index = last_index(lst[1:], n)\n",
    "    \n",
    "    if index == -1:\n",
    "        if lst[0] == n:\n",
    "            return 0\n",
    "        return -1\n",
    "    else:\n",
    "        return 1 + index\n",
    " \n",
    "print(last_index([3,2,5,2,8,2,1],2)) # 5   "
   ]
  },
  {
   "cell_type": "markdown",
   "metadata": {},
   "source": [
    "## All Indices of Array"
   ]
  },
  {
   "cell_type": "code",
   "execution_count": 14,
   "metadata": {},
   "outputs": [
    {
     "name": "stdout",
     "output_type": "stream",
     "text": [
      "[1, 3, 5]\n"
     ]
    }
   ],
   "source": [
    "def all_indices_of_element(lst, n, index = 0):\n",
    "    if len(lst) == 0: # Base case: If the list is empty, return an empty list\n",
    "        return []\n",
    "    \n",
    "    # Recursive case: Check if the rest of the list contains the element n\n",
    "    indices_rest = all_indices_of_element(lst[1:], n, index + 1)\n",
    "    \n",
    "    # If the current element matches the target, add the current index to the result\n",
    "    if lst[0] == n:\n",
    "        return [index] + indices_rest \n",
    "    else: # Otherwise, return the result without the current index\n",
    "        return indices_rest \n",
    "    \n",
    "print(all_indices_of_element([3,2,5,2,8,2,1],2)) # [1, 3, 5]"
   ]
  },
  {
   "cell_type": "code",
   "execution_count": 19,
   "metadata": {},
   "outputs": [
    {
     "name": "stdout",
     "output_type": "stream",
     "text": [
      "[1, 3, 5]\n"
     ]
    }
   ],
   "source": [
    "## Alternative solution: Return all indices of the element n in the list lst\n",
    "def all_indices_of_element2(lst, n, index):\n",
    "    if len(lst) == index: # Base case: If the list is empty, return an empty list\n",
    "        return []\n",
    "    \n",
    "    # Recursive case\n",
    "    indices = all_indices_of_element2(lst, n, index + 1)\n",
    "    \n",
    "    if lst[index] == n:\n",
    "        indices.insert(0, index) # If the current element matches the target, add the current index to the result\n",
    "        \n",
    "    return indices # Return the result\n",
    "\n",
    "\n",
    "result = all_indices_of_element2([3,2,5,2,8,2,1], 2, 0) \n",
    "print(result)"
   ]
  }
 ],
 "metadata": {
  "kernelspec": {
   "display_name": "Python 3",
   "language": "python",
   "name": "python3"
  },
  "language_info": {
   "codemirror_mode": {
    "name": "ipython",
    "version": 3
   },
   "file_extension": ".py",
   "mimetype": "text/x-python",
   "name": "python",
   "nbconvert_exporter": "python",
   "pygments_lexer": "ipython3",
   "version": "3.12.0"
  }
 },
 "nbformat": 4,
 "nbformat_minor": 2
}
