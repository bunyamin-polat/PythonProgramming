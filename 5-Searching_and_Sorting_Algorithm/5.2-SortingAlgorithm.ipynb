{
 "cells": [
  {
   "cell_type": "markdown",
   "metadata": {},
   "source": [
    "## Bubble Sort Algorithm\n",
    "\n",
    "Bubble Sort repeatedly steps through the list, compares adjacent elements, and swaps them if they are in the wrong order. The process is repeated until the list is sorted.\n",
    "\n",
    "**Description:** Repeatedly swaps adjacent elements if they are in the wrong order. This process continues until no swaps are needed.\n",
    "\n",
    "**Time Complexity:** O(n²)\n",
    "\n",
    "**Best for:** Small datasets or when simplicity is preferred.\n"
   ]
  },
  {
   "cell_type": "code",
   "execution_count": 1,
   "metadata": {},
   "outputs": [
    {
     "name": "stdout",
     "output_type": "stream",
     "text": [
      "[1, 2, 3, 4, 5, 6, 7]\n",
      "[1, 10, 12, 22, 25, 34, 64]\n"
     ]
    }
   ],
   "source": [
    "def bubble_sort(arr):\n",
    "    \n",
    "    size = len(arr)\n",
    "    \n",
    "    for i in range(size):\n",
    "        swapped = False # to check if any swapping is done in the inner loop\n",
    "        for j in range(size - i - 1):\n",
    "            if arr[j] > arr[j + 1]:\n",
    "                arr[j], arr[j + 1] = arr[j + 1], arr[j]\n",
    "                swapped = True # if no swapping is done then the array is already sorted\n",
    "        if not swapped:\n",
    "            break \n",
    "    return arr\n",
    "\n",
    "print(bubble_sort([7, 6, 5, 4, 3, 2, 1]))\n",
    "print(bubble_sort([1,10,64,34,25,12,22]))              "
   ]
  },
  {
   "cell_type": "markdown",
   "metadata": {},
   "source": [
    "## Selection Sort Algorithm\n",
    "\n",
    "Selection Sort is a simple comparison-based sorting algorithm. \n",
    "It works by repeatedly selecting the smallest (or largest, depending on the sorting order) element from the unsorted portion of the list and swapping it with the first unsorted element. \n",
    "his process is repeated until the entire list is sorted.\n",
    "\n",
    "**Steps of Selection Sort:**\n",
    "- Find the minimum element in the unsorted part of the list.\n",
    "- Swap it with the first element of the unsorted part.\n",
    "- Move the boundary of the sorted part one element to the right.\n",
    "- Repeat this process until the entire list is sorted.\n",
    "\n",
    "**Time Complexity:** O(n²)\n",
    "\n",
    "**Best for:** Small datasets where memory usage needs to be minimal.\n",
    "\n"
   ]
  },
  {
   "cell_type": "code",
   "execution_count": 2,
   "metadata": {},
   "outputs": [
    {
     "name": "stdout",
     "output_type": "stream",
     "text": [
      "[11, 12, 22, 25, 64]\n"
     ]
    }
   ],
   "source": [
    "def selection_sort(arr):\n",
    "    size = len(arr)\n",
    "    \n",
    "    for i in range(size):\n",
    "        min_index = i\n",
    "        for j in range(i + 1, size):\n",
    "            if arr[j] < arr[min_index]:\n",
    "                min_index = j\n",
    "        \n",
    "        arr[i], arr[min_index] = arr[min_index], arr[i]\n",
    "        \n",
    "    return arr\n",
    "\n",
    "print(selection_sort([64, 25, 12, 22, 11]))"
   ]
  },
  {
   "cell_type": "markdown",
   "metadata": {},
   "source": [
    "## Insertion Sort Algorithm\n",
    "\n",
    "**Description:** Builds the final sorted array one item at a time by picking each element and placing it in its correct position.\n",
    "\n",
    "**Time Complexity:** O(n²)\n",
    "\n",
    "**Best for:** Small datasets, nearly sorted arrays."
   ]
  },
  {
   "cell_type": "code",
   "execution_count": 3,
   "metadata": {},
   "outputs": [
    {
     "name": "stdout",
     "output_type": "stream",
     "text": [
      "[11, 12, 22, 25, 64]\n"
     ]
    }
   ],
   "source": [
    "def insertion_sort(arr):\n",
    "    size  = len(arr)\n",
    "    \n",
    "    for i in range(1, size):\n",
    "        if arr[i] < arr[i - 1]:\n",
    "            j = i\n",
    "            while arr[j] < arr[j - 1] and j > 0:\n",
    "                arr[j], arr[j - 1] = arr[j - 1], arr[j]\n",
    "                j -= 1\n",
    "    return arr\n",
    "\n",
    "# Alternative implementation of insertion sort\n",
    "# def insertion_sort(arr):\n",
    "#     size = len(arr)\n",
    "#     for current in range(1, size):\n",
    "#         current_val = arr[current]\n",
    "#         correct_pos = current - 1\n",
    "#         while correct_pos >= 0:\n",
    "#             if arr[correct_pos] < current_val:\n",
    "#                 break\n",
    "#             else:\n",
    "#                 arr[correct_pos + 1] = arr[correct_pos]\n",
    "#                 correct_pos -= 1            \n",
    "#         arr[correct_pos + 1] = current_val        \n",
    "#     return arr\n",
    "                \n",
    "print(insertion_sort([64, 25, 12, 22, 11]))        "
   ]
  },
  {
   "cell_type": "markdown",
   "metadata": {},
   "source": [
    "## Merge Sort Algorithm\n",
    "\n",
    "Merge Sort is an efficient, stable, and divide-and-conquer sorting algorithm. \n",
    "\n",
    "It works by recursively splitting the list into two halves, sorting each half, and then merging the two sorted halves back together. \n",
    "\n",
    "Its time complexity is O(n log n), making it much faster than simpler algorithms like bubble or selection sort, especially for larger datasets.\n",
    "\n",
    "**Time Complexity:** O(n log n)\n",
    "- Dividing the list into halves takes O(log n) time, and merging the halves takes O(n) time, so the overall time complexity is O(n log n).\n",
    "\n",
    "**Space Complexity:** O(n)\n",
    "- Merge Sort uses additional memory for temporary arrays during the merge process, which makes its space complexity O(n).\n",
    "\n",
    "**When to Use Merge Sort:**\n",
    "- **Large Datasets:** Merge Sort is preferred when you need a time-efficient solution for large datasets (due to its O(n log n) time complexity).\n",
    "\n",
    "- **Stable Sorting Required:** Merge Sort is useful when stable sorting is required (i.e., maintaining the relative order of equal elements).\n",
    "\n",
    "- **Linked Lists:** It works particularly well for linked lists as it avoids the need for random access (which is slow in linked lists).\n",
    "\n"
   ]
  },
  {
   "cell_type": "code",
   "execution_count": 4,
   "metadata": {},
   "outputs": [
    {
     "name": "stdout",
     "output_type": "stream",
     "text": [
      "[3, 9, 10, 27, 38, 43, 82]\n"
     ]
    }
   ],
   "source": [
    "def merge_sort(arr):\n",
    "    if len(arr) > 1:\n",
    "        # Step 1: Divide the array into two halves\n",
    "        mid = len(arr) // 2\n",
    "        left_half = arr[:mid]\n",
    "        right_half = arr[mid:]\n",
    "        \n",
    "        # Recursive call to sort both halves\n",
    "        merge_sort(left_half)\n",
    "        merge_sort(right_half)\n",
    "        \n",
    "        # Step 2: Merge the sorted halves\n",
    "        i = j = k = 0\n",
    "        \n",
    "        # Compare and merge elements from both halves\n",
    "        while i < len(left_half) and j < len(right_half):\n",
    "            if left_half[i] < right_half[j]:\n",
    "                arr[k] = left_half[i]\n",
    "                i += 1\n",
    "            else:\n",
    "                arr[k] = right_half[j]\n",
    "                j += 1\n",
    "            k += 1\n",
    "        # Check if any elements left in left_half \n",
    "        while i < len(left_half):\n",
    "            arr[k] = left_half[i]\n",
    "            i += 1\n",
    "            k += 1\n",
    "        \n",
    "        # Check if any elements left in right_half\n",
    "        while j < len(right_half):\n",
    "            arr[k] = right_half[j]\n",
    "            j += 1\n",
    "            k += 1\n",
    "        \n",
    "    return arr\n",
    "\n",
    "\n",
    "arr = [38, 27, 43, 3, 9, 82, 10]\n",
    "print(merge_sort(arr))  # Output: [3, 9, 10, 27, 38, 43, 82]\n"
   ]
  },
  {
   "cell_type": "markdown",
   "metadata": {},
   "source": [
    "## Quick Sort Algorithm\n",
    "\n",
    "Quick Sort is a highly efficient and widely used divide-and-conquer algorithm that sorts an array or list by selecting a \"pivot\" element, partitioning the array around the pivot, and recursively sorting the subarrays. \n",
    "\n",
    "Unlike merge sort, quick sort doesn't need extra space for merging, which makes it in-place.\n",
    "\n",
    "**Time Complexity:**\n",
    "\n",
    "- **Best Case:** O(n log n) — This happens when the pivot divides the array into two equal halves at each step.\n",
    "\n",
    "- **Average Case:** O(n log n) — This is the typical performance of Quick Sort.\n",
    "\n",
    "- **Worst Case:** O(n²) — The worst-case scenario happens when the pivot is always the smallest or largest element (which leads to unbalanced partitions). This can happen if the array is already sorted and the first or last element is chosen as the pivot.\n",
    "\n",
    "**Optimizations:**\n",
    "\n",
    "- **Pivot Selection:** Choosing a good pivot is crucial for optimal performance. A common approach is to use the median of three (the first, middle, and last elements) to select a pivot.\n",
    "\n",
    "- **Tail Recursion Optimization:** This can reduce the stack depth in the recursive calls and improve space efficiency.\n",
    "\n",
    "**Advantages:**\n",
    "\n",
    "**In-place:** Quick Sort doesn’t require extra memory, unlike Merge Sort.\n",
    "\n",
    "**Efficient for large datasets:** With an average time complexity of O(n log n), Quick Sort is highly efficient for large arrays.\n"
   ]
  },
  {
   "cell_type": "code",
   "execution_count": 5,
   "metadata": {},
   "outputs": [
    {
     "name": "stdout",
     "output_type": "stream",
     "text": [
      "[10, 30, 40, 50, 70, 80, 90]\n"
     ]
    }
   ],
   "source": [
    "def partition(arr, low, high):\n",
    "    pivot = arr[high]\n",
    "    i = low - 1\n",
    "    \n",
    "    for j in range(low, high):\n",
    "        if arr[j] < pivot:\n",
    "            i += 1\n",
    "            arr[i], arr[j] = arr[j], arr[i] # Swap elements\n",
    "    \n",
    "    arr[i + 1], arr[high] = arr[high], arr[i + 1] # Swap the pivot\n",
    "    \n",
    "    return i + 1 # Return the partition index\n",
    "\n",
    "def quick_sort(arr, low, high):\n",
    "    if low < high:\n",
    "        # Partition the array and get the partition index\n",
    "        pi = partition(arr, low, high)\n",
    "        \n",
    "        # Recursively apply quick sort to the left and right subarrays\n",
    "        quick_sort(arr, low, pi - 1)\n",
    "        quick_sort(arr, pi + 1, high)\n",
    "    \n",
    "arr = [10, 80, 30, 90, 40, 50, 70]\n",
    "quick_sort(arr, 0, len(arr) - 1)\n",
    "print(arr)  # Output: [10, 30, 40, 50, 70, 80, 90]\n",
    "            "
   ]
  }
 ],
 "metadata": {
  "kernelspec": {
   "display_name": "Python 3",
   "language": "python",
   "name": "python3"
  },
  "language_info": {
   "codemirror_mode": {
    "name": "ipython",
    "version": 3
   },
   "file_extension": ".py",
   "mimetype": "text/x-python",
   "name": "python",
   "nbconvert_exporter": "python",
   "pygments_lexer": "ipython3",
   "version": "3.12.0"
  }
 },
 "nbformat": 4,
 "nbformat_minor": 2
}
