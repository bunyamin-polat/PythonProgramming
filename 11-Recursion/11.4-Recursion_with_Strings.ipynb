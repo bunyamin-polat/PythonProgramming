{
 "cells": [
  {
   "cell_type": "markdown",
   "metadata": {},
   "source": [
    "## Recursion with Strings\n",
    "\n",
    "Recursion with strings in Python refers to the technique where a function calls itself to solve a smaller instance of the problem, using a string as input."
   ]
  },
  {
   "cell_type": "markdown",
   "metadata": {},
   "source": [
    "### Remove Character using Recursion"
   ]
  },
  {
   "cell_type": "code",
   "execution_count": 2,
   "metadata": {},
   "outputs": [
    {
     "name": "stdout",
     "output_type": "stream",
     "text": [
      "heo\n",
      "hell\n",
      "abc\n"
     ]
    }
   ],
   "source": [
    "def remove_character(string, char):\n",
    "    if len(string) == 0 or len(char) == 0: # Base case\n",
    "        return string\n",
    "    \n",
    "    if string[0] == char: # If the first character is the character to remove\n",
    "        return remove_character(string[1:], char)\n",
    "    else:\n",
    "        return string[0] + remove_character(string[1:], char)\n",
    "    \n",
    "    \n",
    "# Example usage\n",
    "print(remove_character(\"hello\", \"l\")) \n",
    "\n",
    "print(remove_character(\"hello\", \"o\"))\n",
    "\n",
    "print(remove_character(\"abczz\", \"z\"))"
   ]
  },
  {
   "cell_type": "markdown",
   "metadata": {},
   "source": [
    "### Palindrome Check using Recursion"
   ]
  },
  {
   "cell_type": "code",
   "execution_count": 3,
   "metadata": {},
   "outputs": [
    {
     "name": "stdout",
     "output_type": "stream",
     "text": [
      "True\n",
      "False\n"
     ]
    }
   ],
   "source": [
    "def palindrome_check(string):\n",
    "    if len(string) == 0 or len(string) == 1: # Base case\n",
    "        return True\n",
    "    if string[0] != string[-1]:\n",
    "        return False\n",
    "    else:\n",
    "        return palindrome_check(string[1:-1])\n",
    "    \n",
    "# Example usage\n",
    "print(palindrome_check(\"racecar\"))\n",
    "\n",
    "print(palindrome_check(\"hello\"))\n",
    "    \n",
    "        "
   ]
  },
  {
   "cell_type": "markdown",
   "metadata": {},
   "source": [
    "### Subsequences of Strings using Recursion"
   ]
  },
  {
   "cell_type": "code",
   "execution_count": 4,
   "metadata": {},
   "outputs": [
    {
     "name": "stdout",
     "output_type": "stream",
     "text": [
      "['', 'a', 'b', 'ab', 'c', 'ac', 'bc', 'abc']\n"
     ]
    }
   ],
   "source": [
    "def return_subsequences(string):\n",
    "    if len(string) == 0: # Base case\n",
    "        return [\"\"] # Return an empty string\n",
    "    else:\n",
    "        subsequences = return_subsequences(string[1:]) # Recursive call\n",
    "        new_subsequences = [] # New list to store subsequences\n",
    "        for subsequence in subsequences: # Add the subsequences to the new list\n",
    "            new_subsequences.append(subsequence) # Add the subsequence without the first character\n",
    "            new_subsequences.append(string[0] + subsequence) # Add the subsequence with the first character\n",
    "        return new_subsequences\n",
    "    \n",
    "# Example usage\n",
    "print(return_subsequences(\"abc\"))\n",
    "        "
   ]
  },
  {
   "cell_type": "code",
   "execution_count": 6,
   "metadata": {},
   "outputs": [
    {
     "name": "stdout",
     "output_type": "stream",
     "text": [
      "\n",
      "c\n",
      "b\n",
      "bc\n",
      "a\n",
      "ac\n",
      "ab\n",
      "abc\n"
     ]
    }
   ],
   "source": [
    "## Print all the subsequences of a string\n",
    "def print_subsequences(string, current = ''):\n",
    "    if len(string) == 0: # Base case\n",
    "        print(current)\n",
    "    else:\n",
    "        # Recursive call without the first character\n",
    "        print_subsequences(string[1:], current) \n",
    "        # Recursive call with the first character\n",
    "        print_subsequences(string[1:], current + string[0]) \n",
    "        \n",
    "print_subsequences(\"abc\")"
   ]
  },
  {
   "cell_type": "markdown",
   "metadata": {},
   "source": [
    "### Permutations of a string"
   ]
  },
  {
   "cell_type": "code",
   "execution_count": 3,
   "metadata": {},
   "outputs": [
    {
     "name": "stdout",
     "output_type": "stream",
     "text": [
      "abc\n",
      "acb\n",
      "bac\n",
      "bca\n",
      "cab\n",
      "cba\n"
     ]
    }
   ],
   "source": [
    "## Print all the permutations of a string\n",
    "def print_permutations(string, current = ''):\n",
    "    if len(string) == 0: # Base case\n",
    "        print(current)\n",
    "    else:\n",
    "        for i in range(len(string)):\n",
    "            # Recursive call without the character at index i\n",
    "            print_permutations(string[:i] + string[i+1:], current + string[i])\n",
    "            \n",
    "# Example usage\n",
    "print_permutations(\"abc\")"
   ]
  },
  {
   "cell_type": "code",
   "execution_count": 4,
   "metadata": {},
   "outputs": [
    {
     "name": "stdout",
     "output_type": "stream",
     "text": [
      "['abc', 'acb', 'bac', 'bca', 'cab', 'cba']\n"
     ]
    }
   ],
   "source": [
    "## Return all the permutations of a string\n",
    "def return_permutations(string, current = ''):\n",
    "    if len(string) == 0:\n",
    "        return [current] # Base case\n",
    "    else:\n",
    "        permutations = [] # List to store permutations\n",
    "        for i in range(len(string)):\n",
    "            # Recursive call without the character at index i\n",
    "            permutations += return_permutations(string[:i] + string[i+1:], current + string[i])\n",
    "        return permutations\n",
    "    \n",
    "# Example usage\n",
    "print(return_permutations(\"abc\"))"
   ]
  },
  {
   "cell_type": "markdown",
   "metadata": {},
   "source": [
    "### Return All Codes"
   ]
  },
  {
   "cell_type": "code",
   "execution_count": 3,
   "metadata": {},
   "outputs": [
    {
     "name": "stdout",
     "output_type": "stream",
     "text": [
      "['abc', 'aw', 'lc']\n"
     ]
    }
   ],
   "source": [
    "def get_letter_from_number(value):\n",
    "    \"\"\"\n",
    "    Converts a number (1-26) to its corresponding lowercase letter.\n",
    "    Returns an empty string if the number is out of bounds.\n",
    "    \"\"\"\n",
    "    if value < 1 or value > 26:\n",
    "        return \"\"\n",
    "    return chr(97 + value - 1)\n",
    "    \n",
    "def return_all_codes(input_str):\n",
    "    \"\"\"\n",
    "    Recursively generates all possible letter combinations from the numeric string.\n",
    "    Each number (1-26) maps to a letter ('a' to 'z').\n",
    "\n",
    "    Parameters:\n",
    "    - input_str: The string containing digits (e.g., '123').\n",
    "\n",
    "    Returns:\n",
    "    - A list of all possible decoded letter combinations.\n",
    "    \"\"\"\n",
    "    \n",
    "    if input_str == '':\n",
    "        return ['']\n",
    "    if len(input_str) == 1:\n",
    "        return [get_letter_from_number(int(input_str))]\n",
    "    \n",
    "    # Initialize the list to store the combinations\n",
    "    combinations = []\n",
    "    first_digit = int(input_str[0:1])\n",
    "    remaining_digits = return_all_codes(input_str[1:])\n",
    "    \n",
    "    for code in remaining_digits:\n",
    "        combinations.append(get_letter_from_number(first_digit) + code)\n",
    "        \n",
    "    if len(input_str) >= 1:\n",
    "        first_two_digits = int(input_str[0:2])\n",
    "        if first_two_digits <= 26:\n",
    "            remaining_digits = return_all_codes(input_str[2:])\n",
    "            for code in remaining_digits:\n",
    "                combinations.append(get_letter_from_number(first_two_digits) + code)\n",
    "                \n",
    "    return combinations\n",
    "\n",
    "# Example usage:\n",
    "result = return_all_codes('123')\n",
    "\n",
    "print(result)\n",
    "    "
   ]
  },
  {
   "cell_type": "markdown",
   "metadata": {},
   "source": [
    "### Tower of Hanoi"
   ]
  },
  {
   "cell_type": "code",
   "execution_count": 37,
   "metadata": {},
   "outputs": [
    {
     "name": "stdout",
     "output_type": "stream",
     "text": [
      "Step 1: Move disk 1 from A to C\n",
      "Step 2: Move disk 2 from A to B\n",
      "Step 3: Move disk 1 from C to B\n",
      "Step 4: Move disk 3 from A to C\n",
      "Step 5: Move disk 1 from B to A\n",
      "Step 6: Move disk 2 from B to C\n",
      "Step 7: Move disk 1 from A to C\n",
      "Completed in 7 steps\n"
     ]
    }
   ],
   "source": [
    "def tower_of_hanoi(n, source, destination, auxiliary, step=1):\n",
    "    \"\"\"\n",
    "    Solves the Tower of Hanoi problem for n disks, printing each step with a move.\n",
    "    \n",
    "    Parameters:\n",
    "    - n: The number of disks.\n",
    "    - source: The source rod (start point).\n",
    "    - destination: The destination rod (end point).\n",
    "    - auxiliary: The auxiliary rod (helping rod).\n",
    "    - step: The current step number, defaults to 1.\n",
    "    \n",
    "    Returns:\n",
    "    - The next step number after completing all moves for n disks.\n",
    "    \"\"\"\n",
    "    if n == 0:\n",
    "        return step\n",
    "\n",
    "    # Move n-1 disks from source to auxiliary\n",
    "    step = tower_of_hanoi(n-1, source, auxiliary, destination, step)\n",
    "    \n",
    "    # Move the nth disk from source to destination\n",
    "    print(f\"Step {step}: Move disk {n} from {source} to {destination}\")\n",
    "    step += 1\n",
    "    \n",
    "    # Move n-1 disks from auxiliary to destination\n",
    "    step = tower_of_hanoi(n-1, auxiliary, destination, source, step)\n",
    "    \n",
    "    return step\n",
    "\n",
    "# Main function to execute the Tower of Hanoi and print the completion message\n",
    "def execute_hanoi(n):\n",
    "    total_steps = tower_of_hanoi(n, 'A', 'C', 'B')\n",
    "    print(f\"Completed in {total_steps - 1} steps\")\n",
    "\n",
    "# Example usage:\n",
    "n = 3  # Number of disks\n",
    "execute_hanoi(n)"
   ]
  },
  {
   "cell_type": "code",
   "execution_count": 35,
   "metadata": {},
   "outputs": [
    {
     "name": "stdout",
     "output_type": "stream",
     "text": [
      "Step 1: Move disk 1 from A to B\n",
      "Completed in 1 steps\n"
     ]
    }
   ],
   "source": [
    "# Example usage:\n",
    "n = 1 # Number of disks\n",
    "execute_hanoi(n)"
   ]
  },
  {
   "cell_type": "code",
   "execution_count": 36,
   "metadata": {},
   "outputs": [
    {
     "name": "stdout",
     "output_type": "stream",
     "text": [
      "Completed in 0 steps\n"
     ]
    }
   ],
   "source": [
    "# Example usage:\n",
    "n = 0  # Number of disks\n",
    "execute_hanoi(n)"
   ]
  },
  {
   "cell_type": "code",
   "execution_count": null,
   "metadata": {},
   "outputs": [],
   "source": []
  }
 ],
 "metadata": {
  "kernelspec": {
   "display_name": "Python 3",
   "language": "python",
   "name": "python3"
  },
  "language_info": {
   "codemirror_mode": {
    "name": "ipython",
    "version": 3
   },
   "file_extension": ".py",
   "mimetype": "text/x-python",
   "name": "python",
   "nbconvert_exporter": "python",
   "pygments_lexer": "ipython3",
   "version": "3.12.0"
  }
 },
 "nbformat": 4,
 "nbformat_minor": 2
}
