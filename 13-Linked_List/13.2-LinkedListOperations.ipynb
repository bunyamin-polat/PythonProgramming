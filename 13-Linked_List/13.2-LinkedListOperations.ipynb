{
 "cells": [
  {
   "cell_type": "markdown",
   "metadata": {},
   "source": [
    "## Linked List Operations\n",
    "\n",
    "- Insertion Operations\n",
    "\n",
    "- Deletion Operations\n",
    "\n",
    "- Search Operation\n",
    "\n",
    "- Traverse Operations"
   ]
  },
  {
   "cell_type": "code",
   "execution_count": 4,
   "metadata": {},
   "outputs": [
    {
     "name": "stdout",
     "output_type": "stream",
     "text": [
      "10 -> 20 -> 30 -> 40 -> 50 -> None\n"
     ]
    }
   ],
   "source": [
    "from common import Node, print_LL, take_input_better\n",
    "head = take_input_better()\n",
    "print_LL(head)"
   ]
  },
  {
   "cell_type": "markdown",
   "metadata": {},
   "source": [
    "### Insert new node at the head of the linked list"
   ]
  },
  {
   "cell_type": "code",
   "execution_count": 5,
   "metadata": {},
   "outputs": [],
   "source": [
    "def insert_at_head(head, data):\n",
    "    new_node = Node(data)\n",
    "    new_node.next = head\n",
    "    head = new_node\n",
    "    return head  "
   ]
  },
  {
   "cell_type": "code",
   "execution_count": 6,
   "metadata": {},
   "outputs": [
    {
     "name": "stdout",
     "output_type": "stream",
     "text": [
      "After inserting at head\n",
      "0 -> 10 -> 20 -> 30 -> 40 -> 50 -> None\n"
     ]
    }
   ],
   "source": [
    "new_head = insert_at_head(head, 0)\n",
    "print(\"After inserting at head\")\n",
    "print_LL(new_head)"
   ]
  },
  {
   "cell_type": "markdown",
   "metadata": {},
   "source": [
    "### Insert new node at the tail of the linked list"
   ]
  },
  {
   "cell_type": "code",
   "execution_count": 7,
   "metadata": {},
   "outputs": [],
   "source": [
    "def insert_at_tail(head, data):\n",
    "    new_node = Node(data)\n",
    "    if head is None:\n",
    "        return new_node\n",
    "    \n",
    "    temp = head\n",
    "    while temp.next is not None:\n",
    "        temp = temp.next\n",
    "    \n",
    "    temp.next = new_node\n",
    "    return head\n",
    "\n",
    "\n",
    "## Alternate way to insert at tail\n",
    "\n",
    "# def insert_at_tail_recursive(head, data):\n",
    "#     if head is None:\n",
    "#         return Node(data)\n",
    "#     head.next = insert_at_tail_recursive(head.next, data)\n",
    "#     return head"
   ]
  },
  {
   "cell_type": "code",
   "execution_count": 8,
   "metadata": {},
   "outputs": [
    {
     "name": "stdout",
     "output_type": "stream",
     "text": [
      "After inserting at tail\n",
      "0 -> 10 -> 20 -> 30 -> 40 -> 50 -> 60 -> None\n"
     ]
    }
   ],
   "source": [
    "new_tail = insert_at_tail(new_head, 60)\n",
    "print(\"After inserting at tail\")\n",
    "print_LL(new_tail)"
   ]
  },
  {
   "cell_type": "markdown",
   "metadata": {},
   "source": [
    "### Insert new node at the index of linked list"
   ]
  },
  {
   "cell_type": "code",
   "execution_count": null,
   "metadata": {},
   "outputs": [],
   "source": [
    "def insert_at_index(head, data, index):\n",
    "    if index == 0:\n",
    "        return insert_at_head(head, data)\n",
    "    \n",
    "    new_node = Node(data)\n",
    "    temp = head\n",
    "    count = 0\n",
    "    \n",
    "    while temp is not None and count < index - 1:\n",
    "        temp = temp.next\n",
    "        count += 1\n",
    "    \n",
    "    if temp is None:\n",
    "        print(\"Index out of bounds\")\n",
    "        return head\n",
    "    \n",
    "    new_node.next = temp.next\n",
    "    temp.next = new_node\n",
    "    return head\n",
    "\n",
    "## Alternate way to insert at index\n",
    "\n",
    "def insert_at_index_recursive(head, data, index):\n",
    "    \"\"\"Insert a node with given data at the specified index using recursion.\n",
    "    Args:\n",
    "        head: Head of the linked list\n",
    "        index: Position where to insert (0-based indexing)\n",
    "        data: Data to be inserted\n",
    "    Returns:\n",
    "        Updated head of the linked list\n",
    "\n",
    "    \"\"\"\n",
    "    # Handle negative index\n",
    "    if index < 0:\n",
    "        print(f\"Error: Index {index} is negative. Cannot insert.\")\n",
    "        return head\n",
    "\n",
    "    # Base Case 1: Insert at the beginning (index 0)\n",
    "    if index == 0:\n",
    "        new_node = Node(data)\n",
    "        new_node.next = head\n",
    "        return new_node\n",
    "\n",
    "    # Base Case 2: If head is None and index > 0, index is invalid\n",
    "    if head is None:\n",
    "        print(f\"Error: Index {index} is out of bounds. List is shorter than expected.\")\n",
    "        return None\n",
    "\n",
    "    # Recursive Case: Move to the next node and decrement index\n",
    "    head.next = insert_at_index_recursive(head.next, index - 1, data)\n",
    "    return head\n"
   ]
  },
  {
   "cell_type": "code",
   "execution_count": 10,
   "metadata": {},
   "outputs": [
    {
     "name": "stdout",
     "output_type": "stream",
     "text": [
      "After inserting at index 2\n",
      "10 -> 20 -> 15 -> 30 -> 40 -> 50 -> 60 -> None\n"
     ]
    }
   ],
   "source": [
    "head = insert_at_index(head, 15, 2)\n",
    "print(\"After inserting at index 2\")\n",
    "print_LL(head)"
   ]
  },
  {
   "cell_type": "markdown",
   "metadata": {},
   "source": [
    "### Delete node at the head of linked list"
   ]
  },
  {
   "cell_type": "code",
   "execution_count": 11,
   "metadata": {},
   "outputs": [],
   "source": [
    "def delete_at_head(head):\n",
    "    if head is None:\n",
    "        print(\"List is empty, nothing to delete.\")\n",
    "        return None\n",
    "    return head.next"
   ]
  },
  {
   "cell_type": "code",
   "execution_count": 12,
   "metadata": {},
   "outputs": [
    {
     "name": "stdout",
     "output_type": "stream",
     "text": [
      "Before deleting at head\n",
      "10 -> 20 -> 15 -> 30 -> 40 -> 50 -> 60 -> None\n",
      "After deleting at head\n",
      "20 -> 15 -> 30 -> 40 -> 50 -> 60 -> None\n"
     ]
    }
   ],
   "source": [
    "print(\"Before deleting at head\")\n",
    "print_LL(head)\n",
    "head = delete_at_head(head)\n",
    "print(\"After deleting at head\")\n",
    "print_LL(head)"
   ]
  },
  {
   "cell_type": "markdown",
   "metadata": {},
   "source": [
    "### Delete node at the tail of linked list"
   ]
  },
  {
   "cell_type": "code",
   "execution_count": 13,
   "metadata": {},
   "outputs": [],
   "source": [
    "def delete_at_tail(head):\n",
    "    if head is None or head.next is None:\n",
    "        return None # If the list is empty or has only one node, return None\n",
    "    \n",
    "    temp = head\n",
    "    while temp.next.next is not None: # Traverse to the second last node\n",
    "        temp = temp.next # Move to the next node\n",
    "\n",
    "    temp.next = None  # Remove the last node\n",
    "    return head\n",
    "\n",
    "# Alternate way to delete at tail\n",
    "def delete_at_tail_recursive(head):\n",
    "    if head is None or head.next is None:\n",
    "        return None\n",
    "    head.next = delete_at_tail_recursive(head.next)\n",
    "    return head"
   ]
  },
  {
   "cell_type": "code",
   "execution_count": 14,
   "metadata": {},
   "outputs": [
    {
     "name": "stdout",
     "output_type": "stream",
     "text": [
      "Before deleting at tail\n",
      "20 -> 15 -> 30 -> 40 -> 50 -> 60 -> None\n",
      "After deleting at tail\n",
      "20 -> 15 -> 30 -> 40 -> 50 -> None\n"
     ]
    }
   ],
   "source": [
    "print(\"Before deleting at tail\")\n",
    "print_LL(head)\n",
    "head = delete_at_tail(head)\n",
    "print(\"After deleting at tail\")\n",
    "print_LL(head)"
   ]
  },
  {
   "cell_type": "markdown",
   "metadata": {},
   "source": [
    "### Delete node at the index of linked list"
   ]
  },
  {
   "cell_type": "code",
   "execution_count": null,
   "metadata": {},
   "outputs": [],
   "source": [
    "def delete_at_index(head, index):\n",
    "    if head is None:\n",
    "        print(\"List is empty, nothing to delete.\")\n",
    "        return None\n",
    "    \n",
    "    if index == 0:\n",
    "        return head.next  # If index is 0, delete the head node\n",
    "    \n",
    "    temp = head\n",
    "    count = 0\n",
    "    \n",
    "    while temp is not None and count < index - 1:\n",
    "        temp = temp.next\n",
    "        count += 1\n",
    "    \n",
    "    if temp is None or temp.next is None:\n",
    "        print(\"Index out of bounds\")\n",
    "        return head\n",
    "    \n",
    "    temp.next = temp.next.next\n",
    "    return head\n",
    "\n",
    "# Alternate way to delete at index\n",
    "def delete_at_index_recursive(head, index):\n",
    "    # Handle negative index\n",
    "    if index < 0:\n",
    "        print(f\"Error: Index {index} is negative. Cannot delete.\")\n",
    "        return head\n",
    "    # Base Case 1: If head is None, nothing to delete\n",
    "    if head is None:\n",
    "        print(f\"Error: Index {index} is out of bounds. List is empty.\")\n",
    "        return None\n",
    "    # Base Case 2: If index is 0, delete the head node\n",
    "    if index == 0:\n",
    "        return head.next\n",
    "    # Recursive Case: Move to the next node\n",
    "    head.next = delete_at_index_recursive(head.next, index - 1)\n",
    "    return head"
   ]
  },
  {
   "cell_type": "code",
   "execution_count": 16,
   "metadata": {},
   "outputs": [
    {
     "name": "stdout",
     "output_type": "stream",
     "text": [
      "Before deleting at index 1\n",
      "20 -> 15 -> 30 -> 40 -> 50 -> None\n",
      "After deleting at index 1\n",
      "20 -> 30 -> 40 -> 50 -> None\n"
     ]
    }
   ],
   "source": [
    "print(\"Before deleting at index 1\")\n",
    "print_LL(head)\n",
    "head = delete_at_index(head, 1)\n",
    "print(\"After deleting at index 1\")\n",
    "print_LL(head)"
   ]
  },
  {
   "cell_type": "code",
   "execution_count": 18,
   "metadata": {},
   "outputs": [],
   "source": [
    "### Delete node by value\n",
    "def delete_node_by_value(head, value):\n",
    "    if head is None:\n",
    "        print(\"List is empty, nothing to delete.\")\n",
    "        return None\n",
    "    \n",
    "    if head.data == value:\n",
    "        return head.next  # If the head node has the value, delete it\n",
    "    \n",
    "    temp = head\n",
    "    while temp.next is not None and temp.next.data != value:\n",
    "        temp = temp.next\n",
    "    \n",
    "    if temp.next is None:\n",
    "        print(f\"Value {value} not found in the list.\")\n",
    "        return head\n",
    "    \n",
    "    temp.next = temp.next.next  # Delete the node with the specified value\n",
    "    return head"
   ]
  },
  {
   "cell_type": "code",
   "execution_count": null,
   "metadata": {},
   "outputs": [
    {
     "name": "stdout",
     "output_type": "stream",
     "text": [
      "Before deleting node with value 20\n",
      "20 -> 30 -> 40 -> 50 -> None\n",
      "After deleting node with value 20\n",
      "30 -> 40 -> 50 -> None\n"
     ]
    }
   ],
   "source": [
    "print(\"Before deleting node with value 20\")\n",
    "print_LL(head)\n",
    "head = delete_node_by_value(head, 20)\n",
    "print(\"After deleting node with value 20\")\n",
    "print_LL(head)"
   ]
  },
  {
   "cell_type": "code",
   "execution_count": 20,
   "metadata": {},
   "outputs": [
    {
     "name": "stdout",
     "output_type": "stream",
     "text": [
      "Before deleting node with value 3\n",
      "30 -> 40 -> 50 -> None\n",
      "Value 3 not found in the list.\n",
      "After deleting node with value 3\n",
      "30 -> 40 -> 50 -> None\n"
     ]
    }
   ],
   "source": [
    "print(\"Before deleting node with value 3\")\n",
    "print_LL(head)\n",
    "head = delete_node_by_value(head, 3)\n",
    "print(\"After deleting node with value 3\")\n",
    "print_LL(head)"
   ]
  },
  {
   "cell_type": "markdown",
   "metadata": {},
   "source": [
    "### Search by value in a linked list"
   ]
  },
  {
   "cell_type": "code",
   "execution_count": null,
   "metadata": {},
   "outputs": [],
   "source": [
    "from common import Node, print_LL, take_input_better, create_ll_from_list\n",
    "head = create_ll_from_list([1, 2, 3, 4, 5])\n",
    "def search_by_value(head, value):\n",
    "    temp = head\n",
    "    while temp is not None:\n",
    "        if temp.data == value:\n",
    "            return temp.data\n",
    "        temp = temp.next\n",
    "    return 'The value is not found in the linked list'\n",
    "\n",
    "# Alternate way to search by value\n",
    "def search_by_value_recursive(head, value):\n",
    "    if head is None:\n",
    "        return None  # Base case: reached the end of the list\n",
    "    if head.data == value:\n",
    "        return head.data  # Found the value\n",
    "    \n",
    "    return search_by_value_recursive(head.next, value)  # Recursive call on the next node"
   ]
  },
  {
   "cell_type": "code",
   "execution_count": 19,
   "metadata": {},
   "outputs": [
    {
     "name": "stdout",
     "output_type": "stream",
     "text": [
      "Searching for value\n",
      "3\n"
     ]
    }
   ],
   "source": [
    "print(\"Searching for value\")\n",
    "print(search_by_value(head, 3))"
   ]
  },
  {
   "cell_type": "code",
   "execution_count": 20,
   "metadata": {},
   "outputs": [
    {
     "name": "stdout",
     "output_type": "stream",
     "text": [
      "Searching for value\n",
      "The value is not found in the linked list\n"
     ]
    }
   ],
   "source": [
    "print(\"Searching for value\")\n",
    "print(search_by_value(head, 8))"
   ]
  },
  {
   "cell_type": "markdown",
   "metadata": {},
   "source": [
    "### Search by index in a linked list"
   ]
  },
  {
   "cell_type": "code",
   "execution_count": null,
   "metadata": {},
   "outputs": [],
   "source": [
    "def search_by_index(head, index):\n",
    "    temp = head\n",
    "    current_index = 0\n",
    "    while temp is not None:\n",
    "        if current_index == index:\n",
    "            return temp.data\n",
    "        temp = temp.next\n",
    "        current_index += 1\n",
    "    return None  # The index is out of bounds"
   ]
  },
  {
   "cell_type": "code",
   "execution_count": 25,
   "metadata": {},
   "outputs": [
    {
     "name": "stdout",
     "output_type": "stream",
     "text": [
      "Searching by index... \n",
      "None\n"
     ]
    }
   ],
   "source": [
    "print(\"Searching by index... \")\n",
    "print(search_by_index(head, 5))"
   ]
  },
  {
   "cell_type": "code",
   "execution_count": 24,
   "metadata": {},
   "outputs": [
    {
     "name": "stdout",
     "output_type": "stream",
     "text": [
      "Searching by index...\n",
      "3\n"
     ]
    }
   ],
   "source": [
    "print(\"Searching by index...\")\n",
    "print(search_by_index(head, 2))"
   ]
  },
  {
   "cell_type": "code",
   "execution_count": null,
   "metadata": {},
   "outputs": [],
   "source": []
  }
 ],
 "metadata": {
  "kernelspec": {
   "display_name": "base",
   "language": "python",
   "name": "python3"
  },
  "language_info": {
   "codemirror_mode": {
    "name": "ipython",
    "version": 3
   },
   "file_extension": ".py",
   "mimetype": "text/x-python",
   "name": "python",
   "nbconvert_exporter": "python",
   "pygments_lexer": "ipython3",
   "version": "3.12.4"
  }
 },
 "nbformat": 4,
 "nbformat_minor": 2
}
