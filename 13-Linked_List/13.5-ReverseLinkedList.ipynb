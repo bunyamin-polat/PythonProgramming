{
 "cells": [
  {
   "cell_type": "markdown",
   "id": "04ed5263",
   "metadata": {},
   "source": [
    "## Reverse a Linked List"
   ]
  },
  {
   "cell_type": "code",
   "execution_count": 15,
   "id": "e87a1cb5",
   "metadata": {},
   "outputs": [],
   "source": [
    "from common import create_ll_from_list, print_LL"
   ]
  },
  {
   "cell_type": "code",
   "execution_count": 16,
   "id": "3ec28914",
   "metadata": {},
   "outputs": [],
   "source": [
    "def reverse_linked_list(head):\n",
    "    prev = None\n",
    "    current = head\n",
    "    \n",
    "    while current is not None:\n",
    "        next_node = current.next  # Store the next node\n",
    "        current.next = prev       # Reverse the link\n",
    "        prev = current            # Move prev to current\n",
    "        current = next_node       # Move to the next node\n",
    "    \n",
    "    return prev  # New head of the reversed list\n",
    "\n",
    "# Alternatively, you can use recursion to reverse the linked list\n",
    "def reverse_linked_list_recursive(head):\n",
    "    if head is None or head.next is None:\n",
    "        return head\n",
    "    \n",
    "    new_head = reverse_linked_list_recursive(head.next)\n",
    "    head.next.next = head  # Reverse the link\n",
    "    head.next = None       # Set the next of the current node to None\n",
    "    \n",
    "    return new_head  # New head of the reversed list"
   ]
  },
  {
   "cell_type": "code",
   "execution_count": 17,
   "id": "43e20de8",
   "metadata": {},
   "outputs": [
    {
     "name": "stdout",
     "output_type": "stream",
     "text": [
      "1 -> 3 -> 5 -> 7 -> None\n",
      "7 -> 5 -> 3 -> 1 -> None\n"
     ]
    }
   ],
   "source": [
    "ll = create_ll_from_list([1, 3, 5, 7])\n",
    "print_LL(ll)\n",
    "\n",
    "reversed_ll = reverse_linked_list(ll)\n",
    "print_LL(reversed_ll)"
   ]
  },
  {
   "cell_type": "code",
   "execution_count": 18,
   "id": "8d052a5f",
   "metadata": {},
   "outputs": [
    {
     "name": "stdout",
     "output_type": "stream",
     "text": [
      "1 -> 3 -> 5 -> 7 -> None\n",
      "7 -> 5 -> 3 -> 1 -> None\n"
     ]
    }
   ],
   "source": [
    "ll = create_ll_from_list([1, 3, 5, 7])\n",
    "print_LL(ll)\n",
    "\n",
    "reversed_ll2 = reverse_linked_list_recursive(ll)\n",
    "print_LL(reversed_ll2)"
   ]
  },
  {
   "cell_type": "code",
   "execution_count": null,
   "id": "0b26dd1a",
   "metadata": {},
   "outputs": [],
   "source": []
  }
 ],
 "metadata": {
  "kernelspec": {
   "display_name": "base",
   "language": "python",
   "name": "python3"
  },
  "language_info": {
   "codemirror_mode": {
    "name": "ipython",
    "version": 3
   },
   "file_extension": ".py",
   "mimetype": "text/x-python",
   "name": "python",
   "nbconvert_exporter": "python",
   "pygments_lexer": "ipython3",
   "version": "3.12.4"
  }
 },
 "nbformat": 4,
 "nbformat_minor": 5
}
