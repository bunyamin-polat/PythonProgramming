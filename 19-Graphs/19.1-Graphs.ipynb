{
 "cells": [
  {
   "cell_type": "markdown",
   "id": "1fa2e807",
   "metadata": {},
   "source": [
    "## Introduction to Graphs\n",
    "\n",
    "A **Graph** is a non-linear data structure consisting of **nodes** (also called **vertices**) and **edges** that connect pairs of nodes.\n",
    "\n",
    "Graphs are widely used to model real-world relationships such as:\n",
    "\n",
    "- Social networks (people and friendships)\n",
    "- Maps (cities and roads)\n",
    "- Computer networks (devices and connections)\n",
    "- Web pages and hyperlinks\n",
    "\n",
    "### Graph Terminologies\n",
    "\n",
    "Here are some common terms used in graph theory:\n",
    "\n",
    "- **Vertex (Node)**: A fundamental unit or point in the graph.\n",
    "\n",
    "- **Edge (Link)**: A connection between two vertices.\n",
    "\n",
    "- **Adjacent Vertices**: Two vertices are adjacent if they are connected by an edge.\n",
    "\n",
    "- **Degree of a Vertex**:\n",
    "\n",
    "  - **Undirected Graph**: Number of edges connected to the vertex.\n",
    "\n",
    "  - **Directed Graph**:\n",
    "    - **In-degree**: Number of incoming edges.\n",
    "    - **Out-degree**: Number of outgoing edges.\n",
    "  \n",
    "- **Path**: A sequence of vertices connected by edges.\n",
    "  \n",
    "- **Cycle**: A path where the starting and ending vertex are the same.\n",
    "  \n",
    "- **Connected Graph**: There is a path between every pair of vertices.\n",
    "  \n",
    "- **Strongly Connected Graph**: In a directed graph, there is a path between every pair of vertices in both directions.\n",
    "  \n",
    "- **Disconnected Graph**: At least one pair of vertices has no connecting path.\n",
    "  \n",
    "- **Weighted Graph**: Each edge has an associated cost or weight.\n",
    "  \n",
    "- **Unweighted Graph**: All edges are considered to have equal weight.\n",
    "\n",
    "### Types of Graphs\n",
    "\n",
    "**1. Directed Graph (Digraph)**\n",
    "- Edges have a direction (e.g., A → B).\n",
    "- Order of nodes in an edge matters.\n",
    "\n",
    "**2. Undirected Graph**\n",
    "- Edges have no direction (e.g., A — B).\n",
    "- Connection goes both ways.\n",
    "\n",
    "**3. Weighted Graph**\n",
    "- Each edge has a numerical weight (e.g., distance, cost).\n",
    "\n",
    "**4. Unweighted Graph**\n",
    "- All edges are treated equally (no weights).\n",
    "\n",
    "**5. Cyclic Graph**\n",
    "- Contains at least one cycle (a path that forms a loop).\n",
    "\n",
    "**6. Acyclic Graph**\n",
    "- Contains no cycles.\n",
    "- Example: **Directed Acyclic Graph (DAG)** used in task scheduling, version control.\n",
    "\n",
    "**7. Connected Graph**\n",
    "- There is a path between every pair of vertices.\n",
    "\n",
    "**8. Disconnected Graph**\n",
    "- Some vertices are not connected by any path.\n",
    "\n",
    "**9. Complete Graph**\n",
    "- Every pair of distinct vertices is connected by a unique edge.\n",
    "\n",
    "**10. Sparse Graph**\n",
    "- Contains relatively few edges.\n",
    "\n",
    "**11. Dense Graph**\n",
    "- Contains many edges, close to the maximum possible.\n",
    "\n",
    "### Summary\n",
    "\n",
    "Graphs are powerful tools for representing relationships between entities. Understanding their structure and types is essential for solving complex problems in computer science, mathematics, and real-world systems.\n",
    "\n"
   ]
  },
  {
   "cell_type": "markdown",
   "id": "a135a9ea",
   "metadata": {},
   "source": [
    "## Implement a Graph in Python with Edges List\n",
    "\n",
    "We define a graph using an edges list in graph.py, which is a list of tuples where each tuple represents an edge connecting two vertices."
   ]
  },
  {
   "cell_type": "code",
   "execution_count": 1,
   "id": "cfdb81ad",
   "metadata": {},
   "outputs": [
    {
     "name": "stdout",
     "output_type": "stream",
     "text": [
      "Vertices\n",
      "Vertex: 1\n",
      "Vertex: 2\n",
      "Vertex: 3\n",
      "Edges:\n",
      "1 ---> 2\n",
      "2 ---> 3\n"
     ]
    }
   ],
   "source": [
    "from graph import GraphUsingEdgeList\n",
    "\n",
    "graph = GraphUsingEdgeList()\n",
    "graph.add_vertex(1)\n",
    "graph.add_vertex(2)\n",
    "graph.add_vertex(3)\n",
    "\n",
    "graph.add_edge(1, 2)\n",
    "graph.add_edge(2, 3)\n",
    "\n",
    "graph.display()"
   ]
  },
  {
   "cell_type": "markdown",
   "id": "ac522367",
   "metadata": {},
   "source": [
    "## Implement a Graph in Python with Adjacency List\n",
    "\n",
    "We define a graph using an adjacency list in graph.py, which is a dictionary where each key is a vertex and the value is a list of adjacent vertices.\n"
   ]
  },
  {
   "cell_type": "code",
   "execution_count": 2,
   "id": "957fef61",
   "metadata": {},
   "outputs": [
    {
     "name": "stdout",
     "output_type": "stream",
     "text": [
      "Vertices\n",
      "Vertex: A\n",
      "Vertex: B\n",
      "Vertex: C\n",
      "Vertex: D\n",
      "Vertex: E\n",
      "Adjacency List:\n",
      "A ---> [('B', 1), ('D', 1)]\n",
      "B ---> [('A', 1), ('D', 1), ('C', 1)]\n",
      "C ---> [('B', 1)]\n",
      "D ---> [('A', 1), ('B', 1)]\n",
      "E ---> []\n"
     ]
    }
   ],
   "source": [
    "from graph import GraphUsingAdjacencyList\n",
    "\n",
    "graph = GraphUsingAdjacencyList()\n",
    "graph.add_vertex('A')\n",
    "graph.add_vertex('B')\n",
    "graph.add_vertex('C')\n",
    "graph.add_vertex('D')\n",
    "graph.add_vertex('E')\n",
    "\n",
    "graph.add_edge('A','B')\n",
    "graph.add_edge('A','D')\n",
    "graph.add_edge('B','D')\n",
    "graph.add_edge('B','C')\n",
    "\n",
    "graph.display()"
   ]
  },
  {
   "cell_type": "markdown",
   "id": "33f03e63",
   "metadata": {},
   "source": [
    "## Implement a Graph in Python with Adjacency Matrix\n",
    "\n",
    "We define a graph using an adjacency matrix in graph.py, which is a 2D array where the element at row i and column j represents the weight of the edge from vertex i to vertex j."
   ]
  },
  {
   "cell_type": "code",
   "execution_count": 3,
   "id": "f944d521",
   "metadata": {},
   "outputs": [
    {
     "name": "stdout",
     "output_type": "stream",
     "text": [
      "Vertices:\n",
      "Vertex Index: 0, Label: A\n",
      "Vertex Index: 1, Label: B\n",
      "Vertex Index: 2, Label: C\n",
      "Vertex Index: 3, Label: D\n",
      "Adjacency Matrix:\n",
      "[0, 1, 0, 0]\n",
      "[1, 0, 1, 0]\n",
      "[0, 1, 0, 0]\n",
      "[0, 0, 0, 0]\n"
     ]
    }
   ],
   "source": [
    "from graph import GraphUsingAdjacencyMatrix\n",
    "\n",
    "graph = GraphUsingAdjacencyMatrix(4)\n",
    "graph.add_vertex(0,'A')\n",
    "graph.add_vertex(1,'B')\n",
    "graph.add_vertex(2,'C')\n",
    "graph.add_vertex(3,'D')\n",
    "\n",
    "graph.add_edge(0,1)\n",
    "graph.add_edge(1,2)\n",
    "\n",
    "graph.display()"
   ]
  },
  {
   "cell_type": "markdown",
   "id": "81c17f33",
   "metadata": {},
   "source": [
    "## Graph Traversal Algorithms\n",
    "\n",
    "### Depth-First Search (DFS)\n",
    "Depth-First Search (DFS) is a graph traversal algorithm that explores as far as possible along each branch before backtracking. It can be implemented using recursion or an explicit stack."
   ]
  },
  {
   "cell_type": "code",
   "execution_count": 4,
   "id": "843ed388",
   "metadata": {},
   "outputs": [
    {
     "name": "stdout",
     "output_type": "stream",
     "text": [
      "DFS Traversal starting from vertex: 0\n",
      "0 1 2 3 4 5 \n",
      "DFS complete!!!\n"
     ]
    },
    {
     "data": {
      "text/plain": [
       "[0, 1, 2, 3, 4, 5]"
      ]
     },
     "execution_count": 4,
     "metadata": {},
     "output_type": "execute_result"
    }
   ],
   "source": [
    "graph = GraphUsingAdjacencyMatrix(6)\n",
    "graph.add_vertex(0,'A')\n",
    "graph.add_vertex(1,'B')\n",
    "graph.add_vertex(2,'C')\n",
    "graph.add_vertex(3,'D')\n",
    "graph.add_vertex(4,'E')\n",
    "graph.add_vertex(5,'F')\n",
    "\n",
    "graph.add_edge(0,1)\n",
    "graph.add_edge(1,2)\n",
    "graph.add_edge(2,3)\n",
    "graph.add_edge(3,4)\n",
    "graph.add_edge(2,4)\n",
    "graph.add_edge(0,5)\n",
    "\n",
    "graph.dfs()"
   ]
  },
  {
   "cell_type": "markdown",
   "id": "1e1c9311",
   "metadata": {},
   "source": [
    "### Breadth-First Search (BFS)\n",
    "Breadth-First Search (BFS) is a graph traversal algorithm that explores all the vertices of a graph in breadthward motion and uses a queue to keep track of the next vertex to visit."
   ]
  },
  {
   "cell_type": "code",
   "execution_count": 5,
   "id": "c2de2236",
   "metadata": {},
   "outputs": [
    {
     "name": "stdout",
     "output_type": "stream",
     "text": [
      "0 1 5 2 3 4 \n",
      "BFS complete!!!\n"
     ]
    },
    {
     "data": {
      "text/plain": [
       "[0, 1, 5, 2, 3, 4]"
      ]
     },
     "execution_count": 5,
     "metadata": {},
     "output_type": "execute_result"
    }
   ],
   "source": [
    "graph = GraphUsingAdjacencyMatrix(6)\n",
    "graph.add_vertex(0,'A')\n",
    "graph.add_vertex(1,'B')\n",
    "graph.add_vertex(2,'C')\n",
    "graph.add_vertex(3,'D')\n",
    "graph.add_vertex(4,'E')\n",
    "graph.add_vertex(5,'F')\n",
    "\n",
    "graph.add_edge(0,1)\n",
    "graph.add_edge(1,2)\n",
    "graph.add_edge(2,3)\n",
    "graph.add_edge(3,4)\n",
    "graph.add_edge(2,4)\n",
    "graph.add_edge(0,5)\n",
    "\n",
    "graph.bfs()"
   ]
  },
  {
   "cell_type": "markdown",
   "id": "bb06136d",
   "metadata": {},
   "source": [
    "### Kruskal's Algorithm\n",
    "Kruskal's Algorithm is a greedy algorithm used to find the Minimum Spanning Tree (MST) of a connected, undirected graph. It works by sorting the edges in non-decreasing order of their weights and adding them one by one to the MST, ensuring that no cycles are formed."
   ]
  },
  {
   "cell_type": "code",
   "execution_count": 6,
   "id": "4b46eed9",
   "metadata": {},
   "outputs": [
    {
     "name": "stdout",
     "output_type": "stream",
     "text": [
      "Minimum Spanning Tree:\n",
      "1 -- 2 == 1\n",
      "0 -- 2 == 2\n",
      "3 -- 4 == 2\n",
      "1 -- 3 == 5\n"
     ]
    }
   ],
   "source": [
    "g = GraphUsingAdjacencyMatrix(5)\n",
    "g.add_edge(0, 1, 4)\n",
    "g.add_edge(0, 2, 2)\n",
    "g.add_edge(1, 2, 1)\n",
    "g.add_edge(1, 3, 5)\n",
    "g.add_edge(2, 3, 8)\n",
    "g.add_edge(2, 4, 10)\n",
    "g.add_edge(3, 4, 2)\n",
    "\n",
    "mst = g.kruskal_mst()\n",
    "print(\"Minimum Spanning Tree:\")\n",
    "for u, v, w in mst:\n",
    "    print(f\"{u} -- {v} == {w}\")\n"
   ]
  },
  {
   "cell_type": "markdown",
   "id": "c5af1384",
   "metadata": {},
   "source": [
    "### A*Star Algorithm\n",
    "A*Star is a pathfinding algorithm that finds the shortest path from a start node to a goal node in a weighted graph. It uses heuristics to prioritize which nodes to explore, making it efficient for many applications like navigation and game development."
   ]
  },
  {
   "cell_type": "code",
   "execution_count": null,
   "id": "60bf33fe",
   "metadata": {},
   "outputs": [
    {
     "data": {
      "text/plain": [
       "[0, 1, 2, 4]"
      ]
     },
     "execution_count": 7,
     "metadata": {},
     "output_type": "execute_result"
    }
   ],
   "source": [
    "graph = GraphUsingAdjacencyMatrix(6)\n",
    "graph.add_vertex(0,'A')\n",
    "graph.add_vertex(1,'B')\n",
    "graph.add_vertex(2,'C')\n",
    "graph.add_vertex(3,'D')\n",
    "graph.add_vertex(4,'E')\n",
    "graph.add_vertex(5,'F')\n",
    "\n",
    "graph.add_edge(0,1)\n",
    "graph.add_edge(1,2)\n",
    "graph.add_edge(2,3)\n",
    "graph.add_edge(3,4)\n",
    "graph.add_edge(2,4)\n",
    "graph.add_edge(0,5)\n",
    "\n",
    "graph.a_star(0, 4, heuristic=[1, 1, 1, 1, 0, 1])  # Example heuristic values\n"
   ]
  },
  {
   "cell_type": "code",
   "execution_count": null,
   "id": "af8150cf",
   "metadata": {},
   "outputs": [],
   "source": []
  }
 ],
 "metadata": {
  "kernelspec": {
   "display_name": "base",
   "language": "python",
   "name": "python3"
  },
  "language_info": {
   "codemirror_mode": {
    "name": "ipython",
    "version": 3
   },
   "file_extension": ".py",
   "mimetype": "text/x-python",
   "name": "python",
   "nbconvert_exporter": "python",
   "pygments_lexer": "ipython3",
   "version": "3.12.4"
  }
 },
 "nbformat": 4,
 "nbformat_minor": 5
}
