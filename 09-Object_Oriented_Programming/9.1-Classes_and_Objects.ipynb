{
 "cells": [
  {
   "cell_type": "markdown",
   "metadata": {},
   "source": [
    "## Object-Oriented Programming (OOP)\n",
    "\n",
    "Object-Oriented Programming (OOP) is a programming paradigm based on the concept of \"objects\", which are instances of classes. \n",
    "\n",
    "It allows you to model real-world entities and their behaviors in a structured way."
   ]
  },
  {
   "cell_type": "code",
   "execution_count": 2,
   "metadata": {},
   "outputs": [
    {
     "name": "stdout",
     "output_type": "stream",
     "text": [
      "Brand: Toyota\n",
      "Model: Corolla\n",
      "Year: 2019\n",
      "\n",
      "Brand: Honda\n",
      "Model: Civic\n",
      "Year: 2020\n"
     ]
    }
   ],
   "source": [
    "# Defining a class named 'Car'\n",
    "class Car:\n",
    "    def __init__(self, brand, model, year):\n",
    "        self.brand = brand # Defining the attributes of the class\n",
    "        self.model = model # Attribute\n",
    "        self.year = year # Attribute\n",
    "    \n",
    "    # Method to print the attributes of the class\n",
    "    def print_car(self):\n",
    "        print(f\"Brand: {self.brand}\\nModel: {self.model}\\nYear: {self.year}\")\n",
    "        \n",
    "\n",
    "# Creating an objects(instances) of the class 'Car'\n",
    "\n",
    "car1 = Car(\"Toyota\", \"Corolla\", 2019)\n",
    "car2 = Car(\"Honda\", \"Civic\", 2020)\n",
    "\n",
    "# Calling the method\n",
    "car1.print_car()\n",
    "print()\n",
    "car2.print_car()"
   ]
  },
  {
   "cell_type": "markdown",
   "metadata": {},
   "source": [
    "- `def:` This keyword defines a function in Python.\n",
    "\n",
    "- `__init__:` This is the constructor method of a class. It is a special method that begins and ends with double underscores (also called \"dunder\" methods), which Python reserves for certain built-in functionality.\n",
    "\n",
    "- `self:` This is a reference to the current instance of the class. When you create an object of the class, self allows you to access its attributes and methods. It is always the first parameter in methods of a class, though you don't pass it explicitly when calling the method.\n",
    "\n",
    "- `brand`, `model`, `year`: These are parameters passed to the constructor when creating an object. They represent the data that you provide when creating an instance of the class.\n",
    "\n",
    "- `self.brand:` This refers to an instance variable (or attribute) of the object that is being created. Each instance (object) of the Car class will have its own brand attribute."
   ]
  },
  {
   "cell_type": "code",
   "execution_count": 3,
   "metadata": {},
   "outputs": [
    {
     "name": "stdout",
     "output_type": "stream",
     "text": [
      "<class '__main__.Car'>\n"
     ]
    }
   ],
   "source": [
    "print(type(car1))"
   ]
  },
  {
   "cell_type": "code",
   "execution_count": 4,
   "metadata": {},
   "outputs": [
    {
     "name": "stdout",
     "output_type": "stream",
     "text": [
      "<__main__.Car object at 0x1107b7560>\n"
     ]
    }
   ],
   "source": [
    "print(car1)"
   ]
  },
  {
   "cell_type": "code",
   "execution_count": 5,
   "metadata": {},
   "outputs": [
    {
     "name": "stdout",
     "output_type": "stream",
     "text": [
      "Toyota\n"
     ]
    }
   ],
   "source": [
    "print(car1.brand)"
   ]
  },
  {
   "cell_type": "code",
   "execution_count": 8,
   "metadata": {},
   "outputs": [
    {
     "data": {
      "text/plain": [
       "['__class__',\n",
       " '__delattr__',\n",
       " '__dict__',\n",
       " '__dir__',\n",
       " '__doc__',\n",
       " '__eq__',\n",
       " '__format__',\n",
       " '__ge__',\n",
       " '__getattribute__',\n",
       " '__getstate__',\n",
       " '__gt__',\n",
       " '__hash__',\n",
       " '__init__',\n",
       " '__init_subclass__',\n",
       " '__le__',\n",
       " '__lt__',\n",
       " '__module__',\n",
       " '__ne__',\n",
       " '__new__',\n",
       " '__reduce__',\n",
       " '__reduce_ex__',\n",
       " '__repr__',\n",
       " '__setattr__',\n",
       " '__sizeof__',\n",
       " '__str__',\n",
       " '__subclasshook__',\n",
       " '__weakref__',\n",
       " 'brand',\n",
       " 'model',\n",
       " 'print_car',\n",
       " 'year']"
      ]
     },
     "execution_count": 8,
     "metadata": {},
     "output_type": "execute_result"
    }
   ],
   "source": [
    "dir(car1) # To see the attributes and methods of the object"
   ]
  },
  {
   "cell_type": "markdown",
   "metadata": {
    "vscode": {
     "languageId": "powershell"
    }
   },
   "source": [
    "### Additional Concepts in OOP\n",
    "\n",
    "**Constructor:** Special method `__init__()` used to initialize objects.\n",
    "\n",
    "**Destructor:** Special method `__del__()` called when an object is destroyed."
   ]
  },
  {
   "cell_type": "code",
   "execution_count": 9,
   "metadata": {},
   "outputs": [
    {
     "name": "stdout",
     "output_type": "stream",
     "text": [
      "Object created\n"
     ]
    }
   ],
   "source": [
    "class Example:\n",
    "    def __init__(self):\n",
    "        print('Object created')\n",
    "    def __del__(self):\n",
    "        print('Object deleted')\n",
    "\n",
    "# Creating an object of the class 'Example'\n",
    "obj = Example()"
   ]
  },
  {
   "cell_type": "code",
   "execution_count": 10,
   "metadata": {},
   "outputs": [
    {
     "name": "stdout",
     "output_type": "stream",
     "text": [
      "Object deleted\n"
     ]
    }
   ],
   "source": [
    "del obj # Deleting the object"
   ]
  }
 ],
 "metadata": {
  "kernelspec": {
   "display_name": "Python 3",
   "language": "python",
   "name": "python3"
  },
  "language_info": {
   "codemirror_mode": {
    "name": "ipython",
    "version": 3
   },
   "file_extension": ".py",
   "mimetype": "text/x-python",
   "name": "python",
   "nbconvert_exporter": "python",
   "pygments_lexer": "ipython3",
   "version": "-1.-1.-1"
  }
 },
 "nbformat": 4,
 "nbformat_minor": 2
}
