{
 "cells": [
  {
   "cell_type": "markdown",
   "id": "67f3c6ce",
   "metadata": {},
   "source": [
    "## Memory Management in Python\n",
    "\n",
    "Memory management in Python involves a combination of automatic garbage collection, reference counting, and various internal optimizations to manage the allocation and deallocation of memory.\n",
    "\n",
    "### Key Concepts\n",
    "\n",
    "1. **Memory Allocation and Deallocation**: Python uses a built-in garbage collector to manage memory. It automatically allocates and deallocates memory as needed.\n",
    "\n",
    "2. **Garbage Collection**: Python's garbage collector is responsible for deallocating memory that is no longer in use. It uses reference counting and cyclic garbage collection to free memory.\n",
    "\n",
    "3. **Memory Leaks**: A memory leak occurs when memory that is no longer needed is not released. This can lead to increased memory usage and can slow down or crash a program.\n",
    "\n",
    "4. **Memory Pools**: Python uses memory pools to manage small objects. This reduces fragmentation and improves performance.\n",
    "\n",
    "5. **Reference Counting**: Each object in Python maintains a count of references pointing to it. When the reference count drops to zero, the memory occupied by the object is deallocated.\n",
    "\n",
    "6. **The gc Module**: The `gc` module provides an interface to the garbage collection facility. It allows for manual garbage collection and provides functions to interact with the garbage collector.\n",
    "\n",
    "### Best Practices\n",
    "\n",
    "- Use built-in data types and structures whenever possible, as they are optimized for performance.\n",
    "- Avoid creating circular references, as they can lead to memory leaks.\n",
    "- Use weak references for large objects that are not needed after a certain point in time.\n"
   ]
  },
  {
   "cell_type": "code",
   "execution_count": 1,
   "id": "9f66323e",
   "metadata": {},
   "outputs": [
    {
     "name": "stdout",
     "output_type": "stream",
     "text": [
      "2\n"
     ]
    }
   ],
   "source": [
    "## Reference Counting\n",
    "\n",
    "import sys\n",
    "\n",
    "a = []\n",
    "print(sys.getrefcount(a))  # Output: 2 -> One for the variable 'a' and one for the argument passed to getrefcount()"
   ]
  },
  {
   "cell_type": "code",
   "execution_count": 2,
   "id": "9eb92be0",
   "metadata": {},
   "outputs": [
    {
     "name": "stdout",
     "output_type": "stream",
     "text": [
      "3\n"
     ]
    }
   ],
   "source": [
    "b = a\n",
    "print(sys.getrefcount(b))  # Output: 3 -> One for 'b', one for 'a', and one for the argument passed to getrefcount()"
   ]
  },
  {
   "cell_type": "code",
   "execution_count": 3,
   "id": "60f060d9",
   "metadata": {},
   "outputs": [
    {
     "name": "stdout",
     "output_type": "stream",
     "text": [
      "2\n"
     ]
    }
   ],
   "source": [
    "del b\n",
    "print(sys.getrefcount(a))  # Output: 2 -> One for the variable 'a' and one for the argument passed to getrefcount()"
   ]
  },
  {
   "cell_type": "code",
   "execution_count": 4,
   "id": "b88c52b3",
   "metadata": {},
   "outputs": [],
   "source": [
    "## Garbage Collection\n",
    "\n",
    "import gc\n",
    "\n",
    "gc.enable()  # Enable automatic garbage collection"
   ]
  },
  {
   "cell_type": "code",
   "execution_count": 5,
   "id": "94be7f7a",
   "metadata": {},
   "outputs": [],
   "source": [
    "gc.disable()  # Disable automatic garbage collection"
   ]
  },
  {
   "cell_type": "code",
   "execution_count": 6,
   "id": "ddba6f03",
   "metadata": {},
   "outputs": [
    {
     "data": {
      "text/plain": [
       "0"
      ]
     },
     "execution_count": 6,
     "metadata": {},
     "output_type": "execute_result"
    }
   ],
   "source": [
    "gc.collect()  # Manually trigger garbage collection"
   ]
  },
  {
   "cell_type": "code",
   "execution_count": 7,
   "id": "b89d9003",
   "metadata": {},
   "outputs": [
    {
     "name": "stdout",
     "output_type": "stream",
     "text": [
      "[{'collections': 183, 'collected': 1287, 'uncollectable': 0}, {'collections': 16, 'collected': 205, 'uncollectable': 0}, {'collections': 2, 'collected': 74, 'uncollectable': 0}]\n"
     ]
    }
   ],
   "source": [
    "## Get garbage collection statistics\n",
    "\n",
    "print(gc.get_stats()) # Output explains the current state of the garbage collector"
   ]
  },
  {
   "cell_type": "markdown",
   "id": "d6e29dd1",
   "metadata": {},
   "source": [
    "## Memory Management Best Practices\n",
    "\n",
    "1. **Use Built-in Data Types**: Python's built-in data types (like lists, dictionaries, sets) are implemented in C and are more memory-efficient than custom classes.\n",
    "\n",
    "2. **Avoid Circular References**: Circular references can lead to memory leaks. Use weak references (via the `weakref` module) to break cycles.\n",
    "\n",
    "3. **Use Generators**: For large datasets, use generators instead of lists to save memory. Generators yield items one at a time and do not store the entire dataset in memory.\n",
    "\n",
    "4. **Profile Memory Usage**: Use tools like `memory_profiler` to identify memory bottlenecks in your code.\n",
    "\n",
    "5. **Explicitly Delete Unused Objects**: Use `del` to delete objects that are no longer needed, especially in long-running applications.\n",
    "\n",
    "6. **Use Context Managers**: For managing resources (like file handles), use context managers (`with` statement) to ensure proper cleanup.\n",
    "\n",
    "7. **Optimize Data Structures**: Choose the right data structure for your needs. For example, use tuples instead of lists for fixed collections of items.\n",
    "\n",
    "8. **Limit Global Variables**: Global variables can lead to increased memory usage and make code harder to understand. Limit their use and prefer function arguments.\n",
    "\n",
    "9. **Use `__slots__` in Classes**: If you have a class with many instances, consider using `__slots__` to reduce memory overhead.\n",
    "\n",
    "10. **Regularly Review and Refactor Code**: Periodically review your code for memory inefficiencies and refactor as needed."
   ]
  },
  {
   "cell_type": "code",
   "execution_count": 8,
   "id": "5b6365ba",
   "metadata": {},
   "outputs": [],
   "source": [
    "import gc\n",
    "\n",
    "class MyObject:\n",
    "    def __init__(self, name):\n",
    "        self.name = name\n",
    "        print(f\"Object {self.name} created\")\n",
    "\n",
    "    def __del__(self):\n",
    "        print(f\"Object {self.name} deleted\")\n",
    "    "
   ]
  },
  {
   "cell_type": "code",
   "execution_count": 9,
   "id": "96d49f28",
   "metadata": {},
   "outputs": [
    {
     "name": "stdout",
     "output_type": "stream",
     "text": [
      "Object obj1 created\n",
      "Object obj2 created\n"
     ]
    }
   ],
   "source": [
    "obj1 = MyObject(\"obj1\")\n",
    "obj2 = MyObject(\"obj2\")\n",
    "\n",
    "## Create circular references\n",
    "obj1.ref = obj2\n",
    "obj2.ref = obj1"
   ]
  },
  {
   "cell_type": "code",
   "execution_count": 10,
   "id": "996a4c8e",
   "metadata": {},
   "outputs": [
    {
     "name": "stdout",
     "output_type": "stream",
     "text": [
      "Object obj1 deleted\n",
      "Object obj2 deleted\n"
     ]
    },
    {
     "data": {
      "text/plain": [
       "2"
      ]
     },
     "execution_count": 10,
     "metadata": {},
     "output_type": "execute_result"
    }
   ],
   "source": [
    "del obj1\n",
    "del obj2\n",
    "\n",
    "## Manually trigger garbage collection\n",
    "gc.collect()"
   ]
  },
  {
   "cell_type": "code",
   "execution_count": 11,
   "id": "8f76ca15",
   "metadata": {},
   "outputs": [
    {
     "name": "stdout",
     "output_type": "stream",
     "text": [
      "0\n",
      "1\n",
      "2\n",
      "3\n",
      "4\n",
      "5\n",
      "6\n",
      "7\n",
      "8\n",
      "9\n",
      "10\n",
      "11\n"
     ]
    }
   ],
   "source": [
    "## Generators For Memory Efficiency\n",
    "\n",
    "def generate_numbers(n):\n",
    "    for i in range(n):\n",
    "        yield i\n",
    "        \n",
    "## Using the generator\n",
    "for num in generate_numbers(1000):\n",
    "    print(num)\n",
    "    if num > 10:\n",
    "        break\n"
   ]
  },
  {
   "cell_type": "code",
   "execution_count": 12,
   "id": "70040d61",
   "metadata": {},
   "outputs": [
    {
     "name": "stdout",
     "output_type": "stream",
     "text": [
      "[ Top 10 Memory Usage ]\n",
      "/var/folders/hd/3zq3znjx2xn4yscbm_651t2r0000gn/T/ipykernel_13709/3841724893.py:6: size=72 B, count=1, average=72 B\n",
      "/opt/miniconda3/lib/python3.12/tracemalloc.py:551: size=72 B, count=1, average=72 B\n"
     ]
    }
   ],
   "source": [
    "## Profiling Memory Usage with `tracemalloc`\n",
    "\n",
    "import tracemalloc\n",
    "# Your code here\n",
    "\n",
    "def create_list():\n",
    "    return [i for i in range(10000)]\n",
    "\n",
    "def main():\n",
    "    tracemalloc.start()\n",
    "    create_list()\n",
    "    snapshot = tracemalloc.take_snapshot()  # Take a snapshot of the current memory usage\n",
    "    top_stats = snapshot.statistics('lineno')  # Get statistics by line number\n",
    "\n",
    "    print(\"[ Top 10 Memory Usage ]\")\n",
    "    for stat in top_stats[:10]:\n",
    "        print(stat)\n",
    "\n",
    "main()"
   ]
  }
 ],
 "metadata": {
  "kernelspec": {
   "display_name": "base",
   "language": "python",
   "name": "python3"
  },
  "language_info": {
   "codemirror_mode": {
    "name": "ipython",
    "version": 3
   },
   "file_extension": ".py",
   "mimetype": "text/x-python",
   "name": "python",
   "nbconvert_exporter": "python",
   "pygments_lexer": "ipython3",
   "version": "3.12.4"
  }
 },
 "nbformat": 4,
 "nbformat_minor": 5
}
