{
 "cells": [
  {
   "cell_type": "markdown",
   "metadata": {},
   "source": [
    "### Sum of List Elements\n",
    "\n",
    "Write a Python function that calculates the sum of all elements in a given list of integers.\n",
    "\n",
    "**Parameters:** `numbers` (List of integers): The input list containing integers.\n",
    "\n",
    "**Returns:** An integer representing the sum of all elements in the input list.\n",
    "\n",
    "**Input:** `numbers = [1, 2, 3, 4, 5]`\n",
    "\n",
    "**Output:** `15`\n",
    "\n",
    "**Input:** `numbers = [10, -5, 7, 8, -2]`\n",
    "\n",
    "**Output:** `18`"
   ]
  },
  {
   "cell_type": "code",
   "execution_count": 1,
   "metadata": {},
   "outputs": [
    {
     "name": "stdout",
     "output_type": "stream",
     "text": [
      "15\n",
      "18\n"
     ]
    }
   ],
   "source": [
    "def sum_list(numbers):\n",
    "    sum = 0\n",
    "    for i in numbers:\n",
    "        sum +=i\n",
    "    return sum\n",
    "\n",
    "# Alternative solution using built-in sum() function:\n",
    "# def sum_list(numbers):\n",
    "#     return sum(numbers)\n",
    "\n",
    "print(sum_list([1, 2, 3, 4, 5]))\n",
    "print(sum_list([10, -5, 7, 8, -2]))"
   ]
  },
  {
   "cell_type": "markdown",
   "metadata": {},
   "source": [
    "### Largest Element in a List\n",
    "Write a Python function that finds and returns the largest element in a given list of integers.\n",
    "\n",
    "**Parameters:** `numbers` (List of integers): The input list containing integers.\n",
    "\n",
    "**Returns:** An integer representing the largest element in the input list.\n",
    "\n",
    "**Input:** `numbers = [3, 8, 2, 10, 5]`\n",
    "\n",
    "**Output:** `10`\n",
    "\n",
    "**Input:** `numbers = [-5, -10, -2, -1, -7]`\n",
    "\n",
    "**Output:** `-1`"
   ]
  },
  {
   "cell_type": "code",
   "execution_count": 2,
   "metadata": {},
   "outputs": [
    {
     "name": "stdout",
     "output_type": "stream",
     "text": [
      "10\n",
      "-1\n"
     ]
    }
   ],
   "source": [
    "def find_largest(numbers):\n",
    "    if not numbers: # Check if the list is empty\n",
    "        return None\n",
    "    \n",
    "    largest = numbers[0] # Initialize the largest number as the first element\n",
    "    \n",
    "    for i in range(1, len(numbers)):\n",
    "        if numbers[i] > largest:\n",
    "            largest = numbers[i]\n",
    "    \n",
    "    return largest\n",
    "\n",
    "# Alternative solution using built-in max() function:\n",
    "# def find_largest(numbers):\n",
    "#     return max(numbers)\n",
    "\n",
    "print(find_largest([3, 8, 2, 10, 5]))\n",
    "print(find_largest([-5, -10, -2, -1, -7]))    "
   ]
  },
  {
   "cell_type": "markdown",
   "metadata": {},
   "source": [
    "### Remove Duplicates from a List\n",
    "You are given a list of integers. Write a Python program that removes any duplicate elements from the list and returns a new list with only unique elements. The order of elements in the list should be maintained.\n",
    "\n",
    "**Parameters:** `lst` (List of integers): The list of integers from which duplicates should be removed.\n",
    "\n",
    "**Returns:** A list of integers where all duplicates have been removed, preserving the original order.\n",
    "\n",
    "**Input:** `lst = [1, 2, 2, 3, 4, 4, 5]`\n",
    "\n",
    "**Output:** `[1, 2, 3, 4, 5]`\n",
    "\n",
    "**Input:** `lst = [4, 5, 5, 4, 6, 7]`\n",
    "\n",
    "**Output:** `[4, 5, 6, 7]`"
   ]
  },
  {
   "cell_type": "code",
   "execution_count": 3,
   "metadata": {},
   "outputs": [
    {
     "name": "stdout",
     "output_type": "stream",
     "text": [
      "[1, 2, 3, 4, 5]\n",
      "[4, 5, 6, 7]\n"
     ]
    }
   ],
   "source": [
    "def remove_duplicates(lst):\n",
    "    unique_numbers = []\n",
    "    for numbers in lst:\n",
    "        if numbers not in unique_numbers:\n",
    "            unique_numbers.append(numbers)\n",
    "    return unique_numbers\n",
    "\n",
    "print(remove_duplicates([1, 2, 2, 3, 4, 4, 5]))\n",
    "print(remove_duplicates([4, 5, 5, 4, 6, 7]))"
   ]
  },
  {
   "cell_type": "markdown",
   "metadata": {},
   "source": [
    "### Check if All Elements in a List are Unique\n",
    "\n",
    "You are given a list of integers. Write a Python program that checks if all elements in the list are unique. If all elements are unique, return True; otherwise, return False.\n",
    "\n",
    "**Parameters:**\n",
    "\n",
    "`lst` (List of integers): The list of integers to check for uniqueness.\n",
    "\n",
    "**Returns:**\n",
    "\n",
    "A boolean value True if all elements in the list are unique, False otherwise.\n",
    "\n",
    "**Input:** `lst = [1, 2, 3, 4, 5]`\n",
    "\n",
    "**Output:** `True`\n",
    "\n",
    "**Input:** `lst = [1, 2, 3, 3, 4, 5]`\n",
    "\n",
    "**Output:** `False`"
   ]
  },
  {
   "cell_type": "code",
   "execution_count": 4,
   "metadata": {},
   "outputs": [
    {
     "name": "stdout",
     "output_type": "stream",
     "text": [
      "True\n",
      "False\n"
     ]
    }
   ],
   "source": [
    "def check_unique(lst):\n",
    "    unique = True\n",
    "    for i in range(len(lst)):\n",
    "        for j in range(i+1, len(lst)):\n",
    "            if lst[i] == lst[j]:\n",
    "                unique = False\n",
    "                break\n",
    "    return unique\n",
    "\n",
    "# Alternative solution using set() function:\n",
    "# def check_unique(lst):\n",
    "#     return len(lst) == len(set(lst))\n",
    "\n",
    "print(check_unique([1, 2, 3, 4, 5]))\n",
    "print(check_unique([1, 2, 3, 3, 4, 5]))    "
   ]
  },
  {
   "cell_type": "markdown",
   "metadata": {},
   "source": [
    "### Reverse a List (Non-Slicing Approach)\n",
    "\n",
    "You are given a list of integers. Write a Python program that reverses the list without using slicing `(lst[::-1])`. The program should return the reversed list.\n",
    "\n",
    "**Parameters:** `lst` (List of integers): The list of integers to be reversed.\n",
    "\n",
    "**Returns:** A list of integers where the order of elements is reversed from the input list.\n",
    "\n",
    "**Input:** `lst = [1, 2, 3, 4, 5]`\n",
    "\n",
    "**Output:** `[5, 4, 3, 2, 1]`"
   ]
  },
  {
   "cell_type": "code",
   "execution_count": 5,
   "metadata": {},
   "outputs": [
    {
     "name": "stdout",
     "output_type": "stream",
     "text": [
      "[5, 4, 3, 2, 1]\n"
     ]
    }
   ],
   "source": [
    "def reverse_list(lst):\n",
    "    reversed_lst = []\n",
    "    for i in range(len(lst)-1, -1, -1):\n",
    "        reversed_lst.append(lst[i])\n",
    "    return reversed_lst\n",
    "\n",
    "# Alternative solution using list slicing:\n",
    "# def reverse_list(lst):\n",
    "#     return lst[::-1]\n",
    "\n",
    "# Second alternative solution \n",
    "# def reverse_list(lst):\n",
    "#     start = 0\n",
    "#     end = len(lst) - 1\n",
    "#     while start < end:\n",
    "#         lst[start], lst[end] = lst[end], lst[start]\n",
    "#         start += 1\n",
    "#         end -= 1\n",
    "#     return lst\n",
    "\n",
    "print(reverse_list([1, 2, 3, 4, 5]))"
   ]
  },
  {
   "cell_type": "markdown",
   "metadata": {},
   "source": [
    "### Count Even and Odd Numbers in a List\n",
    "\n",
    "You are given a list of integers. Write a Python program that counts and returns the number of even and odd numbers in the list.\n",
    "\n",
    "**Parameters:** `lst` (List of integers): The list of integers where you will count the even and odd numbers.\n",
    "\n",
    "**Returns:** A tuple (`even_count`, `odd_count`) where `even_count` is the number of even numbers and `odd_count` is the number of odd numbers.\n",
    "\n",
    "**Input:** `lst = [1, 2, 3, 4, 5]`\n",
    "\n",
    "**Output:** `(2, 3)`\n",
    "\n",
    "There are `2` even numbers: `2, 4`\n",
    "\n",
    "There are `3` odd numbers: `1, 3, 5`"
   ]
  },
  {
   "cell_type": "code",
   "execution_count": 6,
   "metadata": {},
   "outputs": [
    {
     "name": "stdout",
     "output_type": "stream",
     "text": [
      "(3, 4)\n"
     ]
    }
   ],
   "source": [
    "def count_even_odd(lst):\n",
    "    # Initialize counters for even and odd numbers\n",
    "    even_count = 0\n",
    "    odd_count = 0\n",
    "    \n",
    "    for i in lst:\n",
    "        if i % 2 == 0:\n",
    "            even_count += 1\n",
    "        else:\n",
    "            odd_count += 1\n",
    "    return even_count, odd_count\n",
    "\n",
    "print(count_even_odd([1, 2, 3, 4, 5, 6, 7]))"
   ]
  },
  {
   "cell_type": "markdown",
   "metadata": {},
   "source": [
    "### Check if a List is a Subset of Another List (Brute Force Approach)\n",
    "\n",
    "You are given two lists of integers. Write a Python program that checks whether the first list is a subset of the second list using a brute-force approach, without using the in keyword. \n",
    "\n",
    "A list is considered a subset if all elements of the first list are present in the second list.\n",
    "\n",
    "**Parameters:**\n",
    "\n",
    "`lst1 (List of integers)`: The first list, which is being checked as a subset.\n",
    "\n",
    "`lst2 (List of integers)`: The second list, which is the list to compare against.\n",
    "\n",
    "**Returns:** A boolean value True if lst1 is a subset of lst2, otherwise False.\n",
    "\n",
    "**Input:** `lst1 = [1, 2, 3], lst2 = [1, 2, 3, 4, 5]`\n",
    "\n",
    "**Output:** `True`\n",
    "\n",
    "**Input:** `lst1 = [1, 6], lst2 = [1, 2, 3, 4, 5]`\n",
    "\n",
    "**Output:** `False`\n"
   ]
  },
  {
   "cell_type": "code",
   "execution_count": 7,
   "metadata": {},
   "outputs": [
    {
     "name": "stdout",
     "output_type": "stream",
     "text": [
      "True\n",
      "False\n"
     ]
    }
   ],
   "source": [
    "def is_subset(lst1, lst2):\n",
    "    for i in lst1:\n",
    "        if i not in lst2:\n",
    "            return False\n",
    "    return True\n",
    "\n",
    "print(is_subset([1, 3, 5], [1, 2, 3, 4, 5]))\n",
    "print(is_subset([1, 6], [1, 2, 3, 4, 5]))"
   ]
  },
  {
   "cell_type": "markdown",
   "metadata": {},
   "source": [
    "### Find Maximum Difference Between Two Consecutive Elements (Brute Force Approach)\n",
    "\n",
    "You are given a list of integers. Write a Python program to find the maximum difference between two consecutive elements in the list using a brute-force approach. \n",
    "\n",
    "The difference is defined as the absolute value of the difference between two consecutive elements.\n",
    "\n",
    "**Parameters:** `lst (List of integers)`: A list of integers.\n",
    "\n",
    "**Returns:** An integer representing the maximum difference between two consecutive elements.\n",
    "\n",
    "**Input:** `lst = [1, 7, 3, 10, 5]`\n",
    "\n",
    "**Output:** `7`\n",
    "\n",
    "The maximum difference is between 3 and 10 (i.e., |3 - 10| = 7).\n",
    "\n",
    "**Input:** `lst = [10, 11, 15, 3]`\n",
    "\n",
    "**Output:** `12`\n",
    "\n",
    "The maximum difference is between 15 and 3 (i.e., |15 - 3| = 12)."
   ]
  },
  {
   "cell_type": "code",
   "execution_count": 8,
   "metadata": {},
   "outputs": [
    {
     "name": "stdout",
     "output_type": "stream",
     "text": [
      "7\n",
      "12\n"
     ]
    }
   ],
   "source": [
    "def max_consecutive_difference(lst):\n",
    "    max_diff = 0\n",
    "    for i in range(len(lst)-1):\n",
    "        diff = abs(lst[i] - lst[i + 1])\n",
    "        if diff > max_diff:\n",
    "            max_diff = diff\n",
    "    return max_diff\n",
    "\n",
    "print(max_consecutive_difference([1, 7, 3, 10, 5]))\n",
    "print(max_consecutive_difference([10, 11, 15, 3]))"
   ]
  },
  {
   "cell_type": "markdown",
   "metadata": {},
   "source": [
    "### Merge Two Sorted Lists\n",
    "\n",
    "You are given two sorted lists of integers. \n",
    "\n",
    "Write a Python function to merge these two sorted lists into one sorted list.\n",
    "\n",
    "The resulting list should also be in non-decreasing order.\n",
    "\n",
    "**Parameters:**\n",
    "\n",
    "`list1 (List of integers):` The first sorted list.\n",
    "\n",
    "`list2 (List of integers):` The second sorted list.\n",
    "\n",
    "**Returns:** A single list of integers, containing all elements from list1 and list2, sorted in non-decreasing order.\n",
    "\n",
    "**Input:** `list1 = [1, 3, 5], list2 = [2, 4, 6]`\n",
    "**Output:** `[1, 2, 3, 4, 5, 6]`\n",
    "\n",
    "**Input:** `list1 = [1, 4, 7], list2 = [2, 3, 5, 8]`\n",
    "**Output:** `[1, 2, 3, 4, 5, 7, 8]`"
   ]
  },
  {
   "cell_type": "code",
   "execution_count": 9,
   "metadata": {},
   "outputs": [
    {
     "name": "stdout",
     "output_type": "stream",
     "text": [
      "[1, 2, 3, 4, 5, 6, 7, 8]\n"
     ]
    }
   ],
   "source": [
    "def merge_two_sorted_lists(lst1, lst2):\n",
    "    merged_lst = [] # Initialize the merged list\n",
    "    i = j = 0 # Initialize pointers for both lists\n",
    "    \n",
    "    while i < len(lst1) and j < len(lst2):\n",
    "        if lst1[i] < lst2[j]:\n",
    "            merged_lst.append(lst1[i])\n",
    "            i += 1\n",
    "        else:\n",
    "            merged_lst.append(lst2[j])\n",
    "            j += 1\n",
    "    \n",
    "    while i < len(lst1):\n",
    "        merged_lst.append(lst1[i])\n",
    "        i += 1\n",
    "    \n",
    "    while j < len(lst2):\n",
    "        merged_lst.append(lst2[j])\n",
    "        j += 1\n",
    "    \n",
    "    return merged_lst\n",
    "\n",
    "# Alternative solution using built-in sorted() function:\n",
    "# def merge_two_sorted_lists(lst1, lst2):\n",
    "#     return sorted(lst1 + lst2)\n",
    "\n",
    "print(merge_two_sorted_lists([1, 3, 4, 5], [2, 6, 7, 8]))"
   ]
  },
  {
   "cell_type": "markdown",
   "metadata": {},
   "source": [
    "### Rotate a List (Without Slicing)\n",
    "\n",
    "You are given a list of integers and an integer `k`. \n",
    "\n",
    "Write a Python function to rotate the list to the right by `k` positions **without using slicing.** \n",
    "\n",
    "A rotation shifts elements from the end of the list to the front.\n",
    "\n",
    "**Parameters:**\n",
    "\n",
    "`lst (List of integers):` The list to be rotated.\n",
    "\n",
    "`k (Integer):` The number of positions to rotate the list.\n",
    "\n",
    "**Returns:** A list of integers rotated by k positions.\n",
    "\n",
    "**Input:** `lst = [1, 2, 3, 4, 5], k = 2`\n",
    "\n",
    "**Output:** `[4, 5, 1, 2, 3]`\n",
    "\n",
    "**Input:** `lst = [10, 20, 30, 40, 50], k = 3`\n",
    "\n",
    "**Output:** `[30, 40, 50, 10, 20]`"
   ]
  },
  {
   "cell_type": "code",
   "execution_count": 10,
   "metadata": {},
   "outputs": [
    {
     "name": "stdout",
     "output_type": "stream",
     "text": [
      "[4, 5, 1, 2, 3]\n",
      "[30, 40, 50, 10, 20]\n"
     ]
    }
   ],
   "source": [
    "def rotate_list(lst, k):\n",
    "    n = len(lst)\n",
    "    k = k % n  # Normalize k if it's larger than the list length\n",
    "\n",
    "    if not lst:  # Handling the case where the list is empty\n",
    "        return []\n",
    "    \n",
    "    # Step 1: Reverse the entire list\n",
    "    start, end = 0, n - 1\n",
    "    while start < end:\n",
    "        lst[start], lst[end] = lst[end], lst[start]\n",
    "        start += 1\n",
    "        end -= 1\n",
    "\n",
    "    # Step 2: Reverse the first k elements\n",
    "    start, end = 0, k - 1\n",
    "    while start < end:\n",
    "        lst[start], lst[end] = lst[end], lst[start]\n",
    "        start += 1\n",
    "        end -= 1\n",
    "\n",
    "    # Step 3: Reverse the remaining n-k elements\n",
    "    start, end = k, n - 1\n",
    "    while start < end:\n",
    "        lst[start], lst[end] = lst[end], lst[start]\n",
    "        start += 1\n",
    "        end -= 1\n",
    "\n",
    "    return lst\n",
    "\n",
    "# Alternative solution\n",
    "\n",
    "# def rotate_list(lst, k):\n",
    "#     # Handling the case where the list is empty\n",
    "#     if not lst:\n",
    "#         return []\n",
    "    \n",
    "#     # Modulo to handle the case where k is greater than the length of the list\n",
    "#     k = k % len(lst)\n",
    "    \n",
    "#     # Brute force approach using loops\n",
    "#     for _ in range(k):\n",
    "#         last_element = lst.pop()  # Remove the last element\n",
    "#         lst.insert(0, last_element)  # Insert it at the front\n",
    "    \n",
    "#     return lst\n",
    "\n",
    "print(rotate_list([1, 2, 3, 4, 5], 2))\n",
    "print(rotate_list([10, 20, 30, 40, 50], 3))"
   ]
  },
  {
   "cell_type": "markdown",
   "metadata": {},
   "source": [
    "### Merge Lists to Dictionary\n",
    "\n",
    "Design a Python function named merge_lists_to_dictionary to merge two lists into a dictionary where elements from the first list act as keys and elements from the second list act as values.\n",
    "\n",
    "**Parameters:**\n",
    "\n",
    "`keys (List):` A list of keys.\n",
    "\n",
    "`values (List):` A list of values.\n",
    "\n",
    "**Returns:** A dictionary containing merged key-value pairs.\n",
    "\n",
    "**Input:** `keys = ['a', 'b', 'c'], values = [1, 2, 3]`\n",
    "\n",
    "**Output:** `{'a': 1, 'b': 2, 'c': 3}`\n",
    "\n",
    "**Input:** `keys = ['x', 'y', 'z'], values = [10, 20, 30]`\n",
    "\n",
    "**Output:** `{'x': 10, 'y': 20, 'z': 30}`"
   ]
  },
  {
   "cell_type": "code",
   "execution_count": 11,
   "metadata": {},
   "outputs": [
    {
     "name": "stdout",
     "output_type": "stream",
     "text": [
      "{'a': 1, 'b': 2, 'c': 3}\n"
     ]
    }
   ],
   "source": [
    "def merge_lists_to_dict(keys, values):\n",
    "    \n",
    "    if len(keys) != len(values): # Check if the lists have the same length\n",
    "        return False\n",
    "    \n",
    "    dictionary = {} # Initialize an empty dictionary to store the key-value pairs\n",
    "    \n",
    "    for i in range(len(keys)):\n",
    "        dictionary[keys[i]] = values[i]    \n",
    "    \n",
    "    return dictionary\n",
    "\n",
    "x = ['a', 'b', 'c']\n",
    "y = [1, 2, 3]\n",
    "\n",
    "print(merge_lists_to_dict(x, y))"
   ]
  },
  {
   "cell_type": "markdown",
   "metadata": {},
   "source": [
    "### Merge Three Dictionaries\n",
    "\n",
    "Design a Python function named merge_three_dictionaries to merge exactly three dictionaries into one.\n",
    "\n",
    "**Parameters:**\n",
    "\n",
    "`dict1 (Dictionary)`: The first dictionary to be merged.\n",
    "\n",
    "`dict2 (Dictionary)`: The second dictionary to be merged.\n",
    "\n",
    "`dict3 (Dictionary)`: The third dictionary to be merged.\n",
    "\n",
    "**Returns:** A single dictionary containing all key-value pairs from the three input dictionaries.\n",
    "\n",
    "**Input**: `({'a': 1, 'b': 2}, {'c': 3, 'd': 4}, {'e': 5, 'f': 6})`\n",
    "\n",
    "**Output**: `{'a': 1, 'b': 2, 'c': 3, 'd': 4, 'e': 5, 'f': 6}`\n",
    "\n",
    "**Input**: `({'x': 10, 'y': 20}, {'z': 30}, {'a': 40, 'b': 50})`\n",
    "\n",
    "**Output**: `{'x': 10, 'y': 20, 'z': 30, 'a': 40, 'b': 50}`"
   ]
  },
  {
   "cell_type": "code",
   "execution_count": 12,
   "metadata": {},
   "outputs": [],
   "source": [
    "def merge_three_dictionaries(dict1, dict2, dict3):\n",
    "    # Create a new dictionary that starts with the content of dict1\n",
    "    merged_dict = dict1.copy()\n",
    "    \n",
    "    # Add the key-value pairs from dict2\n",
    "    for key, value in dict2.items():\n",
    "        merged_dict[key] = value\n",
    "    \n",
    "    # Add the key-value pairs from dict3\n",
    "    for key, value in dict3.items():\n",
    "        merged_dict[key] = value\n",
    "    \n",
    "    return merged_dict\n",
    "\n",
    "# Alternative solution using the update() method\n",
    "# def merge_three_dictionsaries(dict1, dict2, dict3):\n",
    "#     merged_dict = dict1.copy()\n",
    "#     merged_dict.update(dict2)\n",
    "#     merged_dict.update(dict3)\n",
    "#     return merged_dict"
   ]
  },
  {
   "cell_type": "markdown",
   "metadata": {},
   "source": [
    "### Words Frequency in a Sentence\n",
    "\n",
    "Design a Python function named count_word_frequency to count the frequency of words in a sentence and store the counts in a dictionary.\n",
    "\n",
    "**Parameters:** `sentence (str):` The input sentence where you need to count the frequency of each word.\n",
    "\n",
    "**Returns:** A dictionary where the keys are words from the sentence and the values are their corresponding frequencies.\n",
    "\n",
    "**Input:** `\"hello world hello\"`\n",
    "\n",
    "**Output:** `{'hello': 2, 'world': 1}`\n",
    "\n",
    "**Input:** `\"the quick brown fox jumps over the lazy dog\"`\n",
    "\n",
    "**Output:** `{'the': 2, 'quick': 1, 'brown': 1, 'fox': 1, 'jumps': 1, 'over': 1, 'lazy': 1, 'dog': 1}`"
   ]
  },
  {
   "cell_type": "code",
   "execution_count": 13,
   "metadata": {},
   "outputs": [
    {
     "name": "stdout",
     "output_type": "stream",
     "text": [
      "{'hello': 2, 'world': 1}\n",
      "{}\n",
      "{'the': 2, 'quick': 1, 'brown': 1, 'fox': 1, 'jumps': 1, 'over': 1, 'lazy': 1, 'dog': 1}\n"
     ]
    }
   ],
   "source": [
    "def count_word_frequency(sentence):\n",
    "    words = sentence.split()\n",
    "    frequency = {}\n",
    "    for word in words:\n",
    "        if word in frequency:\n",
    "            frequency[word] += 1\n",
    "        else:\n",
    "            frequency[word] = 1\n",
    "        \n",
    "    return frequency\n",
    "\n",
    "print(count_word_frequency('hello world hello'))\n",
    "print(count_word_frequency(''))\n",
    "print(count_word_frequency('the quick brown fox jumps over the lazy dog'))"
   ]
  },
  {
   "cell_type": "markdown",
   "metadata": {},
   "source": [
    "\n",
    "### Check if Tuple is Palindromic\n",
    "Design a Python function named `is_palindromic_tuple` to check if a tuple is palindromic, meaning it reads the same forwards and backwards.\n",
    "\n",
    "**Parameters:** `tup (tuple):` The input tuple that you need to check for palindromic property.\n",
    "\n",
    "**Returns:** `True` if the tuple is palindromic, `False` otherwise.\n",
    "\n",
    "**Input:** `(1, 2, 3, 2, 1)`\n",
    "\n",
    "**Output:** `True`\n",
    "\n",
    "**Input:** `('a', 'b', 'c', 'b', 'a')`\n",
    "\n",
    "**Output:** `True`\n",
    "\n",
    "**Input:** `(1, 2, 3, 4, 5)`\n",
    "\n",
    "**Output:** `False`\n",
    "\n",
    "**Input:** `('a',)`\n",
    "\n",
    "**Output:** `True`"
   ]
  },
  {
   "cell_type": "code",
   "execution_count": 14,
   "metadata": {},
   "outputs": [
    {
     "name": "stdout",
     "output_type": "stream",
     "text": [
      "True\n",
      "True\n",
      "False\n",
      "True\n"
     ]
    }
   ],
   "source": [
    "def is_palindrome_tuple(tup):\n",
    "    start = 0\n",
    "    end = len(tup) - 1\n",
    "    \n",
    "    while start < end:\n",
    "        if tup[start] != tup[end]:\n",
    "            return False\n",
    "        start += 1\n",
    "        end -= 1\n",
    "    return True\n",
    "\n",
    "# Alternative solution using slicing\n",
    "# def is_palindromic_tuple(tup):\n",
    "#     return tup == tup[::-1]\n",
    "\n",
    "print(is_palindrome_tuple((1, 2, 3, 2, 1)))\n",
    "print(is_palindrome_tuple(('a', 'b', 'c', 'b', 'a')))\n",
    "print(is_palindrome_tuple((1, 2, 3, 4, 5)))\n",
    "print(is_palindrome_tuple(('a', )))"
   ]
  },
  {
   "cell_type": "markdown",
   "metadata": {},
   "source": [
    "### Merge Dictionaries with Overlapping Keys\n",
    "\n",
    "Design a Python function named `merge_dicts_with_overlapping_keys` that merges multiple dictionaries into a single dictionary. \n",
    "\n",
    "If a key appears in more than one dictionary, sum up their values.\n",
    "\n",
    "**Parameters:** `dicts (list):` A list of dictionaries where keys might overlap.\n",
    "\n",
    "**Returns:** A single dictionary where values for overlapping keys are summed.\n",
    "\n",
    "**Input:** `[{'a': 1, 'b': 2}, {'b': 3, 'c': 4}, {'c': 5, 'd': 6}]`\n",
    "\n",
    "**Output:** `{'a': 1, 'b': 5, 'c': 9, 'd': 6}`\n",
    "\n",
    "**Input:** `[{'x': 10, 'y': 20}, {'y': 30, 'z': 40}, {'z': 50, 'x': 60}]`\n",
    "\n",
    "**Output:** `{'x': 70, 'y': 50, 'z': 90}`"
   ]
  },
  {
   "cell_type": "code",
   "execution_count": 15,
   "metadata": {},
   "outputs": [
    {
     "name": "stdout",
     "output_type": "stream",
     "text": [
      "{'a': 1, 'b': 5, 'c': 9, 'd': 6}\n"
     ]
    }
   ],
   "source": [
    "def merge_dicts_with_overlapping_keys(dicts):\n",
    "    merged_dict = {}\n",
    "    for dictionary in dicts:\n",
    "        for key, value in dictionary.items():\n",
    "            if key in merged_dict:\n",
    "                merged_dict[key] += value\n",
    "            else:\n",
    "                merged_dict[key] = value\n",
    "    return merged_dict\n",
    "\n",
    "print(merge_dicts_with_overlapping_keys([{'a': 1, 'b': 2}, {'b': 3, 'c': 4}, {'c': 5, 'd': 6}]))"
   ]
  }
 ],
 "metadata": {
  "kernelspec": {
   "display_name": "Python 3",
   "language": "python",
   "name": "python3"
  },
  "language_info": {
   "codemirror_mode": {
    "name": "ipython",
    "version": 3
   },
   "file_extension": ".py",
   "mimetype": "text/x-python",
   "name": "python",
   "nbconvert_exporter": "python",
   "pygments_lexer": "ipython3",
   "version": "3.12.0"
  }
 },
 "nbformat": 4,
 "nbformat_minor": 2
}
