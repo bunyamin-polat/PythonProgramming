{
 "cells": [
  {
   "cell_type": "markdown",
   "id": "c92096a9",
   "metadata": {},
   "source": [
    "## Next Greater Element\n",
    "\n",
    "You are given an array a of size n. For each element in the array, find and print the Next Greater Element (NGE). The Next Greater Element for a given element x is the first element that is greater than x on its right side in the array. If no such element exists, return -1 for that position.\n",
    "\n",
    "**Parameters:**\n",
    "\n",
    "`a (List of integers):` The array of integers where you will search for the Next Greater Element.\n",
    "\n",
    "`n (Integer):` The size of the array a.\n",
    "\n",
    "**Returns:**\n",
    "\n",
    "A list of integers where each element represents the Next Greater Element of the corresponding element in the input array. If no such greater element exists, return -1.\n",
    "\n",
    "Examples:\n",
    "\n",
    "    Input:\n",
    "\n",
    "    a = [4, 5, 2, 25]\n",
    "\n",
    "    n = 4\n",
    "\n",
    "    Output:\n",
    "\n",
    "    [5, 25, 25, -1]"
   ]
  },
  {
   "cell_type": "code",
   "execution_count": 2,
   "id": "f9d2aa77",
   "metadata": {},
   "outputs": [],
   "source": [
    "def next_greater_element(a, n):\n",
    "    \n",
    "    stack = [] # Stack to keep track of elements\n",
    "    result = [-1] * n # Initialize result with -1\n",
    "    \n",
    "    for i in range(n - 1, -1, -1): # Traverse the array from right to left\n",
    "        while stack and stack[-1] <= a[i]: # Pop elements from stack that are less than or equal to a[i]\n",
    "            stack.pop() # This ensures that we only keep elements that are greater than a[i]\n",
    "        if stack:\n",
    "            result[i] = stack[-1] # If stack is not empty, the top element is the Next Greater Element\n",
    "            \n",
    "        stack.append(a[i])\n",
    "\n",
    "    return result"
   ]
  },
  {
   "cell_type": "code",
   "execution_count": 3,
   "id": "17a12dfa",
   "metadata": {},
   "outputs": [
    {
     "name": "stdout",
     "output_type": "stream",
     "text": [
      "Next Greater Element: [5, 10, 10, -1, -1]\n"
     ]
    }
   ],
   "source": [
    "result = next_greater_element([4, 5, 2, 10, 8], 5) # Example usage\n",
    "print(\"Next Greater Element:\", result)"
   ]
  },
  {
   "cell_type": "markdown",
   "id": "d363f094",
   "metadata": {},
   "source": [
    "## Valid Parenthesis\n",
    "\n",
    "Problem statement You're given a string `'S'` consisting of `\"{\", \"}\", \"(\", \")\", \"[\" and \"]\"` . Return true if the given string `'S'` is balanced, else return false. \n",
    "\n",
    "For example: `'S' = \"{}()\"`. There is always an opening brace before a closing brace i.e. `'{' before '}', '(' before ').` So the `'S'` is Balanced."
   ]
  },
  {
   "cell_type": "code",
   "execution_count": 4,
   "id": "172626d7",
   "metadata": {},
   "outputs": [],
   "source": [
    "def is_balanced(S):\n",
    "    stack = [] # Stack to keep track of opening braces\n",
    "    opening_braces = {'{', '(', '['} # Set of opening braces\n",
    "    matching_braces = {')': '(', '}': '{', ']': '['} # Mapping of closing to opening braces\n",
    "    \n",
    "    for char in S:\n",
    "        if char in opening_braces:\n",
    "            stack.append(char) # Push opening braces onto the stack\n",
    "        elif char in matching_braces:\n",
    "            if not stack or stack[-1] != matching_braces[char]:\n",
    "                return False # If stack is empty or top doesn't match, it's unbalanced\n",
    "            stack.pop() # Pop the matching opening brace\n",
    "            \n",
    "    return len(stack) == 0 # If stack is empty, all braces are balanced"
   ]
  },
  {
   "cell_type": "code",
   "execution_count": 6,
   "id": "3741defd",
   "metadata": {},
   "outputs": [
    {
     "name": "stdout",
     "output_type": "stream",
     "text": [
      "Is the string balanced? True\n"
     ]
    }
   ],
   "source": [
    "is_balanced_result = is_balanced(\"{}()\") # Example usage\n",
    "print(\"Is the string balanced?\", is_balanced_result)"
   ]
  },
  {
   "cell_type": "code",
   "execution_count": 7,
   "id": "c827342c",
   "metadata": {},
   "outputs": [
    {
     "name": "stdout",
     "output_type": "stream",
     "text": [
      "Is the string balanced? False\n"
     ]
    }
   ],
   "source": [
    "is_balanced_result = is_balanced(\"{}(\") # Example usage\n",
    "print(\"Is the string balanced?\", is_balanced_result)"
   ]
  },
  {
   "cell_type": "markdown",
   "id": "f7f660cc",
   "metadata": {},
   "source": [
    "## Remove Consecutive Duplicates\n",
    "\n",
    "You are given a string s consisting of lowercase English letters. A duplicate removal consists of choosing two adjacent and equal letters and removing them. \n",
    "\n",
    "We repeatedly make duplicate removals on s until we no longer can. Return the final string after all such duplicate removals have been made. It can be proven that the answer is unique. \n",
    "\n",
    "**Example 1:** \n",
    "\n",
    "    Input: s = \"abbaca\" \n",
    "    Output: \"ca\" \n",
    "\n",
    "Explanation: For example, in \"abbaca\" we could remove \"bb\" since the letters are adjacent and equal, and this is the only possible move.  \n",
    "\n",
    "The result of this move is that the string is \"aaca\", of which only \"aa\" is possible, so the final string is \"ca\". \n",
    "\n",
    "**Example 2:** \n",
    "\n",
    "    Input: s = \"azxxzy\" \n",
    "    Output: \"ay\" "
   ]
  },
  {
   "cell_type": "code",
   "execution_count": 13,
   "id": "1a51e125",
   "metadata": {},
   "outputs": [],
   "source": [
    "def remove_duplicates(arr):\n",
    "    stack = [] # Stack to keep track of seen elements\n",
    "    \n",
    "    for item in arr:\n",
    "        if stack and stack[-1] == item:\n",
    "            stack.pop() # If the top of the stack is the same as the current item, pop it\n",
    "        else:\n",
    "            stack.append(item)\n",
    "            \n",
    "    return ''.join(stack) # Join the stack to form the result string"
   ]
  },
  {
   "cell_type": "code",
   "execution_count": 17,
   "id": "f8820d5c",
   "metadata": {},
   "outputs": [
    {
     "name": "stdout",
     "output_type": "stream",
     "text": [
      "String after removing duplicates: \n"
     ]
    }
   ],
   "source": [
    "remove_duplicates_result = remove_duplicates(\"aabbccddeeff\") # Example usage\n",
    "print(\"String after removing duplicates:\", remove_duplicates_result)"
   ]
  },
  {
   "cell_type": "code",
   "execution_count": 18,
   "id": "1e729320",
   "metadata": {},
   "outputs": [
    {
     "name": "stdout",
     "output_type": "stream",
     "text": [
      "String after removing duplicates: ay\n"
     ]
    }
   ],
   "source": [
    "remove_duplicates_result = remove_duplicates(\"azxxzy\") # Example usage\n",
    "print(\"String after removing duplicates:\", remove_duplicates_result)"
   ]
  },
  {
   "cell_type": "markdown",
   "id": "eb3445c6",
   "metadata": {},
   "source": [
    "## Reverse Array using Stack\n",
    "\n",
    "You are given an array of size n. The task is to reverse the array using a stack. A stack is a Last In First Out (LIFO) data structure, meaning the last element added to the stack will be the first element removed.\n",
    "\n",
    "**Input Parameters:**\n",
    "\n",
    "`arr (List of integers):` The array to reverse.\n",
    "\n",
    "`n (Integer): `The size of the array arr.\n",
    "\n",
    "**Output:** Return the reversed array as a list.\n",
    "\n",
    "**Example:**\n",
    "\n",
    "    Input:\n",
    "\n",
    "    arr = [1, 2, 3, 4, 5]\n",
    "\n",
    "    n = 5\n",
    "\n",
    "    Output:\n",
    "\n",
    "    [5, 4, 3, 2, 1]"
   ]
  },
  {
   "cell_type": "code",
   "execution_count": 19,
   "id": "fbff869a",
   "metadata": {},
   "outputs": [],
   "source": [
    "def reverse_array_using_stack(arr, n):\n",
    "    \n",
    "    stack = [] # Stack to hold the elements\n",
    "    \n",
    "    for i in range(n):\n",
    "        stack.append(arr[i]) # Push all elements onto the stack\n",
    "\n",
    "    for i in range(n):\n",
    "        arr[i] = stack.pop()\n",
    "\n",
    "    return arr"
   ]
  },
  {
   "cell_type": "code",
   "execution_count": 20,
   "id": "04e13116",
   "metadata": {},
   "outputs": [
    {
     "name": "stdout",
     "output_type": "stream",
     "text": [
      "Reversed array: [5, 4, 3, 2, 1]\n"
     ]
    }
   ],
   "source": [
    "reversed_array = reverse_array_using_stack([1, 2, 3, 4, 5], 5) # Example usage\n",
    "print(\"Reversed array:\", reversed_array)"
   ]
  },
  {
   "cell_type": "markdown",
   "id": "87e89760",
   "metadata": {},
   "source": [
    "## Next Smaller Element\n",
    "\n",
    "Given an array arr of size n, find the Next Smaller Element (NSE) for every element in the array. The Next Smaller Element for an element x is the first element on the right side of x in the array that is smaller than x.\n",
    "\n",
    "If no smaller element exists to the right of x, consider the next smaller element as -1.\n",
    "\n",
    "**Input Parameters:**\n",
    "\n",
    "`arr (List[int]):` An array of integers.\n",
    "\n",
    "**Output:**\n",
    "\n",
    "`List[int]:` An array where the i-th element is the Next Smaller Element for arr[i].\n",
    "\n",
    "**Example:**\n",
    "\n",
    "    Input: arr = [10, 20, 30, 40]\n",
    "    Output: [-1, -1, -1, -1]\n",
    "    \n",
    "    Input: arr = [1, 3, 2, 4]\n",
    "    Output: [-1, 2, -1, -1]\n",
    "    \n",
    "    Input: arr = [4, 5, 2, 10, 8]\n",
    "    Output: [2, 2, -1, 8, -1]"
   ]
  },
  {
   "cell_type": "code",
   "execution_count": 25,
   "id": "7c500980",
   "metadata": {},
   "outputs": [],
   "source": [
    "def next_smaller_element(arr, n):\n",
    "    stack = [] # Stack to keep track of elements\n",
    "    result = [-1] * n # Initialize result with -1\n",
    "\n",
    "    for i in range(n - 1, -1, -1): # Traverse the array from right to left\n",
    "        while stack and stack[-1] >= arr[i]: # Pop elements from stack that are greater than or equal to arr[i]\n",
    "            stack.pop() # This ensures that we only keep elements that are smaller than arr[i]\n",
    "        if stack:\n",
    "            result[i] = stack[-1] # If stack is not empty, the top element is the Next Smaller Element\n",
    "            \n",
    "        stack.append(arr[i])\n",
    "\n",
    "    return result"
   ]
  },
  {
   "cell_type": "code",
   "execution_count": 26,
   "id": "41885b18",
   "metadata": {},
   "outputs": [
    {
     "name": "stdout",
     "output_type": "stream",
     "text": [
      "Next smaller elements: [2, 2, -1, 8, -1]\n"
     ]
    }
   ],
   "source": [
    "smaller_elements = next_smaller_element([4, 5, 2, 10, 8], 5) # Example usage\n",
    "print(\"Next smaller elements:\", smaller_elements)"
   ]
  },
  {
   "cell_type": "code",
   "execution_count": 27,
   "id": "9bc3236b",
   "metadata": {},
   "outputs": [
    {
     "name": "stdout",
     "output_type": "stream",
     "text": [
      "Next smaller elements: [-1, -1, -1, -1]\n"
     ]
    }
   ],
   "source": [
    "smaller_elements = next_smaller_element([10, 20, 30, 40], 4) # Example usage\n",
    "print(\"Next smaller elements:\", smaller_elements)"
   ]
  },
  {
   "cell_type": "markdown",
   "id": "272ebb73",
   "metadata": {},
   "source": [
    "\n",
    "## Evaluate Postfix Expression\n",
    "\n",
    "An expression is called a postfix expression if the operator appears after its operands. You are given a postfix expression as a list of strings, where each string is either an operand (integer) or an operator (+, -, *, /). The task is to evaluate the expression and return the result. Operands will always be integers, and the division should truncate towards zero.\n",
    "\n",
    "**Input Parameters:**\n",
    "\n",
    "`expression (List[str]):` A list of strings representing the postfix expression.\n",
    "\n",
    "**Output:**\n",
    "\n",
    "`int:` The result of evaluating the postfix expression.\n",
    "\n",
    "**Example:**\n",
    "\n",
    "    Input: expression = [\"4\", \"13\", \"5\", \"/\", \"+\"]\n",
    "    Output: 6\n",
    "    \n",
    "    Input: expression = [\"2\", \"1\", \"+\", \"3\", \"*\"]\n",
    "    Output: 9\n",
    "    \n",
    "    Input: expression = [\"10\", \"6\", \"9\", \"3\", \"+\", \"-11\", \"*\", \"/\", \"*\", \"17\", \"+\", \"5\", \"+\"]\n",
    "    Output: 22\n"
   ]
  },
  {
   "cell_type": "code",
   "execution_count": 44,
   "id": "e48d8f90",
   "metadata": {},
   "outputs": [],
   "source": [
    "def evaluate_postfix(expression):\n",
    "    stack = []\n",
    "    for token in expression:\n",
    "        if token not in \"+-*/\":\n",
    "            stack.append(int(token))\n",
    "        else:\n",
    "            right, left = stack.pop(), stack.pop()\n",
    "            if token == \"+\":\n",
    "                stack.append(left + right)\n",
    "            elif token == \"-\":\n",
    "                stack.append(left - right)\n",
    "            elif token == \"*\":\n",
    "                stack.append(left * right)\n",
    "            else:\n",
    "                stack.append(int(float(left) / right))\n",
    "    return stack.pop()"
   ]
  },
  {
   "cell_type": "code",
   "execution_count": 45,
   "id": "9dbc6c7a",
   "metadata": {},
   "outputs": [
    {
     "name": "stdout",
     "output_type": "stream",
     "text": [
      "Postfix evaluation result: 9\n"
     ]
    }
   ],
   "source": [
    "result = evaluate_postfix([\"2\", \"1\", \"+\", \"3\", \"*\"]) # Example usage\n",
    "print(\"Postfix evaluation result:\", result)"
   ]
  },
  {
   "cell_type": "code",
   "execution_count": 46,
   "id": "aea79e28",
   "metadata": {},
   "outputs": [
    {
     "name": "stdout",
     "output_type": "stream",
     "text": [
      "Postfix evaluation result: 22\n"
     ]
    }
   ],
   "source": [
    "result = evaluate_postfix([\"10\", \"6\", \"9\", \"3\", \"+\", \"-11\", \"*\", \"/\", \"*\", \"17\", \"+\", \"5\", \"+\"]) # Example usage\n",
    "print(\"Postfix evaluation result:\", result)"
   ]
  },
  {
   "cell_type": "markdown",
   "id": "0234952a",
   "metadata": {},
   "source": [
    "## Winner of the Circular Game\n",
    "\n",
    "There are `n` friends sitting in a circle numbered from `1 to n`. They play a game with the following rules:\n",
    "\n",
    "1. Start at the 1st friend.\n",
    "\n",
    "2. Count `k` friends in a clockwise direction, including the starting friend. The counting wraps around the circle.\n",
    "\n",
    "3. The friend at the `k-th` position leaves the circle.\n",
    "\n",
    "4. If more than one friend remains, continue from the friend immediately clockwise of the one who just left.\n",
    "\n",
    "5. The last remaining friend is the winner.\n",
    "\n",
    "Given the number of friends `n` and an integer `k`, return the winner of the game.\n",
    "\n",
    "**Input:**\n",
    "\n",
    "`n (1 ≤ n ≤ 10^5):` The number of friends.\n",
    "\n",
    "`k (1 ≤ k ≤ 10^5):` The counting number.\n",
    "\n",
    "**Output:** An integer representing the winner of the game.\n",
    "\n",
    "**Example:**\n",
    "\n",
    "    Input: n = 5, k = 2\n",
    "    Output: 3\n",
    " \n",
    "**Explanation:**\n",
    "\n",
    "1) Start at friend 1.\n",
    "2) Count 2 friends clockwise, which are friends 1 and 2.\n",
    "3) Friend 2 leaves the circle. Next start is friend 3.\n",
    "4) Count 2 friends clockwise, which are friends 3 and 4.\n",
    "5) Friend 4 leaves the circle. Next start is friend 5.\n",
    "6) Count 2 friends clockwise, which are friends 5 and 1.\n",
    "7) Friend 1 leaves the circle. Next start is friend 3.\n",
    "8) Count 2 friends clockwise, which are friends 3 and 5.\n",
    "9) Friend 5 leaves the circle. Only friend 3 is left, so they are the winner."
   ]
  },
  {
   "cell_type": "code",
   "execution_count": 58,
   "id": "e5c055c2",
   "metadata": {},
   "outputs": [],
   "source": [
    "from collections import deque\n",
    "\n",
    "def find_winner(n, k):\n",
    "    \"\"\"\n",
    "    Find the winner of the circle game.\n",
    "\n",
    "    Parameters:\n",
    "    n (int): The number of friends.\n",
    "    k (int): The counting number.\n",
    "\n",
    "    Returns:\n",
    "    int: The number of the winning friend.\n",
    "    \"\"\"\n",
    "    # Implement the function\n",
    "    queue = deque(range(1, n + 1))\n",
    "    while len(queue) > 1:\n",
    "        queue.rotate(-(k - 1)) # Rotate the queue to the left by k-1 positions\n",
    "        queue.popleft() # Remove the k-th friend\n",
    "    return queue.pop()\n",
    "\n",
    "# Alternative implementation using a list\n",
    "def find_winner_list(n, k):\n",
    "    \"\"\"\n",
    "    Find the winner of the circle game using a list.\n",
    "\n",
    "    Parameters:\n",
    "    n (int): The number of friends.\n",
    "    k (int): The counting number.\n",
    "\n",
    "    Returns:\n",
    "    int: The number of the winning friend.\n",
    "    \"\"\"\n",
    "    friends = list(range(1, n + 1))\n",
    "    winner = 0\n",
    "    while len(friends) > 1:\n",
    "        winner = (winner + k - 1) % len(friends) # Find the index of the k-th friend\n",
    "        friends.pop(winner) # Remove the k-th friend\n",
    "    return friends[0]"
   ]
  },
  {
   "cell_type": "code",
   "execution_count": 59,
   "id": "d348ac95",
   "metadata": {},
   "outputs": [
    {
     "name": "stdout",
     "output_type": "stream",
     "text": [
      "The winner is friend number: 3\n"
     ]
    }
   ],
   "source": [
    "winner = find_winner(5, 2) # Example usage\n",
    "print(\"The winner is friend number:\", winner)\n"
   ]
  },
  {
   "cell_type": "code",
   "execution_count": 60,
   "id": "9d045660",
   "metadata": {},
   "outputs": [
    {
     "name": "stdout",
     "output_type": "stream",
     "text": [
      "The winner is friend number: 1\n"
     ]
    }
   ],
   "source": [
    "winner = find_winner(6, 3) # Example usage\n",
    "print(\"The winner is friend number:\", winner)"
   ]
  },
  {
   "cell_type": "markdown",
   "id": "dba34e23",
   "metadata": {},
   "source": [
    "## Largest Rectangle in Histogram\n",
    "\n",
    "Given an array of integers heights representing the histogram's bar height where the width of each bar is 1, return the area of the largest rectangle that can be formed in the histogram.\n",
    "\n",
    "**Parameters:**\n",
    "\n",
    "`heights (List[int]):` A list of integers where each integer represents the height of a bar in the histogram.\n",
    "\n",
    "**Return Values:**\n",
    "\n",
    "`int:` The area of the largest rectangle that can be formed in the histogram.\n",
    "\n",
    "**Example:**\n",
    "\n",
    "    Input: heights = [2, 1, 5, 6, 2, 3] \n",
    "    Output: 10 \n",
    "    Explanation: The largest rectangle has an area of 10 and spans heights [5, 6].\n",
    "    \n",
    "    \n",
    "    Input: heights = [2, 4] \n",
    "    Output: 4 \n",
    "\n",
    "**Explanation:** The largest rectangle has an area of 4 and spans the single height 4."
   ]
  },
  {
   "cell_type": "code",
   "execution_count": 65,
   "id": "30652d80",
   "metadata": {},
   "outputs": [],
   "source": [
    "def largest_rectangle_area(heights):\n",
    "    \"\"\"\n",
    "    Find the area of the largest rectangle that can be formed in the histogram.\n",
    "\n",
    "    Parameters:\n",
    "    heights (List[int]): A list of integers representing the heights of the histogram bars.\n",
    "\n",
    "    Returns:\n",
    "    int: The area of the largest rectangle.\n",
    "    \"\"\"\n",
    "    stack = [] # Stack to keep track of indices\n",
    "    max_area = 0 # Variable to store the maximum area\n",
    "    heights.append(0) # Append a zero height to pop all remaining bars at the end\n",
    "\n",
    "    for i in range(len(heights)):\n",
    "        \n",
    "        while stack and heights[stack[-1]] > heights[i]:\n",
    "            \n",
    "            h = heights[stack.pop()] # Get the height of the bar\n",
    "            \n",
    "            if not stack: # If stack is empty, width is i\n",
    "                w = i\n",
    "            else:\n",
    "                w = i - stack[-1] - 1 # Width is the distance to the next smaller bar\n",
    "                \n",
    "            max_area = max(max_area, h * w) # Update max area\n",
    "\n",
    "        stack.append(i) # Push current index onto the stack\n",
    "\n",
    "    return max_area"
   ]
  },
  {
   "cell_type": "code",
   "execution_count": 66,
   "id": "14019912",
   "metadata": {},
   "outputs": [
    {
     "name": "stdout",
     "output_type": "stream",
     "text": [
      "The area of the largest rectangle is: 10\n"
     ]
    }
   ],
   "source": [
    "area = largest_rectangle_area([2, 1, 5, 6, 2, 3]) # Example usage\n",
    "print(\"The area of the largest rectangle is:\", area)"
   ]
  },
  {
   "cell_type": "code",
   "execution_count": 67,
   "id": "9a96c59e",
   "metadata": {},
   "outputs": [
    {
     "name": "stdout",
     "output_type": "stream",
     "text": [
      "The area of the largest rectangle is: 4\n"
     ]
    }
   ],
   "source": [
    "area = largest_rectangle_area([2, 4]) # Example usage\n",
    "print(\"The area of the largest rectangle is:\", area)"
   ]
  },
  {
   "cell_type": "code",
   "execution_count": 68,
   "id": "109087c3",
   "metadata": {},
   "outputs": [
    {
     "name": "stdout",
     "output_type": "stream",
     "text": [
      "The area of the largest rectangle is: 4\n"
     ]
    }
   ],
   "source": [
    "area = largest_rectangle_area([4]) # Single bar case\n",
    "print(\"The area of the largest rectangle is:\", area)"
   ]
  }
 ],
 "metadata": {
  "kernelspec": {
   "display_name": "base",
   "language": "python",
   "name": "python3"
  },
  "language_info": {
   "codemirror_mode": {
    "name": "ipython",
    "version": 3
   },
   "file_extension": ".py",
   "mimetype": "text/x-python",
   "name": "python",
   "nbconvert_exporter": "python",
   "pygments_lexer": "ipython3",
   "version": "3.12.4"
  }
 },
 "nbformat": 4,
 "nbformat_minor": 5
}
