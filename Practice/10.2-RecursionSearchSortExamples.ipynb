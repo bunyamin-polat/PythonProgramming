{
 "cells": [
  {
   "cell_type": "markdown",
   "metadata": {},
   "source": [
    "## Linear Search using Recursion\n",
    "\n",
    "You are given an array of integers and an element to search for. Your task is to implement a linear search using recursion to determine if the element is present in the array. Return True if the element is found, and False otherwise.\n",
    "\n",
    "**Input:**\n",
    "\n",
    "    An array of integers.\n",
    "\n",
    "    An integer target representing the element to search for.\n",
    "\n",
    "**Output:**\n",
    "\n",
    "    A boolean indicating whether the target element is present in the array.\n",
    "\n",
    "**Example:**\n",
    "\n",
    "    Input: arr = [3, 5, 1, 7, 9], target = 1\n",
    "    Output: True\n",
    "    \n",
    "    Input: arr = [10, 20, 30, 40], target = 25\n",
    "    Output: False"
   ]
  },
  {
   "cell_type": "code",
   "execution_count": 1,
   "metadata": {},
   "outputs": [
    {
     "name": "stdout",
     "output_type": "stream",
     "text": [
      "True\n",
      "False\n"
     ]
    }
   ],
   "source": [
    "def linear_search(arr: list[int], target: int) -> bool:\n",
    "    \"\"\"\n",
    "    Function to perform linear search on an array using recursion.\n",
    "    \n",
    "    Parameters:\n",
    "    arr (list of int): The array of integers.\n",
    "    target (int): The element to search for.\n",
    "    \n",
    "    Returns:\n",
    "    bool: True if target is found, False otherwise.\n",
    "    \"\"\"\n",
    "    \n",
    "    if len(arr) == 0:\n",
    "        return False\n",
    "    if arr[0] == target:\n",
    "        return True\n",
    "    return linear_search(arr[1:], target)\n",
    "\n",
    "print(linear_search([1, 2, 3, 4, 5], 3)) # True\n",
    "print(linear_search([1, 2, 3, 4, 5], 6)) # False"
   ]
  },
  {
   "cell_type": "markdown",
   "metadata": {},
   "source": [
    "## Merge sort using Recursion\n",
    "\n",
    "You are given a list of integers. Your task is to implement the Merge Sort algorithm using recursion to sort the list and return the sorted version of it.\n",
    "\n",
    "**Input:** A list arr of integers.\n",
    "\n",
    "**Output:** A sorted list of integers.\n",
    "\n",
    "Example:\n",
    "\n",
    "    Input: arr = [5, 2, 9, 1, 5, 6]\n",
    "    Output: [1, 2, 5, 5, 6, 9]\n",
    "    \n",
    "    Input: arr = [3, 0, 2, 5, -1, 4, 1]\n",
    "    Output: [-1, 0, 1, 2, 3, 4, 5]"
   ]
  },
  {
   "cell_type": "code",
   "execution_count": 2,
   "metadata": {},
   "outputs": [
    {
     "name": "stdout",
     "output_type": "stream",
     "text": [
      "[1, 2, 3, 4, 5, 6, 7, 8]\n",
      "[-1, 0, 1, 2, 3, 4, 5]\n"
     ]
    }
   ],
   "source": [
    "def merge_sort(arr: list[int]) -> list[int]:\n",
    "    \"\"\"\n",
    "    Function to perform merge sort on a list of integers using recursion.\n",
    "    Parameters: arr (list of int): The list to be sorted.\n",
    "    Returns: list of int: The sorted list.\n",
    "    \"\"\"\n",
    "    if len(arr) <= 1: # Base case: if the array has 1 or 0 elements, return the array\n",
    "        return arr\n",
    "    \n",
    "    # Split the array into two halves\n",
    "    mid = len(arr) // 2\n",
    "    left_half = arr[:mid]\n",
    "    right_half = arr[mid:]\n",
    "    \n",
    "    # Recursively sort the two halves\n",
    "    left_sorted = merge_sort(left_half)\n",
    "    right_sorted = merge_sort(right_half)\n",
    "    \n",
    "    # Merge the sorted halves\n",
    "    return merge(left_sorted, right_sorted)\n",
    "\n",
    "def merge(left, right): # Helper function to merge two sorted arrays\n",
    "    sorted_arr = []\n",
    "    i = j = 0\n",
    "    \n",
    "    # Compare elements from the two halves and merge them in sorted order\n",
    "    while i < len(left) and j < len(right):\n",
    "        if left[i] < right[j]:\n",
    "            sorted_arr.append(left[i])\n",
    "            i += 1\n",
    "        else:\n",
    "            sorted_arr.append(right[j])\n",
    "            j += 1\n",
    "    \n",
    "    # Add the remaining elements from the left half\n",
    "    while i < len(left):\n",
    "        sorted_arr.append(left[i])\n",
    "        i += 1\n",
    "    \n",
    "    # Add the remaining elements from the right half\n",
    "    while j < len(right):\n",
    "        sorted_arr.append(right[j])\n",
    "        j += 1\n",
    "    \n",
    "    return sorted_arr\n",
    "\n",
    "print(merge_sort([5, 3, 8, 6, 2, 7, 1, 4]))\n",
    "\n",
    "print(merge_sort([3, 0, 2, 5, -1, 4, 1])) \n"
   ]
  },
  {
   "cell_type": "markdown",
   "metadata": {},
   "source": [
    "## Quick Sort using Recursion\n",
    "\n",
    "You are given a list of integers. Your task is to implement the Quick Sort algorithm using recursion to sort the list and return the sorted version of it.\n",
    "\n",
    "**Input:** A list arr of integers.\n",
    "\n",
    "**Output:** A sorted list of integers.\n",
    "\n",
    "**Example:**\n",
    "\n",
    "    Input: arr = [5, 2, 9, 1, 5, 6]\n",
    "    Output: [1, 2, 5, 5, 6, 9]\n",
    "    \n",
    "    Input: arr = [3, 0, 2, 5, -1, 4, 1]\n",
    "    Output: [-1, 0, 1, 2, 3, 4, 5]"
   ]
  },
  {
   "cell_type": "code",
   "execution_count": 5,
   "metadata": {},
   "outputs": [
    {
     "name": "stdout",
     "output_type": "stream",
     "text": [
      "[-1, 0, 1, 2, 3, 4, 5]\n",
      "[1, 2, 5, 5, 6, 9]\n"
     ]
    }
   ],
   "source": [
    "def quick_sort(arr: list[int]) -> list[int]:\n",
    "    \"\"\"\n",
    "    Function to perform quick sort on a list of integers using recursion.\n",
    "    Parameters: arr (list of int): The list to be sorted.\n",
    "    Returns: list of int: The sorted list.\n",
    "    \"\"\"\n",
    "    if len(arr) <= 1:\n",
    "        return arr\n",
    "    \n",
    "    pivot  = arr[-1] # Choose the last element as the pivot\n",
    "    \n",
    "    # Partition the array into two halves based on the pivot\n",
    "    left = [x for x in arr[:-1] if x < pivot] # Elements less than pivot\n",
    "    right = [x for x in arr[:-1] if x >= pivot] # Elements greater than pivot\n",
    "    \n",
    "    # Recursively sort the two halves\n",
    "    return quick_sort(left) + [pivot] + quick_sort(right)\n",
    "\n",
    "print(quick_sort([3, 0, 2, 5, -1, 4, 1]))\n",
    "\n",
    "print(quick_sort([5, 2, 9, 1, 5, 6]))\n",
    "    "
   ]
  },
  {
   "cell_type": "code",
   "execution_count": null,
   "metadata": {},
   "outputs": [],
   "source": []
  }
 ],
 "metadata": {
  "kernelspec": {
   "display_name": "Python 3",
   "language": "python",
   "name": "python3"
  },
  "language_info": {
   "codemirror_mode": {
    "name": "ipython",
    "version": 3
   },
   "file_extension": ".py",
   "mimetype": "text/x-python",
   "name": "python",
   "nbconvert_exporter": "python",
   "pygments_lexer": "ipython3",
   "version": "3.12.0"
  }
 },
 "nbformat": 4,
 "nbformat_minor": 2
}
