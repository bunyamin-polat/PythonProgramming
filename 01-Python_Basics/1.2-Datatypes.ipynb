{
 "cells": [
  {
   "cell_type": "markdown",
   "metadata": {},
   "source": [
    "## Understanding Python Data Types\n",
    "\n",
    "In Python, variables can store different types of data. Understanding these types is crucial for writing efficient programs.\n",
    "\n",
    "Python is a dynamically-typed language, so you don't have to declare the data type explicitly."
   ]
  },
  {
   "cell_type": "markdown",
   "metadata": {},
   "source": [
    "#### 1 - Numeric Data Types"
   ]
  },
  {
   "cell_type": "code",
   "execution_count": 1,
   "metadata": {},
   "outputs": [
    {
     "name": "stdout",
     "output_type": "stream",
     "text": [
      "x is 10, and its type is <class 'int'>\n",
      "y is 3.14, and its type is <class 'float'>\n",
      "z is (1+2j), and its type is <class 'complex'>\n"
     ]
    }
   ],
   "source": [
    "## Integers (int)\n",
    "# Integers represent whole numbers, positive or negative.\n",
    "\n",
    "x = 10\n",
    "print(f\"x is {x}, and its type is {type(x)}\")\n",
    "\n",
    "## Floating-point numbers (float)\n",
    "# Floats represent numbers with decimal points.\n",
    "\n",
    "y = 3.14\n",
    "print(f\"y is {y}, and its type is {type(y)}\")\n",
    "\n",
    "## Complex numbers (complex)\n",
    "# Complex numbers have a real and imaginary part.\n",
    "\n",
    "z = 1 + 2j\n",
    "print(f\"z is {z}, and its type is {type(z)}\")"
   ]
  },
  {
   "cell_type": "markdown",
   "metadata": {},
   "source": [
    "#### 2 - Text Data Type"
   ]
  },
  {
   "cell_type": "code",
   "execution_count": 2,
   "metadata": {},
   "outputs": [
    {
     "name": "stdout",
     "output_type": "stream",
     "text": [
      "text is 'Hello, World!', and its type is <class 'str'>\n"
     ]
    }
   ],
   "source": [
    "## Strings (str)\n",
    "# Strings are used to represent text. In Python, they are enclosed in single ('') or double (\"\") quotes.\n",
    "text = \"Hello, World!\"\n",
    "print(f\"Text is '{text}', and its type is {type(text)}\")"
   ]
  },
  {
   "cell_type": "markdown",
   "metadata": {},
   "source": [
    "#### 3 - Sequence Data Types"
   ]
  },
  {
   "cell_type": "code",
   "execution_count": 3,
   "metadata": {},
   "outputs": [
    {
     "name": "stdout",
     "output_type": "stream",
     "text": [
      "my_list is [1, 2, 3, 'Python', 3.14], and its type is <class 'list'>\n",
      "Updated list: [1, 2, 3, 'Python', 3.14, 'New Element']\n",
      "my_tuple is (1, 2, 3, 'Tuple'), and its type is <class 'tuple'>\n"
     ]
    }
   ],
   "source": [
    "## Lists (list)\n",
    "# Lists are ordered, mutable collections of elements, which can be of different types.\n",
    "my_list = [1, 2, 3, \"Python\", 3.14]\n",
    "print(f\"my_list is {my_list}, and its type is {type(my_list)}\")\n",
    "\n",
    "# You can modify lists, like adding elements.\n",
    "my_list.append(\"New Element\")\n",
    "print(f\"Updated list: {my_list}\")\n",
    "\n",
    "## Tuples (tuple)\n",
    "# Tuples are ordered but immutable collections. Once created, they cannot be changed.\n",
    "my_tuple = (1, 2, 3, \"Tuple\")\n",
    "print(f\"my_tuple is {my_tuple}, and its type is {type(my_tuple)}\")"
   ]
  },
  {
   "cell_type": "markdown",
   "metadata": {},
   "source": [
    "#### 4 - Mappings"
   ]
  },
  {
   "cell_type": "code",
   "execution_count": 4,
   "metadata": {},
   "outputs": [
    {
     "name": "stdout",
     "output_type": "stream",
     "text": [
      "my_dict is {'name': 'Alice', 'age': 25, 'language': 'Python'}, and its type is <class 'dict'>\n",
      "Name: Alice, Age: 25\n"
     ]
    }
   ],
   "source": [
    "## Dictionaries (dict)\n",
    "# Dictionaries are collections of key-value pairs. They are unordered and mutable.\n",
    "my_dict = {\"name\": \"Alice\", \"age\": 25, \"language\": \"Python\"}\n",
    "print(f\"my_dict is {my_dict}, and its type is {type(my_dict)}\")\n",
    "\n",
    "# You can access elements using the keys.\n",
    "print(f\"Name: {my_dict['name']}, Age: {my_dict['age']}\")"
   ]
  },
  {
   "cell_type": "markdown",
   "metadata": {},
   "source": [
    "#### 5 - Set Data Types"
   ]
  },
  {
   "cell_type": "code",
   "execution_count": 5,
   "metadata": {},
   "outputs": [
    {
     "name": "stdout",
     "output_type": "stream",
     "text": [
      "my_set is {1, 2, 3, 4, 5}, and its type is <class 'set'>\n",
      "Unique elements in my_set: {1, 2, 3, 4, 5}\n"
     ]
    }
   ],
   "source": [
    "# Sets are unordered collections of unique elements.\n",
    "my_set = {1, 2, 3, 4, 4, 5}\n",
    "print(f\"my_set is {my_set}, and its type is {type(my_set)}\")\n",
    "\n",
    "# Sets automatically remove duplicates.\n",
    "print(f\"Unique elements in my_set: {my_set}\")"
   ]
  },
  {
   "cell_type": "markdown",
   "metadata": {},
   "source": [
    "#### 6 - Boolean Data Type"
   ]
  },
  {
   "cell_type": "code",
   "execution_count": 6,
   "metadata": {},
   "outputs": [
    {
     "name": "stdout",
     "output_type": "stream",
     "text": [
      "is_valid is True, and its type is <class 'bool'>\n",
      "Is 10 greater than 5? True\n"
     ]
    }
   ],
   "source": [
    "# Booleans represent one of two values: True or False.\n",
    "is_valid = True\n",
    "print(f\"is_valid is {is_valid}, and its type is {type(is_valid)}\")\n",
    "\n",
    "# Boolean values are often the result of comparisons.\n",
    "print(f\"Is 10 greater than 5? {10 > 5}\")"
   ]
  },
  {
   "cell_type": "code",
   "execution_count": null,
   "metadata": {},
   "outputs": [],
   "source": []
  }
 ],
 "metadata": {
  "kernelspec": {
   "display_name": "Python 3",
   "language": "python",
   "name": "python3"
  },
  "language_info": {
   "codemirror_mode": {
    "name": "ipython",
    "version": 3
   },
   "file_extension": ".py",
   "mimetype": "text/x-python",
   "name": "python",
   "nbconvert_exporter": "python",
   "pygments_lexer": "ipython3",
   "version": "3.12.0"
  }
 },
 "nbformat": 4,
 "nbformat_minor": 2
}
