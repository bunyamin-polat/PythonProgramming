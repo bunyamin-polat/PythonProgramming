{
 "cells": [
  {
   "cell_type": "markdown",
   "metadata": {},
   "source": [
    "## Square of side 'N'\n",
    "**Problem Description:** You are given an integer n. Your task is to return a square pattern of size n x n made up of the character '*', represented as a list of strings.\n",
    "\n",
    "**Input Parameters:** `n (int)`: The size of the square (number of rows and columns).\n",
    "\n",
    "**Output:** A list of strings where each string is a row of n characters.\n",
    "\n",
    "**Example:**\n",
    "\n",
    "    Input: 3\n",
    "    Output: ['***', '***', '***']\n",
    "    \n",
    "    Input: 5\n",
    "    Output: ['*****', '*****', '*****', '*****', '*****']"
   ]
  },
  {
   "cell_type": "code",
   "execution_count": 1,
   "metadata": {},
   "outputs": [
    {
     "name": "stdout",
     "output_type": "stream",
     "text": [
      "['*****', '*****', '*****', '*****', '*****']\n",
      "['***', '***', '***']\n"
     ]
    }
   ],
   "source": [
    "def generate_square(n):\n",
    "    \"\"\"\n",
    "    Function to return a square pattern of '*' of side n as a list of strings.\n",
    "    Parameters: n (int): The size of the square.\n",
    "    Returns: list: A list of strings where each string represents a row of the square.\n",
    "    \"\"\"\n",
    "    square = []\n",
    "    for _ in range(n):\n",
    "        square.append('*' * n)\n",
    "    return square\n",
    "\n",
    "# Alternate solution\n",
    "def generate_square(n):\n",
    "    return ['*' * n for _ in range(n)]\n",
    "\n",
    "print(generate_square(5))\n",
    "print(generate_square(3))"
   ]
  },
  {
   "cell_type": "markdown",
   "metadata": {},
   "source": [
    "## Hollow Square of side 'N'\n",
    "\n",
    "**Problem Description:** You are given an integer `n`. Your task is to return a hollow square pattern of size `n x n` made up of the character `'*'`, represented as a list of strings. The hollow square has `'*'` on the border, and spaces `' '` in the middle (except for side lengths of 1 and 2).\n",
    "\n",
    "**Input Parameters:** `n (int)`: The size of the square (number of rows and columns).\n",
    "\n",
    "**Output:** A list of strings where each string is a row of n characters, representing a hollow square.\n",
    "\n",
    "**Example:**\n",
    "\n",
    "    Input: 3\n",
    "    Output: ['***', '* *', '***']\n",
    "    \n",
    "    Input: 5\n",
    "    Output: ['*****', '*   *', '*   *', '*   *', '*****']"
   ]
  },
  {
   "cell_type": "code",
   "execution_count": null,
   "metadata": {},
   "outputs": [
    {
     "name": "stdout",
     "output_type": "stream",
     "text": [
      "['***', '* *', '***']\n",
      "['*****', '*   *', '*   *', '*   *', '*****']\n",
      "['*******', '*     *', '*     *', '*     *', '*     *', '*     *', '*******']\n"
     ]
    }
   ],
   "source": [
    "def generate_hollow_square(n):\n",
    "    \"\"\"\n",
    "    Function to return a hollow square pattern of '*' of side n as a list of strings.\n",
    "    Parameters: n (int): The size of the square.\n",
    "    Returns: list: A list of strings where each string represents a row of the hollow square.\n",
    "    \"\"\"\n",
    "    square = []\n",
    "    for i in range(n):\n",
    "        if i == 0 or i == n -1:\n",
    "            square.append('*' * n)\n",
    "        else:\n",
    "            square.append('*' + ' ' * (n - 2) + '*')\n",
    "    return square\n",
    "\n",
    "# Alternate solution\n",
    "def generate_hollow_square(n):\n",
    "   return ['*' * n] + ['*' + ' ' * (n - 2) + '*' for _ in range(n - 2)] + ['*' * n]\n",
    "\n",
    "print(generate_hollow_square(3))\n",
    "print(generate_hollow_square(5))\n",
    "print(generate_hollow_square(7))"
   ]
  },
  {
   "cell_type": "markdown",
   "metadata": {},
   "source": [
    "## Rectangle Pattern\n",
    "\n",
    "**Problem Description:** You are given two integers, `n` and `m`. Your task is to return a rectangle pattern of `'*'`, where `n` represents the number of `rows (length)` and `m` represents the number of `columns (breadth)`.\n",
    "\n",
    "**Input:** Two integers `n` and `m`, where `1 <= n, m <= 100`.\n",
    "\n",
    "**Output:** A list of strings where each string represents a row of the rectangle pattern.\n",
    "\n",
    "**Example:**\n",
    "\n",
    "    Input: n = 4, m = 5\n",
    "    Output: ['*****', '*****', '*****', '*****']\n",
    "    \n",
    "    Input: n = 3, m = 2\n",
    "    Output: ['**', '**', '**']"
   ]
  },
  {
   "cell_type": "code",
   "execution_count": null,
   "metadata": {},
   "outputs": [
    {
     "name": "stdout",
     "output_type": "stream",
     "text": [
      "['*****', '*****', '*****']\n",
      "['***', '***', '***', '***', '***']\n",
      "['*****', '*****', '*****', '*****']\n",
      "['**', '**', '**']\n"
     ]
    }
   ],
   "source": [
    "def generate_rectangle(n, m):\n",
    "    \"\"\"\n",
    "    Function to return a rectangle pattern of '*' with length n and breadth m as a list of strings.\n",
    "    Parameters:\n",
    "    n (int): The number of rows in the rectangle.\n",
    "    m (int): The number of columns in the rectangle.\n",
    "    Returns: list: A list of strings where each string represents a row of the rectangle pattern.\n",
    "    \"\"\"\n",
    "    rectangle = []\n",
    "    for _ in range(n):\n",
    "        rectangle.append('*' * m) \n",
    "    return rectangle\n",
    "\n",
    "# Alternate solution\n",
    "def generate_rectangle(n, m):\n",
    "    return ['*' * m for _ in range(n)]\n",
    "\n",
    "print(generate_rectangle(3, 5))\n",
    "print(generate_rectangle(5, 3))\n",
    "print(generate_rectangle(4, 5))\n",
    "print(generate_rectangle(3, 2))"
   ]
  },
  {
   "cell_type": "markdown",
   "metadata": {},
   "source": [
    "## Right Angled Triangle\n",
    "\n",
    "**Problem Description:** You are given an integer n. Your task is to return a right-angled triangle pattern of `'*'` where each side has n characters, represented as a list of strings. The triangle has `'*'` characters, starting with 1 star in the first row, 2 stars in the second row, and so on until the last row has n stars.\n",
    "\n",
    "**Input Parameters:** `n (int)`: The height and base of the right-angled triangle.\n",
    "\n",
    "**Output:** A list of strings where each string is a row of `'*'` characters that increases in length from `1 to n`.\n",
    "\n",
    "**Example:**\n",
    "\n",
    "    Input: 3\n",
    "    Output: ['*', '**', '***']\n",
    "    \n",
    "    Input: 5\n",
    "    Output: ['*', '**', '***', '****', '*****']"
   ]
  },
  {
   "cell_type": "code",
   "execution_count": null,
   "metadata": {},
   "outputs": [
    {
     "name": "stdout",
     "output_type": "stream",
     "text": [
      "['*', '**', '***']\n",
      "['*', '**', '***', '****', '*****']\n"
     ]
    }
   ],
   "source": [
    "def generate_triangle(n):\n",
    "    \"\"\"\n",
    "    Function to return a right-angled triangle of '*' of side n as a list of strings.\n",
    "    Parameters: n (int): The height and base of the triangle.\n",
    "    Returns: list: A list of strings where each string represents a row of the triangle.\n",
    "    \"\"\"\n",
    "\n",
    "    triangle = []\n",
    "    for i in range(1, n + 1):\n",
    "        triangle.append('*' * i)\n",
    "    return triangle\n",
    "\n",
    "# Alternative solution\n",
    "def generate_triangle(n):\n",
    "    return ['*' * i for i in range(1, n + 1)]\n",
    "\n",
    "print(generate_triangle(3))\n",
    "print(generate_triangle(5))"
   ]
  },
  {
   "cell_type": "markdown",
   "metadata": {},
   "source": [
    "## Inverted Right Angled Triangle\n",
    "**Problem Description:** You are given an integer `n`. Your task is to return an inverted right-angled triangle pattern of `'*'` where each side has `n` characters, represented as a list of strings. The first row should have `n` stars, the second row `n-1` stars, and so on, until the last row has `1` star.\n",
    "\n",
    "**Input Parameters:** `n (int)`: The height and base of the inverted right-angled triangle.\n",
    "\n",
    "**Output:** A list of strings where each string is a row of `'*'` characters that decreases in length from `n to 1`.\n",
    "\n",
    "**Example:**\n",
    "\n",
    "    Input: 3\n",
    "    Output: ['***', '**', '*']\n",
    "    \n",
    "    Input: 5\n",
    "    Output: ['*****', '****', '***', '**', '*']"
   ]
  },
  {
   "cell_type": "code",
   "execution_count": null,
   "metadata": {},
   "outputs": [
    {
     "name": "stdout",
     "output_type": "stream",
     "text": [
      "['***', '**', '*']\n",
      "['*****', '****', '***', '**', '*']\n"
     ]
    }
   ],
   "source": [
    "def generate_inverted_triangle(n):\n",
    "    \"\"\"\n",
    "    Function to return an inverted right-angled triangle of '*' of side n as a list of strings.\n",
    "    Parameters: n (int): The height and base of the triangle.\n",
    "    Returns: list: A list of strings where each string represents a row of the triangle.\n",
    "    \"\"\"\n",
    "    triangle = []\n",
    "    for i in range(n, 0, -1):\n",
    "        triangle.append('*' * i)\n",
    "    return triangle\n",
    "\n",
    "# Alternative solution\n",
    "def generate_inverted_triangle(n):\n",
    "    return ['*' * i for i in range(n, 0, -1)]\n",
    "\n",
    "print(generate_inverted_triangle(3))\n",
    "print(generate_inverted_triangle(5))"
   ]
  },
  {
   "cell_type": "markdown",
   "metadata": {},
   "source": [
    "## Pyramid Pattern\n",
    "**Problem Description:** You are given an integer `n`. Your task is to return a pyramid pattern of `'*'` where each side has `n` rows, represented as a list of strings. The pyramid is centered, with 1 star in the first row, 3 stars in the second row, and so on, increasing by 2 stars per row until the base row has `2n - 1` stars.\n",
    "\n",
    "**Input:** A single integer `n`, where `1 <= n <= 100`.\n",
    "\n",
    "**Output:** A list of strings where each string contains stars `*` centered, forming a pyramid shape. Each row has an increasing number of stars, with appropriate spaces for centering.\n",
    "\n",
    "**Example:**\n",
    "\n",
    "    Input: 3\n",
    "    Output: ['  *  ', ' *** ', '*****']\n",
    "    \n",
    "    Input: 5\n",
    "    Output: ['    *    ', '   ***   ', '  *****  ', ' ******* ', '*********']"
   ]
  },
  {
   "cell_type": "code",
   "execution_count": null,
   "metadata": {},
   "outputs": [
    {
     "name": "stdout",
     "output_type": "stream",
     "text": [
      "['  *  ', ' *** ', '*****']\n",
      "['    *    ', '   ***   ', '  *****  ', ' ******* ', '*********']\n"
     ]
    }
   ],
   "source": [
    "def generate_pyramid(n):\n",
    "    \"\"\"\n",
    "    Function to return a pyramid pattern of '*' of side n as a list of strings.\n",
    "    Parameters: n (int): The number of rows in the pyramid.\n",
    "    Returns: list: A list of strings where each string represents a row of the pyramid.\n",
    "    \"\"\"\n",
    "\n",
    "    pyramid = []\n",
    "    for i in range(1, n + 1):\n",
    "        stars = '*' * (2 * i - 1)\n",
    "        spaces = ' ' * (n - i)\n",
    "        pyramid.append(spaces + stars + spaces)\n",
    "    \n",
    "    return pyramid\n",
    "\n",
    "# Alternative solution\n",
    "def generate_pyramid(n):\n",
    "    return [(' ' * (n - i - 1) + '*' * (2 * i + 1) + ' ' * (n - i - 1)) for i in range(n)]\n",
    "\n",
    "print(generate_pyramid(3))\n",
    "print(generate_pyramid(5))"
   ]
  },
  {
   "cell_type": "markdown",
   "metadata": {},
   "source": [
    "## Inverted Pyramid Pattern\n",
    "\n",
    "**Problem Description**\n",
    "\n",
    "You are given an integer `n`. Your task is to return an inverted pyramid pattern of `*`, where each side has `n` rows, represented as a list of strings. The first row has `2n - 1` stars, the second row has `2n - 3` stars, and so on, until the last row has 1 star, with each row centered using spaces.\n",
    "\n",
    "**Input Parameters:** `n (int)`: The number of rows in the inverted pyramid.\n",
    "\n",
    "**Output:** A list of strings where each string represents a row of the inverted pyramid.\n",
    "\n",
    "**Example:**\n",
    "\n",
    "    Input: 3\n",
    "    Output: ['*****', ' *** ', '  *  ']\n",
    "    \n",
    "    Input: 5\n",
    "    Output: ['*********', ' ******* ', '  *****  ', '   ***   ', '    *    ']"
   ]
  },
  {
   "cell_type": "code",
   "execution_count": null,
   "metadata": {},
   "outputs": [
    {
     "name": "stdout",
     "output_type": "stream",
     "text": [
      "['*****', ' *** ', '  *  ']\n",
      "['*********', ' ******* ', '  *****  ', '   ***   ', '    *    ']\n"
     ]
    }
   ],
   "source": [
    "def generate_inverted_pyramid(n):\n",
    "    \"\"\"\n",
    "    Function to return an inverted pyramid pattern of '*' of side n as a list of strings.\n",
    "    Parameters: n (int): The number of rows in the inverted pyramid.\n",
    "    Returns: list: A list of strings where each string represents a row of the inverted pyramid.\n",
    "    \"\"\"\n",
    "\n",
    "    pyramid = []\n",
    "    for i in range(n, 0, -1):\n",
    "        stars = '*' * (2 * i - 1)\n",
    "        spaces = ' ' * (n - i)\n",
    "        pyramid.append(spaces + stars + spaces)\n",
    "        \n",
    "    return pyramid\n",
    "\n",
    "# Alternative solution\n",
    "def generate_inverted_pyramid(n):\n",
    "    return [(' ' * (n - i) + '*' * (2 * i - 1) + ' ' * (n - i)) for i in range(n, 0, -1)]\n",
    "\n",
    "print(generate_inverted_pyramid(3))\n",
    "print(generate_inverted_pyramid(5))"
   ]
  },
  {
   "cell_type": "markdown",
   "metadata": {},
   "source": [
    "## Right Angled Triangle with Numbers\n",
    "**Problem Description:** You are given an integer n. Your task is to return a right-angled triangle pattern where each row contains repeated digits. The first row contains the number 1 repeated once, the second row contains the number 2 repeated twice, and so on until the `nth` row contains the number n repeated n times.\n",
    "\n",
    "Input: A single integer `n`, where `1 <= n <= 100`.\n",
    "Output: A list of strings where each string represents a row in the triangle. The ith row contains the digit `i` repeated `i` times.\n",
    "\n",
    "**Example:**\n",
    "\n",
    "    Input: 5\n",
    "    Output: ['1', '22', '333', '4444', '55555']\n",
    "    \n",
    "    Input: 3\n",
    "    Output: ['1', '22', '333']"
   ]
  },
  {
   "cell_type": "code",
   "execution_count": null,
   "metadata": {},
   "outputs": [
    {
     "name": "stdout",
     "output_type": "stream",
     "text": [
      "['1', '22', '333']\n",
      "['1', '22', '333', '4444', '55555']\n"
     ]
    }
   ],
   "source": [
    "def generate_number_triangle(n):\n",
    "    \"\"\"\n",
    "    Function to return a right-angled triangle of repeated numbers of side n as a list of strings.\n",
    "    Parameters: n (int): The height of the triangle.\n",
    "    Returns: list: A list of strings where each string represents a row of the triangle.\n",
    "    \"\"\"\n",
    "    \n",
    "    triangle = []\n",
    "    \n",
    "    for i in range(1, n + 1):\n",
    "        triangle.append(str(i) * i)\n",
    "\n",
    "    return triangle\n",
    "\n",
    "# Alternative solution\n",
    "def generate_number_triangle(n):\n",
    "    return [str(i) * i for i in range(1, n + 1)]\n",
    "\n",
    "print(generate_number_triangle(3))\n",
    "print(generate_number_triangle(5))"
   ]
  },
  {
   "cell_type": "markdown",
   "metadata": {},
   "source": [
    "## Floyds Triangle\n",
    "\n",
    "**Problem Description:** You are given an integer n. Your task is to return the first n rows of Floyd’s Triangle, represented as a list of strings. Floyd's Triangle is a triangular array of natural numbers where the first row contains 1, the second row contains 2 and 3, the third row contains 4, 5, and 6, and so on.\n",
    "\n",
    "**Input:** A single integer n, where 1 <= n <= 100.\n",
    "\n",
    "**Output:** A list of strings where each string represents a row in Floyd's Triangle.\n",
    "\n",
    "Example:\n",
    "\n",
    "    Input: 5\n",
    "    Output: ['1', '2 3', '4 5 6', '7 8 9 10', '11 12 13 14 15']\n",
    "    \n",
    "    Input: 3\n",
    "    Output: ['1', '2 3', '4 5 6']"
   ]
  },
  {
   "cell_type": "code",
   "execution_count": null,
   "metadata": {},
   "outputs": [
    {
     "name": "stdout",
     "output_type": "stream",
     "text": [
      "['1', '2 3', '4 5 6']\n",
      "['1', '2 3', '4 5 6', '7 8 9 10', '11 12 13 14 15']\n"
     ]
    }
   ],
   "source": [
    "def generate_floyds_triangle(n):\n",
    "    \"\"\"\n",
    "    Function to return the first n rows of Floyd's Triangle as a list of strings.\n",
    "    Parameters: n (int): The number of rows in the triangle.\n",
    "    Returns: list: A list of strings where each string represents a row of Floyd's Triangle.\n",
    "    \"\"\"\n",
    "    triangle = []\n",
    "    current_num = 1\n",
    "    \n",
    "    for i in range(1, n + 1):\n",
    "        row = []\n",
    "        for _ in range(i):\n",
    "            row.append(str(current_num))\n",
    "            current_num += 1\n",
    "        triangle.append(' '.join(row))\n",
    "\n",
    "    return triangle\n",
    "\n",
    "# Alternative solution\n",
    "def generate_floyds_triangle(n):\n",
    "    triangle = []\n",
    "    current_num = 1\n",
    "    for i in range(1, n + 1):\n",
    "        triangle.append(' '.join(str(current_num + j) for j in range(i)))\n",
    "        current_num += i\n",
    "    return triangle\n",
    "\n",
    "print(generate_floyds_triangle(3))\n",
    "print(generate_floyds_triangle(5))\n"
   ]
  },
  {
   "cell_type": "markdown",
   "metadata": {},
   "source": [
    "## Diamond Pattern\n",
    "**Problem Description:** You are given an integer `n`. Your task is to return a diamond pattern of `'*'` with n rows for the upper part (the widest row will have `2n - 1` stars), and the lower part is the mirrored version of the upper part. Each row should be centered with appropriate spaces.\n",
    "\n",
    "**Input:** A single integer `n`, where `1 <= n <= 100`.\n",
    "\n",
    "**Output:** A list of strings where each string represents a row in the diamond pattern.\n",
    "\n",
    "**Example:**\n",
    "\n",
    "    Input: 3\n",
    "    Output: ['  *  ', ' *** ', '*****', ' *** ', '  *  ']\n",
    "    \n",
    "    Input: 5\n",
    "    Output: ['    *    ', '   ***   ', '  *****  ', ' ******* ', '*********', ' ******* ', '  *****  ', '   ***   ', '    *    ']"
   ]
  },
  {
   "cell_type": "code",
   "execution_count": 2,
   "metadata": {},
   "outputs": [
    {
     "name": "stdout",
     "output_type": "stream",
     "text": [
      "['  *  ', ' *** ', '*****', ' *** ', '  *  ']\n",
      "['    *    ', '   ***   ', '  *****  ', ' ******* ', '*********', ' ******* ', '  *****  ', '   ***   ', '    *    ']\n"
     ]
    }
   ],
   "source": [
    "def generate_diamond(n):\n",
    "    \"\"\"\n",
    "    Function to return a diamond pattern of '*' of side n as a list of strings.\n",
    "    Parameters: n (int): The number of rows for the upper part of the diamond.\n",
    "    Returns: list: A list of strings where each string represents a row of the diamond.\n",
    "    \"\"\"\n",
    "\n",
    "    pyramid = []\n",
    "    for i in range(1, n + 1):\n",
    "        stars = '*' * (2 * i - 1)\n",
    "        spaces = ' ' * (n - i)\n",
    "        pyramid.append(spaces + stars + spaces)\n",
    "    pyramid += pyramid[:-1][::-1] # Mirror the upper part to create the lower part\n",
    "    return pyramid\n",
    "\n",
    "# Alternative solution\n",
    "def diamond_pattern(n):\n",
    "    result = []\n",
    "    \n",
    "    # Upper part of the diamond (including the middle row)\n",
    "    for i in range(1, n + 1):\n",
    "        stars = '*' * (2 * i - 1)  # Stars in the current row\n",
    "        spaces = ' ' * (n - i)     # Leading and trailing spaces\n",
    "        result.append(spaces + stars + spaces)\n",
    "    \n",
    "    # Lower part of the diamond (excluding the middle row)\n",
    "    for i in range(n - 1, 0, -1):\n",
    "        stars = '*' * (2 * i - 1)\n",
    "        spaces = ' ' * (n - i)\n",
    "        result.append(spaces + stars + spaces)\n",
    "    \n",
    "    return result\n",
    "\n",
    "print(generate_diamond(3))\n",
    "print(generate_diamond(5))"
   ]
  },
  {
   "cell_type": "markdown",
   "metadata": {},
   "source": [
    "## Right Angled Triangle II\n",
    "**Problem Description:** You are given an integer `n`. Your task is to return a right-angled triangle pattern of `'*'`, where each row contains stars aligned to the right. The first row has one star, the second row has two stars, and so on, until the nth row has n stars.\n",
    "\n",
    "**Input:** A single integer `n`, where `1 <= n <= 100`.\n",
    "\n",
    "**Output:** A list of strings where each string represents a row in the right-angled triangle, right-aligned.\n",
    "\n",
    "**Example:**\n",
    "\n",
    "    Input: 4\n",
    "    Output: ['   *', '  **', ' ***', '****']\n",
    "    \n",
    "    Input: 3\n",
    "    Output: ['  *', ' **', '***']"
   ]
  },
  {
   "cell_type": "code",
   "execution_count": 11,
   "metadata": {},
   "outputs": [
    {
     "name": "stdout",
     "output_type": "stream",
     "text": [
      "['  *', ' **', '***']\n",
      "['   *', '  **', ' ***', '****']\n"
     ]
    }
   ],
   "source": [
    "def generate_right_angled_triangle(n):\n",
    "    \"\"\"\n",
    "    Function to return a right-angled triangle of '*' of side n as a list of strings.\n",
    "    Parameters: n (int): The height of the triangle.\n",
    "    Returns: list: A list of strings where each string represents a row of the triangle.\n",
    "    \"\"\"\n",
    "\n",
    "    triangle = []\n",
    "    for i in range(1, n + 1):\n",
    "        spaces = ' ' * (n - i)\n",
    "        stars = '*' * i\n",
    "        triangle.append(spaces + stars)\n",
    "\n",
    "    return triangle\n",
    "\n",
    "print(generate_right_angled_triangle(3))\n",
    "print(generate_right_angled_triangle(4))"
   ]
  },
  {
   "cell_type": "markdown",
   "metadata": {},
   "source": [
    "## Sandglass Pattern\n",
    "\n",
    "**Problem Description:** You are given an integer n. Your task is to return a sandglass pattern of '*', where the first row contains 2n - 1 stars and each subsequent row decreases the number of stars by 2, until the last row contains a single star. After reaching the smallest width, the pattern then continues with the same number of stars increasing back to 2n - 1. The stars in each row should be centered.\n",
    "\n",
    "**Input:** A single integer n, where 1 <= n <= 100.\n",
    "\n",
    "**Output:** A list of strings where each string represents a row in the sandglass pattern.\n",
    "\n",
    "**Example:**\n",
    "\n",
    "    Input: 3\n",
    "    Output: ['*****', ' *** ', '  *  ', ' *** ', '*****']\n",
    "    \n",
    "    Input: 4\n",
    "    Output: ['*******', ' ***** ', '  ***  ', '   *   ', '  ***  ', ' ***** ', '*******']"
   ]
  },
  {
   "cell_type": "code",
   "execution_count": 12,
   "metadata": {},
   "outputs": [
    {
     "name": "stdout",
     "output_type": "stream",
     "text": [
      "['*****', ' *** ', '  *  ', ' *** ', '*****']\n",
      "['*******', ' ***** ', '  ***  ', '   *   ', '  ***  ', ' ***** ', '*******']\n"
     ]
    }
   ],
   "source": [
    "def generate_sandglass(n):\n",
    "    \"\"\"\n",
    "    Function to return a sandglass pattern of '*' of side n as a list of strings.\n",
    "    Parameters: n (int): The height of the sandglass.\n",
    "    Returns: list: A list of strings where each string represents a row of the sandglass pattern.\n",
    "    \"\"\"\n",
    "\n",
    "    sand_glass = []\n",
    "\n",
    "    for i in range(n, 0, -1):\n",
    "        stars = '*' * (2 * i - 1)\n",
    "        spaces = ' ' * (n - i)\n",
    "        sand_glass.append(spaces + stars + spaces)\n",
    "\n",
    "    for i in range(2, n + 1):\n",
    "        stars = '*' * (2 * i - 1)  \n",
    "        spaces = ' ' * (n - i)    \n",
    "        sand_glass.append(spaces + stars + spaces)\n",
    "\n",
    "    return sand_glass\n",
    "\n",
    "print(generate_sandglass(3))\n",
    "print(generate_sandglass(4))"
   ]
  },
  {
   "cell_type": "markdown",
   "metadata": {},
   "source": [
    "## Hollow Right Triangle\n",
    "**Problem Description:** You are given an integer n. Your task is to return a hollow right-angled triangle pattern of '*', where the first and last rows contain stars, while the inner rows contain a star at the beginning and end, with spaces in between. The triangle should be right-aligned.\n",
    "\n",
    "**Input:** A single integer n, where 1 <= n <= 100.\n",
    "\n",
    "**Output:** A list of strings where each string represents a row in the hollow right-angled triangle.\n",
    "\n",
    "**Example:**\n",
    "\n",
    "    Input: 4\n",
    "    Output: ['*', '**', '* *', '****']\n",
    "    \n",
    "    Input: 5\n",
    "    Output: ['*', '**', '* *', '*  *', '*****']"
   ]
  },
  {
   "cell_type": "code",
   "execution_count": 13,
   "metadata": {},
   "outputs": [
    {
     "name": "stdout",
     "output_type": "stream",
     "text": [
      "['*', '**', '* *', '****']\n",
      "['*', '**', '* *', '*  *', '*****']\n"
     ]
    }
   ],
   "source": [
    "def generate_hollow_right_angled_triangle(n):\n",
    "    \"\"\"\n",
    "    Function to return a hollow right-angled triangle of '*' of side n as a list of strings.\n",
    "    Parameters: n (int): The height of the triangle.\n",
    "    Returns: list: A list of strings where each string represents a row of the triangle.\n",
    "    \"\"\"\n",
    "    triangle = []\n",
    "    for i in range(1, n + 1):\n",
    "        if i == 1 or i == 2 or i == n:\n",
    "            triangle.append('*' * i)\n",
    "        else:\n",
    "            triangle.append('*' + ' ' * (i - 2) + '*')\n",
    "    \n",
    "    return triangle\n",
    "\n",
    "print(generate_hollow_right_angled_triangle(4))\n",
    "print(generate_hollow_right_angled_triangle(5))\n",
    "    "
   ]
  },
  {
   "cell_type": "markdown",
   "metadata": {},
   "source": [
    "## Number Pyramid Pattern\n",
    "\n",
    "**Problem Description:** You are given an integer n. Your task is to return a pyramid pattern of numbers, where each row contains increasing numbers starting from 1 up to the row number, and the pyramid is centered with leading spaces.\n",
    "\n",
    "**Input:** A single integer n, where 1 <= n <= 100.\n",
    "\n",
    "**Output:** A list of strings where each string represents a row in the pyramid pattern.\n",
    "\n",
    "**Example:**\n",
    "\n",
    "    Input: 4\n",
    "    Output: ['   1   ', '  1 2  ', ' 1 2 3 ', '1 2 3 4']\n",
    "    \n",
    "    Input: 3\n",
    "    Output: ['  1  ', ' 1 2 ', '1 2 3']"
   ]
  },
  {
   "cell_type": "code",
   "execution_count": 14,
   "metadata": {},
   "outputs": [
    {
     "name": "stdout",
     "output_type": "stream",
     "text": [
      "['  1  ', ' 1 2 ', '1 2 3']\n",
      "['   1   ', '  1 2  ', ' 1 2 3 ', '1 2 3 4']\n"
     ]
    }
   ],
   "source": [
    "def generate_number_pyramid(n):\n",
    "    \"\"\"\n",
    "    Function to return a pyramid pattern of numbers of height n as a list of strings.\n",
    "    Parameters: n (int): The height of the pyramid.\n",
    "    Returns: list: A list of strings where each string represents a row of the pyramid pattern.\n",
    "    \"\"\"\n",
    "\n",
    "    pyramid = []\n",
    "    for i in range(1, n + 1):\n",
    "        numbers = ' '.join(str(j) for j in range(1, i + 1))\n",
    "        spaces = ' ' * (n - i)\n",
    "        pyramid.append(spaces + numbers + spaces)\n",
    "\n",
    "    return pyramid\n",
    "    \n",
    "print(generate_number_pyramid(3))\n",
    "print(generate_number_pyramid(4))"
   ]
  }
 ],
 "metadata": {
  "kernelspec": {
   "display_name": "base",
   "language": "python",
   "name": "python3"
  },
  "language_info": {
   "codemirror_mode": {
    "name": "ipython",
    "version": 3
   },
   "file_extension": ".py",
   "mimetype": "text/x-python",
   "name": "python",
   "nbconvert_exporter": "python",
   "pygments_lexer": "ipython3",
   "version": "3.12.4"
  }
 },
 "nbformat": 4,
 "nbformat_minor": 2
}
