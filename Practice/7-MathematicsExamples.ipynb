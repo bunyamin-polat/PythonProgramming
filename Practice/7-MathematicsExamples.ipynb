{
 "cells": [
  {
   "cell_type": "markdown",
   "metadata": {},
   "source": [
    "## Sum of N Even Natural Numbers"
   ]
  },
  {
   "cell_type": "code",
   "execution_count": 2,
   "metadata": {},
   "outputs": [
    {
     "name": "stdout",
     "output_type": "stream",
     "text": [
      "6\n",
      "20\n"
     ]
    }
   ],
   "source": [
    "def sum_of_even_numbers(n: int) -> int:\n",
    "    \"\"\"\n",
    "    Function to return the sum of the first n even natural numbers.\n",
    "    Parameters: n (int): The number of even numbers to sum.\n",
    "    Returns: int: The sum of the first n even natural numbers.\n",
    "    \"\"\"\n",
    "    \n",
    "    return n * (n + 1)\n",
    "\n",
    "print(sum_of_even_numbers(3)) # 6\n",
    "print(sum_of_even_numbers(5)) # 20"
   ]
  },
  {
   "cell_type": "markdown",
   "metadata": {},
   "source": [
    "## Check for Even Number"
   ]
  },
  {
   "cell_type": "code",
   "execution_count": 3,
   "metadata": {},
   "outputs": [
    {
     "name": "stdout",
     "output_type": "stream",
     "text": [
      "True\n",
      "False\n"
     ]
    }
   ],
   "source": [
    "def is_even(n: int) -> bool:\n",
    "    \"\"\"\n",
    "    Function to check if a number is even.\n",
    "    Parameters: n (int): The number to check.\n",
    "    Returns: bool: True if n is even, False otherwise.\n",
    "    \"\"\"\n",
    "    return n % 2 == 0\n",
    "    \n",
    "# Alternative solution\n",
    "# def is_even(n: int) -> bool:\n",
    "#     if n % 2 == 0:\n",
    "#         return True\n",
    "#     return False\n",
    "\n",
    "print(is_even(4)) # True\n",
    "print(is_even(5)) # False\n",
    "        "
   ]
  },
  {
   "cell_type": "markdown",
   "metadata": {},
   "source": [
    "## Check for Prime Number"
   ]
  },
  {
   "cell_type": "code",
   "execution_count": 4,
   "metadata": {},
   "outputs": [
    {
     "name": "stdout",
     "output_type": "stream",
     "text": [
      "True\n",
      "False\n",
      "True\n"
     ]
    }
   ],
   "source": [
    "def is_prime(n: int) -> bool:\n",
    "    \"\"\"\n",
    "    Function to check if a number is prime.\n",
    "    Parameters: n (int): The number to check.\n",
    "    Returns: bool: True if n is prime, False otherwise.\n",
    "    \"\"\"\n",
    "    if n < 2:\n",
    "        return False\n",
    "    \n",
    "    for i in range(2, n):\n",
    "        if n % i == 0:\n",
    "            return False\n",
    "    return True\n",
    "\n",
    "print(is_prime(2)) # True\n",
    "print(is_prime(4)) # False\n",
    "print(is_prime(7)) # True\n"
   ]
  },
  {
   "cell_type": "markdown",
   "metadata": {},
   "source": [
    "## Valid Perfect Square"
   ]
  },
  {
   "cell_type": "code",
   "execution_count": 9,
   "metadata": {},
   "outputs": [
    {
     "name": "stdout",
     "output_type": "stream",
     "text": [
      "True\n",
      "False\n"
     ]
    }
   ],
   "source": [
    "def is_perfect_square(num: int) -> bool:\n",
    "    \"\"\"\n",
    "    Function to check if a number is a perfect square.\n",
    "    Parameters: num (int): The number to check.\n",
    "    Returns: bool: True if num is a perfect square, False otherwise.\n",
    "    \"\"\"\n",
    "    if num < 0:\n",
    "        return False\n",
    "    return num ** 0.5 % 1 == 0\n",
    "\n",
    "# Alternative solution\n",
    "# def is_perfect_square(num: int):\n",
    "#     if num < 0:\n",
    "#         return False\n",
    "#     return int(num ** 0.5) ** 2 == num\n",
    "\n",
    "print(is_perfect_square(4)) # True\n",
    "print(is_perfect_square(5)) # False"
   ]
  },
  {
   "cell_type": "markdown",
   "metadata": {},
   "source": [
    "## Decimal to Binary"
   ]
  },
  {
   "cell_type": "code",
   "execution_count": 13,
   "metadata": {},
   "outputs": [
    {
     "name": "stdout",
     "output_type": "stream",
     "text": [
      "001\n",
      "101\n",
      "101101\n",
      "-101\n"
     ]
    }
   ],
   "source": [
    "def int_to_binary(n: int) -> str:\n",
    "    \"\"\"\n",
    "    Function to convert an integer to its binary representation.\n",
    "    Parameters: n (int): The integer to convert.\n",
    "    Returns: str: The binary representation of the integer.\n",
    "    \"\"\"\n",
    "    if n == 0:\n",
    "        return \"0\"\n",
    "    \n",
    "    binary = \"\"\n",
    "    is_negative = False\n",
    "    if n < 0:\n",
    "        is_negative = True\n",
    "        n = abs(n)\n",
    "    while n > 0:\n",
    "        binary += str(n % 2)\n",
    "        n = n // 2\n",
    "    if is_negative:\n",
    "        binary = \"-\" + binary\n",
    "        \n",
    "    return binary\n",
    "    \n",
    "print(int_to_binary(4)) # 100\n",
    "print(int_to_binary(5)) # 101\n",
    "print(int_to_binary(45)) # 1010\n",
    "print(int_to_binary(-5)) # 0"
   ]
  },
  {
   "cell_type": "markdown",
   "metadata": {},
   "source": [
    "## Binary to Decimal"
   ]
  },
  {
   "cell_type": "code",
   "execution_count": 15,
   "metadata": {},
   "outputs": [
    {
     "name": "stdout",
     "output_type": "stream",
     "text": [
      "4\n",
      "5\n",
      "45\n"
     ]
    }
   ],
   "source": [
    "def binary_to_decimal(binary_str: str) -> int:\n",
    "    \"\"\"\n",
    "    Function to convert a binary string to its decimal integer representation.\n",
    "    Parameters: binary_str (str): The binary string to convert.\n",
    "    Returns: int: The decimal representation of the binary string.\n",
    "    \"\"\"\n",
    "\n",
    "    size = len(binary_str)\n",
    "    num = 0\n",
    "\n",
    "    for i in binary_str:\n",
    "        size -= 1\n",
    "        num += int(i) * 2**size\n",
    "    \n",
    "    return num\n",
    "\n",
    "# Alternative solution\n",
    "# def binary_to_decimal(binary_str: str) -> int:\n",
    "#     return int(binary_str, 2)\n",
    "\n",
    "print(binary_to_decimal(\"100\")) # 4\n",
    "print(binary_to_decimal(\"101\")) # 5\n",
    "print(binary_to_decimal(\"101101\")) # 45"
   ]
  },
  {
   "cell_type": "markdown",
   "metadata": {},
   "source": [
    "## GCD of Two Numbers"
   ]
  },
  {
   "cell_type": "code",
   "execution_count": 17,
   "metadata": {},
   "outputs": [
    {
     "name": "stdout",
     "output_type": "stream",
     "text": [
      "6\n",
      "14\n"
     ]
    }
   ],
   "source": [
    "def gcd(n: int, m: int) -> int:\n",
    "    \"\"\"\n",
    "    Function to find the GCD of two integers without using built-in functions and recursion.\n",
    "    Parameters:\n",
    "    n (int): The first integer.\n",
    "    m (int): The second integer.\n",
    "    Returns: int: The GCD of n and m.\n",
    "    \"\"\"\n",
    "\n",
    "    while m:\n",
    "        n, m = m, n % m\n",
    "    return n\n",
    "\n",
    "# Alternative solution\n",
    "# def gcd(n: int, m: int) -> int:\n",
    "#     while n != m:\n",
    "#         if n > m:\n",
    "#             n -= m\n",
    "#         else:\n",
    "#             m -= n\n",
    "#     return n\n",
    "\n",
    "print(gcd(48, 18)) # 6\n",
    "print(gcd(56, 98)) # 14"
   ]
  },
  {
   "cell_type": "code",
   "execution_count": null,
   "metadata": {},
   "outputs": [],
   "source": []
  }
 ],
 "metadata": {
  "kernelspec": {
   "display_name": "Python 3",
   "language": "python",
   "name": "python3"
  },
  "language_info": {
   "codemirror_mode": {
    "name": "ipython",
    "version": 3
   },
   "file_extension": ".py",
   "mimetype": "text/x-python",
   "name": "python",
   "nbconvert_exporter": "python",
   "pygments_lexer": "ipython3",
   "version": "3.12.0"
  }
 },
 "nbformat": 4,
 "nbformat_minor": 2
}
