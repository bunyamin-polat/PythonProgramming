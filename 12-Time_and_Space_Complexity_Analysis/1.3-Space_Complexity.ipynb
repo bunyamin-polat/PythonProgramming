{
 "cells": [
  {
   "cell_type": "markdown",
   "metadata": {},
   "source": [
    "## Space Complexity\n",
    "\n",
    "Space Complexity refers to the amount of memory an algorithm requires to execute as a function of the size of the input data. It measures how much memory space is needed as the input size grows. \n",
    "\n",
    "Space complexity generally consists of two main components:\n",
    "\n",
    "**Static Space:** This is the space required for fixed-size data (e.g., variables, constants) and static structures (e.g., arrays).\n",
    "\n",
    "**Dynamic Space:** This is the space required for data that is created dynamically during the execution of the algorithm (e.g., linked lists, tree structures).\n",
    "\n",
    "**Calculating Space Complexity**\n",
    "\n",
    "Space complexity is typically expressed using big O notation, `O(f(n))`, where `f(n)` represents the amount of memory required as a function of the input size `n`. \n",
    "\n",
    "Here are a few examples:\n",
    "\n",
    "**Constant Space:** If an algorithm uses a fixed number of variables, its space complexity is `O(1)` (constant space).\n",
    "\n",
    "**Array Usage:** An algorithm that uses an array of size `n` requires` O(n)` space.\n",
    "\n",
    "**Recursive Functions:** A recursive algorithm uses stack space for each function call. If the maximum depth of recursion is `n`, the space complexity is `O(n)`."
   ]
  },
  {
   "cell_type": "code",
   "execution_count": 1,
   "metadata": {},
   "outputs": [
    {
     "data": {
      "text/plain": [
       "28"
      ]
     },
     "execution_count": 1,
     "metadata": {},
     "output_type": "execute_result"
    }
   ],
   "source": [
    "import sys\n",
    "a = 4\n",
    "sys.getsizeof(a) # Get the size of a in bytes"
   ]
  },
  {
   "cell_type": "code",
   "execution_count": 2,
   "metadata": {},
   "outputs": [],
   "source": [
    "def sum_array(array):\n",
    "    total = 0\n",
    "    for element in array:\n",
    "        total += element\n",
    "    return total\n",
    "\n",
    "## The space complexity of this algorithm is O(1) because it only uses a fixed number of variables."
   ]
  },
  {
   "cell_type": "code",
   "execution_count": 3,
   "metadata": {},
   "outputs": [],
   "source": [
    "def fibonacci(n):\n",
    "    if n <= 1:\n",
    "        return n\n",
    "    return fibonacci(n-1) + fibonacci(n-2)\n",
    "\n",
    "## The space complexity of this algorithm is O(n) because it uses a recursive call stack that grows linearly with the input."
   ]
  },
  {
   "cell_type": "markdown",
   "metadata": {},
   "source": [
    "## Insertion Sort Space Complexity\n",
    "\n",
    "**In-Place Sorting:** Insertion Sort is an in-place sorting algorithm, meaning it doesn't require any additional data structures that scale with the input size. \n",
    "\n",
    "It sorts the elements within the original array or list.\n",
    "\n",
    "**Auxiliary Space:** The only additional space used is for a few variables, such as the current element being compared and a few indices.\n",
    "\n",
    "Therefore, the space complexity can be considered constant.\n"
   ]
  },
  {
   "cell_type": "code",
   "execution_count": 4,
   "metadata": {},
   "outputs": [
    {
     "name": "stdout",
     "output_type": "stream",
     "text": [
      "Sorted array: [5, 6, 11, 12, 13]\n"
     ]
    }
   ],
   "source": [
    "def insertion_sort(arr):\n",
    "    # Traverse from 1 to len(arr)\n",
    "    for i in range(1, len(arr)):\n",
    "        key = arr[i]  # The current element to be positioned\n",
    "        j = i - 1  # The index of the previous element\n",
    "        \n",
    "        # Move elements of arr[0..i-1], that are greater than key,\n",
    "        # to one position ahead of their current position\n",
    "        while j >= 0 and arr[j] > key:\n",
    "            arr[j + 1] = arr[j]  # Shift element to the right\n",
    "            j -= 1\n",
    "        \n",
    "        arr[j + 1] = key  # Place the key in the correct position\n",
    "\n",
    "# Example usage\n",
    "array = [12, 11, 13, 5, 6]\n",
    "insertion_sort(array)\n",
    "print(\"Sorted array:\", array)"
   ]
  },
  {
   "cell_type": "markdown",
   "metadata": {},
   "source": [
    "### Conclusion\n",
    "\n",
    "**Space Complexity:** O(1) because Insertion Sort sorts the array in place and only requires a constant amount of additional space.\n",
    "\n",
    "**Time Complexity:** The time complexity of Insertion Sort is O(n^2) in the average and worst cases, but it performs efficiently on small or nearly sorted datasets."
   ]
  },
  {
   "cell_type": "markdown",
   "metadata": {},
   "source": []
  }
 ],
 "metadata": {
  "kernelspec": {
   "display_name": "Python 3",
   "language": "python",
   "name": "python3"
  },
  "language_info": {
   "codemirror_mode": {
    "name": "ipython",
    "version": 3
   },
   "file_extension": ".py",
   "mimetype": "text/x-python",
   "name": "python",
   "nbconvert_exporter": "python",
   "pygments_lexer": "ipython3",
   "version": "3.12.0"
  }
 },
 "nbformat": 4,
 "nbformat_minor": 2
}
