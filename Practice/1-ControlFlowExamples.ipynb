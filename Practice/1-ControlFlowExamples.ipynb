{
 "cells": [
  {
   "cell_type": "markdown",
   "metadata": {},
   "source": [
    "### Square of side 'N'\n",
    "**Problem Description:** You are given an integer n. Your task is to return a square pattern of size n x n made up of the character '*', represented as a list of strings.\n",
    "\n",
    "**Input Parameters:** `n (int)`: The size of the square (number of rows and columns).\n",
    "\n",
    "**Output:** A list of strings where each string is a row of n characters.\n",
    "\n",
    "**Example:**\n",
    "\n",
    "    Input: 3\n",
    "    Output: ['***', '***', '***']\n",
    "    \n",
    "    Input: 5\n",
    "    Output: ['*****', '*****', '*****', '*****', '*****']"
   ]
  },
  {
   "cell_type": "code",
   "execution_count": 1,
   "metadata": {},
   "outputs": [
    {
     "name": "stdout",
     "output_type": "stream",
     "text": [
      "['*****', '*****', '*****', '*****', '*****']\n",
      "['***', '***', '***']\n"
     ]
    }
   ],
   "source": [
    "def generate_square(n):\n",
    "    \"\"\"\n",
    "    Function to return a square pattern of '*' of side n as a list of strings.\n",
    "    Parameters: n (int): The size of the square.\n",
    "    Returns: list: A list of strings where each string represents a row of the square.\n",
    "    \"\"\"\n",
    "    square = []\n",
    "    for _ in range(n):\n",
    "        square.append('*' * n)\n",
    "    return square\n",
    "\n",
    "# Alternate solution\n",
    "# def generate_square(n):\n",
    "#     return ['*' * n for _ in range(n)]\n",
    "\n",
    "print(generate_square(5))\n",
    "print(generate_square(3))"
   ]
  },
  {
   "cell_type": "markdown",
   "metadata": {},
   "source": [
    "### Hollow Square of side 'N'\n",
    "\n",
    "**Problem Description:** You are given an integer `n`. Your task is to return a hollow square pattern of size `n x n` made up of the character `'*'`, represented as a list of strings. The hollow square has `'*'` on the border, and spaces `' '` in the middle (except for side lengths of 1 and 2).\n",
    "\n",
    "**Input Parameters:** `n (int)`: The size of the square (number of rows and columns).\n",
    "\n",
    "**Output:** A list of strings where each string is a row of n characters, representing a hollow square.\n",
    "\n",
    "**Example:**\n",
    "\n",
    "    Input: 3\n",
    "    Output: ['***', '* *', '***']\n",
    "    \n",
    "    Input: 5\n",
    "    Output: ['*****', '*   *', '*   *', '*   *', '*****']"
   ]
  },
  {
   "cell_type": "code",
   "execution_count": 2,
   "metadata": {},
   "outputs": [
    {
     "name": "stdout",
     "output_type": "stream",
     "text": [
      "['***', '* *', '***']\n",
      "['*****', '*   *', '*   *', '*   *', '*****']\n",
      "['*******', '*     *', '*     *', '*     *', '*     *', '*     *', '*******']\n"
     ]
    }
   ],
   "source": [
    "def generate_hollow_square(n):\n",
    "    \"\"\"\n",
    "    Function to return a hollow square pattern of '*' of side n as a list of strings.\n",
    "    Parameters: n (int): The size of the square.\n",
    "    Returns: list: A list of strings where each string represents a row of the hollow square.\n",
    "    \"\"\"\n",
    "    square = []\n",
    "    for i in range(n):\n",
    "        if i == 0 or i == n -1:\n",
    "            square.append('*' * n)\n",
    "        else:\n",
    "            square.append('*' + ' ' * (n - 2) + '*')\n",
    "    return square\n",
    "\n",
    "# Alternate solution\n",
    "# def generate_hollow_square(n):\n",
    "#    return ['*' * n] + ['*' + ' ' * (n - 2) + '*' for _ in range(n - 2)] + ['*' * n]\n",
    "\n",
    "print(generate_hollow_square(3))\n",
    "print(generate_hollow_square(5))\n",
    "print(generate_hollow_square(7))"
   ]
  },
  {
   "cell_type": "markdown",
   "metadata": {},
   "source": [
    "### Rectangle Pattern\n",
    "\n",
    "**Problem Description:** You are given two integers, `n` and `m`. Your task is to return a rectangle pattern of `'*'`, where `n` represents the number of rows (length) and m represents the number of columns (breadth).\n",
    "\n",
    "**Input:** Two integers `n` and `m`, where `1 <= n, m <= 100`.\n",
    "\n",
    "**Output:** A list of strings where each string represents a row of the rectangle pattern.\n",
    "\n",
    "**Example:**\n",
    "\n",
    "    Input: n = 4, m = 5\n",
    "    Output: ['*****', '*****', '*****', '*****']\n",
    "    \n",
    "    Input: n = 3, m = 2\n",
    "    Output: ['**', '**', '**']"
   ]
  },
  {
   "cell_type": "code",
   "execution_count": 3,
   "metadata": {},
   "outputs": [
    {
     "name": "stdout",
     "output_type": "stream",
     "text": [
      "['*****', '*****', '*****']\n",
      "['***', '***', '***', '***', '***']\n",
      "['*****', '*****', '*****', '*****']\n",
      "['**', '**', '**']\n"
     ]
    }
   ],
   "source": [
    "def generate_rectangle(n, m):\n",
    "    \"\"\"\n",
    "    Function to return a rectangle pattern of '*' with length n and breadth m as a list of strings.\n",
    "    Parameters:\n",
    "    n (int): The number of rows in the rectangle.\n",
    "    m (int): The number of columns in the rectangle.\n",
    "    Returns: list: A list of strings where each string represents a row of the rectangle pattern.\n",
    "    \"\"\"\n",
    "    rectangle = []\n",
    "    for _ in range(n):\n",
    "        rectangle.append('*' * m) \n",
    "    return rectangle\n",
    "\n",
    "# Alternate solution\n",
    "# def generate_rectangle(n, m):\n",
    "#     return ['*' * m for _ in range(n)]\n",
    "\n",
    "print(generate_rectangle(3, 5))\n",
    "print(generate_rectangle(5, 3))\n",
    "print(generate_rectangle(4, 5))\n",
    "print(generate_rectangle(3, 2))"
   ]
  },
  {
   "cell_type": "markdown",
   "metadata": {},
   "source": [
    "### Right Angled Triangle\n",
    "\n",
    "**Problem Description:** You are given an integer n. Your task is to return a right-angled triangle pattern of `'*'` where each side has n characters, represented as a list of strings. The triangle has `'*'` characters, starting with 1 star in the first row, 2 stars in the second row, and so on until the last row has n stars.\n",
    "\n",
    "**Input Parameters:** `n (int)`: The height and base of the right-angled triangle.\n",
    "\n",
    "**Output:** A list of strings where each string is a row of `'*'` characters that increases in length from `1 to n`.\n",
    "\n",
    "**Example:**\n",
    "\n",
    "    Input: 3\n",
    "    Output: ['*', '**', '***']\n",
    "    \n",
    "    Input: 5\n",
    "    Output: ['*', '**', '***', '****', '*****']"
   ]
  },
  {
   "cell_type": "code",
   "execution_count": 4,
   "metadata": {},
   "outputs": [
    {
     "name": "stdout",
     "output_type": "stream",
     "text": [
      "['*', '**', '***']\n",
      "['*', '**', '***', '****', '*****']\n"
     ]
    }
   ],
   "source": [
    "def generate_triangle(n):\n",
    "    \"\"\"\n",
    "    Function to return a right-angled triangle of '*' of side n as a list of strings.\n",
    "    \n",
    "    Parameters:\n",
    "    n (int): The height and base of the triangle.\n",
    "    \n",
    "    Returns:\n",
    "    list: A list of strings where each string represents a row of the triangle.\n",
    "    \"\"\"\n",
    "\n",
    "    triangle = []\n",
    "    for i in range(1, n + 1):\n",
    "        triangle.append('*' * i)\n",
    "    return triangle\n",
    "\n",
    "# Alternative solution\n",
    "# def generate_triangle(n):\n",
    "#     return ['*' * i for i in range(1, n + 1)]\n",
    "\n",
    "print(generate_triangle(3))\n",
    "print(generate_triangle(5))"
   ]
  },
  {
   "cell_type": "markdown",
   "metadata": {},
   "source": [
    "## Inverted Right Angled Triangle\n",
    "**Problem Description:** You are given an integer `n`. Your task is to return an inverted right-angled triangle pattern of `'*'` where each side has `n` characters, represented as a list of strings. The first row should have `n` stars, the second row `n-1` stars, and so on, until the last row has `1` star.\n",
    "\n",
    "**Input Parameters:** `n (int)`: The height and base of the inverted right-angled triangle.\n",
    "\n",
    "**Output:** A list of strings where each string is a row of `'*'` characters that decreases in length from `n to 1`.\n",
    "\n",
    "**Example:**\n",
    "\n",
    "    Input: 3\n",
    "    Output: ['***', '**', '*']\n",
    "    \n",
    "    Input: 5\n",
    "    Output: ['*****', '****', '***', '**', '*']"
   ]
  },
  {
   "cell_type": "code",
   "execution_count": 5,
   "metadata": {},
   "outputs": [
    {
     "name": "stdout",
     "output_type": "stream",
     "text": [
      "['***', '**', '*']\n",
      "['*****', '****', '***', '**', '*']\n"
     ]
    }
   ],
   "source": [
    "def generate_inverted_triangle(n):\n",
    "    \"\"\"\n",
    "    Function to return an inverted right-angled triangle of '*' of side n as a list of strings.\n",
    "    Parameters: n (int): The height and base of the triangle.\n",
    "    Returns: list: A list of strings where each string represents a row of the triangle.\n",
    "    \"\"\"\n",
    "    triangle = []\n",
    "    for i in range(n, 0, -1):\n",
    "        triangle.append('*' * i)\n",
    "    return triangle\n",
    "\n",
    "# Alternative solution\n",
    "# def generate_inverted_triangle(n):\n",
    "#     return ['*' * i for i in range(n, 0, -1)]\n",
    "\n",
    "print(generate_inverted_triangle(3))\n",
    "print(generate_inverted_triangle(5))"
   ]
  },
  {
   "cell_type": "code",
   "execution_count": null,
   "metadata": {},
   "outputs": [],
   "source": []
  }
 ],
 "metadata": {
  "kernelspec": {
   "display_name": "Python 3",
   "language": "python",
   "name": "python3"
  },
  "language_info": {
   "codemirror_mode": {
    "name": "ipython",
    "version": 3
   },
   "file_extension": ".py",
   "mimetype": "text/x-python",
   "name": "python",
   "nbconvert_exporter": "python",
   "pygments_lexer": "ipython3",
   "version": "3.12.0"
  }
 },
 "nbformat": 4,
 "nbformat_minor": 2
}
