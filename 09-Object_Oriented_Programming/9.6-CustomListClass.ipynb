{
 "cells": [
  {
   "cell_type": "code",
   "execution_count": 1,
   "metadata": {},
   "outputs": [],
   "source": [
    "import ctypes\n",
    "\n",
    "class CustomList: # A custom list class that uses a dynamic array\n",
    "    def __init__(self):\n",
    "        initial_capacity = 1 # Initial capacity of the array\n",
    "        self.capacity = initial_capacity # Capacity of the array\n",
    "        self.size = 0 # Number of items in the list\n",
    "        self.array = self._create_array(self.capacity) # The array\n",
    "        \n",
    "    def _create_array(self, capacity):\n",
    "        # Returns an array with the given capacity\n",
    "        return (capacity * ctypes.py_object)()\n",
    "\n",
    "    def __resize(self, new_capacity):\n",
    "        # Resizes the array to the new capacity\n",
    "        new_array = self._create_array(new_capacity) # New array with the new capacity\n",
    "        for i in range(self.size):\n",
    "            new_array[i] = self.array[i] # Copying the items to the new array\n",
    "        self.array = new_array # Assigning the new array to the array\n",
    "        self.capacity = new_capacity # Assigning the new capacity to the capacity\n",
    "\n",
    "    def append(self, item):\n",
    "        # Adds an item to the end of the list\n",
    "        if (self.size == self.capacity): # If the array is full, resize it\n",
    "            self.__resize(2 * self.capacity) # Double the capacity of the array\n",
    "        self.array[self.size] = item # Add the item to the end of the array\n",
    "        self.size += 1 # Increment the size of the array\n",
    "\n",
    "    def __len__(self):\n",
    "        return self.size\n",
    "    \n",
    "    def __str__(self):\n",
    "        return str([self.array[i] for i in range(self.size)]) # Returns the list as a string\n",
    "    \n",
    "    def pop(self):\n",
    "        # Removes and returns the last item\n",
    "        if (self.size == 0):\n",
    "            return ('Empty list, IndexError: pop from empty list')\n",
    "        popped_item = self.array[self.size - 1] # The last item\n",
    "        self.size -= 1\n",
    "        return popped_item\n",
    "    \n",
    "    def __getitem__(self, index):\n",
    "        # Returns the item at the given index\n",
    "        if (index < 0 or index >= self.size):\n",
    "            return ('Index Error: Index out of range')\n",
    "        return self.array[index]\n",
    "    \n",
    "    def clear(self):\n",
    "        # Removes all items from the list\n",
    "        self.size = 0\n",
    "        self.capacity = 1\n",
    "        self.array = self._create_array(self.capacity)\n",
    "    \n",
    "    def insert(self, index, item):\n",
    "        # Inserts an item at the given index\n",
    "        if (index < 0 or index >= self.size): # If the index is out of range\n",
    "            return ('Index Error: Index out of range')\n",
    "        \n",
    "        if (self.size == self.capacity): # If the array is full, resize it\n",
    "            self.__resize(2 * self.capacity)\n",
    "            \n",
    "        for i in range(self.size, index, -1):\n",
    "            self.array[i] = self.array[i - 1] # Shift the items to the right\n",
    "             \n",
    "        self.array[index] = item\n",
    "        self.size += 1\n",
    "        \n",
    "    def remove(self, item):\n",
    "        # Removes the first occurence of the item\n",
    "        for i in range(self.size):\n",
    "            if (self.array[i] == item):\n",
    "                for j in range(i, self.size - 1):\n",
    "                    self.array[j] = self.array[j + 1]\n",
    "                self.size -= 1\n",
    "                return  # Return after removing the item\n",
    "        return ('Value Error: Item not found')"
   ]
  },
  {
   "cell_type": "code",
   "execution_count": 4,
   "metadata": {},
   "outputs": [
    {
     "name": "stdout",
     "output_type": "stream",
     "text": [
      "[1, 2]\n",
      "Size of list: 2\n"
     ]
    }
   ],
   "source": [
    "myList = CustomList()\n",
    "myList.append(1)\n",
    "myList.append(2)\n",
    "print(myList)\n",
    "print(f'Size of list: {len(myList)}')"
   ]
  },
  {
   "cell_type": "code",
   "execution_count": 3,
   "metadata": {},
   "outputs": [
    {
     "name": "stdout",
     "output_type": "stream",
     "text": [
      "[]\n"
     ]
    }
   ],
   "source": [
    "myList.clear()\n",
    "print(myList)"
   ]
  },
  {
   "cell_type": "code",
   "execution_count": 5,
   "metadata": {},
   "outputs": [
    {
     "name": "stdout",
     "output_type": "stream",
     "text": [
      "[1, 2]\n",
      "[1]\n",
      "[]\n"
     ]
    }
   ],
   "source": [
    "print(myList)\n",
    "\n",
    "myList.pop()\n",
    "print(myList)\n",
    "\n",
    "myList.pop()\n",
    "print(myList)\n"
   ]
  },
  {
   "cell_type": "code",
   "execution_count": 6,
   "metadata": {},
   "outputs": [
    {
     "data": {
      "text/plain": [
       "'Empty list, IndexError: pop from empty list'"
      ]
     },
     "execution_count": 6,
     "metadata": {},
     "output_type": "execute_result"
    }
   ],
   "source": [
    "myList.pop()"
   ]
  },
  {
   "cell_type": "code",
   "execution_count": null,
   "metadata": {},
   "outputs": [],
   "source": []
  }
 ],
 "metadata": {
  "kernelspec": {
   "display_name": "Python 3",
   "language": "python",
   "name": "python3"
  },
  "language_info": {
   "codemirror_mode": {
    "name": "ipython",
    "version": 3
   },
   "file_extension": ".py",
   "mimetype": "text/x-python",
   "name": "python",
   "nbconvert_exporter": "python",
   "pygments_lexer": "ipython3",
   "version": "3.12.0"
  }
 },
 "nbformat": 4,
 "nbformat_minor": 2
}
