{
 "cells": [
  {
   "cell_type": "markdown",
   "id": "b470c004",
   "metadata": {},
   "source": [
    "## Binary Tree Inorder Traversal\n",
    "\n",
    "Given the root of a binary tree, return the Inorder traversal of its nodes' values. Inorder traversal of a binary tree means visiting the left subtree, the root node, and then the right subtree recursively. The task is to implement this without using any in-built functions like inorder_traversal from Python's libraries.\n",
    "\n",
    "**Input Parameters:** `root (TreeNode)`: The root node of the binary tree.\n",
    "\n",
    "**Output:** A list of integers representing the inorder traversal of the tree.\n",
    "\n",
    "**Example:**\n",
    "\n",
    "        Input: root = [1, None, 2, 3]\n",
    "\n",
    "        Output: [1, 3, 2]\n",
    "\n",
    "        Input: root = [1, 2, 3, 4, 5, None, 8, None, None, 6, 7, 9]\n",
    "\n",
    "        Output: [4, 2, 6, 5, 7, 1, 3, 9, 8]\n",
    "\n"
   ]
  },
  {
   "cell_type": "code",
   "execution_count": 1,
   "id": "9f69e3dc",
   "metadata": {},
   "outputs": [],
   "source": [
    "from predefined_binary_tree import BinaryTreeNode, construct_tree_from_list, print_tree_level_wise\n",
    "\n",
    "def inorder_traversal(root):\n",
    "    \"\"\"\n",
    "    Function to perform inorder traversal of a binary tree.\n",
    "    :param root: TreeNode -> root of the binary tree\n",
    "    :return: List[int] -> list of nodes in inorder\n",
    "    \"\"\"\n",
    "    if root is None:\n",
    "        return []\n",
    "    \n",
    "    return inorder_traversal(root.left) + [root.data] + inorder_traversal(root.right)"
   ]
  },
  {
   "cell_type": "code",
   "execution_count": 2,
   "id": "83ec13c5",
   "metadata": {},
   "outputs": [
    {
     "name": "stdout",
     "output_type": "stream",
     "text": [
      "1 -> L: 2, R: 3\n",
      "2 -> L: 4, R: 5\n",
      "4 -> L: None, R: None\n",
      "5 -> L: 6, R: 7\n",
      "6 -> L: None, R: None\n",
      "7 -> L: None, R: None\n",
      "3 -> L: None, R: 8\n",
      "8 -> L: 9, R: None\n",
      "9 -> L: None, R: None\n",
      "\n",
      "[4, 2, 6, 5, 7, 1, 3, 9, 8]\n"
     ]
    }
   ],
   "source": [
    "root = construct_tree_from_list([1, 2, 3, 4, 5, None, 8, None, None, 6, 7, 9])\n",
    "\n",
    "print_tree_level_wise(root)\n",
    "print()\n",
    "print(inorder_traversal(root))\n"
   ]
  },
  {
   "cell_type": "markdown",
   "id": "1436af08",
   "metadata": {},
   "source": [
    "## Binary Tree Preorder Traversal\n",
    "\n",
    "Given the root of a binary tree, return the preorder traversal of its nodes' values. In preorder traversal, the nodes are visited in this order: root node first, then left subtree, and then right subtree.\n",
    "\n",
    "**Input Parameters:** `root (TreeNode)`: The root node of the binary tree.\n",
    "\n",
    "**Output:** A list of integers representing the preorder traversal of the tree.\n",
    "\n",
    "**Example:**\n",
    "\n",
    "    Input: root = [1, None, 2, 3]\n",
    "\n",
    "    Output: [1, 2, 3]\n",
    "\n",
    "    Input: root = [1, 2, 3, 4, 5, None, 8, None, None, 6, 7, 9]\n",
    "\n",
    "    Output: [1, 2, 4, 5, 6, 7, 3, 8, 9]"
   ]
  },
  {
   "cell_type": "code",
   "execution_count": 3,
   "id": "dd81a2e2",
   "metadata": {},
   "outputs": [],
   "source": [
    "def preorder_traversal(root):\n",
    "    \"\"\"\n",
    "    Function to perform preorder traversal of a binary tree.\n",
    "    :param root: TreeNode -> root of the binary tree\n",
    "    :return: List[int] -> list of nodes in preorder\n",
    "    \"\"\"\n",
    "    \n",
    "    if root is None:\n",
    "        return []\n",
    "\n",
    "    return [root.data] + preorder_traversal(root.left) + preorder_traversal(root.right)\n"
   ]
  },
  {
   "cell_type": "code",
   "execution_count": 4,
   "id": "ff79f824",
   "metadata": {},
   "outputs": [
    {
     "name": "stdout",
     "output_type": "stream",
     "text": [
      "1 -> L: 2, R: 3\n",
      "2 -> L: 4, R: 5\n",
      "4 -> L: None, R: None\n",
      "5 -> L: 6, R: 7\n",
      "6 -> L: None, R: None\n",
      "7 -> L: None, R: None\n",
      "3 -> L: None, R: 8\n",
      "8 -> L: 9, R: None\n",
      "9 -> L: None, R: None\n",
      "\n",
      "[1, 2, 4, 5, 6, 7, 3, 8, 9]\n"
     ]
    }
   ],
   "source": [
    "root = construct_tree_from_list([1, 2, 3, 4, 5, None, 8, None, None, 6, 7, 9])\n",
    "\n",
    "print_tree_level_wise(root)\n",
    "print()\n",
    "print(preorder_traversal(root))"
   ]
  },
  {
   "cell_type": "markdown",
   "id": "7308773d",
   "metadata": {},
   "source": [
    "## Binary Tree Postorder Traversal\n",
    "\n",
    "Given the root of a binary tree, return the postorder traversal of its nodes' values. In postorder traversal, the nodes are visited in this order: first the left subtree, then the right subtree, and finally the root node.\n",
    "\n",
    "**Input Parameters:** `root (TreeNode)`: The root node of the binary tree.\n",
    "\n",
    "**Output:** A list of integers representing the postorder traversal of the tree.\n",
    "\n",
    "**Example**\n",
    "\n",
    "    Input: root = [1, None, 2, 3]\n",
    "\n",
    "    Output: [3, 2, 1]\n",
    "\n",
    "    Input: root = [1, 2, 3, 4, 5, None, 8, None, None, 6, 7, 9]\n",
    "\n",
    "    Output: [4, 6, 7, 5, 2, 9, 8, 3, 1]\n"
   ]
  },
  {
   "cell_type": "code",
   "execution_count": 5,
   "id": "a88e1edf",
   "metadata": {},
   "outputs": [],
   "source": [
    "def postorder_traversal(root):\n",
    "    \"\"\"\n",
    "    Function to perform postorder traversal of a binary tree.\n",
    "    :param root: TreeNode -> root of the binary tree\n",
    "    :return: List[int] -> list of nodes in postorder\n",
    "    \"\"\"\n",
    "    if root is None:\n",
    "        return []\n",
    "    \n",
    "    return postorder_traversal(root.left) + postorder_traversal(root.right) + [root.data]"
   ]
  },
  {
   "cell_type": "code",
   "execution_count": 6,
   "id": "352c8c7a",
   "metadata": {},
   "outputs": [
    {
     "name": "stdout",
     "output_type": "stream",
     "text": [
      "1 -> L: 2, R: 3\n",
      "2 -> L: 4, R: 5\n",
      "4 -> L: None, R: None\n",
      "5 -> L: 6, R: 7\n",
      "6 -> L: None, R: None\n",
      "7 -> L: None, R: None\n",
      "3 -> L: None, R: 8\n",
      "8 -> L: 9, R: None\n",
      "9 -> L: None, R: None\n",
      "\n",
      "[4, 6, 7, 5, 2, 9, 8, 3, 1]\n"
     ]
    }
   ],
   "source": [
    "root = construct_tree_from_list([1, 2, 3, 4, 5, None, 8, None, None, 6, 7, 9])\n",
    "\n",
    "print_tree_level_wise(root)\n",
    "print()\n",
    "print(postorder_traversal(root))"
   ]
  },
  {
   "cell_type": "code",
   "execution_count": 7,
   "id": "48e8d998",
   "metadata": {},
   "outputs": [
    {
     "name": "stdout",
     "output_type": "stream",
     "text": [
      "1 -> L: None, R: 2\n",
      "2 -> L: 3, R: None\n",
      "3 -> L: None, R: None\n",
      "\n",
      "[3, 2, 1]\n"
     ]
    }
   ],
   "source": [
    "root = construct_tree_from_list([1, None, 2, 3])\n",
    "\n",
    "print_tree_level_wise(root)\n",
    "print()\n",
    "print(postorder_traversal(root))"
   ]
  },
  {
   "cell_type": "markdown",
   "id": "8d4fdf28",
   "metadata": {},
   "source": [
    "## Maximum Depth of a Binary Tree\n",
    "\n",
    "Given the root of a binary tree, return its maximum depth. The maximum depth is the number of nodes along the longest path from the root node down to the farthest leaf node.\n",
    "\n",
    "**Input Parameters:** `root (TreeNode)`: The root node of the binary tree.\n",
    "\n",
    "**Output:** An integer representing the maximum depth of the binary tree.\n",
    "\n",
    "**Example:**\n",
    "\n",
    "    Input: root = [3, 9, 20, None, None, 15, 7]\n",
    "\n",
    "    Output: 3\n"
   ]
  },
  {
   "cell_type": "code",
   "execution_count": 8,
   "id": "d909f4b1",
   "metadata": {},
   "outputs": [],
   "source": [
    "def max_depth(root):\n",
    "    \"\"\"\n",
    "    Function to compute the maximum depth of a binary tree.\n",
    "    :param root: TreeNode -> root of the binary tree\n",
    "    :return: int -> maximum depth of the tree\n",
    "    \"\"\"\n",
    "    if root is None:\n",
    "        return 0\n",
    "\n",
    "    left_depth = max_depth(root.left)\n",
    "    right_depth = max_depth(root.right)\n",
    "\n",
    "    max_depth_of_tree = 1 + max(left_depth, right_depth)\n",
    "\n",
    "    return max_depth_of_tree\n"
   ]
  },
  {
   "cell_type": "code",
   "execution_count": 9,
   "id": "2503ad89",
   "metadata": {},
   "outputs": [
    {
     "name": "stdout",
     "output_type": "stream",
     "text": [
      "Maximum depth of the binary tree: 2\n"
     ]
    }
   ],
   "source": [
    "root = construct_tree_from_list([1, None, 2])\n",
    "result = max_depth(root)\n",
    "print(f\"Maximum depth of the binary tree: {result}\")"
   ]
  },
  {
   "cell_type": "code",
   "execution_count": 10,
   "id": "a0fa6cfb",
   "metadata": {},
   "outputs": [
    {
     "name": "stdout",
     "output_type": "stream",
     "text": [
      "Maximum depth of the binary tree: 3\n"
     ]
    }
   ],
   "source": [
    "root = construct_tree_from_list([3, 9, 20, None, None, 15, 7])\n",
    "result = max_depth(root)\n",
    "print(f\"Maximum depth of the binary tree: {result}\")"
   ]
  },
  {
   "cell_type": "markdown",
   "id": "2e84c6ca",
   "metadata": {},
   "source": [
    "## Balanced Binary Tree\n",
    "\n",
    "Given the root of a binary tree, determine if it is height-balanced. A binary tree is considered height-balanced if, for every node in the tree, the height difference between the left and right subtrees is at most 1.\n",
    "\n",
    "**Input Parameters:** `root (TreeNode)`: The root node of the binary tree.\n",
    "\n",
    "**Output:** A boolean value (`True` or `False`) indicating whether the tree is height-balanced.\n",
    "\n",
    "**Example**\n",
    "\n",
    "    Input: root = [3, 9, 20, None, None, 15, 7]\n",
    "\n",
    "    Output: True\n",
    "\n",
    "    Input: root = [1, 2, 2, 3, 3, None, None, 4, 4]\n",
    "\n",
    "    Output: False\n",
    "\n",
    "    Input: root = [3, 9, 20, None, None, 15, 7]\n",
    "\n",
    "    Output: True"
   ]
  },
  {
   "cell_type": "code",
   "execution_count": 11,
   "id": "4c219a02",
   "metadata": {},
   "outputs": [],
   "source": [
    "def is_balanced_binary_tree(root):\n",
    "    def check_balance(root):\n",
    "        if root is None:\n",
    "            return 0\n",
    "\n",
    "        left_height = check_balance(root.left)\n",
    "        right_height = check_balance(root.right)\n",
    "\n",
    "        if left_height == -1 or right_height == -1 or abs(left_height - right_height) > 1:\n",
    "            return -1\n",
    "\n",
    "        return 1 + max(left_height, right_height)\n",
    "\n",
    "    return check_balance(root) != -1"
   ]
  },
  {
   "cell_type": "code",
   "execution_count": 12,
   "id": "0c98b3b2",
   "metadata": {},
   "outputs": [
    {
     "name": "stdout",
     "output_type": "stream",
     "text": [
      "Is the binary tree balanced? True\n"
     ]
    }
   ],
   "source": [
    "root = construct_tree_from_list([3, 9, 20, None, None, 15, 7])\n",
    "print(f\"Is the binary tree balanced? {is_balanced_binary_tree(root)}\")"
   ]
  },
  {
   "cell_type": "code",
   "execution_count": 13,
   "id": "0a6e4d69",
   "metadata": {},
   "outputs": [
    {
     "name": "stdout",
     "output_type": "stream",
     "text": [
      "Is the binary tree balanced? False\n"
     ]
    }
   ],
   "source": [
    "root = construct_tree_from_list([1, 2, 2, 3, 3, None, None, 4, 4])\n",
    "print(f\"Is the binary tree balanced? {is_balanced_binary_tree(root)}\")"
   ]
  },
  {
   "cell_type": "markdown",
   "id": "81418d23",
   "metadata": {},
   "source": [
    "## Same Tree\n",
    "\n",
    "Given the roots of two binary trees p and q, write a function to check if they are the same or not. Two binary trees are considered the same if they are structurally identical, and the nodes have the same value.\n",
    "\n",
    "**Input Parameters:**\n",
    "\n",
    "`p (TreeNode)`: The root node of the first binary tree.\n",
    "\n",
    "`q (TreeNode)`: The root node of the second binary tree.\n",
    "\n",
    "**Output:** A boolean value (True or False) indicating whether the two trees are the same.\n",
    "\n",
    "Example:\n",
    "\n",
    "    Input: p = [1, 2, 3], q = [1, 2, 3]\n",
    "\n",
    "    Output: True\n",
    "\n",
    "    Input: p = [1, 2], q = [1, None, 2]\n",
    "\n",
    "    Output: False\n",
    "\n",
    "    Input: p = [1, 2, 1], q = [1, 1, 2]\n",
    "\n",
    "    Output: False\n"
   ]
  },
  {
   "cell_type": "code",
   "execution_count": 14,
   "id": "0715c261",
   "metadata": {},
   "outputs": [],
   "source": [
    "def is_same_tree(p, q):\n",
    "    \"\"\"\n",
    "    Function to check if two binary trees are the same.\n",
    "    :param p: TreeNode -> root of the first tree\n",
    "    :param q: TreeNode -> root of the second tree\n",
    "    :return: bool -> True if both trees are the same, False otherwise\n",
    "    \"\"\"\n",
    "    if p is None and q is None:\n",
    "        return True\n",
    "    \n",
    "    if p is None or q is None:\n",
    "        return False\n",
    "    \n",
    "    return (p.data == q.data and \n",
    "            is_same_tree(p.left, q.left) and \n",
    "            is_same_tree(p.right, q.right))"
   ]
  },
  {
   "cell_type": "code",
   "execution_count": 15,
   "id": "6cdb30e0",
   "metadata": {},
   "outputs": [
    {
     "name": "stdout",
     "output_type": "stream",
     "text": [
      "Are the two binary trees the same? True\n"
     ]
    }
   ],
   "source": [
    "root1 = construct_tree_from_list([1, 2, 3])\n",
    "root2 = construct_tree_from_list([1, 2, 3])\n",
    "print(f\"Are the two binary trees the same? {is_same_tree(root1, root2)}\")"
   ]
  },
  {
   "cell_type": "code",
   "execution_count": 16,
   "id": "e21c0037",
   "metadata": {},
   "outputs": [
    {
     "name": "stdout",
     "output_type": "stream",
     "text": [
      "Are the two binary trees the same? False\n"
     ]
    }
   ],
   "source": [
    "root1 = construct_tree_from_list([1, 2, 1])\n",
    "root2 = construct_tree_from_list([1, 1, 2])\n",
    "print(f\"Are the two binary trees the same? {is_same_tree(root1, root2)}\")"
   ]
  },
  {
   "cell_type": "markdown",
   "id": "6e0bfc9e",
   "metadata": {},
   "source": [
    "## Sum of Left Leaves\n",
    "\n",
    "Given the root of a binary tree, return the sum of all left leaves. A leaf is defined as a node with no children. A left leaf is a leaf that is the left child of another node.\n",
    "\n",
    "**Input Parameters:** `root (TreeNode)`: The root of the binary tree.\n",
    "\n",
    "**Output:** `int`: The sum of all left leaves in the binary tree.\n",
    "\n",
    "**Example:**\n",
    "\n",
    "    Input: root = [3, 9, 20, None, None, 15, 7]\n",
    "\n",
    "    Output: 24\n",
    "\n",
    "        3\n",
    "       / \\\n",
    "      9   20\n",
    "          / \\\n",
    "         15  7"
   ]
  },
  {
   "cell_type": "code",
   "execution_count": 21,
   "id": "af7f5267",
   "metadata": {},
   "outputs": [],
   "source": [
    "def sum_of_left_leaves(root):\n",
    "    \"\"\"\n",
    "    Function to find the sum of all left leaves in a binary tree.\n",
    "    :param root: TreeNode -> The root of the binary tree\n",
    "    :return: int -> The sum of all left leaves\n",
    "    \"\"\"\n",
    "    if root is None:\n",
    "        return 0\n",
    "    \n",
    "    total = 0\n",
    "    # Check if the left child is a leaf node\n",
    "    if root.left and root.left.left is None and root.left.right is None:\n",
    "        total += root.left.data\n",
    "\n",
    "    # Continue recursively for left and right subtrees\n",
    "    total += sum_of_left_leaves(root.left)\n",
    "    total += sum_of_left_leaves(root.right)\n",
    "\n",
    "    return total"
   ]
  },
  {
   "cell_type": "code",
   "execution_count": 23,
   "id": "3411e351",
   "metadata": {},
   "outputs": [
    {
     "name": "stdout",
     "output_type": "stream",
     "text": [
      "3 -> L: 9, R: 20\n",
      "9 -> L: None, R: None\n",
      "20 -> L: 15, R: 7\n",
      "15 -> L: None, R: None\n",
      "7 -> L: None, R: None\n",
      "\n",
      "Sum of left leaves: 24\n"
     ]
    }
   ],
   "source": [
    "root = construct_tree_from_list([3, 9, 20, None, None, 15, 7])\n",
    "print_tree_level_wise(root)\n",
    "print()\n",
    "print(f\"Sum of left leaves: {sum_of_left_leaves(root)}\")"
   ]
  },
  {
   "cell_type": "markdown",
   "id": "34336284",
   "metadata": {},
   "source": [
    "## Binary Tree Right Side View\n",
    "\n",
    "Given the root of a binary tree, imagine yourself standing on the right side of it. Return the values of the nodes you can see ordered from top to bottom.\n",
    "\n",
    "**Parameters:**\n",
    "\n",
    "`root (TreeNode)`: The root node of the binary tree.\n",
    "\n",
    "**Return Values:**\n",
    "\n",
    "`List[int]`: A list of integers representing the values of nodes visible from the right side of the tree.\n",
    "\n",
    "        Input: root = [1, 2, 3, None, 5, None, 4]\n",
    "\n",
    "        Output: [1, 3, 4]\n",
    "\n",
    "         1\n",
    "        / \\\n",
    "       2   3\n",
    "        \\\n",
    "         5\n",
    "          \\\n",
    "           4"
   ]
  },
  {
   "cell_type": "code",
   "execution_count": 24,
   "id": "d4ce858b",
   "metadata": {},
   "outputs": [],
   "source": [
    "def right_side_view(root):\n",
    "    \"\"\"\n",
    "    Function to get the right side view of a binary tree.\n",
    "    :param root: TreeNode -> The root of the binary tree\n",
    "    :return: List[int] -> The values of the nodes visible from the right side\n",
    "    \"\"\"\n",
    "    \n",
    "    right_view = []\n",
    "    \n",
    "    def helper(root, level):\n",
    "        if root is None:\n",
    "            return\n",
    "        if level == len(right_view):\n",
    "            right_view.append(root.data)\n",
    "        \n",
    "        # Traverse the right subtree first to ensure rightmost nodes are captured\n",
    "        helper(root.right, level + 1)\n",
    "        helper(root.left, level + 1)\n",
    "\n",
    "    helper(root, 0)\n",
    "    return right_view\n"
   ]
  },
  {
   "cell_type": "code",
   "execution_count": 26,
   "id": "e2d84520",
   "metadata": {},
   "outputs": [
    {
     "name": "stdout",
     "output_type": "stream",
     "text": [
      "1 -> L: 2, R: 3\n",
      "2 -> L: None, R: 5\n",
      "5 -> L: None, R: None\n",
      "3 -> L: None, R: 4\n",
      "4 -> L: None, R: None\n",
      "\n",
      "Right side view: [1, 3, 4]\n"
     ]
    }
   ],
   "source": [
    "root = construct_tree_from_list([1, 2, 3, None, 5, None, 4])\n",
    "print_tree_level_wise(root)\n",
    "print()\n",
    "print(f\"Right side view: {right_side_view(root)}\")"
   ]
  }
 ],
 "metadata": {
  "kernelspec": {
   "display_name": "base",
   "language": "python",
   "name": "python3"
  },
  "language_info": {
   "codemirror_mode": {
    "name": "ipython",
    "version": 3
   },
   "file_extension": ".py",
   "mimetype": "text/x-python",
   "name": "python",
   "nbconvert_exporter": "python",
   "pygments_lexer": "ipython3",
   "version": "3.12.4"
  }
 },
 "nbformat": 4,
 "nbformat_minor": 5
}
