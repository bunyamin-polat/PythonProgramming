{
 "cells": [
  {
   "cell_type": "markdown",
   "id": "6e9dd37d",
   "metadata": {},
   "source": [
    "## What is a Binary Search Tree (BST)?\n",
    "A Binary Search Tree (BST) is a special type of binary tree used in data structures to store data in an organized way, allowing fast search, insertion, and deletion operations.\n",
    "\n",
    "### Properties of a BST:\n",
    "1. Each node has at most two children:\n",
    "   - Left child\n",
    "  \n",
    "   - Right child\n",
    "\n",
    "2. All nodes in the left subtree are less than the parent node.\n",
    "   - left child < parent\n",
    "\n",
    "3. All nodes in the right subtree are greater than the parent node.\n",
    "   - right child > parent\n",
    "\n",
    "4. This rule applies recursively to every node in the tree.\n",
    "\n",
    "\n",
    "All nodes in the left subtree are less than the parent node.\n",
    "   - left child < parent\n",
    "\n",
    "All nodes in the right subtree are greater than the parent node.\n",
    "   - right child > parent\n",
    "\n",
    "This rule applies recursively to every node in the tree.\n",
    "\n",
    "### Example of a BST:\n",
    "```\n",
    "        10\n",
    "       /  \\\n",
    "      5    15\n",
    "     / \\     \\\n",
    "    3   7    20\n",
    "```\n",
    "### Applications of BST:\n",
    "- Searching for elements\n",
    " \n",
    "- Insertion and deletion of elements\n",
    " \n",
    "- Maintaining a sorted order of elements\n",
    " \n",
    "- Efficiently finding minimum and maximum values\n",
    "  \n",
    "- Database indexing\n",
    "\n",
    "- Sorting algorithms\n",
    " \n",
    "- Autocomplete systems\n",
    "\n",
    "- Dictionary and search systems"
   ]
  },
  {
   "cell_type": "code",
   "execution_count": 1,
   "id": "78b53e9f",
   "metadata": {},
   "outputs": [],
   "source": [
    "class BSTNode: # Define a class for the nodes of the Binary Search Tree\n",
    "    def __init__(self, data):\n",
    "        self.left = None\n",
    "        self.right = None\n",
    "        self.data = data\n",
    "\n",
    "def print_bst(root):\n",
    "    if root is None:\n",
    "        return\n",
    "    print_bst(root.left)\n",
    "    print(root.data, end = ' ') # Inorder traversal \n",
    "    print_bst(root.right)\n"
   ]
  },
  {
   "cell_type": "markdown",
   "id": "3bd4d85d",
   "metadata": {},
   "source": [
    "### Print Binary Search Tree"
   ]
  },
  {
   "cell_type": "code",
   "execution_count": 2,
   "id": "ee5ac1c4",
   "metadata": {},
   "outputs": [
    {
     "name": "stdout",
     "output_type": "stream",
     "text": [
      "Root 1:\n",
      "5 10 15 \n",
      "Root 2:\n",
      "5 10 15 20 25 30 35 \n",
      "Root 3:\n",
      "5 10 15 20 25 30 35 40 50 55 60 65 70 75 "
     ]
    }
   ],
   "source": [
    "from predefined_bst import predefined_bst_inputs, print_binary_search_tree\n",
    "\n",
    "root1, root2, root3 = predefined_bst_inputs()\n",
    "\n",
    "print(\"Root 1:\")\n",
    "print_bst(root1)\n",
    "print(\"\\nRoot 2:\")\n",
    "print_bst(root2)\n",
    "print(\"\\nRoot 3:\")\n",
    "print_bst(root3)"
   ]
  },
  {
   "cell_type": "code",
   "execution_count": 3,
   "id": "e6f141d2",
   "metadata": {},
   "outputs": [
    {
     "name": "stdout",
     "output_type": "stream",
     "text": [
      "Root 1:\n",
      "\n",
      "10 -> L: 5, R: 15\n",
      "5 -> L: None, R: None\n",
      "15 -> L: None, R: None\n",
      "\n",
      "Root 2:\n",
      "\n",
      "20 -> L: 10, R: 30\n",
      "10 -> L: 5, R: 15\n",
      "5 -> L: None, R: None\n",
      "15 -> L: None, R: None\n",
      "30 -> L: 25, R: 35\n",
      "25 -> L: None, R: None\n",
      "35 -> L: None, R: None\n",
      "\n",
      "Root 3:\n",
      "\n",
      "40 -> L: 20, R: 60\n",
      "20 -> L: 10, R: 30\n",
      "10 -> L: 5, R: 15\n",
      "5 -> L: None, R: None\n",
      "15 -> L: None, R: None\n",
      "30 -> L: 25, R: 35\n",
      "25 -> L: None, R: None\n",
      "35 -> L: None, R: None\n",
      "60 -> L: 50, R: 70\n",
      "50 -> L: None, R: 55\n",
      "55 -> L: None, R: None\n",
      "70 -> L: 65, R: 75\n",
      "65 -> L: None, R: None\n",
      "75 -> L: None, R: None\n"
     ]
    }
   ],
   "source": [
    "print(\"Root 1:\\n\")\n",
    "print_binary_search_tree(root1)\n",
    "print(\"\\nRoot 2:\\n\")\n",
    "print_binary_search_tree(root2)\n",
    "print(\"\\nRoot 3:\\n\")\n",
    "print_binary_search_tree(root3)"
   ]
  },
  {
   "cell_type": "markdown",
   "id": "88f3ac0c",
   "metadata": {},
   "source": [
    "### Search in a Binary Search Tree\n",
    "To search for a value in a BST, start at the root and compare the value with the current node's value:\n",
    "\n",
    "- If the `value` matches the current node's `value`, the search is successful.\n",
    "\n",
    "- If the `value` is less than the current node's `value`, move to the left child.\n",
    "\n",
    "- If the `value` is greater than the current node's `value`, move to the right child.\n"
   ]
  },
  {
   "cell_type": "code",
   "execution_count": 4,
   "id": "fe3dc2d8",
   "metadata": {},
   "outputs": [],
   "source": [
    "def search_in_bst(root, value):\n",
    "    if root is None:\n",
    "        return False\n",
    "    if root.data == value:\n",
    "        return True\n",
    "    elif value < root.data:\n",
    "        return search_in_bst(root.left, value)\n",
    "    else:\n",
    "        return search_in_bst(root.right, value)\n"
   ]
  },
  {
   "cell_type": "code",
   "execution_count": 5,
   "id": "6bca0630",
   "metadata": {},
   "outputs": [
    {
     "data": {
      "text/plain": [
       "False"
      ]
     },
     "execution_count": 5,
     "metadata": {},
     "output_type": "execute_result"
    }
   ],
   "source": [
    "search_in_bst(root1, 20)\n"
   ]
  },
  {
   "cell_type": "code",
   "execution_count": 6,
   "id": "1b6eb8c6",
   "metadata": {},
   "outputs": [
    {
     "data": {
      "text/plain": [
       "True"
      ]
     },
     "execution_count": 6,
     "metadata": {},
     "output_type": "execute_result"
    }
   ],
   "source": [
    "search_in_bst(root2, 15)"
   ]
  },
  {
   "cell_type": "code",
   "execution_count": 7,
   "id": "78eabb95",
   "metadata": {},
   "outputs": [
    {
     "data": {
      "text/plain": [
       "True"
      ]
     },
     "execution_count": 7,
     "metadata": {},
     "output_type": "execute_result"
    }
   ],
   "source": [
    "search_in_bst(root3, 25)"
   ]
  },
  {
   "cell_type": "markdown",
   "id": "f73387bb",
   "metadata": {},
   "source": [
    "### Sorted Array to Binary Search Tree\n",
    "To convert a sorted array into a balanced BST, follow these steps:\n",
    "\n",
    "1. Find the middle element of the array. This will be the root of the BST.\n",
    " \n",
    "3. Recursively apply the same process to the left half of the array to create the left subtree.\n",
    " \n",
    "3. Recursively apply the same process to the right half of the array to create the right subtree.\n",
    "   "
   ]
  },
  {
   "cell_type": "code",
   "execution_count": 8,
   "id": "13dd4534",
   "metadata": {},
   "outputs": [],
   "source": [
    "def sorted_array_to_bst(arr):\n",
    "    if arr is None or len(arr) == 0:\n",
    "        return None\n",
    "    \n",
    "    mid = len(arr) // 2\n",
    "    \n",
    "    root  = BSTNode(arr[mid])\n",
    "    root.left = sorted_array_to_bst(arr[:mid])\n",
    "    root.right = sorted_array_to_bst(arr[mid+1:])\n",
    "    return root"
   ]
  },
  {
   "cell_type": "code",
   "execution_count": 9,
   "id": "decc0a0c",
   "metadata": {},
   "outputs": [
    {
     "name": "stdout",
     "output_type": "stream",
     "text": [
      "Sorted Array to BST:\n",
      "4 -> L: 2, R: 6\n",
      "2 -> L: 1, R: 3\n",
      "1 -> L: None, R: None\n",
      "3 -> L: None, R: None\n",
      "6 -> L: 5, R: 7\n",
      "5 -> L: None, R: None\n",
      "7 -> L: None, R: None\n"
     ]
    }
   ],
   "source": [
    "root = sorted_array_to_bst([1, 2, 3, 4, 5, 6, 7])\n",
    "print(\"Sorted Array to BST:\")\n",
    "print_binary_search_tree(root)"
   ]
  },
  {
   "cell_type": "code",
   "execution_count": 10,
   "id": "630f8fd5",
   "metadata": {},
   "outputs": [
    {
     "name": "stdout",
     "output_type": "stream",
     "text": [
      "Sorted Array to BST:\n",
      "1 2 3 4 5 6 7 "
     ]
    }
   ],
   "source": [
    "print(\"Sorted Array to BST:\")\n",
    "print_bst(root)"
   ]
  },
  {
   "cell_type": "markdown",
   "id": "d7fc1eb9",
   "metadata": {},
   "source": [
    "### Check if a Tree is a BST\n",
    "To check if a tree is a BST, you can use the following approach:\n",
    "1. Start at the root node and check if it satisfies the BST properties.\n",
    "\n",
    "2. Recursively check the left subtree to ensure all values are less than the current node's value.\n",
    "\n",
    "3. Recursively check the right subtree to ensure all values are greater than the current node's value.\n",
    "\n",
    "4. If all checks pass, the tree is a BST; otherwise, it is not."
   ]
  },
  {
   "cell_type": "code",
   "execution_count": 11,
   "id": "4be54e77",
   "metadata": {},
   "outputs": [],
   "source": [
    "def find_max(node): # Function to find the maximum value in a BST\n",
    "    if node is None:\n",
    "        return float('-inf') # Return negative infinity if the node is None\n",
    "\n",
    "    left_max = find_max(node.left)\n",
    "    right_max = find_max(node.right)\n",
    "    \n",
    "    return max(node.data, left_max, right_max)\n",
    "\n",
    "def find_min(node): # Function to find the minimum value in a BST\n",
    "    if node is None:\n",
    "        return float('inf') # Return positive infinity if the node is None\n",
    "\n",
    "    left_min = find_min(node.left)\n",
    "    right_min = find_min(node.right)\n",
    "    \n",
    "    return min(node.data, left_min, right_min)\n",
    "\n",
    "def check_bst(root):\n",
    "    if root is None:\n",
    "        return True # An empty tree is a BST\n",
    "\n",
    "    left_max = find_max(root.left)\n",
    "    right_min = find_min(root.right)\n",
    "\n",
    "    left_bst = check_bst(root.left)\n",
    "    right_bst = check_bst(root.right)\n",
    "\n",
    "    return left_bst and right_bst and (left_max is None or left_max < root.data) and (right_min is None or right_min > root.data)"
   ]
  },
  {
   "cell_type": "code",
   "execution_count": 12,
   "id": "2ae47d8d",
   "metadata": {},
   "outputs": [
    {
     "name": "stdout",
     "output_type": "stream",
     "text": [
      "\n",
      "Root from sorted array:\n",
      "1 2 3 4 5 6 7 0 \n",
      "Is the tree a BST? False\n"
     ]
    }
   ],
   "source": [
    "root_from_array = sorted_array_to_bst([1, 2, 3, 4, 5, 6, 7, 0])\n",
    "print(\"\\nRoot from sorted array:\")\n",
    "print_bst(root_from_array)\n",
    "check_result = check_bst(root_from_array)\n",
    "print(\"\\nIs the tree a BST?\", check_result)"
   ]
  },
  {
   "cell_type": "code",
   "execution_count": 13,
   "id": "69ac5a93",
   "metadata": {},
   "outputs": [
    {
     "name": "stdout",
     "output_type": "stream",
     "text": [
      "\n",
      "Root 1:\n",
      "5 10 15 \n",
      "Is the tree a BST? True\n"
     ]
    }
   ],
   "source": [
    "root1 = predefined_bst_inputs()[0]  # Assuming root1 is defined in predefined_bst_inputs\n",
    "print(\"\\nRoot 1:\")\n",
    "print_bst(root1)\n",
    "check_result = check_bst(root1)\n",
    "print(\"\\nIs the tree a BST?\", check_result)"
   ]
  },
  {
   "cell_type": "markdown",
   "id": "0ed9cb96",
   "metadata": {},
   "source": [
    "### Check if a Tree is a BST - Optimized\n",
    "To check if a tree is a BST, you can use an optimized approach that keeps track of the valid range for each node:\n",
    "\n",
    "1. Start at the root node and initialize the valid range as negative infinity to positive infinity.\n",
    "\n",
    "2. For each node, check if its value is within the valid range.\n",
    " \n",
    "3. If the value is not within the range, return `False`.\n",
    "\n",
    "4. Recursively check the left subtree with an updated range (lower bound remains the same, upper bound is the current node's value).\n",
    "\n",
    "5. Recursively check the right subtree with an updated range (lower bound is the current node's value, upper bound remains the same).\n",
    "   \n",
    "6. If all nodes satisfy the range conditions, the tree is a BST; otherwise, it is not.\n",
    "\n",
    "7. If all nodes satisfy the range conditions, the tree is a BST; otherwise, it is not."
   ]
  },
  {
   "cell_type": "code",
   "execution_count": 14,
   "id": "56ccf4b5",
   "metadata": {},
   "outputs": [],
   "source": [
    "def check_bst_optimized(root, min_value = float('-inf'), max_value = float('inf')):\n",
    "    if root is None:\n",
    "        return True  # An empty tree is a BST\n",
    "\n",
    "    if not (min_value < root.data < max_value): # Current node violates the BST property\n",
    "        return False  # Current node violates the BST property\n",
    "\n",
    "    # Recursively check left and right subtrees with updated min and max values\n",
    "    return (check_bst_optimized(root.left, min_value, root.data) and check_bst_optimized(root.right, root.data, max_value))\n"
   ]
  },
  {
   "cell_type": "code",
   "execution_count": 15,
   "id": "1fee9556",
   "metadata": {},
   "outputs": [
    {
     "name": "stdout",
     "output_type": "stream",
     "text": [
      "\n",
      "Root from sorted array:\n",
      "1 2 3 4 5 6 7 0 \n",
      "Is the tree a BST? False\n"
     ]
    }
   ],
   "source": [
    "root_from_array = sorted_array_to_bst([1, 2, 3, 4, 5, 6, 7, 0])\n",
    "print(\"\\nRoot from sorted array:\")\n",
    "print_bst(root_from_array)\n",
    "check_result = check_bst_optimized(root_from_array)\n",
    "print(\"\\nIs the tree a BST?\", check_result)"
   ]
  },
  {
   "cell_type": "code",
   "execution_count": 16,
   "id": "65b7ce42",
   "metadata": {},
   "outputs": [
    {
     "name": "stdout",
     "output_type": "stream",
     "text": [
      "\n",
      "Root 1:\n",
      "5 10 15 \n",
      "Is the tree a BST? True\n"
     ]
    }
   ],
   "source": [
    "root1 = predefined_bst_inputs()[0]\n",
    "print(\"\\nRoot 1:\")\n",
    "print_bst(root1)\n",
    "check_result = check_bst_optimized(root1)\n",
    "print(\"\\nIs the tree a BST?\", check_result)"
   ]
  },
  {
   "cell_type": "markdown",
   "id": "01654597",
   "metadata": {},
   "source": [
    "### Print Elemennt in a Range\n",
    "\n",
    "To print elements in a given range in a BST, follow these steps:\n",
    "\n",
    "1. Start at the root node and check if its value is within the specified range.\n",
    " \n",
    "2. If the value is within the range, print it.\n",
    "\n",
    "3. If the value is greater than the lower bound of the range, recursively check the left subtree.\n",
    "\n",
    "4. If the value is less than the upper bound of the range, recursively check the right subtree.\n",
    "\n",
    "5. Continue this process until all nodes in the range are printed."
   ]
  },
  {
   "cell_type": "code",
   "execution_count": 17,
   "id": "fe35b7c7",
   "metadata": {},
   "outputs": [],
   "source": [
    "def print_bst_in_range(root, low, high):\n",
    "    if root is None:\n",
    "        return\n",
    "    \n",
    "    if low < root.data:\n",
    "        print_bst_in_range(root.left, low, high)\n",
    "    \n",
    "    if low <= root.data <= high:\n",
    "        print(root.data, end = ' ')\n",
    "\n",
    "    if high > root.data:\n",
    "        print_bst_in_range(root.right, low, high)\n",
    "        \n",
    "        \n",
    "# Structure:\n",
    "#        40\n",
    "#       /  \\\n",
    "#      20   60\n",
    "#     / \\   / \\\n",
    "#    10 30 50 70\n",
    "#   / \\  / \\  / \\\n",
    "#  5 15 25 35 55 65"
   ]
  },
  {
   "cell_type": "code",
   "execution_count": 18,
   "id": "9560dcf0",
   "metadata": {},
   "outputs": [
    {
     "name": "stdout",
     "output_type": "stream",
     "text": [
      "\n",
      "Printing BST in range [25, 65]:\n",
      "25 30 35 40 50 55 60 65 "
     ]
    }
   ],
   "source": [
    "root3 = predefined_bst_inputs()[2]\n",
    "print(\"\\nPrinting BST in range [25, 65]:\")\n",
    "print_bst_in_range(root3, 25, 65)"
   ]
  },
  {
   "cell_type": "markdown",
   "id": "1efcf647",
   "metadata": {},
   "source": [
    "### Check BST using Limits\n"
   ]
  },
  {
   "cell_type": "code",
   "execution_count": 19,
   "id": "130b3fef",
   "metadata": {},
   "outputs": [],
   "source": [
    "def check_bst_using_limits(root, min_value=float('-inf'), max_value=float('inf')):\n",
    "    if root is None:\n",
    "        return True  # An empty tree is a BST\n",
    "\n",
    "    if root.data < min_value or root.data > max_value:\n",
    "        return False\n",
    "\n",
    "    # Recursively check left and right subtrees with updated limits\n",
    "    return (check_bst_using_limits(root.left, min_value, root.data - 1) and check_bst_using_limits(root.right, root.data + 1, max_value))\n"
   ]
  },
  {
   "cell_type": "code",
   "execution_count": 20,
   "id": "0e45f8b0",
   "metadata": {},
   "outputs": [
    {
     "name": "stdout",
     "output_type": "stream",
     "text": [
      "\n",
      "Is the tree a BST using limits? True\n"
     ]
    }
   ],
   "source": [
    "result = check_bst_using_limits(root1)\n",
    "print(\"\\nIs the tree a BST using limits?\", result)"
   ]
  },
  {
   "cell_type": "code",
   "execution_count": 21,
   "id": "c4f17225",
   "metadata": {},
   "outputs": [
    {
     "name": "stdout",
     "output_type": "stream",
     "text": [
      "\n",
      "Is the tree a BST using limits? True\n"
     ]
    }
   ],
   "source": [
    "result = check_bst_using_limits(root2)\n",
    "print(\"\\nIs the tree a BST using limits?\", result)"
   ]
  },
  {
   "cell_type": "code",
   "execution_count": 22,
   "id": "5ac79b91",
   "metadata": {},
   "outputs": [
    {
     "name": "stdout",
     "output_type": "stream",
     "text": [
      "\n",
      "Is the tree a BST using limits? False\n"
     ]
    }
   ],
   "source": [
    "root_from_array = sorted_array_to_bst([1, 2, 3, 4, 5, 6, 7, 0])\n",
    "\n",
    "result = check_bst_using_limits(root_from_array)\n",
    "print(\"\\nIs the tree a BST using limits?\", result)"
   ]
  },
  {
   "cell_type": "markdown",
   "id": "799ce6b2",
   "metadata": {},
   "source": [
    "### Binary Search Tree Operations\n",
    "Binary Search Trees (BSTs) support several key operations:\n",
    "- **Insertion**: Add a new node with a specific value while maintaining the BST properties. Time complexity is O(log n) on average, O(n) in the worst case (unbalanced tree).\n",
    "\n",
    "- **Deletion**: Remove a node with a specific value while maintaining the BST properties. Time complexity is O(log n) on average, O(n) in the worst case.\n",
    "\n",
    "- **Search**: Find a node with a specific value. Time complexity is O(log n) on average, O(n) in the worst case.\n",
    "\n",
    "In a balanced binary search tree, each level splits the number of nodes in half, similar to binary search.\n",
    "\n",
    "At the first level, there's 1 node (the root).\n",
    "\n",
    "At the second level, there can be 2 nodes.\n",
    "\n",
    "At the third level, 4 nodes.\n",
    "\n",
    "At the k-th level, up to 2ᵏ nodes.\n",
    "\n",
    "So for a tree with n nodes, the height h of a balanced BST is approximately:\n",
    "\n",
    "bash\n",
    "Copy\n",
    "Edit\n",
    "n ≈ 2^h    ⟹   h ≈ log₂(n)\n",
    "Since BST operations like search, insert, and delete involve traversing from the root to a leaf, the time it takes is proportional to the height of the tree.\n",
    "\n",
    "Therefore, average time complexity = O(log n)."
   ]
  },
  {
   "cell_type": "code",
   "execution_count": 27,
   "id": "28cff8cf",
   "metadata": {},
   "outputs": [
    {
     "name": "stdout",
     "output_type": "stream",
     "text": [
      "50 -> L: 30, R: 70\n",
      "30 -> L: 20, R: 40\n",
      "20 -> L: None, R: None\n",
      "40 -> L: None, R: None\n",
      "70 -> L: 60, R: 80\n",
      "60 -> L: None, R: None\n",
      "80 -> L: None, R: None\n"
     ]
    }
   ],
   "source": [
    "from bst_class import BinarySearchTree, BSTNode\n",
    "\n",
    "bst = BinarySearchTree()\n",
    "bst.insert(50)\n",
    "bst.insert(30)\n",
    "bst.insert(70)\n",
    "bst.insert(20)\n",
    "bst.insert(40)\n",
    "bst.insert(60)\n",
    "bst.insert(80)\n",
    "\n",
    "print_binary_search_tree(bst.root)\n",
    "\n",
    "# Initial Tree:\n",
    "#         50\n",
    "#       /    \\\n",
    "#     30      70\n",
    "#    /  \\    /  \\\n",
    "#  20   40  60  80"
   ]
  },
  {
   "cell_type": "code",
   "execution_count": 28,
   "id": "33cc2346",
   "metadata": {},
   "outputs": [
    {
     "name": "stdout",
     "output_type": "stream",
     "text": [
      "\n",
      "Searching for 40 in BST: True\n",
      "Searching for 90 in BST: False\n"
     ]
    }
   ],
   "source": [
    "print(\"\\nSearching for 40 in BST:\", bst.search(40))\n",
    "print(\"Searching for 90 in BST:\", bst.search(90))"
   ]
  },
  {
   "cell_type": "code",
   "execution_count": 30,
   "id": "3ef62c36",
   "metadata": {},
   "outputs": [
    {
     "name": "stdout",
     "output_type": "stream",
     "text": [
      "\n",
      "After deleting 20:\n",
      "50 -> L: 30, R: 70\n",
      "30 -> L: None, R: 40\n",
      "40 -> L: None, R: None\n",
      "70 -> L: 60, R: 80\n",
      "60 -> L: None, R: None\n",
      "80 -> L: None, R: None\n"
     ]
    }
   ],
   "source": [
    "bst.delete(20) # Deleting a leaf node\n",
    "print(\"\\nAfter deleting 20:\")\n",
    "print_binary_search_tree(bst.root)\n",
    "\n",
    "# Tree after deleting 20:\n",
    "#         50\n",
    "#       /    \\\n",
    "#     30      70\n",
    "#      \\     /  \\\n",
    "#      40   60  80"
   ]
  },
  {
   "cell_type": "code",
   "execution_count": 31,
   "id": "24b1bd79",
   "metadata": {},
   "outputs": [
    {
     "name": "stdout",
     "output_type": "stream",
     "text": [
      "\n",
      "After deleting 30:\n",
      "50 -> L: 40, R: 70\n",
      "40 -> L: None, R: None\n",
      "70 -> L: 60, R: 80\n",
      "60 -> L: None, R: None\n",
      "80 -> L: None, R: None\n"
     ]
    }
   ],
   "source": [
    "bst.delete(30) # Deleting a node with one child\n",
    "print(\"\\nAfter deleting 30:\")\n",
    "print_binary_search_tree(bst.root)\n",
    "\n",
    "# Tree after deleting 30 (only right child 40 replaces it):\n",
    "#         50\n",
    "#       /    \\\n",
    "#     40      70\n",
    "#            /  \\\n",
    "#          60   80"
   ]
  },
  {
   "cell_type": "code",
   "execution_count": 32,
   "id": "53262672",
   "metadata": {},
   "outputs": [
    {
     "name": "stdout",
     "output_type": "stream",
     "text": [
      "\n",
      "After deleting 70:\n",
      "50 -> L: 40, R: 80\n",
      "40 -> L: None, R: None\n",
      "80 -> L: 60, R: None\n",
      "60 -> L: None, R: None\n"
     ]
    }
   ],
   "source": [
    "bst.delete(70) # Deleting a node with two children\n",
    "print(\"\\nAfter deleting 70:\")\n",
    "print_binary_search_tree(bst.root)\n",
    "\n",
    "# Tree after deleting 70 (inorder successor 80 replaces 70):\n",
    "#         50\n",
    "#       /    \\\n",
    "#     40      80\n",
    "#            /\n",
    "#          60"
   ]
  },
  {
   "cell_type": "code",
   "execution_count": null,
   "id": "81e2dfe0",
   "metadata": {},
   "outputs": [],
   "source": []
  }
 ],
 "metadata": {
  "kernelspec": {
   "display_name": "base",
   "language": "python",
   "name": "python3"
  },
  "language_info": {
   "codemirror_mode": {
    "name": "ipython",
    "version": 3
   },
   "file_extension": ".py",
   "mimetype": "text/x-python",
   "name": "python",
   "nbconvert_exporter": "python",
   "pygments_lexer": "ipython3",
   "version": "3.12.4"
  }
 },
 "nbformat": 4,
 "nbformat_minor": 5
}
