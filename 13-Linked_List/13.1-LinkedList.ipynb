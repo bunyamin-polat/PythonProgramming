{
 "cells": [
  {
   "cell_type": "markdown",
   "metadata": {},
   "source": [
    "## Linked List\n",
    "\n",
    "A linked list is a dynamic data structure where each element, or node, contains data and a reference to the next node. \n",
    "\n",
    "They offer flexible memory usage and efficient insertion and deletion operations. \n",
    "\n",
    "Linked lists are valuable in scenarios requiring dynamic memory allocation and frequent modifications."
   ]
  },
  {
   "cell_type": "markdown",
   "metadata": {},
   "source": [
    "### Linked List Basics\n",
    "\n",
    "A linked list is a linear data structure consisting of nodes where each node contains:\n",
    "\n",
    "- Data (or value).\n",
    "  \n",
    "- A reference (or link) to the next node in the sequence.\n",
    "  \n",
    "Unlike arrays, linked lists are not stored in contiguous memory locations. They are a dynamic data structure, meaning they can grow or shrink at runtime.\n",
    "\n",
    "**Types of Linked Lists**\n",
    "\n",
    "**Singly Linked List** - Each node points only to the next node.\n",
    "\n",
    "**Doubly Linked List** - Each node points to both the next and the previous node.\n",
    "\n",
    "**Circular Linked List** - The last node points back to the first node, making a circular structure.\n",
    "\n",
    "**Basic Terminology**\n",
    "\n",
    "**Head:** The first node in the linked list.\n",
    "\n",
    "**Tail:** The last node in the linked list.\n",
    "\n",
    "**Node:** A single unit in the list containing data and reference(s)."
   ]
  },
  {
   "cell_type": "code",
   "execution_count": 1,
   "metadata": {},
   "outputs": [],
   "source": [
    "class Node:\n",
    "    def __init__(self, data):\n",
    "        self.data = data # Assign data\n",
    "        self.next = None # Initialize next as null"
   ]
  },
  {
   "cell_type": "code",
   "execution_count": 2,
   "metadata": {},
   "outputs": [
    {
     "name": "stdout",
     "output_type": "stream",
     "text": [
      "4862214272\n",
      "4862214320\n",
      "4862214368\n"
     ]
    }
   ],
   "source": [
    "first = Node(1)\n",
    "second = Node(2)\n",
    "third = Node(3)\n",
    "\n",
    "print(id(first)) # id() returns the identity of the object\n",
    "print(id(second))\n",
    "print(id(third))"
   ]
  },
  {
   "cell_type": "code",
   "execution_count": null,
   "metadata": {},
   "outputs": [
    {
     "name": "stdout",
     "output_type": "stream",
     "text": [
      "1\n",
      "2\n",
      "3\n"
     ]
    }
   ],
   "source": [
    "first.next = second # Link first node with second\n",
    "second.next = third # Link second node with third\n",
    "head = first # Assign head to the first node\n",
    "\n",
    "print(head.data) # Print the data of the first node\n",
    "print(head.next.data) # Print the data of the second node\n",
    "print(head.next.next.data) # Print the data of the third node"
   ]
  },
  {
   "cell_type": "code",
   "execution_count": 4,
   "metadata": {},
   "outputs": [
    {
     "ename": "AttributeError",
     "evalue": "'NoneType' object has no attribute 'data'",
     "output_type": "error",
     "traceback": [
      "\u001b[0;31m---------------------------------------------------------------------------\u001b[0m",
      "\u001b[0;31mAttributeError\u001b[0m                            Traceback (most recent call last)",
      "Cell \u001b[0;32mIn[4], line 1\u001b[0m\n\u001b[0;32m----> 1\u001b[0m \u001b[38;5;28mprint\u001b[39m(third\u001b[38;5;241m.\u001b[39mnext\u001b[38;5;241m.\u001b[39mdata)\n",
      "\u001b[0;31mAttributeError\u001b[0m: 'NoneType' object has no attribute 'data'"
     ]
    }
   ],
   "source": [
    "print(third.next.data) # AttributeError: 'NoneType' object has no attribute 'data'"
   ]
  },
  {
   "cell_type": "markdown",
   "metadata": {},
   "source": [
    "### Print Linked List"
   ]
  },
  {
   "cell_type": "code",
   "execution_count": 5,
   "metadata": {},
   "outputs": [],
   "source": [
    "def print_LL(head):\n",
    "    while head is not None:  \n",
    "        print(head.data, end = ' -> ')\n",
    "        head = head.next\n",
    "    print(\"None\")"
   ]
  },
  {
   "cell_type": "code",
   "execution_count": 6,
   "metadata": {},
   "outputs": [
    {
     "name": "stdout",
     "output_type": "stream",
     "text": [
      "1 -> 2 -> 3 -> None\n"
     ]
    }
   ],
   "source": [
    "print_LL(head) # 1 2 3"
   ]
  },
  {
   "cell_type": "markdown",
   "metadata": {},
   "source": [
    "### Take Input of Linked List"
   ]
  },
  {
   "cell_type": "code",
   "execution_count": 7,
   "metadata": {},
   "outputs": [],
   "source": [
    "class Node:\n",
    "    def __init__(self, data):\n",
    "        self.data = data\n",
    "        self.next = None\n",
    "\n",
    "def print_LL(head):\n",
    "    temp = head # Assign head to temp to avoid changing head\n",
    "    while temp is not None:\n",
    "        print(temp.data, end = ' -> ')\n",
    "        temp = temp.next\n",
    "    print(\"None\")\n",
    "\n",
    "\n",
    "# Return a head to a newly linked list\n",
    "def take_input():\n",
    "    value = int(input('Enter the value of the node: '))\n",
    "    head = None\n",
    "    \n",
    "    while value != -1: # -1 to stop taking input\n",
    "        new_node = Node(value)\n",
    "        if head is None:\n",
    "            head = new_node\n",
    "        else:\n",
    "            temp = head\n",
    "            while temp.next is not None:\n",
    "                temp = temp.next\n",
    "            temp.next = new_node    \n",
    "        value = int(input('Enter the value of the node: '))\n",
    "    \n",
    "    return head"
   ]
  },
  {
   "cell_type": "code",
   "execution_count": 8,
   "metadata": {},
   "outputs": [
    {
     "name": "stdout",
     "output_type": "stream",
     "text": [
      "10 -> 20 -> 30 -> 40 -> None\n"
     ]
    }
   ],
   "source": [
    "new_head = take_input()\n",
    "\n",
    "print_LL(new_head)"
   ]
  },
  {
   "cell_type": "markdown",
   "metadata": {},
   "source": [
    "### What is the time complexity of the above code?\n",
    "\n",
    "O(n^2) because we are traversing the linked list n times to add a new node at the end."
   ]
  },
  {
   "cell_type": "code",
   "execution_count": 9,
   "metadata": {},
   "outputs": [],
   "source": [
    "def take_input_better():\n",
    "    value = int(input('Enter the value of the node: '))\n",
    "    head = None\n",
    "    tail = None\n",
    "    \n",
    "    while value != -1:\n",
    "        new_node = Node(value)\n",
    "        if head is None:\n",
    "            head = new_node\n",
    "            tail = new_node\n",
    "        else:\n",
    "            tail.next = new_node\n",
    "            tail = new_node\n",
    "            \n",
    "        value = int(input('Enter the value of the node: '))\n",
    "        \n",
    "    return head\n",
    "\n",
    "## Time complexity of the above function is O(n) where n is the number of nodes in the linked list"
   ]
  },
  {
   "cell_type": "code",
   "execution_count": 10,
   "metadata": {},
   "outputs": [
    {
     "name": "stdout",
     "output_type": "stream",
     "text": [
      "10 -> 20 -> 30 -> 40 -> None\n"
     ]
    }
   ],
   "source": [
    "new_head = take_input_better()\n",
    "\n",
    "print_LL(new_head)"
   ]
  },
  {
   "cell_type": "markdown",
   "metadata": {},
   "source": [
    "### Length of Linked List"
   ]
  },
  {
   "cell_type": "code",
   "execution_count": 11,
   "metadata": {},
   "outputs": [],
   "source": [
    "def length_LL(head):\n",
    "    \n",
    "    temp = head # Assign head to temp to avoid changing head\n",
    "    count = 0\n",
    "    while temp is not None:\n",
    "        count += 1\n",
    "        temp = temp.next\n",
    "        \n",
    "    return count"
   ]
  },
  {
   "cell_type": "code",
   "execution_count": 12,
   "metadata": {},
   "outputs": [
    {
     "name": "stdout",
     "output_type": "stream",
     "text": [
      "4\n"
     ]
    }
   ],
   "source": [
    "head = take_input_better()\n",
    "length = length_LL(head)\n",
    "print(length)"
   ]
  },
  {
   "cell_type": "markdown",
   "metadata": {},
   "source": [
    "### Length of Linked List with Recursion"
   ]
  },
  {
   "cell_type": "code",
   "execution_count": 13,
   "metadata": {},
   "outputs": [],
   "source": [
    "def length_LL_recursive(head):\n",
    "    if head is None: # Base case\n",
    "        return 0\n",
    "    recursion_answer = length_LL_recursive(head.next)\n",
    "    return 1 + recursion_answer\n",
    "    "
   ]
  },
  {
   "cell_type": "code",
   "execution_count": 14,
   "metadata": {},
   "outputs": [
    {
     "name": "stdout",
     "output_type": "stream",
     "text": [
      "4\n"
     ]
    }
   ],
   "source": [
    "length = length_LL_recursive(head)\n",
    "print(length)"
   ]
  }
 ],
 "metadata": {
  "kernelspec": {
   "display_name": "base",
   "language": "python",
   "name": "python3"
  },
  "language_info": {
   "codemirror_mode": {
    "name": "ipython",
    "version": 3
   },
   "file_extension": ".py",
   "mimetype": "text/x-python",
   "name": "python",
   "nbconvert_exporter": "python",
   "pygments_lexer": "ipython3",
   "version": "3.12.4"
  }
 },
 "nbformat": 4,
 "nbformat_minor": 2
}
