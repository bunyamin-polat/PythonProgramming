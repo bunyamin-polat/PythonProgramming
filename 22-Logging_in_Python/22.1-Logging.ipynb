{
 "cells": [
  {
   "cell_type": "markdown",
   "id": "5d890386",
   "metadata": {},
   "source": [
    "## Python Logging\n",
    "\n",
    "Logging is a way to track events that happen when some software runs. \n",
    "\n",
    "The logging module in Python is a standard module that provides a flexible framework for emitting log messages from Python programs. \n",
    "\n",
    "It is used to track events that happen during execution, which can be helpful for debugging and understanding the program's flow.\n",
    "\n",
    "### Logging Levels\n",
    "\n",
    "Python's logging module defines the following levels of logging, in increasing order of severity:\n",
    "\n",
    "1. **DEBUG**: Detailed information, typically of interest only when diagnosing problems.\n",
    "2. **INFO**: Confirmation that things are working as expected.\n",
    "3. **WARNING**: An indication that something unexpected happened, or indicative of some problem in the near future (e.g. ‘disk space low’). The software is still functioning as expected.\n",
    "4. **ERROR**: Due to a more serious problem, the software has not been able to perform some function.\n",
    "5. **CRITICAL**: A very serious error, indicating that the program itself may be unable to continue running."
   ]
  },
  {
   "cell_type": "code",
   "execution_count": 1,
   "id": "db855620",
   "metadata": {},
   "outputs": [
    {
     "name": "stderr",
     "output_type": "stream",
     "text": [
      "DEBUG:root:This is a debug message\n",
      "INFO:root:This is an info message\n",
      "WARNING:root:This is a warning message\n",
      "ERROR:root:This is an error message\n",
      "CRITICAL:root:This is a critical message\n"
     ]
    }
   ],
   "source": [
    "import logging\n",
    "\n",
    "## Logging Configuration\n",
    "logging.basicConfig(level=logging.DEBUG)\n",
    "\n",
    "## Logging Messages\n",
    "logging.debug(\"This is a debug message\")\n",
    "logging.info(\"This is an info message\")\n",
    "logging.warning(\"This is a warning message\")\n",
    "logging.error(\"This is an error message\")\n",
    "logging.critical(\"This is a critical message\")\n"
   ]
  },
  {
   "cell_type": "code",
   "execution_count": 5,
   "id": "ac5ee00f",
   "metadata": {},
   "outputs": [],
   "source": [
    "## Configuring Logging\n",
    "logging.basicConfig(\n",
    "    filename='app.log',\n",
    "    filemode='w',\n",
    "    level=logging.DEBUG,\n",
    "    format='%(asctime)s - %(name)s - %(levelname)s - %(message)s',  # asctime: timestamp, name: logger's name, levelname: level of the log message, message: actual log message\n",
    "    datefmt='%Y-%m-%d %H:%M:%S',\n",
    "    force=True\n",
    ")\n",
    "\n",
    "logging.debug(\"This is a debug message\")\n",
    "logging.info(\"This is an info message\")\n",
    "logging.warning(\"This is a warning message\")\n",
    "logging.error(\"This is an error message\")\n",
    "logging.critical(\"This is a critical message\")\n",
    "\n",
    "## You can see the log messages in the app.log file"
   ]
  },
  {
   "cell_type": "markdown",
   "id": "03be90dc",
   "metadata": {},
   "source": [
    "## Logging with Multiple Loggers\n",
    "\n",
    "We can create multiple loggers for different parts of your application."
   ]
  },
  {
   "cell_type": "code",
   "execution_count": 8,
   "id": "8dc993c2",
   "metadata": {},
   "outputs": [],
   "source": [
    "import logging\n",
    "\n",
    "## create a logger for module1\n",
    "logger1=logging.getLogger(\"module1\")\n",
    "logger1.setLevel(logging.DEBUG)\n",
    "\n",
    "##create a logger for module 2\n",
    "logger2=logging.getLogger(\"module2\")\n",
    "logger2.setLevel(logging.WARNING)\n",
    "\n",
    "# Configure logging settings\n",
    "logging.basicConfig(\n",
    "    level=logging.DEBUG,\n",
    "    format='%(asctime)s - %(name)s - %(levelname)s - %(message)s',\n",
    "    datefmt='%Y-%m-%d %H:%M:%S',\n",
    "    handlers=[\n",
    "        logging.FileHandler(\"app.log\"),\n",
    "        logging.StreamHandler()\n",
    "    ],\n",
    "    force = True\n",
    ")"
   ]
  },
  {
   "cell_type": "code",
   "execution_count": 9,
   "id": "be353131",
   "metadata": {},
   "outputs": [
    {
     "name": "stderr",
     "output_type": "stream",
     "text": [
      "2025-08-10 20:55:16 - module1 - DEBUG - This is debug message for module1\n",
      "2025-08-10 20:55:16 - module2 - WARNING - This is a warning message for module 2\n",
      "2025-08-10 20:55:16 - module2 - ERROR - This is an error message for module 2\n"
     ]
    }
   ],
   "source": [
    "## log message with different loggers\n",
    "logger1.debug(\"This is debug message for module1\")\n",
    "logger2.warning(\"This is a warning message for module 2\")\n",
    "logger2.error(\"This is an error message for module 2\")"
   ]
  },
  {
   "cell_type": "code",
   "execution_count": null,
   "id": "3b661f50",
   "metadata": {},
   "outputs": [],
   "source": []
  }
 ],
 "metadata": {
  "kernelspec": {
   "display_name": "base",
   "language": "python",
   "name": "python3"
  },
  "language_info": {
   "codemirror_mode": {
    "name": "ipython",
    "version": 3
   },
   "file_extension": ".py",
   "mimetype": "text/x-python",
   "name": "python",
   "nbconvert_exporter": "python",
   "pygments_lexer": "ipython3",
   "version": "3.12.4"
  }
 },
 "nbformat": 4,
 "nbformat_minor": 5
}
