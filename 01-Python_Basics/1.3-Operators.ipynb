{
 "cells": [
  {
   "cell_type": "markdown",
   "metadata": {},
   "source": [
    "## Operators\n",
    "\n",
    "- Operators in Python are used to perform operations on variables and values. \n",
    "\n",
    "- Python supports various types of operators including arithmetic, comparison, logical, assignment, and more.\n",
    "\n",
    "- This notebook will cover the main types of operators used in Python."
   ]
  },
  {
   "cell_type": "markdown",
   "metadata": {},
   "source": [
    "### 1 - Arithmethic Operation"
   ]
  },
  {
   "cell_type": "code",
   "execution_count": 1,
   "metadata": {},
   "outputs": [
    {
     "name": "stdout",
     "output_type": "stream",
     "text": [
      "Addition: 17\n",
      "Subtraction: 7\n",
      "Multiplication: 60\n",
      "Division: 2.4\n",
      "Integer Division: 2\n",
      "Modulus: 2\n",
      "Exponentiation: 248832\n"
     ]
    }
   ],
   "source": [
    "a = 12\n",
    "b = 5\n",
    "\n",
    "add_result = a + b\n",
    "sub_result = a - b\n",
    "mul_result = a * b\n",
    "div_result = a / b\n",
    "int_div_result = a // b\n",
    "mod_result = a % b\n",
    "exp_result = a ** b\n",
    "\n",
    "print(f\"Addition: {add_result}\")\n",
    "print(f\"Subtraction: {sub_result}\")\n",
    "print(f\"Multiplication: {mul_result}\")\n",
    "print(f\"Division: {div_result}\")\n",
    "print(f\"Integer Division: {int_div_result}\")\n",
    "print(f\"Modulus: {mod_result}\")\n",
    "print(f\"Exponentiation: {exp_result}\")"
   ]
  },
  {
   "cell_type": "markdown",
   "metadata": {},
   "source": [
    "### 2 - Comparison Operators"
   ]
  },
  {
   "cell_type": "code",
   "execution_count": 2,
   "metadata": {},
   "outputs": [
    {
     "name": "stdout",
     "output_type": "stream",
     "text": [
      "x == y: False\n",
      "x != y: True\n",
      "x > y: False\n",
      "x < y: True\n",
      "x >= y: False\n",
      "x <= y: True\n",
      "x is y: False\n"
     ]
    }
   ],
   "source": [
    "x = 10\n",
    "y = 20\n",
    "\n",
    "print(f\"x == y: {x == y}\")  # Equal to\n",
    "print(f\"x != y: {x != y}\")  # Not equal to\n",
    "print(f\"x > y: {x > y}\")  # Greater than\n",
    "print(f\"x < y: {x < y}\")  # Less than\n",
    "print(f\"x >= y: {x >= y}\")  # Greater than or equal to\n",
    "print(f\"x <= y: {x <= y}\")  # Less than or equal to\n",
    "print(f\"x is y: {x is y}\")  # Is\n",
    "\n"
   ]
  },
  {
   "cell_type": "markdown",
   "metadata": {},
   "source": [
    "### 3 - Logical Operators\n",
    "\n",
    "- Logical operators are used to combine conditional statements. \n",
    "\n",
    "- Python supports 'and', 'or', and 'not' logical operators.\n"
   ]
  },
  {
   "cell_type": "code",
   "execution_count": 3,
   "metadata": {},
   "outputs": [
    {
     "name": "stdout",
     "output_type": "stream",
     "text": [
      "x and y: False\n",
      "x or y: True\n",
      "not x: False\n"
     ]
    }
   ],
   "source": [
    "x = True\n",
    "y = False\n",
    "\n",
    "print(f\"x and y: {x and y}\") # True if both are True\n",
    "print(f\"x or y: {x or y}\") # True if at least one is True\n",
    "print(f\"not x: {not x}\") # True if x is False\n"
   ]
  },
  {
   "cell_type": "markdown",
   "metadata": {},
   "source": [
    "### 4 - Assignment Operators\n",
    "\n",
    "- Assignment operators are used to assign values to variables. \n",
    "- In addition to the basic assignment (=), Python supports compound assignment operators like +=, -=, etc."
   ]
  },
  {
   "cell_type": "code",
   "execution_count": 4,
   "metadata": {},
   "outputs": [
    {
     "name": "stdout",
     "output_type": "stream",
     "text": [
      "Initial value of x: 10\n",
      "x += 5: 15\n",
      "x -= 3: 12\n",
      "x *= 4: 48\n",
      "x /= 2: 24.0\n",
      "x //= 5: 4.0\n",
      "x %= 5: 4.0\n",
      "x **= 3: 64.0\n"
     ]
    }
   ],
   "source": [
    "x = 10\n",
    "\n",
    "print(f\"Initial value of x: {x}\")\n",
    "x += 5\n",
    "print(f\"x += 5: {x}\") # x = x + 5\n",
    "x -= 3\n",
    "print(f\"x -= 3: {x}\") # x = x - 5\n",
    "x *= 4\n",
    "print(f\"x *= 4: {x}\") # x = x * 5\n",
    "x /= 2\n",
    "print(f\"x /= 2: {x}\") # x = x / 5\n",
    "x //= 5\n",
    "print(f\"x //= 5: {x}\") # x = x // 5\n",
    "x %= 5\n",
    "print(f\"x %= 5: {x}\") # x = x % 5\n",
    "x **= 3\n",
    "print(f\"x **= 3: {x}\") # x = x ** 5\n"
   ]
  },
  {
   "cell_type": "markdown",
   "metadata": {},
   "source": [
    "#### 5 - Bitwise Operators\n",
    "- Bitwise operators perform operations on bits. These operators convert values to binary before performing operations.\n",
    "\n"
   ]
  },
  {
   "cell_type": "code",
   "execution_count": 5,
   "metadata": {},
   "outputs": [
    {
     "name": "stdout",
     "output_type": "stream",
     "text": [
      "x & y: 0\n",
      "x | y: 14\n",
      "x ^ y: 14\n",
      "~x: -11\n",
      "x << 2: 40\n",
      "x >> 2: 2\n"
     ]
    }
   ],
   "source": [
    "x = 10  # 1010 in binary\n",
    "y = 4   # 0100 in binary\n",
    "\n",
    "print(f\"x & y: {x & y}\")  # AND - returns bits that are set in both x and y\n",
    "print(f\"x | y: {x | y}\")  # OR - returns bits that are set in either x or y\n",
    "print(f\"x ^ y: {x ^ y}\")  # XOR - returns bits set in x or y but not both\n",
    "print(f\"~x: {~x}\")        # NOT - inverts all bits of x\n",
    "print(f\"x << 2: {x << 2}\") # Left Shift - shifts bits of x two places to the left\n",
    "print(f\"x >> 2: {x >> 2}\") # Right Shift - shifts bits of x two places to the right\n"
   ]
  }
 ],
 "metadata": {
  "kernelspec": {
   "display_name": "base",
   "language": "python",
   "name": "python3"
  },
  "language_info": {
   "codemirror_mode": {
    "name": "ipython",
    "version": 3
   },
   "file_extension": ".py",
   "mimetype": "text/x-python",
   "name": "python",
   "nbconvert_exporter": "python",
   "pygments_lexer": "ipython3",
   "version": "3.12.4"
  }
 },
 "nbformat": 4,
 "nbformat_minor": 2
}
