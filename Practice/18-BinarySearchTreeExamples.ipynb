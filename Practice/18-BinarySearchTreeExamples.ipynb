{
 "cells": [
  {
   "cell_type": "markdown",
   "id": "3e7c1004",
   "metadata": {},
   "source": [
    "## Search in a BST\n",
    "\n",
    "You are given the root of a binary search tree (BST) and an integer val. Your task is to find the node in the BST whose value equals val and return the subtree rooted with that node. \n",
    "\n",
    "If such a node does not exist, return null.\n",
    "\n",
    "A binary search tree (BST) is a binary tree in which for every node, all elements in the left subtree are smaller, and all elements in the right subtree are larger than the node's value.\n",
    "\n",
    "**Input Parameters:**\n",
    "\n",
    "`root (TreeNode):` The root node of the binary search tree.\n",
    "\n",
    "`val (int):` The value to search for in the tree.\n",
    "\n",
    "**Output:**\n",
    "\n",
    "The node whose value matches val, or None if the node does not exist in the tree.\n",
    "\n",
    "**Example:**\n",
    "\n",
    "```Input:\n",
    "        4\n",
    "       / \\\n",
    "      2   7\n",
    "     / \\\n",
    "    1   3\n",
    "val = 2\n",
    " \n",
    "Output:\n",
    "      2\n",
    "     / \\\n",
    "    1   3\n",
    " \n",
    " \n",
    "Input: \n",
    "        4\n",
    "       / \\\n",
    "      2   7\n",
    "     / \\\n",
    "    1   3\n",
    "val = 5\n",
    " \n",
    "Output: None\n",
    "```\n"
   ]
  },
  {
   "cell_type": "code",
   "execution_count": 1,
   "id": "af913612",
   "metadata": {},
   "outputs": [],
   "source": [
    "def search_bst(root, data):\n",
    "    \"\"\"\n",
    "    Function to search for a node in a Binary Search Tree (BST) whose value equals data.\n",
    "    :param root: TreeNode -> root of the binary search tree\n",
    "    :param data: int -> the value to search for\n",
    "    :return: TreeNode -> the node whose value equals data, or None if it doesn't exist\n",
    "    \"\"\"\n",
    "\n",
    "    if root is None:\n",
    "        return None\n",
    "    if root.data == data:\n",
    "        return root\n",
    "    elif root.data < data:\n",
    "        return search_bst(root.right, data)\n",
    "    else:\n",
    "        return search_bst(root.left, data)\n"
   ]
  },
  {
   "cell_type": "code",
   "execution_count": 3,
   "id": "2526ccc4",
   "metadata": {},
   "outputs": [
    {
     "name": "stdout",
     "output_type": "stream",
     "text": [
      "\n",
      "Searching for 30 in BST: True\n",
      "Searching for 90 in BST: False\n"
     ]
    }
   ],
   "source": [
    "from bst_class import BinarySearchTree, BSTNode, build_tree_from_level_order, print_bst, print_binary_search_tree\n",
    "bst = BinarySearchTree()\n",
    "for value in [20, 10, 30, 5, 15, 35]:\n",
    "    bst.insert(value)\n",
    "\n",
    "print(\"\\nSearching for 30 in BST:\", bst.search(30))\n",
    "print(\"Searching for 90 in BST:\", bst.search(90))"
   ]
  },
  {
   "cell_type": "markdown",
   "id": "178c4ce6",
   "metadata": {},
   "source": [
    "## Successor and Predecessor in a BST\n",
    "\n",
    "You are given a binary search tree (BST) with N nodes and an integer KEY representing the data of a node in this BST. Your task is to find and return the predecessor and successor of the node with the given KEY.\n",
    "\n",
    "**Predecessor:** The node that would be visited immediately before the node with KEY in an inorder traversal of the BST. If the given node is the first node in the inorder traversal, the predecessor should be NULL.\n",
    "\n",
    "**Successor:** The node that would be visited immediately after the node with KEY in an inorder traversal of the BST. If the given node is the last node in the inorder traversal, the successor should be NULL.\n",
    "\n",
    "**Input Parameters:**\n",
    "\n",
    "`root (TreeNode)`: The root of the binary search tree.\n",
    "\n",
    "`KEY (int)`: The data value of the node for which to find the predecessor and successor.\n",
    "\n",
    "**Output:**\n",
    "\n",
    "A tuple `(predecessor, successor)`, where both predecessor and successor are integers. If the predecessor or successor does not exist, return None for that value.\n",
    "\n",
    "**Example:**\n",
    "\n",
    "```Input:\n",
    "      20\n",
    "     /  \\\n",
    "    10   30\n",
    "   / \\    \\\n",
    "  5  15   35\n",
    "KEY = 35\n",
    "Output: (30, None)\n",
    "Explanation: In the inorder traversal [5, 10, 15, 20, 30, 35], the predecessor of 35 is 30 and there is no successor.\n",
    " \n",
    " \n",
    "Input:\n",
    "      20\n",
    "     /  \\\n",
    "    10   30\n",
    "   / \\    \\\n",
    "  5  15   35\n",
    "KEY = 10\n",
    "Output: (5, 15)\n",
    "Explanation: In the inorder traversal [5, 10, 15, 20, 30, 35], the predecessor of 10 is 5 and the successor is 15.\n",
    "```"
   ]
  },
  {
   "cell_type": "code",
   "execution_count": 4,
   "id": "3b3f7b79",
   "metadata": {},
   "outputs": [],
   "source": [
    "def find_predecessor_successor(root, key):\n",
    "    \"\"\"\n",
    "    Function to find the predecessor and successor of a node with the given key in a BST.\n",
    "    \n",
    "    :param root: TreeNode -> The root of the binary search tree\n",
    "    :param key: int -> The value of the node for which to find the predecessor and successor\n",
    "    :return: Tuple[Optional[int], Optional[int]] -> A tuple containing the predecessor and successor\n",
    "    \"\"\"\n",
    "    current = root\n",
    "    predecessor = None\n",
    "    successor = None\n",
    "    \n",
    "    # Find the node with the given key\n",
    "    while current:\n",
    "        if current.data == key:\n",
    "            # Found the node, now find predecessor and successor\n",
    "            if current.left:\n",
    "                # Find the maximum in the left subtree for predecessor\n",
    "                pred = current.left\n",
    "                while pred.right:\n",
    "                    pred = pred.right\n",
    "                predecessor = pred.data\n",
    "            \n",
    "            if current.right:\n",
    "                # Find the minimum in the right subtree for successor\n",
    "                succ = current.right\n",
    "                while succ.left:\n",
    "                    succ = succ.left\n",
    "                successor = succ.data\n",
    "            break\n",
    "        \n",
    "        elif key < current.data:\n",
    "            successor = current.data\n",
    "            current = current.left\n",
    "        else:\n",
    "            predecessor = current.data\n",
    "            current = current.right\n",
    "            \n",
    "    return (predecessor if predecessor else None, successor if successor else None)\n"
   ]
  },
  {
   "cell_type": "code",
   "execution_count": 5,
   "id": "2ccc8755",
   "metadata": {},
   "outputs": [],
   "source": [
    "bst = BinarySearchTree()\n",
    "for value in [20, 10, 30, 5, 15, 35]:\n",
    "    bst.insert(value)\n"
   ]
  },
  {
   "cell_type": "code",
   "execution_count": 6,
   "id": "c6fb76a9",
   "metadata": {},
   "outputs": [
    {
     "data": {
      "text/plain": [
       "(30, None)"
      ]
     },
     "execution_count": 6,
     "metadata": {},
     "output_type": "execute_result"
    }
   ],
   "source": [
    "find_predecessor_successor(bst.root, 35)"
   ]
  },
  {
   "cell_type": "code",
   "execution_count": 7,
   "id": "b2e77b6d",
   "metadata": {},
   "outputs": [
    {
     "data": {
      "text/plain": [
       "(5, 15)"
      ]
     },
     "execution_count": 7,
     "metadata": {},
     "output_type": "execute_result"
    }
   ],
   "source": [
    "find_predecessor_successor(bst.root, 10)"
   ]
  },
  {
   "cell_type": "markdown",
   "id": "b2154f09",
   "metadata": {},
   "source": [
    "## Recover a BST\n",
    "\n",
    "You are given the root of a binary search tree (BST), where the values of exactly two nodes of the tree were swapped by mistake. \n",
    "\n",
    "Your task is to recover the BST by swapping the values of these two nodes back to their correct positions. The structure of the tree should remain unchanged.\n",
    "\n",
    "\n",
    "**Input Parameters:** root (TreeNode): The root of the binary search tree.\n",
    "\n",
    "**Output:** The root of the corrected binary search tree.\n",
    "\n",
    "```Input:\n",
    "      3\n",
    "     / \\\n",
    "    1   4\n",
    "       /\n",
    "      2\n",
    "```\n",
    "\n",
    "```Output:\n",
    "      2\n",
    "     / \\\n",
    "    1   4\n",
    "       /\n",
    "      3\n",
    "```\n",
    "\n",
    "**Explanation:** The original tree has 2 and 3 swapped. The corrected tree is a valid BST."
   ]
  },
  {
   "cell_type": "code",
   "execution_count": 31,
   "id": "1eec2571",
   "metadata": {},
   "outputs": [],
   "source": [
    "class TreeNode:\n",
    "    def __init__(self, val=0, left=None, right=None):\n",
    "        self.val = val\n",
    "        self.left = left\n",
    "        self.right = right\n",
    " \n",
    "def recover_tree(root):\n",
    "    \"\"\"\n",
    "    Function to recover a BST where two nodes were swapped by mistake.\n",
    "    \n",
    "    :param root: TreeNode -> The root of the binary search tree\n",
    "    :return: TreeNode -> The root of the corrected binary search tree\n",
    "    \"\"\"\n",
    "    def inorder_traversal(node):\n",
    "        if node is None:\n",
    "            return []\n",
    "        return inorder_traversal(node.left) + [node] + inorder_traversal(node.right)\n",
    "    \n",
    "    # In-order traversal to get nodes in sorted order\n",
    "    nodes = inorder_traversal(root)\n",
    "    \n",
    "    # Find the two nodes that are swapped\n",
    "    first = second = None\n",
    "    prev = TreeNode(float('-inf')) # Initialize with a value less than any node's value\n",
    "    \n",
    "    for node in nodes:\n",
    "        if node.val < prev.val:\n",
    "            if first is None:\n",
    "                first = prev\n",
    "            second = node\n",
    "        prev = node\n",
    "    \n",
    "    # Swap the values of the two nodes\n",
    "    if first and second:\n",
    "        first.val, second.val = second.val, first.val\n",
    " \n",
    "    return root\n",
    " \n",
    "# Helper function for debugging (can be removed for production)\n",
    "def display_recovered_tree(root):\n",
    "    result = inorder_traversal(root)\n",
    "    print(result)\n",
    " \n",
    "def inorder_traversal(node):\n",
    "    \"\"\"Helper function to get in-order traversal of the tree.\"\"\"\n",
    "    if node is None:\n",
    "        return []\n",
    "    return inorder_traversal(node.left) + [node.val] + inorder_traversal(node.right)\n",
    " \n"
   ]
  },
  {
   "cell_type": "code",
   "execution_count": 32,
   "id": "0cd64843",
   "metadata": {},
   "outputs": [
    {
     "name": "stdout",
     "output_type": "stream",
     "text": [
      "[1, 3, 2]\n"
     ]
    }
   ],
   "source": [
    "# Example usage (can be removed)\n",
    "tree = TreeNode(1)\n",
    "tree.left = TreeNode(3)\n",
    "tree.right = TreeNode(2)\n",
    "recovered_tree = recover_tree(tree)\n",
    "print(inorder_traversal(recovered_tree))  # Output: [1, 2, 3]"
   ]
  },
  {
   "cell_type": "code",
   "execution_count": 33,
   "id": "f6465a25",
   "metadata": {},
   "outputs": [
    {
     "name": "stdout",
     "output_type": "stream",
     "text": [
      "[1, 2, 3, 4]\n"
     ]
    }
   ],
   "source": [
    "# Example usage (can be removed)\n",
    "tree = TreeNode(3)\n",
    "tree.left = TreeNode(1)\n",
    "tree.right = TreeNode(4)\n",
    "tree.right.left = TreeNode(2)\n",
    "recovered_tree = recover_tree(tree)\n",
    "print(inorder_traversal(recovered_tree))  # Output: [1, 2, 3, 4]"
   ]
  },
  {
   "cell_type": "markdown",
   "id": "8d8bf4b9",
   "metadata": {},
   "source": [
    "## Kth smallest element in BST\n",
    "\n",
    "You are given the root of a binary search tree (BST) and an integer k. Your task is to return the k-th smallest value of all the values of the nodes in the tree.\n",
    "\n",
    "**Input:**\n",
    "\n",
    "`root`: The root of the binary search tree (BST).\n",
    "\n",
    "`k`: An integer representing the rank (1-indexed) of the smallest element to find.\n",
    "\n",
    "**Output:**\n",
    "\n",
    "Return the k-th smallest value from the BST.\n",
    "\n",
    "**Example:**\n",
    "\n",
    "    Input:\n",
    "    root = [3,1,4,null,2], k = 1\n",
    "    Output: 1\n",
    "**Explanation:** The in-order traversal of the tree is [1, 2, 3, 4], and the 1st smallest element is 1.\n",
    "\n",
    "    Input:\n",
    "    root = [5,3,6,2,4,null,null,1], k = 3\n",
    "    Output: 3\n",
    "**Explanation:** The in-order traversal of the tree is [1, 2, 3, 4, 5, 6], and the 3rd smallest element is 3."
   ]
  },
  {
   "cell_type": "code",
   "execution_count": null,
   "id": "85f0990d",
   "metadata": {},
   "outputs": [],
   "source": [
    "def kth_smallest(root, k):\n",
    "    stack = [] # Initialize an empty stack\n",
    "    while root or stack: # Continue until all nodes are processed\n",
    "        while root: # Traverse to the leftmost node\n",
    "            stack.append(root)\n",
    "            root = root.left\n",
    "        root = stack.pop() # Process the node\n",
    "        k -= 1 # Decrement k for each node processed\n",
    "        if k == 0: # If k reaches 0, we found the kth smallest element\n",
    "            return root.data\n",
    "        root = root.right\n"
   ]
  },
  {
   "cell_type": "code",
   "execution_count": 40,
   "id": "7fe90f6c",
   "metadata": {},
   "outputs": [
    {
     "name": "stdout",
     "output_type": "stream",
     "text": [
      "The 3rd smallest element is: 15\n"
     ]
    }
   ],
   "source": [
    "bst = BinarySearchTree()\n",
    "for value in [20, 10, 30, 5, 15, 35]:\n",
    "    bst.insert(value)\n",
    "\n",
    "# Find the 3rd smallest element\n",
    "k = 3\n",
    "print(f\"The {k}rd smallest element is: {kth_smallest(bst.root, k)}\")"
   ]
  },
  {
   "cell_type": "markdown",
   "id": "e0b7cde4",
   "metadata": {},
   "source": [
    "## BST Queries\n",
    "\n",
    "You are given an arbitrary binary search tree (BST) with N nodes numbered from 1 to N. Each node has a value, and you are given Q queries. \n",
    "\n",
    "Each query is of the form [L, R], where L and R are integers representing the range. \n",
    "\n",
    "Your task is to find the number of nodes in the BST whose values lie within the range [L, R] for each query.\n",
    "\n",
    "\n",
    "**Input:**\n",
    "\n",
    "`root`: The root node of the binary search tree (BST).\n",
    "\n",
    "`queries`: A list of Q queries where each query is a list [L, R] representing the range.\n",
    "\n",
    "**Output:**\n",
    "\n",
    "A list of integers where each integer represents the count of nodes within the given range for each query.\n",
    "\n",
    "**Example:**\n",
    "\n",
    "    Input: root = [10,5,15,1,7,null,20]\n",
    "    queries = [[1, 5], [6, 10], [10, 20]]\n",
    "    Output: [2, 1, 2]\n",
    "\n",
    "**Explanation:**\n",
    "\n",
    "- For query [1, 5], nodes within the range are [1, 5] (2 nodes).\n",
    " \n",
    "- For query [6, 10], nodes within the range are [7, 10] (1 node).\n",
    " \n",
    "- For query [10, 20], nodes within the range are [10, 15, 20] (2 nodes)."
   ]
  },
  {
   "cell_type": "code",
   "execution_count": 45,
   "id": "3587136a",
   "metadata": {},
   "outputs": [],
   "source": [
    "def count_nodes_in_range(root, queries):\n",
    "    sorted_values = []\n",
    "    \n",
    "    def inorder_traversal(node):\n",
    "        if node is None:\n",
    "            return\n",
    "        inorder_traversal(node.left)\n",
    "        sorted_values.append(node.data)\n",
    "        inorder_traversal(node.right)\n",
    "\n",
    "    inorder_traversal(root)\n",
    "    result = []\n",
    "    for L, R in queries:\n",
    "        count = sum(1 for x in sorted_values if L <= x <= R)\n",
    "        result.append(count)\n",
    "    return result\n"
   ]
  },
  {
   "cell_type": "code",
   "execution_count": 46,
   "id": "313f754f",
   "metadata": {},
   "outputs": [
    {
     "name": "stdout",
     "output_type": "stream",
     "text": [
      "Counts of nodes in range for each query: [3, 3, 6]\n"
     ]
    }
   ],
   "source": [
    "bst = BinarySearchTree()\n",
    "for value in [20, 10, 30, 5, 15, 35]:\n",
    "    bst.insert(value)\n",
    "\n",
    "queries = [(10, 20), (15, 30), (5, 35)]\n",
    "result = count_nodes_in_range(bst.root, queries)\n",
    "print(\"Counts of nodes in range for each query:\", result)"
   ]
  },
  {
   "cell_type": "code",
   "execution_count": 47,
   "id": "ffe31f94",
   "metadata": {},
   "outputs": [
    {
     "name": "stdout",
     "output_type": "stream",
     "text": [
      "Counts of nodes in range for each query: [2, 2, 3]\n"
     ]
    }
   ],
   "source": [
    "bst = BinarySearchTree()\n",
    "for value in [10, 5, 15, 1, 7, 20]:\n",
    "    bst.insert(value)\n",
    "\n",
    "queries = [(1, 5), (6, 10), (10, 20)]\n",
    "result = count_nodes_in_range(bst.root, queries)\n",
    "print(\"Counts of nodes in range for each query:\", result)"
   ]
  },
  {
   "cell_type": "code",
   "execution_count": null,
   "id": "798d3cfd",
   "metadata": {},
   "outputs": [],
   "source": []
  }
 ],
 "metadata": {
  "kernelspec": {
   "display_name": "base",
   "language": "python",
   "name": "python3"
  },
  "language_info": {
   "codemirror_mode": {
    "name": "ipython",
    "version": 3
   },
   "file_extension": ".py",
   "mimetype": "text/x-python",
   "name": "python",
   "nbconvert_exporter": "python",
   "pygments_lexer": "ipython3",
   "version": "3.12.4"
  }
 },
 "nbformat": 4,
 "nbformat_minor": 5
}
