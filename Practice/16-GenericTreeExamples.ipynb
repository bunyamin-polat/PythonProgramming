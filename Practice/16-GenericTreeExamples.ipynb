{
 "cells": [
  {
   "cell_type": "markdown",
   "id": "ff6c55ed",
   "metadata": {},
   "source": [
    "## Count Nodes in a N-ary Tree\n",
    "\n",
    "You are given the root of an N-ary tree. Your task is to write a function to count the total number of nodes in the tree.\n",
    "\n",
    "An N-ary tree is a tree in which a node can have at most N children.\n",
    "\n",
    "**Input Parameters:** `root (Node)`: The root node of the N-ary tree.\n",
    "\n",
    "**Output:** An integer representing the total number of nodes in the tree.\n",
    "\n",
    "**Example:**\n",
    "\n",
    "      Input:\n",
    "        1\n",
    "      / | \\\n",
    "     2  3  4\n",
    "        |\n",
    "        5\n",
    "\n",
    "      Output: 5\n",
    "\n",
    "\n",
    "      Input:\n",
    "        1\n",
    "      / | \\ \\\n",
    "     2  3  4  5\n",
    "\n",
    "      Output: 5"
   ]
  },
  {
   "cell_type": "code",
   "execution_count": 1,
   "id": "26a5ddbb",
   "metadata": {},
   "outputs": [],
   "source": [
    "from generic_tree import print_tree_detailed, take_input_level_wise\n",
    "from collections import deque"
   ]
  },
  {
   "cell_type": "code",
   "execution_count": 2,
   "id": "9c451e34",
   "metadata": {},
   "outputs": [],
   "source": [
    "def count_nodes(root):\n",
    "    \"\"\"\n",
    "    Function to count the number of nodes in an N-ary tree.\n",
    "    :param root: Node -> root of the N-ary tree\n",
    "    :return: int -> total number of nodes in the tree\n",
    "    \"\"\"\n",
    "    if root is None:\n",
    "        return 0\n",
    "    \n",
    "    count = 1\n",
    "    for child in root.children:\n",
    "        count += count_nodes(child)\n",
    "    return count"
   ]
  },
  {
   "cell_type": "code",
   "execution_count": 3,
   "id": "c3b3f634",
   "metadata": {},
   "outputs": [
    {
     "name": "stdout",
     "output_type": "stream",
     "text": [
      "1 -> 2 3 4 \n",
      "2 -> 5 6 \n",
      "5 -> \n",
      "6 -> \n",
      "3 -> 7 \n",
      "7 -> \n",
      "4 -> 8 \n",
      "8 -> \n"
     ]
    }
   ],
   "source": [
    "root = take_input_level_wise()\n",
    "print_tree_detailed(root)"
   ]
  },
  {
   "cell_type": "code",
   "execution_count": 4,
   "id": "8f34602c",
   "metadata": {},
   "outputs": [
    {
     "name": "stdout",
     "output_type": "stream",
     "text": [
      "Total number of nodes in the tree: 8\n"
     ]
    }
   ],
   "source": [
    "count = count_nodes(root)\n",
    "print(f\"Total number of nodes in the tree: {count}\")"
   ]
  },
  {
   "cell_type": "markdown",
   "id": "cfc54063",
   "metadata": {},
   "source": [
    "## Sum of Nodes\n",
    "\n",
    "Given the root of an N-ary tree, return the sum of all the nodes' values. An N-ary tree is a tree in which each node has at most N children.\n",
    "\n",
    "**Input Parameters:** \n",
    "\n",
    "`root (Node)`: The root of the N-ary tree. Each node contains a value and a list of children nodes.\n",
    "\n",
    "**Output:**\n",
    "\n",
    "`int:` The sum of all node values in the N-ary tree.\n",
    "\n",
    "**Example:**\n",
    "\n",
    "    Input: root = Node(1, [Node(3, [Node(5), Node(6)]), Node(2), Node(4)])\n",
    "    Output: 21\n",
    "    \n",
    "    Input: root = Node(10, [])\n",
    "    Output: 10\n",
    "    \n",
    "    Input: root = Node(1, [Node(2, [Node(3)]), Node(4)])\n",
    "    Output: 10\n"
   ]
  },
  {
   "cell_type": "code",
   "execution_count": 5,
   "id": "dd774f23",
   "metadata": {},
   "outputs": [],
   "source": [
    "def sum_of_nodes(root):\n",
    "    \"\"\"\n",
    "    Function to find the sum of all nodes in an N-ary tree.\n",
    "    :param root: Node -> The root of the N-ary tree\n",
    "    :return: int -> The sum of all node values in the tree\n",
    "    \"\"\"\n",
    "    if root is None:\n",
    "        return 0\n",
    "    \n",
    "    total = root.data\n",
    "    for child in root.children:\n",
    "        total += sum_of_nodes(child)\n",
    "    \n",
    "    return total"
   ]
  },
  {
   "cell_type": "code",
   "execution_count": 6,
   "id": "956fbd24",
   "metadata": {},
   "outputs": [
    {
     "name": "stdout",
     "output_type": "stream",
     "text": [
      "Sum of all nodes in the tree: 36\n"
     ]
    }
   ],
   "source": [
    "result = sum_of_nodes(root)\n",
    "print(f\"Sum of all nodes in the tree: {result}\")"
   ]
  },
  {
   "cell_type": "markdown",
   "id": "db4d4870",
   "metadata": {},
   "source": [
    "## Largest value in each tree row\n",
    "\n",
    "Given the root of an N-ary tree, return a list of the largest value in each row of the tree. An N-ary tree is a tree where each node can have at most N children.\n",
    "\n",
    "**Input:** `root:` The root of the N-ary tree. Each node has a value and a list of children.\n",
    "\n",
    "**Output:** A list of integers where each integer represents the largest value found in that level of the tree.\n",
    "\n",
    "**Example:**\n",
    "\n",
    "    root = Node(1, [\n",
    "        Node(3, [Node(5), Node(6)]),\n",
    "        Node(2),\n",
    "        Node(4)\n",
    "    ])\n",
    "    Output : [1,4,6]\n"
   ]
  },
  {
   "cell_type": "code",
   "execution_count": 9,
   "id": "090b97a0",
   "metadata": {},
   "outputs": [],
   "source": [
    "def largest_values_in_rows(root):\n",
    "    \"\"\"\n",
    "    Find the largest value in each row of an N-ary tree.\n",
    "\n",
    "    Parameters:\n",
    "    root (Node): The root of the N-ary tree.\n",
    "\n",
    "    Returns:\n",
    "    List[int]: A list of integers where each integer is the largest value in that level of the tree.\n",
    "    \"\"\"\n",
    "\n",
    "    if root is None:\n",
    "        return []\n",
    "    \n",
    "    result = []\n",
    "    queue = deque([root])\n",
    "    \n",
    "    while queue:\n",
    "        level_size = len(queue)\n",
    "        max_value = float('-inf')\n",
    "        \n",
    "        for _ in range(level_size):\n",
    "            node = queue.popleft()\n",
    "            max_value = max(max_value, node.data)\n",
    "            for child in node.children:\n",
    "                queue.append(child)\n",
    "        \n",
    "        result.append(max_value)\n",
    "    return result"
   ]
  },
  {
   "cell_type": "code",
   "execution_count": 10,
   "id": "945e8660",
   "metadata": {},
   "outputs": [
    {
     "name": "stdout",
     "output_type": "stream",
     "text": [
      "Largest values in each row of the tree: [1, 4, 8]\n"
     ]
    }
   ],
   "source": [
    "max_values = largest_values_in_rows(root)\n",
    "print(f\"Largest values in each row of the tree: {max_values}\")"
   ]
  }
 ],
 "metadata": {
  "kernelspec": {
   "display_name": "base",
   "language": "python",
   "name": "python3"
  },
  "language_info": {
   "codemirror_mode": {
    "name": "ipython",
    "version": 3
   },
   "file_extension": ".py",
   "mimetype": "text/x-python",
   "name": "python",
   "nbconvert_exporter": "python",
   "pygments_lexer": "ipython3",
   "version": "3.12.4"
  }
 },
 "nbformat": 4,
 "nbformat_minor": 5
}
