{
 "cells": [
  {
   "cell_type": "markdown",
   "id": "0bb73f44",
   "metadata": {},
   "source": [
    "## What is a Hashmap?\n",
    "A hashmap is a data structure that stores data in key-value pairs. It uses a hash function to compute an index into an array of buckets, from which the desired value can be found.\n",
    "\n",
    "**In Python:**\n",
    "- A hashmap is implemented using the dict (dictionary) type.\n",
    "\n",
    "- It is built on top of a hash table internally.\n",
    "\n",
    "### Key Features of Hashmaps\n",
    "\n",
    "| Feature                     | Description                                                  |\n",
    "|-----------------------------|--------------------------------------------------------------|\n",
    "| 🔑 Keys must be unique      | You cannot have duplicate keys.                              |\n",
    "| 🔁 Values can repeat        | The same value can be used for different keys.               |\n",
    "| ⚡ Fast access               | Uses hashing to access values in O(1) time on average.      |\n",
    "| 🔒 Keys must be hashable    | They must be immutable types like str, int, tuple, etc.     |\n",
    "\n",
    "### What are Hashmaps Used For?\n",
    "\n",
    "Hashmaps are incredibly versatile and are used in many programming scenarios:\n",
    "\n",
    "**Common Use Cases:**\n",
    "\n",
    "**Fast lookups:** e.g., getting a user's data by ID\n",
    "\n",
    "**Counting and statistics:** e.g., word frequency\n",
    "\n",
    "**Mapping data:** e.g., mapping letters to Morse code\n",
    "\n",
    "**Caching:** e.g., storing previously calculated values\n",
    "\n",
    "**Memoization:** e.g., dynamic programming optimization\n",
    "\n",
    "### How Do Hashmaps Work?\n",
    "\n",
    "**Hash Function**\n",
    "\n",
    "A hash function takes a key and converts it into an index (a number). This index determines where the value is stored in memory.\n",
    "\n",
    "**Collisions**\n",
    "\n",
    "Sometimes, different keys might hash to the same index. This is called a collision. Python handles this internally using techniques like `open addressing` or `chaining`.\n",
    "\n",
    "### Using Hashmaps\n",
    "\n",
    "Hashmaps (in Python, `dict`) store data in key-value pairs. You can quickly access any value by its key. Operations like adding, updating, deleting, and retrieving data are very efficient.\n",
    "\n",
    "### Advanced Usage\n",
    "\n",
    "Python provides specialized types of hashmaps, such as:\n",
    "\n",
    "`defaultdict`: Automatically assigns default values to missing keys.\n",
    "\n",
    "`Counter`: Counts occurrences of elements (e.g., letters, words).\n",
    "\n",
    "`OrderedDict`: Maintains insertion order (mostly useful before Python 3.7).\n",
    "\n",
    "These are helpful for more advanced data processing and automation.\n",
    "\n",
    "### Performance\n",
    "\n",
    "Hashmaps offer excellent performance:\n",
    "\n",
    "Lookup, insert, and delete operations are typically constant time `(O(1))`.\n",
    "\n",
    "Iterating through all elements takes linear time `(O(n))`.\n",
    "\n"
   ]
  },
  {
   "cell_type": "markdown",
   "id": "7449020f",
   "metadata": {},
   "source": [
    "### Inbuilt Functions\n",
    "Python's `dict` type comes with a variety of built-in functions and methods that make it easy to work with hashmaps. Here are some of the most commonly used ones:\n",
    "\n",
    "- `dict.get(key, default=None)`: Returns the value for the specified key if it exists, otherwise returns the default value.\n",
    "  \n",
    "- `dict.keys()`: Returns a view object displaying a list of all the keys in the dictionary.\n",
    "  \n",
    "- `dict.values()`: Returns a view object displaying a list of all the values in the dictionary.\n",
    "  \n",
    "- `dict.items()`: Returns a view object displaying a list of key-value pairs in the dictionary.\n",
    "  \n",
    "- `dict.update(other)`: Updates the dictionary with key-value pairs from another dictionary or iterable.\n",
    "  \n",
    "- `dict.pop(key, default=None)`: Removes the specified key and returns its value. If the key is not found, returns the default value.\n",
    "  \n",
    "- `dict.clear()`: Removes all items from the dictionary.\n",
    "\n",
    "These functions make it easy to manipulate and interact with hashmaps in Python.\n"
   ]
  },
  {
   "cell_type": "code",
   "execution_count": 1,
   "id": "18bedf83",
   "metadata": {},
   "outputs": [
    {
     "name": "stdout",
     "output_type": "stream",
     "text": [
      "{'one': 1, 'two': 2}\n",
      "1\n"
     ]
    }
   ],
   "source": [
    "hashmap = {}\n",
    "\n",
    "hashmap['one'] = 1\n",
    "hashmap['two'] = 2\n",
    "\n",
    "print(hashmap)\n",
    "print(hashmap['one'])"
   ]
  },
  {
   "cell_type": "code",
   "execution_count": 2,
   "id": "940b5c2d",
   "metadata": {},
   "outputs": [
    {
     "name": "stdout",
     "output_type": "stream",
     "text": [
      "{1: 1, 2: 2, 3: 3}\n"
     ]
    }
   ],
   "source": [
    "def count_frequencies(nums):\n",
    "    frequency_map = {}\n",
    "    for num in nums:\n",
    "        if num in frequency_map:\n",
    "            frequency_map[num] += 1\n",
    "        else:\n",
    "            frequency_map[num] = 1\n",
    "    return frequency_map\n",
    "\n",
    "nums = [1, 2, 2, 3, 3, 3]\n",
    "frequencies = count_frequencies(nums)\n",
    "print(frequencies)"
   ]
  },
  {
   "cell_type": "code",
   "execution_count": 3,
   "id": "0de3157c",
   "metadata": {},
   "outputs": [
    {
     "data": {
      "text/plain": [
       "dict_values([1, 2, 3])"
      ]
     },
     "execution_count": 3,
     "metadata": {},
     "output_type": "execute_result"
    }
   ],
   "source": [
    "frequencies.values()  # Returns a view of the frequencies"
   ]
  },
  {
   "cell_type": "code",
   "execution_count": 4,
   "id": "44dcb990",
   "metadata": {},
   "outputs": [
    {
     "data": {
      "text/plain": [
       "dict_keys([1, 2, 3])"
      ]
     },
     "execution_count": 4,
     "metadata": {},
     "output_type": "execute_result"
    }
   ],
   "source": [
    "frequencies.keys()"
   ]
  },
  {
   "cell_type": "code",
   "execution_count": 5,
   "id": "aed87d57",
   "metadata": {},
   "outputs": [
    {
     "data": {
      "text/plain": [
       "dict_items([(1, 1), (2, 2), (3, 3)])"
      ]
     },
     "execution_count": 5,
     "metadata": {},
     "output_type": "execute_result"
    }
   ],
   "source": [
    "frequencies.items()"
   ]
  },
  {
   "cell_type": "code",
   "execution_count": null,
   "id": "9612ea7a",
   "metadata": {},
   "outputs": [
    {
     "data": {
      "text/plain": [
       "2"
      ]
     },
     "execution_count": 6,
     "metadata": {},
     "output_type": "execute_result"
    }
   ],
   "source": [
    "frequencies.get(2, 0)  # Returns 2 if key exists, otherwise returns 0"
   ]
  },
  {
   "cell_type": "code",
   "execution_count": 7,
   "id": "19a39d1a",
   "metadata": {},
   "outputs": [
    {
     "name": "stdout",
     "output_type": "stream",
     "text": [
      "[['eat', 'tea', 'ate'], ['tan', 'nat'], ['bat']]\n"
     ]
    }
   ],
   "source": [
    "def group_anagrams(words):\n",
    "    anagram_map = {}\n",
    "    for word in words:\n",
    "        sorted_word = ''.join(sorted(word))\n",
    "        if sorted_word in anagram_map:\n",
    "            anagram_map[sorted_word].append(word)\n",
    "        else:\n",
    "            anagram_map[sorted_word] = [word]\n",
    "    return list(anagram_map.values())\n",
    "\n",
    "words = [\"eat\", \"tea\", \"tan\", \"ate\", \"nat\", \"bat\"]\n",
    "anagrams = group_anagrams(words)\n",
    "print(anagrams)"
   ]
  },
  {
   "cell_type": "markdown",
   "id": "0f6c255c",
   "metadata": {},
   "source": [
    "### Some Examples of Hashmaps in Python"
   ]
  },
  {
   "cell_type": "code",
   "execution_count": 8,
   "id": "f832b17b",
   "metadata": {},
   "outputs": [
    {
     "name": "stdout",
     "output_type": "stream",
     "text": [
      "[3, 4]\n"
     ]
    }
   ],
   "source": [
    "def intersection_of_arrays(arr1, arr2):\n",
    "    hashmap = {}\n",
    "    for num in arr1:\n",
    "        hashmap[num] = True # Store presence of num in arr1\n",
    "    # Find intersection with arr2\n",
    "    intersection = []\n",
    "    for num in arr2:\n",
    "        if num in hashmap:\n",
    "            intersection.append(num)\n",
    "    return intersection\n",
    "\n",
    "arr1 = [1, 2, 3, 4]\n",
    "arr2 = [3, 4, 5, 6]\n",
    "intersection = intersection_of_arrays(arr1, arr2)\n",
    "print(intersection)"
   ]
  },
  {
   "cell_type": "code",
   "execution_count": 9,
   "id": "391b9f5f",
   "metadata": {},
   "outputs": [
    {
     "name": "stdout",
     "output_type": "stream",
     "text": [
      "True\n",
      "False\n"
     ]
    }
   ],
   "source": [
    "def contains_duplicates(nums):\n",
    "    seen = {}\n",
    "    for num in nums:\n",
    "        if num in seen:\n",
    "            return True\n",
    "        seen[num] = True\n",
    "    return False\n",
    "\n",
    "nums1 = [1, 2, 3, 4, 1]\n",
    "nums2 = [1, 2, 3, 4]\n",
    "print(contains_duplicates(nums1))  # Returns True since 1 is duplicated\n",
    "print(contains_duplicates(nums2))  # Returns False since there are no duplicates"
   ]
  },
  {
   "cell_type": "code",
   "execution_count": 10,
   "id": "31f1d4a6",
   "metadata": {},
   "outputs": [
    {
     "name": "stdout",
     "output_type": "stream",
     "text": [
      "w\n",
      "v\n"
     ]
    }
   ],
   "source": [
    "def first_non_repeating_char(s):\n",
    "    seen = {}\n",
    "    for char in s:\n",
    "        if char in seen:\n",
    "            seen[char] += 1 # Increment count if char seen again\n",
    "        else:\n",
    "            seen[char] = 1 # Initialize count for char\n",
    "    for char in s:\n",
    "        if seen[char] == 1:\n",
    "            return char\n",
    "    return None\n",
    "\n",
    "s1 = \"swiss\"\n",
    "s2 = \"level\"\n",
    "print(first_non_repeating_char(s1))  # Returns 'w'\n",
    "print(first_non_repeating_char(s2))  # Returns 'v' since both 'l"
   ]
  },
  {
   "cell_type": "markdown",
   "id": "c2432244",
   "metadata": {},
   "source": [
    "### Using Open Addressing Class"
   ]
  },
  {
   "cell_type": "code",
   "execution_count": 11,
   "id": "e1c4c448",
   "metadata": {},
   "outputs": [
    {
     "name": "stdout",
     "output_type": "stream",
     "text": [
      "{banana: 10, orange: 15, apple: 5}\n",
      "10\n",
      "20\n"
     ]
    }
   ],
   "source": [
    "from OpenAdressing import Hashmaps\n",
    "\n",
    "hashmap = Hashmaps(10)\n",
    "hashmap[\"apple\"] = 5\n",
    "hashmap[\"banana\"] = 10\n",
    "hashmap[\"orange\"] = 15\n",
    "\n",
    "print(hashmap)\n",
    "\n",
    "print(hashmap[\"banana\"])\n",
    "\n",
    "hashmap[\"banana\"] = 20\n",
    "print(hashmap[\"banana\"])"
   ]
  },
  {
   "cell_type": "code",
   "execution_count": 12,
   "id": "ac84d7fa",
   "metadata": {},
   "outputs": [
    {
     "name": "stdout",
     "output_type": "stream",
     "text": [
      "Key 'orange' deleted successfully.\n",
      "Key 'orange' not found, nothing to delete.\n",
      "{banana: 20, banana: 20, apple: 5}\n"
     ]
    }
   ],
   "source": [
    "hashmap.delete(\"orange\")\n",
    "print(hashmap)"
   ]
  },
  {
   "cell_type": "markdown",
   "id": "2a7fc723",
   "metadata": {},
   "source": [
    "### Using Chaining Class"
   ]
  },
  {
   "cell_type": "code",
   "execution_count": 13,
   "id": "5a802a40",
   "metadata": {},
   "outputs": [],
   "source": [
    "from Chaining import HashmapUsingChaining"
   ]
  },
  {
   "cell_type": "code",
   "execution_count": 14,
   "id": "43f9fde2",
   "metadata": {},
   "outputs": [
    {
     "name": "stdout",
     "output_type": "stream",
     "text": [
      "Current load factor: 0.10\n",
      "Current load factor: 0.20\n",
      "Current load factor: 0.30\n"
     ]
    }
   ],
   "source": [
    "hash_map = HashmapUsingChaining(10)\n",
    "hash_map.insert(\"apple\", 5)\n",
    "hash_map.insert(\"banana\", 10)\n",
    "hash_map.insert(\"orange\", 15)"
   ]
  },
  {
   "cell_type": "code",
   "execution_count": 15,
   "id": "1482e249",
   "metadata": {},
   "outputs": [
    {
     "name": "stdout",
     "output_type": "stream",
     "text": [
      "10\n",
      "Key not found\n"
     ]
    }
   ],
   "source": [
    "print(hash_map.get(\"banana\"))  # Should return 10\n",
    "print(hash_map.get(\"grape\"))   # Should return None since \"grape\" is not in the hashmap "
   ]
  },
  {
   "cell_type": "code",
   "execution_count": 16,
   "id": "ae49072b",
   "metadata": {},
   "outputs": [
    {
     "name": "stdout",
     "output_type": "stream",
     "text": [
      "1281232673994172434 -3559394575357714710 -6219864525248103812\n"
     ]
    }
   ],
   "source": [
    "print(hash(\"apple\"), hash(\"banana\"), hash(\"orange\"))  # Example of hashing function output"
   ]
  },
  {
   "cell_type": "code",
   "execution_count": 17,
   "id": "e3c795a8",
   "metadata": {},
   "outputs": [
    {
     "name": "stdout",
     "output_type": "stream",
     "text": [
      "Key 'banana' removed successfully.\n",
      "Key not found\n",
      "2\n",
      "Bucket 0:\n",
      "Bucket 1:\n",
      "Bucket 2:\n",
      "orange: 15\n",
      "Bucket 3:\n",
      "Bucket 4:\n",
      "apple: 5\n",
      "Bucket 5:\n",
      "Bucket 6:\n",
      "Bucket 7:\n",
      "Bucket 8:\n",
      "Bucket 9:\n",
      "Hashmap with 2 elements and 10 buckets.\n"
     ]
    }
   ],
   "source": [
    "hash_map.remove(\"banana\")\n",
    "print(hash_map.get(\"banana\"))  # Should return None since \"banana\" was removed\n",
    "print(len(hash_map))   # Should return 5 since \"apple\" is still in the hashmap\n",
    "print(hash_map)  # Should show the current state of the hashmap\n",
    "\n",
    "# We have 10 slots in the hashmap, and we can add more items as needed."
   ]
  },
  {
   "cell_type": "code",
   "execution_count": 18,
   "id": "78457d11",
   "metadata": {},
   "outputs": [
    {
     "name": "stdout",
     "output_type": "stream",
     "text": [
      "0\n",
      "Current load factor: 0.33\n",
      "Current load factor: 0.67\n",
      "Current load factor: 1.00\n",
      "Rehashing...\n",
      "Current load factor: 0.17\n",
      "Current load factor: 0.33\n",
      "Current load factor: 0.50\n",
      "Current load factor: 0.67\n",
      "Current load factor: 0.83\n",
      "Rehashing...\n",
      "Current load factor: 0.08\n",
      "Current load factor: 0.17\n",
      "Current load factor: 0.25\n",
      "Current load factor: 0.33\n",
      "Current load factor: 0.42\n",
      "Current load factor: 0.50\n",
      "6\n"
     ]
    }
   ],
   "source": [
    "h2 = HashmapUsingChaining(3)\n",
    "print(len(h2))  # Should return 0 since no items are inserted yet\n",
    "h2.insert(\"apple\", 5)\n",
    "h2.insert(\"banana\", 10)\n",
    "h2.insert(\"orange\", 15)\n",
    "h2.insert(\"grape\", 20)\n",
    "h2.insert(\"kiwi\", 25)\n",
    "h2.insert(\"mango\", 30)\n",
    "print(len(h2))  # Should return 6 since we inserted 6 items"
   ]
  },
  {
   "cell_type": "code",
   "execution_count": null,
   "id": "3a9b0678",
   "metadata": {},
   "outputs": [],
   "source": []
  }
 ],
 "metadata": {
  "kernelspec": {
   "display_name": "base",
   "language": "python",
   "name": "python3"
  },
  "language_info": {
   "codemirror_mode": {
    "name": "ipython",
    "version": 3
   },
   "file_extension": ".py",
   "mimetype": "text/x-python",
   "name": "python",
   "nbconvert_exporter": "python",
   "pygments_lexer": "ipython3",
   "version": "3.12.4"
  }
 },
 "nbformat": 4,
 "nbformat_minor": 5
}
