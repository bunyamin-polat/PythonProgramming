{
 "cells": [
  {
   "cell_type": "markdown",
   "id": "c7254025",
   "metadata": {},
   "source": [
    "## Queues\n",
    "\n",
    "A Queue is a linear data structure that follows the FIFO principle: First In, First Out – the first element added to the queue will be the first one to be removed.\n",
    "\n",
    "### Basic Operations\n",
    "\n",
    "- **enqueue:** Add an element to the end of the queue.\n",
    "\n",
    "- **dequeue:** Remove the element from the front of the queue.\n",
    "\n",
    "- **peek / front:** View the front element without removing it.\n",
    "\n",
    "- **size:** Returns the number of elements in the queue.\n",
    "\n",
    "- **isEmpty:** Check if the queue is empty.\n",
    "\n",
    "### What is a Queue Used For?\n",
    "\n",
    "**1. Task Scheduling**\n",
    "\n",
    "- Operating systems use queues to schedule processes (e.g., round-robin scheduling).\n",
    "\n",
    "- Printer job queue.\n",
    "\n",
    "**2. Data Buffering**\n",
    "\n",
    "Buffers in I/O operations, streaming, or data packets in networks.\n",
    "\n",
    "**3. Breadth-First Search (BFS)**\n",
    "\n",
    "In graph and tree traversal algorithms (BFS uses a queue internally).\n",
    "\n",
    "**4. Customer Service Systems**\n",
    "\n",
    "Call center lines or help desk support ticket systems.\n",
    "\n",
    "**5. CPU and Disk Scheduling**\n",
    "\n",
    "Managing resource allocation in multitasking systems.\n",
    "\n",
    "**6. Simulation Systems**\n",
    "\n",
    "Traffic systems, customer lines, or checkout lanes in supermarkets."
   ]
  },
  {
   "cell_type": "markdown",
   "id": "fdb2ca19",
   "metadata": {},
   "source": [
    "### Queue Implementation using In-built List"
   ]
  },
  {
   "cell_type": "code",
   "execution_count": 1,
   "id": "1f6622bc",
   "metadata": {},
   "outputs": [],
   "source": [
    "class QueueUsingList:\n",
    "    def __init__(self):\n",
    "        self.__queue = []\n",
    "\n",
    "    def size(self):\n",
    "        return len(self.__queue)\n",
    "    \n",
    "    def is_empty(self):\n",
    "        return self.size() == 0\n",
    "    \n",
    "    def enqueue(self, data):\n",
    "        self.__queue.append(data)\n",
    "        return f\"Added {data} to the Queue\"\n",
    "    \n",
    "    def front(self):\n",
    "        if self.size() == 0:\n",
    "            print(\"Queue is empty\")\n",
    "            return None\n",
    "        return self.__queue[0]\n",
    "    \n",
    "    def dequeue(self):\n",
    "        if self.size() == 0:\n",
    "            print(\"Queue is empty\")\n",
    "            return None\n",
    "        return self.__queue.pop(0)\n",
    "    "
   ]
  },
  {
   "cell_type": "code",
   "execution_count": 2,
   "id": "66c7c097",
   "metadata": {},
   "outputs": [
    {
     "name": "stdout",
     "output_type": "stream",
     "text": [
      "Initial queue size: 0\n",
      "Is queue empty? True\n"
     ]
    }
   ],
   "source": [
    "my_queue = QueueUsingList()\n",
    "print(\"Initial queue size:\", my_queue.size())\n",
    "print(\"Is queue empty?\", my_queue.is_empty())"
   ]
  },
  {
   "cell_type": "code",
   "execution_count": 3,
   "id": "070d3989",
   "metadata": {},
   "outputs": [
    {
     "data": {
      "text/plain": [
       "'Added 30 to the Queue'"
      ]
     },
     "execution_count": 3,
     "metadata": {},
     "output_type": "execute_result"
    }
   ],
   "source": [
    "my_queue.enqueue(10)\n",
    "my_queue.enqueue(20)\n",
    "my_queue.enqueue(30)"
   ]
  },
  {
   "cell_type": "code",
   "execution_count": 4,
   "id": "3361a44f",
   "metadata": {},
   "outputs": [
    {
     "name": "stdout",
     "output_type": "stream",
     "text": [
      "Current queue size: 3\n",
      "Is queue empty? False\n",
      "Front element: 10\n",
      "Dequeue element: 10\n",
      "Current queue size: 2\n",
      "Is queue empty? False\n"
     ]
    }
   ],
   "source": [
    "print(\"Current queue size:\", my_queue.size())\n",
    "print(\"Is queue empty?\", my_queue.is_empty())\n",
    "print(\"Front element:\", my_queue.front())\n",
    "print(\"Dequeue element:\", my_queue.dequeue())\n",
    "print(\"Current queue size:\", my_queue.size())\n",
    "print(\"Is queue empty?\", my_queue.is_empty())"
   ]
  },
  {
   "cell_type": "code",
   "execution_count": 5,
   "id": "e1acddb3",
   "metadata": {},
   "outputs": [
    {
     "name": "stdout",
     "output_type": "stream",
     "text": [
      "Front element: 20\n"
     ]
    }
   ],
   "source": [
    "print(\"Front element:\", my_queue.front())"
   ]
  },
  {
   "cell_type": "markdown",
   "id": "fd398004",
   "metadata": {},
   "source": [
    "### Queue Implementation using Linked List"
   ]
  },
  {
   "cell_type": "code",
   "execution_count": 6,
   "id": "e17ccff9",
   "metadata": {},
   "outputs": [],
   "source": [
    "class Node:\n",
    "    def __init__(self, value):\n",
    "        self.data = value\n",
    "        self.next = None\n",
    "\n",
    "class QueueUsingLinkedList:\n",
    "    def __init__(self):\n",
    "        self.head = None\n",
    "        self.tail = None\n",
    "        self.len = 0\n",
    "\n",
    "    def size(self):\n",
    "        return self.len\n",
    "    \n",
    "    def is_empty(self):\n",
    "        return self.size() == 0\n",
    "\n",
    "    def enqueue(self, data):\n",
    "        new_node = Node(data)\n",
    "        self.len += 1\n",
    "        if self.head is None:\n",
    "            self.head = new_node\n",
    "            self.tail = new_node\n",
    "        else:\n",
    "            self.tail.next = new_node\n",
    "            self.tail = new_node\n",
    "\n",
    "        return f\"Added {data} to the Queue\"\n",
    "\n",
    "    def front(self):\n",
    "        if self.is_empty():\n",
    "            print(\"Queue is empty\")\n",
    "            return None\n",
    "        return self.head.data\n",
    "\n",
    "    def dequeue(self):\n",
    "        if self.is_empty():\n",
    "            print(\"Queue is empty\")\n",
    "            return None\n",
    "        removed_data = self.head.data\n",
    "        self.head = self.head.next\n",
    "        self.len -= 1\n",
    "        \n",
    "        if self.head is None:\n",
    "            self.tail = None\n",
    "        \n",
    "        return f\"Removed {removed_data} from the Queue\""
   ]
  },
  {
   "cell_type": "code",
   "execution_count": 7,
   "id": "92ea578b",
   "metadata": {},
   "outputs": [
    {
     "name": "stdout",
     "output_type": "stream",
     "text": [
      "Initial queue size: 0\n",
      "Is queue empty? True\n"
     ]
    }
   ],
   "source": [
    "my_queue2 = QueueUsingLinkedList()\n",
    "print(\"Initial queue size:\", my_queue2.size())\n",
    "print(\"Is queue empty?\", my_queue2.is_empty())"
   ]
  },
  {
   "cell_type": "code",
   "execution_count": 8,
   "id": "51ce254c",
   "metadata": {},
   "outputs": [
    {
     "name": "stdout",
     "output_type": "stream",
     "text": [
      "Queue size after enqueues: 3\n",
      "Front element: 10\n"
     ]
    }
   ],
   "source": [
    "my_queue2.enqueue(10)\n",
    "my_queue2.enqueue(20)\n",
    "my_queue2.enqueue(30)\n",
    "print(\"Queue size after enqueues:\", my_queue2.size())\n",
    "print(\"Front element:\", my_queue2.front())"
   ]
  },
  {
   "cell_type": "code",
   "execution_count": 9,
   "id": "a4e3db22",
   "metadata": {},
   "outputs": [
    {
     "name": "stdout",
     "output_type": "stream",
     "text": [
      "Queue size after dequeues: 1\n",
      "Front element after dequeues: 30\n"
     ]
    }
   ],
   "source": [
    "my_queue2.dequeue()\n",
    "my_queue2.dequeue()\n",
    "print(\"Queue size after dequeues:\", my_queue2.size())\n",
    "print(\"Front element after dequeues:\", my_queue2.front())"
   ]
  },
  {
   "cell_type": "code",
   "execution_count": null,
   "id": "81946711",
   "metadata": {},
   "outputs": [],
   "source": []
  },
  {
   "cell_type": "code",
   "execution_count": null,
   "id": "047eca9b",
   "metadata": {},
   "outputs": [],
   "source": []
  }
 ],
 "metadata": {
  "kernelspec": {
   "display_name": "base",
   "language": "python",
   "name": "python3"
  },
  "language_info": {
   "codemirror_mode": {
    "name": "ipython",
    "version": 3
   },
   "file_extension": ".py",
   "mimetype": "text/x-python",
   "name": "python",
   "nbconvert_exporter": "python",
   "pygments_lexer": "ipython3",
   "version": "3.12.4"
  }
 },
 "nbformat": 4,
 "nbformat_minor": 5
}
