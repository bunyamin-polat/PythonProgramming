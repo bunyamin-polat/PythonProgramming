{
 "cells": [
  {
   "cell_type": "markdown",
   "metadata": {},
   "source": [
    "## Celsius to Fahrenheit\n",
    "You are given a temperature in Celsius. Your task is to convert it to Fahrenheit and return the result.\n",
    "\n",
    "Formula: To convert Celsius to Fahrenheit, use the formula:\n",
    "\n",
    "`F = (9/5 * C) + 32`\n",
    "\n",
    "Where F is the temperature in Fahrenheit and C is the temperature in Celsius.\n",
    "\n",
    "**Input:** A floating-point number C representing the temperature in Celsius.\n",
    "\n",
    "**Output:** A floating-point number representing the temperature in Fahrenheit.\n",
    "\n",
    "**Example:**\n",
    "\n",
    "    Input: C = 25\n",
    "    Output: 77.0\n",
    "    \n",
    "    Input: C = 0\n",
    "    Output: 32.0"
   ]
  },
  {
   "cell_type": "code",
   "execution_count": 1,
   "metadata": {},
   "outputs": [],
   "source": [
    "def celsius_to_fahrenheit(C):\n",
    "    \"\"\"\n",
    "    Function to convert temperature from Celsius to Fahrenheit.\n",
    "    \n",
    "    Parameters:\n",
    "    C (float): The temperature in Celsius.\n",
    "    \n",
    "    Returns:\n",
    "    float: The temperature in Fahrenheit.\n",
    "    \"\"\"\n",
    "    F = (9/5 * C) + 32\n",
    "    \n",
    "    return F"
   ]
  },
  {
   "cell_type": "code",
   "execution_count": 2,
   "metadata": {},
   "outputs": [
    {
     "name": "stdout",
     "output_type": "stream",
     "text": [
      "32.0\n",
      "212.0\n",
      "-40.0\n"
     ]
    }
   ],
   "source": [
    "print(celsius_to_fahrenheit(0))  # Expected output: 32.0\n",
    "print(celsius_to_fahrenheit(100))  # Expected output: 212.0\n",
    "print(celsius_to_fahrenheit(-40))  # Expected output: -40.0"
   ]
  },
  {
   "cell_type": "code",
   "execution_count": 2,
   "metadata": {},
   "outputs": [
    {
     "name": "stdout",
     "output_type": "stream",
     "text": [
      "89.6\n",
      "32.0\n",
      "Invalid unit\n"
     ]
    }
   ],
   "source": [
    "def convert_temperature(temp, unit):\n",
    "    if unit == 'C':\n",
    "        return temp * 9/5 + 32 # Celsius To Fahrenheit\n",
    "    elif unit == 'F':\n",
    "        return (temp - 32) * 5/9 # Fahrenheit to celsius\n",
    "    else:\n",
    "        return 'Invalid unit'\n",
    "\n",
    "print(convert_temperature(32, 'C')) # 89.6\n",
    "print(convert_temperature(89.6, 'F')) # 32.0\n",
    "print(convert_temperature(100, 'X')) # Invalid unit"
   ]
  },
  {
   "cell_type": "markdown",
   "metadata": {},
   "source": [
    "## Password Strength Checker"
   ]
  },
  {
   "cell_type": "code",
   "execution_count": 5,
   "metadata": {},
   "outputs": [
    {
     "name": "stdout",
     "output_type": "stream",
     "text": [
      "False\n",
      "True\n"
     ]
    }
   ],
   "source": [
    "def password_strength(password):\n",
    "    \"\"\"This function checks if the password is strong or not\"\"\"\n",
    "    if len(password) < 8:\n",
    "        return False\n",
    "    if not any(char.isdigit() for char in password):\n",
    "        return False\n",
    "    if not any(char.isupper() for char in password):\n",
    "        return False\n",
    "    if not any(char.islower() for char in password):\n",
    "        return False\n",
    "    if not any(char in '!@#$%^&*()-+_.' for char in password):\n",
    "        return False\n",
    "    return True\n",
    "\n",
    "# Calling the function\n",
    "print(password_strength('password')) # False\n",
    "print(password_strength('Passw0rd*!.')) # True"
   ]
  },
  {
   "cell_type": "markdown",
   "metadata": {},
   "source": [
    "## Calculate Total Price"
   ]
  },
  {
   "cell_type": "code",
   "execution_count": 6,
   "metadata": {},
   "outputs": [
    {
     "name": "stdout",
     "output_type": "stream",
     "text": [
      "40\n"
     ]
    }
   ],
   "source": [
    "def calculate_total_cost(cart):\n",
    "    total_cost = 0\n",
    "    for item in cart:\n",
    "        total_cost += item['price'] * item['quantity']\n",
    "    return total_cost\n",
    "\n",
    "cart = [\n",
    "    {'name': 'Box', 'price': 10, 'quantity': 2},\n",
    "    {'name': 'Pen', 'price': 2, 'quantity': 5},\n",
    "    {'name': 'Pencil', 'price': 1, 'quantity': 10}\n",
    "]\n",
    "\n",
    "total_cost = calculate_total_cost(cart)\n",
    "print(total_cost)\n"
   ]
  },
  {
   "cell_type": "markdown",
   "metadata": {},
   "source": [
    "## Check if a string is a palindrome"
   ]
  },
  {
   "cell_type": "code",
   "execution_count": 8,
   "metadata": {},
   "outputs": [
    {
     "name": "stdout",
     "output_type": "stream",
     "text": [
      "True\n",
      "True\n",
      "False\n"
     ]
    }
   ],
   "source": [
    "def is_palindrome(s):\n",
    "    s = s.lower().replace(' ', '')\n",
    "    return s == s[::-1]\n",
    "\n",
    "print(is_palindrome('Step on no pets')) # True\n",
    "print(is_palindrome('Able was I saw Elba')) # True\n",
    "print(is_palindrome('Python')) # False"
   ]
  },
  {
   "cell_type": "markdown",
   "metadata": {},
   "source": [
    "## Validate Email Address"
   ]
  },
  {
   "cell_type": "code",
   "execution_count": 9,
   "metadata": {},
   "outputs": [
    {
     "name": "stdout",
     "output_type": "stream",
     "text": [
      "True\n",
      "False\n"
     ]
    }
   ],
   "source": [
    "import re\n",
    "\n",
    "def is_valid_email(email):\n",
    "    \"\"\"This function checks if the email is valid.\"\"\"\n",
    "    pattern = r'^[a-zA-Z0-9_.+-]+@[a-zA-Z0-9-]+\\.[a-zA-Z0-9-.]+$'\n",
    "    return re.match(pattern, email) is not None\n",
    "\n",
    "## Calling the function\n",
    "print(is_valid_email('test@example.com')) # True\n",
    "print(is_valid_email('test@example')) # False"
   ]
  },
  {
   "cell_type": "markdown",
   "metadata": {},
   "source": [
    "## Area of a Rectangle\n",
    "\n",
    "\n",
    "You are given the length and breadth of a rectangle. Your task is to compute and return the area of the rectangle.\n",
    "\n",
    "To calculate the area of a rectangle:\n",
    "\n",
    "```Area = length × breadth```\n",
    "\n",
    "**Input:** Two floating-point numbers, length and breadth, representing the dimensions of the rectangle.\n",
    "\n",
    "**Output:** A floating-point number representing the area of the rectangle.\n",
    "\n",
    "**Example:**\n",
    "\n",
    "    Input: length = 5, breadth = 3\n",
    "    Output: 15.0\n",
    "    \n",
    "    Input: length = 7.5, breadth = 2.4\n",
    "    Output: 18.0"
   ]
  },
  {
   "cell_type": "code",
   "execution_count": 3,
   "metadata": {},
   "outputs": [
    {
     "name": "stdout",
     "output_type": "stream",
     "text": [
      "200.0\n",
      "317.75\n"
     ]
    }
   ],
   "source": [
    "def area_of_rectangle(length: float, breadth: float) -> float:\n",
    "    \"\"\"\n",
    "    Function to calculate the area of a rectangle.\n",
    "    Parameters:\n",
    "    length (float): The length of the rectangle.\n",
    "    breadth (float): The breadth of the rectangle.\n",
    "    \n",
    "    Returns: float: The area of the rectangle.\n",
    "    \"\"\"\n",
    "    area = length * breadth\n",
    "    return float(area)\n",
    "\n",
    "print(area_of_rectangle(10, 20)) # 200.0\n",
    "print(area_of_rectangle(15.5, 20.5)) # 317.75"
   ]
  },
  {
   "cell_type": "markdown",
   "metadata": {},
   "source": [
    "## Distance covered by a Vehicle\n",
    "\n",
    "You are given the speed of a vehicle and the time it has traveled. Your task is to compute and return the distance traveled by the vehicle.\n",
    "\n",
    "Formula: To calculate the distance traveled by a vehicle:\n",
    "\n",
    "```Distance = Speed × Time```\n",
    "\n",
    "**Input:** Two floating-point numbers, speed and time, representing the speed of the vehicle and the time it has been traveling.\n",
    "\n",
    "**Output:** A floating-point number representing the distance traveled.\n",
    "\n",
    "**Example:**\n",
    "\n",
    "    Input: speed = 60, time = 2\n",
    "    Output: 120.0\n",
    "    \n",
    "    Input: speed = 50.5, time = 1.5\n",
    "    Output: 75.75"
   ]
  },
  {
   "cell_type": "code",
   "execution_count": 5,
   "metadata": {},
   "outputs": [
    {
     "name": "stdout",
     "output_type": "stream",
     "text": [
      "200.0\n",
      "175.0\n"
     ]
    }
   ],
   "source": [
    "def calculate_distance(speed: float, time: float) -> float:\n",
    "    \"\"\"\n",
    "    Function to calculate the distance traveled by a vehicle.\n",
    "    Parameters:\n",
    "    speed (float): The speed of the vehicle.\n",
    "    time (float): The time the vehicle has traveled.\n",
    "    Returns: float: The distance traveled by the vehicle.\n",
    "    \"\"\"\n",
    "    \n",
    "    distance = speed * time\n",
    "    return float(distance)\n",
    "\n",
    "print(calculate_distance(100, 2)) # 200.0\n",
    "print(calculate_distance(50, 3.5)) # 175.0"
   ]
  },
  {
   "cell_type": "markdown",
   "metadata": {},
   "source": [
    "## Number of Rounds of Lift\n",
    "\n",
    "You are given n, the total number of people, and capacity, the maximum number of people the lift can carry at a time. All people want to go from the ground floor to the top floor. Your task is to calculate the number of rounds the lift has to make to transport all the people to the top floor.\n",
    "\n",
    "**Input:**\n",
    "\n",
    "Two integers, n and capacity, where n is the total number of people, and capacity is the maximum number of people the lift can carry in one round.\n",
    "\n",
    "**Output:**\n",
    "\n",
    "An integer representing the number of rounds the lift needs to cover to transport all people to the top floor.\n",
    "\n",
    "**Example:**\n",
    "\n",
    "    Input: n = 10, capacity = 3\n",
    "    Output: 4\n",
    "    \n",
    "    Input: n = 7, capacity = 4\n",
    "    Output: 2"
   ]
  },
  {
   "cell_type": "code",
   "execution_count": 11,
   "metadata": {},
   "outputs": [
    {
     "name": "stdout",
     "output_type": "stream",
     "text": [
      "4\n",
      "4\n",
      "2\n"
     ]
    }
   ],
   "source": [
    "def calculate_lift_rounds(n: int, capacity: int) -> int:\n",
    "    \"\"\"\n",
    "    Function to calculate the number of rounds the lift needs to cover.\n",
    "    Parameters:\n",
    "    n (int): Total number of people.\n",
    "    capacity (int): Maximum number of people the lift can carry in one round.\n",
    "    Returns: int: The number of rounds required to transport all people to the top floor.\n",
    "    \"\"\"\n",
    "    round = n % capacity\n",
    "    if round == 0:\n",
    "        return n // capacity\n",
    "    else:\n",
    "        return n // capacity + 1\n",
    "\n",
    "print(calculate_lift_rounds(10, 3))\n",
    "print(calculate_lift_rounds(20, 5))\n",
    "print(calculate_lift_rounds(7, 4))"
   ]
  },
  {
   "cell_type": "markdown",
   "metadata": {},
   "source": [
    "## Line Equation\n",
    "\n",
    "You are given the slope m and the y-intercept b of a line, along with a value x. \n",
    "\n",
    "Your task is to calculate and return the value of y using the equation of a line in slope-intercept form: `y = mx + b`\n",
    "\n",
    "**Input:** Three floating-point numbers: slope (m), intercept (b), and x.\n",
    "\n",
    "**Output:** A floating-point number representing the value of y corresponding to the given x.\n",
    "\n",
    "**Example:**\n",
    "\n",
    "    Input: slope = 2, intercept = 3, x = 4\n",
    "    Output: 11.0\n",
    "\n",
    "    Input: slope = 1.5, intercept = -2, x = 2\n",
    "    Output: 1.0"
   ]
  },
  {
   "cell_type": "code",
   "execution_count": 13,
   "metadata": {},
   "outputs": [
    {
     "name": "stdout",
     "output_type": "stream",
     "text": [
      "11.0\n",
      "1.0\n"
     ]
    }
   ],
   "source": [
    "def calculate_y(slope: float, intercept: float, x: float) -> float:\n",
    "    \"\"\"\n",
    "    Function to calculate the value of y using the slope-intercept form of a line.\n",
    "    Parameters:\n",
    "    slope (float): The slope of the line.\n",
    "    intercept (float): The y-intercept of the line.\n",
    "    x (float): The value of x for which y needs to be calculated.\n",
    "    Returns:float: The calculated value of y.\n",
    "    \"\"\"\n",
    "    \n",
    "    y = slope * x + intercept\n",
    "    return float(y)\n",
    "\n",
    "print(calculate_y(2, 3, 4)) # 11.0\n",
    "print(calculate_y(1.5, -2, 2)) # 1.0"
   ]
  }
 ],
 "metadata": {
  "kernelspec": {
   "display_name": "base",
   "language": "python",
   "name": "python3"
  },
  "language_info": {
   "codemirror_mode": {
    "name": "ipython",
    "version": 3
   },
   "file_extension": ".py",
   "mimetype": "text/x-python",
   "name": "python",
   "nbconvert_exporter": "python",
   "pygments_lexer": "ipython3",
   "version": "3.12.4"
  }
 },
 "nbformat": 4,
 "nbformat_minor": 2
}
