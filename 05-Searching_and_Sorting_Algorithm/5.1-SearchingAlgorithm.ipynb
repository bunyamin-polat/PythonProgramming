{
 "cells": [
  {
   "cell_type": "markdown",
   "metadata": {},
   "source": [
    "## Linear Search Algorithm\n",
    "\n",
    "**Description:** This is the simplest searching algorithm. It sequentially checks each element of the list until the target element is found or the list is exhausted.\n",
    "\n",
    "**Time Complexity:** `O(n)`, where n is the number of elements in the list.\n",
    "\n",
    "**Best for:** Small datasets or unsorted lists."
   ]
  },
  {
   "cell_type": "code",
   "execution_count": 2,
   "metadata": {},
   "outputs": [
    {
     "name": "stdout",
     "output_type": "stream",
     "text": [
      "2\n",
      "-1\n",
      "0\n"
     ]
    }
   ],
   "source": [
    "def linear_search(arr, target):\n",
    "    '''\n",
    "    The function should return the index of the first occurrence of the value in the list, or -1 if the value is not found.\n",
    "    arr: arr is a list of integers and target is an integer.\n",
    "    target: target is the value to be found in the list.\n",
    "    '''\n",
    "    ## Linear search algorithm to find the target in the array\n",
    "    for i in range(len(arr)):\n",
    "        if arr[i] == target:\n",
    "            return i ## target found\n",
    "    return -1 ## target not found\n",
    "\n",
    "print(linear_search([3, 7, 2, 5], 2))\n",
    "print(linear_search([], 5))\n",
    "print(linear_search([1, 1, 2, 1], 1))"
   ]
  },
  {
   "cell_type": "markdown",
   "metadata": {},
   "source": [
    "## Binary Search algorithm\n",
    "\n",
    "**Description:** \n",
    "The Binary Search algorithm is a much faster method, but it requires the list to be sorted beforehand. It repeatedly divides the list into two halves and discards one half, narrowing down the search range.\n",
    "\n",
    "**Time Complexity:** `O(log n)`, where n is the number of elements in the list.\n",
    "\n",
    "**Best for:** Large, sorted datasets."
   ]
  },
  {
   "cell_type": "code",
   "execution_count": null,
   "metadata": {},
   "outputs": [
    {
     "name": "stdout",
     "output_type": "stream",
     "text": [
      "6\n"
     ]
    }
   ],
   "source": [
    "def binary_search(arr, target):\n",
    "    size = len(arr)\n",
    "    start = 0\n",
    "    end = size - 1\n",
    "    \n",
    "    while start <= end:\n",
    "        middle = (end + start) // 2\n",
    "        if arr[middle] == target:\n",
    "            return middle\n",
    "        elif arr[middle] < target:\n",
    "            start = middle + 1\n",
    "        else:\n",
    "            end = middle - 1 \n",
    "    return -1\n",
    "\n",
    "\n",
    "sorted_list = [10, 23, 35, 45, 50, 70, 85]\n",
    "target = 85\n",
    "\n",
    "result = binary_search(sorted_list, target)\n",
    "print(result)\n"
   ]
  },
  {
   "cell_type": "markdown",
   "metadata": {},
   "source": [
    "## Conculsion:\n",
    "    \n",
    "- Both linear search and binary search algorithms are used to find the target in the array.\n",
    "- Linear search is used to find the target in the unsorted array.\n",
    "- Binary search is used to find the target in the sorted array.\n",
    "\n",
    "| **Feature**         | **Linear Search**             | **Binary Search**               |\n",
    "|---------------------|-------------------------------|---------------------------------|\n",
    "| **Works on**        | Unsorted or sorted data       | Sorted data only                |\n",
    "| **Time Complexity** | O(n)                          | O(log n)                        |\n",
    "| **Best for**        | Small or unsorted datasets    | Large and sorted datasets       |\n",
    "| **Approach**        | Sequential check (one by one) | Divide-and-conquer (halve list) |\n"
   ]
  }
 ],
 "metadata": {
  "kernelspec": {
   "display_name": "base",
   "language": "python",
   "name": "python3"
  },
  "language_info": {
   "codemirror_mode": {
    "name": "ipython",
    "version": 3
   },
   "file_extension": ".py",
   "mimetype": "text/x-python",
   "name": "python",
   "nbconvert_exporter": "python",
   "pygments_lexer": "ipython3",
   "version": "3.12.4"
  }
 },
 "nbformat": 4,
 "nbformat_minor": 2
}
