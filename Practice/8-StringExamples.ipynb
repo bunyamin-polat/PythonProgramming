{
 "cells": [
  {
   "cell_type": "markdown",
   "metadata": {},
   "source": [
    "## Reverse a String"
   ]
  },
  {
   "cell_type": "code",
   "execution_count": 7,
   "metadata": {},
   "outputs": [
    {
     "name": "stdout",
     "output_type": "stream",
     "text": [
      "olleH\n",
      "nohtyP\n"
     ]
    }
   ],
   "source": [
    "def reverse_string(s: str) -> str:\n",
    "    \"\"\"\n",
    "    Function to return the reversed version of the input string.\n",
    "    Parameters: s (str): The input string to be reversed.\n",
    "    Returns: str: The reversed string.\n",
    "    \"\"\"\n",
    "    return s[::-1]\n",
    "\n",
    "## Alternative solution\n",
    "# def reverse_string(s: str) -> str:\n",
    "#     return ''.join(reversed(s))\n",
    "\n",
    "## Alternative solution\n",
    "# def reverse_string(s: str) -> str:\n",
    "#     reversed_string = \"\"\n",
    "#     for i in range(len(s), 0, -1):\n",
    "#         reversed_string += s[i-1]\n",
    "#     return reversed_string\n",
    "\n",
    "print(reverse_string(\"Hello\"))\n",
    "print(reverse_string(\"Python\"))"
   ]
  },
  {
   "cell_type": "markdown",
   "metadata": {},
   "source": [
    "## Count Vowels in a String"
   ]
  },
  {
   "cell_type": "code",
   "execution_count": 13,
   "metadata": {},
   "outputs": [
    {
     "name": "stdout",
     "output_type": "stream",
     "text": [
      "2\n",
      "1\n",
      "11\n"
     ]
    }
   ],
   "source": [
    "def count_vowels(s: str) -> int:\n",
    "    \"\"\"\n",
    "    Function to count the number of vowels in the input string.\n",
    "    Parameters: s (str): The input string to check for vowels.\n",
    "    Returns: int: The count of vowels in the input string.\n",
    "    \"\"\"\n",
    "    \n",
    "    return sum(1 for char in s if char.lower() in \"aeiou\")\n",
    "    \n",
    "\n",
    "## Alternative solution\n",
    "# def count_vowels(s: str) -> int:\n",
    "#     count = 0\n",
    "#     for char in s:\n",
    "#         if char.lower() in \"aeiou\":\n",
    "#             count += 1\n",
    "#     return count\n",
    "\n",
    "## Alternative solution\n",
    "# def count_vowels(s: str) -> int:\n",
    "#     return len([char for char in s if char.lower() in \"aeiou\"])\n",
    "\n",
    "print(count_vowels(\"Hello\"))\n",
    "print(count_vowels(\"Python\"))\n",
    "print(count_vowels(\"The quick brown fox jumps over the lazy dog\"))\n",
    "    "
   ]
  },
  {
   "cell_type": "markdown",
   "metadata": {},
   "source": [
    "## Check for Same Strings"
   ]
  },
  {
   "cell_type": "code",
   "execution_count": 14,
   "metadata": {},
   "outputs": [
    {
     "name": "stdout",
     "output_type": "stream",
     "text": [
      "True\n",
      "False\n"
     ]
    }
   ],
   "source": [
    "def are_equal_strings(s: str, t: str) -> bool:\n",
    "    \"\"\"\n",
    "    Function to check if two strings are equal without using built-in functions.\n",
    "    Parameters:\n",
    "    s (str): The first string.\n",
    "    t (str): The second string.\n",
    "    Returns: bool: True if the strings are equal, False otherwise.\n",
    "    \"\"\"\n",
    "    \n",
    "    return s == t\n",
    "\n",
    "print(are_equal_strings(\"Hello\", \"Hello\"))\n",
    "print(are_equal_strings(\"Hello\", \"Python\"))\n"
   ]
  },
  {
   "cell_type": "markdown",
   "metadata": {},
   "source": [
    "## Check Palindrome"
   ]
  },
  {
   "cell_type": "code",
   "execution_count": 17,
   "metadata": {},
   "outputs": [
    {
     "name": "stdout",
     "output_type": "stream",
     "text": [
      "False\n",
      "False\n",
      "True\n",
      "True\n"
     ]
    }
   ],
   "source": [
    "def is_palindrome(s: str) -> bool:\n",
    "    \"\"\"\n",
    "    Function to check if the input string is a palindrome.\n",
    "    Parameters: s (str): The input string to check.\n",
    "    Returns: bool: True if the string is a palindrome, False otherwise.\n",
    "    \"\"\"\n",
    "    \n",
    "    normalized_string = ''.join(char.lower() for char in s if char.isalnum())\n",
    "    \n",
    "    return normalized_string == normalized_string[::-1]\n",
    "\n",
    "print(is_palindrome(\"Hello\"))\n",
    "print(is_palindrome(\"Python\"))\n",
    "print(is_palindrome(\"madam\"))\n",
    "print(is_palindrome(\"A man a plan a canal Panama\"))"
   ]
  },
  {
   "cell_type": "markdown",
   "metadata": {},
   "source": [
    "## Count Words in a String"
   ]
  },
  {
   "cell_type": "code",
   "execution_count": 18,
   "metadata": {},
   "outputs": [
    {
     "name": "stdout",
     "output_type": "stream",
     "text": [
      "2\n",
      "3\n"
     ]
    }
   ],
   "source": [
    "def count_words(s: str) -> int:\n",
    "    \"\"\"\n",
    "    Function to count the number of words in the input string.\n",
    "    Parameters: s (str): The input string to check for words.\n",
    "    Returns: int: The count of words in the input string.\n",
    "    \"\"\"\n",
    "    return len(s.split(' '))\n",
    "\n",
    "## Alternative solution\n",
    "# def count_words(s):\n",
    "#     return len(s.split())\n",
    "\n",
    "## Alternative solution\n",
    "# def count_words(s):\n",
    "#     count = 0\n",
    "#     for word in s.split():\n",
    "#         count += 1\n",
    "#     return count\n",
    "\n",
    "print(count_words(\"Hello, world!\"))\n",
    "print(count_words(\"Python is awesome!\"))"
   ]
  },
  {
   "cell_type": "markdown",
   "metadata": {},
   "source": [
    "## Remove Duplicates in a string"
   ]
  },
  {
   "cell_type": "code",
   "execution_count": 20,
   "metadata": {},
   "outputs": [
    {
     "name": "stdout",
     "output_type": "stream",
     "text": [
      "Helo, Wrd!\n",
      "Python rgami\n"
     ]
    }
   ],
   "source": [
    "def remove_duplicates(s: str) -> str:\n",
    "    \"\"\"\n",
    "    Function to remove duplicate characters from the input string.\n",
    "    Parameters: s (str): The input string from which duplicates need to be removed.\n",
    "    Returns: str: The modified string with duplicates removed.\n",
    "    \"\"\"\n",
    "\n",
    "    return ''.join(char for index, char in enumerate(s) if char not in s[:index])\n",
    "\n",
    "## Alternative solution\n",
    "# def remove_duplicates(s: str) -> str:\n",
    "#     result = \"\"\n",
    "#     for char in s:\n",
    "#         if char not in result:\n",
    "#             result += char\n",
    "#     return result\n",
    "\n",
    "\n",
    "print(remove_duplicates(\"Hello, World!\"))\n",
    "print(remove_duplicates(\"Python Programming\"))"
   ]
  },
  {
   "cell_type": "markdown",
   "metadata": {},
   "source": [
    "## Count Consonants in a String"
   ]
  },
  {
   "cell_type": "code",
   "execution_count": 24,
   "metadata": {},
   "outputs": [
    {
     "name": "stdout",
     "output_type": "stream",
     "text": [
      "7\n",
      "13\n"
     ]
    }
   ],
   "source": [
    "def count_consonants(s: str) -> int:\n",
    "    \"\"\"\n",
    "    Function to count the number of consonants in the input string.\n",
    "    Parameters: s (str): The input string to check for consonants.\n",
    "    Returns: int: The count of consonants in the input string.\n",
    "    \"\"\"\n",
    "    \n",
    "    return sum(1 for char in s.lower() if char.isalpha() and char not in \"aeiou\")\n",
    "\n",
    "## Alternative solution\n",
    "# def count_consonants(s):\n",
    "#     count = 0\n",
    "#     for char in s:\n",
    "#         if char.isalpha() and char not in \"aeiou\":\n",
    "#             count += 1\n",
    "#     return count\n",
    "\n",
    "print(count_consonants(\"Hello, World!\"))\n",
    "print(count_consonants(\"Python Programming\"))"
   ]
  },
  {
   "cell_type": "markdown",
   "metadata": {},
   "source": [
    "## Check for anagrams\n",
    "\n",
    "An anagram is a word or phrase formed by rearranging the characters of a different word or phrase, using all the original characters exactly once.\n"
   ]
  },
  {
   "cell_type": "code",
   "execution_count": 27,
   "metadata": {},
   "outputs": [
    {
     "name": "stdout",
     "output_type": "stream",
     "text": [
      "True\n",
      "False\n",
      "True\n"
     ]
    }
   ],
   "source": [
    "def is_anagram(s: str, t: str) -> int:\n",
    "    \"\"\"\n",
    "    Function to check if t is an anagram of s.\n",
    "    Parameters:\n",
    "    s (str): The first input string.\n",
    "    t (str): The second input string.\n",
    "    Returns: bool: True if t is an anagram of s, False otherwise.\n",
    "    \"\"\"\n",
    "    \n",
    "    s = s.lower()\n",
    "    t = t.lower()\n",
    "    return sorted(s) == sorted(t)\n",
    "\n",
    "print(is_anagram(\"listen\", \"silent\"))\n",
    "print(is_anagram(\"hello\", \"world\"))\n",
    "print(is_anagram(\"anagram\", \"nagaram\"))"
   ]
  },
  {
   "cell_type": "markdown",
   "metadata": {},
   "source": [
    "## Check Subsequence"
   ]
  },
  {
   "cell_type": "code",
   "execution_count": 29,
   "metadata": {},
   "outputs": [
    {
     "name": "stdout",
     "output_type": "stream",
     "text": [
      "True\n",
      "False\n"
     ]
    }
   ],
   "source": [
    "def is_subsequence(s: str, t: str) -> bool:\n",
    "    \"\"\"\n",
    "    Function to check if t is a subsequence of s.\n",
    "    Parameters:\n",
    "    s (str): The original string.\n",
    "    t (str): The target subsequence string.\n",
    "    Returns: bool: True if t is a subsequence of s, False otherwise.\n",
    "    \"\"\"\n",
    "\n",
    "    i, j = 0, 0\n",
    "    len_s, len_t = len(s), len(t)\n",
    "    \n",
    "    while i < len_s and j < len_t:\n",
    "        if s[i] == t[j]:\n",
    "            j += 1\n",
    "        i += 1\n",
    "    \n",
    "    return j == len_t\n",
    "\n",
    "print(is_subsequence(\"abcde\", \"ace\"))\n",
    "print(is_subsequence(\"abcde\", \"aec\"))\n"
   ]
  },
  {
   "cell_type": "markdown",
   "metadata": {},
   "source": [
    "## Check for Substring"
   ]
  },
  {
   "cell_type": "code",
   "execution_count": 37,
   "metadata": {},
   "outputs": [
    {
     "name": "stdout",
     "output_type": "stream",
     "text": [
      "True\n",
      "True\n",
      "False\n"
     ]
    }
   ],
   "source": [
    "def is_substring(s: str, t: str) -> bool:\n",
    "    \"\"\"\n",
    "    Function to check if string t is a substring of string s without using built-in functions and recursion.\n",
    "    Parameters:\n",
    "    s (str): The main string.\n",
    "    t (str): The string to check as a substring.\n",
    "    Returns: bool: True if t is a substring of s, False otherwise.\n",
    "    \"\"\"\n",
    "    \n",
    "    if len(t) > len(s):\n",
    "        return False\n",
    "    \n",
    "    if len(t) == 0:\n",
    "        return True\n",
    "    \n",
    "    if t in s:\n",
    "        return True\n",
    "    \n",
    "    return False\n",
    "    \n",
    "print(is_substring(\"hello\", \"lo\"))\n",
    "print(is_substring(\"hello world\", \"world\"))\n",
    "print(is_substring(\"hello world\", \"worlds\"))\n",
    "    \n",
    "    \n"
   ]
  },
  {
   "cell_type": "markdown",
   "metadata": {},
   "source": [
    "## Length of the Longest Word in a Sentence"
   ]
  },
  {
   "cell_type": "code",
   "execution_count": 40,
   "metadata": {},
   "outputs": [
    {
     "name": "stdout",
     "output_type": "stream",
     "text": [
      "5\n",
      "7\n"
     ]
    }
   ],
   "source": [
    "def longest_word_length(s: str) -> int:\n",
    "    \"\"\"\n",
    "    Function to find the length of the longest word in a string without using built-in functions.\n",
    "    Parameters: s (str): The input string.\n",
    "    Returns: int: The length of the longest word.\n",
    "    \"\"\"\n",
    "    \n",
    "    words = s.split(' ')\n",
    "    max_length = 0\n",
    "    \n",
    "    for word in words:\n",
    "        max_length = max(max_length, len(word))\n",
    "    \n",
    "    return max_length\n",
    "\n",
    "print(longest_word_length(\"The quick brown fox jumps over the lazy dog\"))\n",
    "print(longest_word_length(\"Python is awesome\"))"
   ]
  }
 ],
 "metadata": {
  "kernelspec": {
   "display_name": "Python 3",
   "language": "python",
   "name": "python3"
  },
  "language_info": {
   "codemirror_mode": {
    "name": "ipython",
    "version": 3
   },
   "file_extension": ".py",
   "mimetype": "text/x-python",
   "name": "python",
   "nbconvert_exporter": "python",
   "pygments_lexer": "ipython3",
   "version": "3.12.0"
  }
 },
 "nbformat": 4,
 "nbformat_minor": 2
}
