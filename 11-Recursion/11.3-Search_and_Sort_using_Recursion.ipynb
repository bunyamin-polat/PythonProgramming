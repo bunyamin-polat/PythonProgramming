{
 "cells": [
  {
   "cell_type": "markdown",
   "metadata": {},
   "source": [
    "[![Open In Colab](https://colab.research.google.com/assets/colab-badge.svg)](https://colab.research.google.com/github/bunyamin-polat/PythonProgramming/blob/main/11.3-Search_and_Sort_using_Recursion.ipynb)"
   ]
  },
  {
   "cell_type": "markdown",
   "metadata": {},
   "source": [
    "## Linear Search using Recursion\n",
    "\n",
    "A linear search sequentially checks each element of a list until it finds the target value. "
   ]
  },
  {
   "cell_type": "code",
   "execution_count": 4,
   "metadata": {},
   "outputs": [
    {
     "name": "stdout",
     "output_type": "stream",
     "text": [
      "\n",
      "Linear Search Result: 3\n"
     ]
    }
   ],
   "source": [
    "def recursive_linear_search(arr, target, index = 0):\n",
    "    if index == len(arr):  # Base case: if index reaches the length of the array, target is not found\n",
    "        return -1\n",
    "    if arr[index] == target: # If the current element matches the target, return the current index\n",
    "        return index\n",
    "    # Move to the next index and continue the search\n",
    "    return recursive_linear_search(arr, target, index+1)\n",
    "\n",
    "# Example usage\n",
    "arr = [1, 3, 5, 7, 9, 11]\n",
    "target = 7\n",
    "result = recursive_linear_search(arr, target)\n",
    "\n",
    "print(f\"\\nLinear Search Result: {result}\")"
   ]
  },
  {
   "cell_type": "markdown",
   "metadata": {},
   "source": [
    "## Binary Search using Recursion\n",
    "\n",
    "A binary search works on a sorted list and repeatedly divides the search interval in half. "
   ]
  },
  {
   "cell_type": "code",
   "execution_count": 7,
   "metadata": {},
   "outputs": [
    {
     "name": "stdout",
     "output_type": "stream",
     "text": [
      "\n",
      "Binary Search Result: 3\n"
     ]
    }
   ],
   "source": [
    "def recursive_binary_search(arr, target, start, end):\n",
    "    if start > end: # Base case: if the start index is greater than the end index, target is not found\n",
    "        return -1\n",
    "    \n",
    "    mid = (start + end) // 2 # Calculate the middle index\n",
    "\n",
    "    if arr[mid] == target: # If the middle element matches the target, return the middle index\n",
    "        return mid\n",
    "\n",
    "    elif arr[mid] > target: # If the middle element is greater than the target, search the left half of the array\n",
    "        return recursive_binary_search(arr, target, start, mid - 1)\n",
    "    \n",
    "    else: # If the middle element is less than the target, search the right half of the array\n",
    "        return recursive_binary_search(arr, target, mid + 1, end)\n",
    "    \n",
    "# Example usage\n",
    "arr = [1, 3, 5, 7, 9, 11, 13, 15, 17, 19]\n",
    "target = 7\n",
    "result = recursive_binary_search(arr, target, 0, len(arr)-1)\n",
    "print(f\"\\nBinary Search Result: {result}\")\n"
   ]
  },
  {
   "cell_type": "markdown",
   "metadata": {},
   "source": [
    "## Merge Sort Algorithm using Recursion\n",
    "\n",
    "Merge Sort is a sorting algorithm that follows the divide and conquer approach.\n",
    "\n",
    "The algorithm splits the array into smaller sub-arrays, recursively sorts each sub-array, and then merges them back together in a sorted manner."
   ]
  },
  {
   "cell_type": "code",
   "execution_count": 11,
   "metadata": {},
   "outputs": [
    {
     "name": "stdout",
     "output_type": "stream",
     "text": [
      "\n",
      "Merge Sort Result: [5, 6, 7, 11, 12, 13]\n"
     ]
    }
   ],
   "source": [
    "def merge_sort(arr): # Main function to sort an array using merge sort\n",
    "    if len(arr) <= 1: # Base case: if the array has 1 or 0 elements, return the array\n",
    "        return arr\n",
    "    \n",
    "    # Split the array into two halves\n",
    "    mid = len(arr) // 2\n",
    "    left_half = arr[:mid]\n",
    "    right_half = arr[mid:]\n",
    "    \n",
    "    # Recursively sort the two halves\n",
    "    left_sorted = merge_sort(left_half)\n",
    "    right_sorted = merge_sort(right_half)\n",
    "    \n",
    "    # Merge the sorted halves\n",
    "    return merge(left_sorted, right_sorted)\n",
    "\n",
    "def merge(left, right): # Helper function to merge two sorted arrays\n",
    "    sorted_arr = []\n",
    "    i = j = 0\n",
    "    \n",
    "    # Compare elements from the two halves and merge them in sorted order\n",
    "    while i < len(left) and j < len(right):\n",
    "        if left[i] < right[j]:\n",
    "            sorted_arr.append(left[i])\n",
    "            i += 1\n",
    "        else:\n",
    "            sorted_arr.append(right[j])\n",
    "            j += 1\n",
    "    \n",
    "    # Add the remaining elements from the left half\n",
    "    while i < len(left):\n",
    "        sorted_arr.append(left[i])\n",
    "        i += 1\n",
    "    \n",
    "    # Add the remaining elements from the right half\n",
    "    while j < len(right):\n",
    "        sorted_arr.append(right[j])\n",
    "        j += 1\n",
    "    \n",
    "    return sorted_arr\n",
    "\n",
    "# Example usage\n",
    "arr = [12, 11, 13, 5, 6, 7]\n",
    "sorted_arr = merge_sort(arr)\n",
    "print(f\"\\nMerge Sort Result: {sorted_arr}\")"
   ]
  },
  {
   "cell_type": "markdown",
   "metadata": {},
   "source": [
    "## Quick Sort Algorithm (With Recursion)\n",
    "\n",
    "Quick Sort is a widely-used sorting algorithm that follows the divide and conquer approach, just like Merge Sort. \n",
    "\n",
    "However, instead of splitting the array into two equal parts, Quick Sort selects a pivot element and partitions the array into two sub-arrays: one with elements smaller than the pivot and one with elements larger than the pivot. \n",
    "\n",
    "The process is then recursively applied to the sub-arrays."
   ]
  },
  {
   "cell_type": "code",
   "execution_count": 16,
   "metadata": {},
   "outputs": [
    {
     "name": "stdout",
     "output_type": "stream",
     "text": [
      "\n",
      "Quick Sort Result: [1, 5, 7, 8, 9, 10]\n"
     ]
    }
   ],
   "source": [
    "def partition(arr, low, high):\n",
    "    pivot = arr[high]  # Choose the last element as the pivot\n",
    "    i = low - 1  # Index of smaller element\n",
    "    \n",
    "    for j in range(low, high):\n",
    "        if arr[j] <= pivot:  # Corrected comparison to include elements equal to the pivot\n",
    "            i += 1\n",
    "            arr[i], arr[j] = arr[j], arr[i]  # Swap elements\n",
    "            \n",
    "    # Swap the pivot element with the element at i+1 (its correct position)\n",
    "    arr[i+1], arr[high] = arr[high], arr[i+1]\n",
    "    return i + 1\n",
    "\n",
    "def quick_sort(arr, low, high):\n",
    "    if low < high:\n",
    "        pi = partition(arr, low, high)  # Partitioning index\n",
    "        \n",
    "        # Recursively sort elements before and after partition\n",
    "        quick_sort(arr, low, pi - 1)  # Sort the left part\n",
    "        quick_sort(arr, pi + 1, high)  # Sort the right part\n",
    "\n",
    "# Example usage\n",
    "arr = [10, 7, 8, 9, 1, 5]\n",
    "n = len(arr)\n",
    "quick_sort(arr, 0, n - 1)\n",
    "print(f\"\\nQuick Sort Result: {arr}\")  # Output should now be sorted correctly\n"
   ]
  },
  {
   "cell_type": "code",
   "execution_count": null,
   "metadata": {},
   "outputs": [],
   "source": []
  }
 ],
 "metadata": {
  "kernelspec": {
   "display_name": "Python 3",
   "language": "python",
   "name": "python3"
  },
  "language_info": {
   "codemirror_mode": {
    "name": "ipython",
    "version": 3
   },
   "file_extension": ".py",
   "mimetype": "text/x-python",
   "name": "python",
   "nbconvert_exporter": "python",
   "pygments_lexer": "ipython3",
   "version": "3.12.0"
  }
 },
 "nbformat": 4,
 "nbformat_minor": 2
}
