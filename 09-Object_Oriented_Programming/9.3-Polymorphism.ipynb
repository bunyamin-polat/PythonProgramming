{
 "cells": [
  {
   "cell_type": "markdown",
   "metadata": {},
   "source": [
    "## Polymorphism\n",
    "\n",
    "Polymorphism is a core concept in Object-Oriented Programming (OOP) that allows objects of different classes to be treated as objects of a common superclass. \n",
    "\n",
    "It provides a way to perform a single action in different forms. Polymorphism is typically achieved through method overriding and interfaces"
   ]
  },
  {
   "cell_type": "markdown",
   "metadata": {},
   "source": [
    "###  Method Overriding\n",
    "Method overriding allows a child class to provide a specific implementation of a method that is already defined in its parent class."
   ]
  },
  {
   "cell_type": "code",
   "execution_count": 2,
   "metadata": {},
   "outputs": [
    {
     "name": "stdout",
     "output_type": "stream",
     "text": [
      "Animal speaking\n",
      "Dog barking\n",
      "Cat meowing\n",
      "Dog barking\n"
     ]
    }
   ],
   "source": [
    "## Parent class for all the other classes\n",
    "\n",
    "class Animal:\n",
    "    def speak(self):\n",
    "        return 'Animal speaking'\n",
    "    \n",
    "## Child class1\n",
    "class Dog(Animal):\n",
    "    def speak(self):\n",
    "        return 'Dog barking'\n",
    "        \n",
    "## Child class2\n",
    "class Cat(Animal):\n",
    "    def speak(self):\n",
    "        return 'Cat meowing'\n",
    "\n",
    "## Function that demonstrates polymorphism\n",
    "def get_pet_sound(pet):\n",
    "    print(pet.speak())\n",
    "\n",
    "animal = Animal()\n",
    "dog = Dog()\n",
    "cat = Cat()\n",
    "\n",
    "print(animal.speak())\n",
    "print(dog.speak())\n",
    "print(cat.speak())\n",
    "\n",
    "get_pet_sound(dog)"
   ]
  },
  {
   "cell_type": "markdown",
   "metadata": {},
   "source": [
    "### Method Overloading (Compile-time Polymorphism)\n",
    "Python does not natively support method overloading (i.e., defining multiple methods with the same name but different signatures within a class), as seen in languages like `Java` or `C++`. However, it can be achieved in Python by using default arguments or variable-length arguments `(*args, **kwargs)`."
   ]
  },
  {
   "cell_type": "code",
   "execution_count": 3,
   "metadata": {},
   "outputs": [
    {
     "name": "stdout",
     "output_type": "stream",
     "text": [
      "3\n",
      "6\n"
     ]
    }
   ],
   "source": [
    "# Method overloading with default arguments\n",
    "class Calculator:\n",
    "    def add(self, a, b, c = 0):\n",
    "        return a + b + c\n",
    "\n",
    "calc = Calculator()\n",
    "\n",
    "print(calc.add(1, 2))\n",
    "print(calc.add(1, 2, 3))"
   ]
  },
  {
   "cell_type": "code",
   "execution_count": 4,
   "metadata": {},
   "outputs": [
    {
     "name": "stdout",
     "output_type": "stream",
     "text": [
      "3\n",
      "6\n"
     ]
    }
   ],
   "source": [
    "## Method overloading with variable arguments\n",
    "class Calculator:\n",
    "    def add(self, *args):\n",
    "        return sum(args)\n",
    "    \n",
    "calc = Calculator()\n",
    "\n",
    "print(calc.add(1, 2))\n",
    "print(calc.add(1, 2, 3))"
   ]
  },
  {
   "cell_type": "markdown",
   "metadata": {},
   "source": [
    "### Polymorphism with Functions and Objects\n",
    "\n",
    "Polymorphism is not limited to methods inside classes. It can be demonstrated using common functions that interact with different objects, invoking different behaviors based on their type."
   ]
  },
  {
   "cell_type": "code",
   "execution_count": 10,
   "metadata": {},
   "outputs": [
    {
     "name": "stdout",
     "output_type": "stream",
     "text": [
      "The area is 20\n",
      "The area is 28.259999999999998\n"
     ]
    }
   ],
   "source": [
    "class Shape:\n",
    "    def area(self):\n",
    "        return \"The area of the figure\"\n",
    "\n",
    "## Child class1\n",
    "class Rectangle(Shape):\n",
    "    def __init__(self, width, height):\n",
    "        self.width = width\n",
    "        self.height = height\n",
    "        \n",
    "    def area(self):\n",
    "        return self.width * self.height\n",
    "\n",
    "## Child class2\n",
    "class Circle(Shape):\n",
    "    def __init__(self, radius):\n",
    "        self.radius = radius\n",
    "        \n",
    "    def area(self):\n",
    "        return 3.14 * self.radius * self.radius\n",
    "    \n",
    "## Function that demonstrates polymorphism\n",
    "def get_area(shape):\n",
    "    print(f\"The area is {shape.area()}\")  \n",
    "\n",
    "rectangle = Rectangle(4,5)\n",
    "circle = Circle(3)\n",
    "\n",
    "get_area(rectangle)\n",
    "\n",
    "get_area(circle)"
   ]
  },
  {
   "cell_type": "markdown",
   "metadata": {},
   "source": [
    "### Polymorphism with Abstract Base Classes\n",
    "\n",
    "An abstract method is a method that is declared, but contains no implementation. Abstract methods are designed to be implemented by subclasses. When a class contains one or more abstract methods, it is called an **abstract class**. Abstract classes serve as templates for other classes and cannot be instantiated directly. They are used to enforce certain methods to be implemented by any subclass inheriting from the abstract class.\n",
    "\n",
    "In Python, abstract methods are defined in abstract classes using the abc (Abstract Base Class) module. The `abc` module provides the `ABC` class and the `@abstractmethod` decorator, which are used to create abstract classes and abstract methods.\n",
    "\n",
    "**Key Points of Abstract Methods**\n",
    "\n",
    "- Abstract methods must be overridden in derived classes.\n",
    "\n",
    "- Abstract classes cannot be instantiated directly; they can only be subclassed.\n",
    "\n",
    "- Subclasses that inherit from an abstract class must provide implementations for all of its abstract methods, or they will also become abstract.\n",
    "\n",
    "- Abstract methods provide a contract for subclasses to implement specific behavior."
   ]
  },
  {
   "cell_type": "code",
   "execution_count": 12,
   "metadata": {},
   "outputs": [
    {
     "name": "stdout",
     "output_type": "stream",
     "text": [
      "The area is 20\n",
      "The area is 28.259999999999998\n"
     ]
    }
   ],
   "source": [
    "from abc import ABC, abstractmethod\n",
    "\n",
    "## Abstract class\n",
    "class Shape(ABC):\n",
    "    @abstractmethod\n",
    "    def area(self):\n",
    "        pass\n",
    "\n",
    "## Child class1\n",
    "class Rectangle(Shape):\n",
    "    def __init__(self, width, height):\n",
    "        self.width = width\n",
    "        self.height = height\n",
    "        \n",
    "    def area(self):\n",
    "        return self.width * self.height\n",
    "    \n",
    "## Child class2\n",
    "class Circle(Shape):\n",
    "    def __init__(self, radius):\n",
    "        self.radius = radius\n",
    "        \n",
    "    def area(self):\n",
    "        return 3.14 * self.radius * self.radius\n",
    "\n",
    "# Function that demonstrates polymorphism\n",
    "def get_area(shape):\n",
    "    print(f\"The area is {shape.area()}\")\n",
    "    \n",
    "rectangle = Rectangle(4,5)\n",
    "circle = Circle(3)\n",
    "\n",
    "get_area(rectangle)\n",
    "get_area(circle)"
   ]
  },
  {
   "cell_type": "markdown",
   "metadata": {},
   "source": [
    "### Conclusion\n",
    "Polymorphism is a powerful feature of OOP that allows for flexibility and integration in code design. \n",
    "\n",
    "It enables a single function to handle objects of different classes, each with its own implementation of a method. \n",
    "\n",
    "By understanding and applying polymorphism, you can create more extensible and maintainable object-oriented programs."
   ]
  }
 ],
 "metadata": {
  "kernelspec": {
   "display_name": "Python 3",
   "language": "python",
   "name": "python3"
  },
  "language_info": {
   "codemirror_mode": {
    "name": "ipython",
    "version": 3
   },
   "file_extension": ".py",
   "mimetype": "text/x-python",
   "name": "python",
   "nbconvert_exporter": "python",
   "pygments_lexer": "ipython3",
   "version": "-1.-1.-1"
  }
 },
 "nbformat": 4,
 "nbformat_minor": 2
}
