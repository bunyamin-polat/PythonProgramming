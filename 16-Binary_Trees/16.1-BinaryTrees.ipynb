{
 "cells": [
  {
   "cell_type": "markdown",
   "id": "0a903166",
   "metadata": {},
   "source": [
    "## What is a Binary Tree?\n",
    "\n",
    "A Binary Tree is a type of tree data structure in which each node has at most two children, commonly referred to as the left and right child.\n",
    "\n",
    "Unlike a generic tree (where nodes can have any number of children), a binary tree restricts each node to a maximum of two children.\n",
    "\n",
    "Each node typically stores a reference to its left and right child.\n",
    "\n",
    "### Applications of Binary Trees\n",
    "\n",
    "Binary trees are foundational in computer science and are used in many core applications. Here are some common use cases:\n",
    "\n",
    "1. Binary Search Trees (BSTs): \n",
    "Used for efficient searching, insertion, and deletion operations. BSTs maintain a sorted structure that allows fast lookup.\n",
    "\n",
    "2. Expression Trees: \n",
    "Used in compilers and calculators to represent arithmetic expressions. Operands and operators form a binary tree.\n",
    "\n",
    "3. Heaps (Binary Heaps): \n",
    "Used in priority queues and algorithms like Heap Sort. Binary heaps are complete binary trees with specific ordering properties.\n",
    "\n",
    "4. Routing Algorithms: \n",
    "Binary trees can be used to represent decision-making in routing tables and networking algorithms.\n",
    "\n",
    "5. Huffman Coding Trees: \n",
    "Used in data compression algorithms. Huffman Trees are binary trees used to assign variable-length codes to input characters.\n",
    "\n",
    "6. Game Trees (Simple Decision Trees):\n",
    "In certain decision-making or simple AI problems, binary trees are used to evaluate game states or scenarios.\n",
    "\n",
    "**Advantages**\n",
    "- Efficient Operations: Search, insert, and delete can be performed efficiently in balanced binary trees (O(log n) time).\n",
    "\n",
    "- Simple Structure: Easier to implement than generic trees due to the fixed number of children.\n",
    "\n",
    "**Disadvantages**\n",
    "- Limited Flexibility: Can only represent scenarios where each node has at most two children.\n",
    "\n",
    "- Balancing Required: Without balancing (as in AVL or Red-Black Trees), performance can degrade to O(n) in the worst case."
   ]
  },
  {
   "cell_type": "markdown",
   "id": "7a64b989",
   "metadata": {},
   "source": [
    "### Binary Tree Implementation"
   ]
  },
  {
   "cell_type": "code",
   "execution_count": 2,
   "id": "48ec4637",
   "metadata": {},
   "outputs": [],
   "source": [
    "class BinaryTreeNode:\n",
    "    def __init__(self, data):\n",
    "        self.data = data\n",
    "        self.left = None\n",
    "        self.right = None"
   ]
  },
  {
   "cell_type": "code",
   "execution_count": 3,
   "id": "190edcee",
   "metadata": {},
   "outputs": [],
   "source": [
    "root = BinaryTreeNode(1)\n",
    "root.left = BinaryTreeNode(2)\n",
    "root.right = BinaryTreeNode(3)"
   ]
  },
  {
   "cell_type": "markdown",
   "id": "6e54f423",
   "metadata": {},
   "source": [
    "### Print Binary Tree "
   ]
  },
  {
   "cell_type": "code",
   "execution_count": 12,
   "id": "1013b6a7",
   "metadata": {},
   "outputs": [],
   "source": [
    "def print_binary_tree(root):\n",
    "    if root is None:\n",
    "        return\n",
    "    print(f\"{root.data} ->\", end = \" \")\n",
    "    print_binary_tree(root.left)\n",
    "    print_binary_tree(root.right)"
   ]
  },
  {
   "cell_type": "code",
   "execution_count": 13,
   "id": "ad3d4f1c",
   "metadata": {},
   "outputs": [
    {
     "name": "stdout",
     "output_type": "stream",
     "text": [
      "1 -> 2 -> 3 -> "
     ]
    }
   ],
   "source": [
    "print_binary_tree(root)"
   ]
  },
  {
   "cell_type": "code",
   "execution_count": null,
   "id": "aae371ba",
   "metadata": {},
   "outputs": [],
   "source": [
    "def print_binary_tree(root):\n",
    "    if root is None:\n",
    "        return\n",
    "    \n",
    "    print(root.data, end = ' -> ') # Print the current node's data\n",
    "    \n",
    "    if root.left is not None:\n",
    "        print(f\"L: {root.left.data},\", end = ' ')\n",
    "    else:\n",
    "        print(\"L: None,\", end = ' ')\n",
    "    if root.right is not None:\n",
    "        print(f\"R: {root.right.data}\", end = '\\n')\n",
    "    else:\n",
    "        print(\"R: None\")\n",
    "    \n",
    "    print_binary_tree(root.left) # Recursive call for left child\n",
    "    print_binary_tree(root.right) # Recursive call for right child"
   ]
  },
  {
   "cell_type": "code",
   "execution_count": 52,
   "id": "99bbbbbf",
   "metadata": {},
   "outputs": [
    {
     "name": "stdout",
     "output_type": "stream",
     "text": [
      "1 -> L: 2, R: 3\n",
      "2 -> L: None, R: None\n",
      "3 -> L: None, R: None\n"
     ]
    }
   ],
   "source": [
    "print_binary_tree(root)"
   ]
  },
  {
   "cell_type": "code",
   "execution_count": 39,
   "id": "178a6df7",
   "metadata": {},
   "outputs": [
    {
     "name": "stdout",
     "output_type": "stream",
     "text": [
      "1 -> L: 2, R: 3 \n",
      "\n",
      "2 -> L: None, R: None\n",
      "\n",
      "3 -> L: None, R: None\n"
     ]
    }
   ],
   "source": [
    "print_binary_tree(root)\n",
    "print(end = '\\n\\n')\n",
    "print_binary_tree(root.left)\n",
    "print(end = '\\n')\n",
    "print_binary_tree(root.right)"
   ]
  },
  {
   "cell_type": "code",
   "execution_count": 53,
   "id": "bc26de3a",
   "metadata": {},
   "outputs": [],
   "source": [
    "from predefined_binary_tree import predefined_binary_tree_inputs\n",
    "root1, root2, root3 = predefined_binary_tree_inputs()"
   ]
  },
  {
   "cell_type": "code",
   "execution_count": 57,
   "id": "1a00e113",
   "metadata": {},
   "outputs": [
    {
     "name": "stdout",
     "output_type": "stream",
     "text": [
      "1 -> L: 2, R: 3\n",
      "2 -> L: 4, R: 5\n",
      "4 -> L: None, R: None\n",
      "5 -> L: None, R: None\n",
      "3 -> L: None, R: 6\n",
      "6 -> L: None, R: None\n"
     ]
    }
   ],
   "source": [
    "print_binary_tree(root1)\n",
    "\n",
    "# Structure:\n",
    "#       1\n",
    "#     /   \\\n",
    "#    2     3\n",
    "#   / \\     \\\n",
    "#  4   5     6"
   ]
  },
  {
   "cell_type": "code",
   "execution_count": 58,
   "id": "dfdcbb82",
   "metadata": {},
   "outputs": [
    {
     "name": "stdout",
     "output_type": "stream",
     "text": [
      "10 -> L: 20, R: 30\n",
      "20 -> L: 40, R: 50\n",
      "40 -> L: 80, R: None\n",
      "80 -> L: None, R: None\n",
      "50 -> L: None, R: None\n",
      "30 -> L: 60, R: 70\n",
      "60 -> L: None, R: None\n",
      "70 -> L: None, R: None\n"
     ]
    }
   ],
   "source": [
    "print_binary_tree(root2)\n",
    "\n",
    "# root2: Contains 8 nodes, Height = 4\n",
    "# Structure:\n",
    "#       10\n",
    "#     /    \\\n",
    "#   20      30\n",
    "#  /  \\    /  \\\n",
    "# 40   50 60  70\n",
    "# /\n",
    "# 80"
   ]
  },
  {
   "cell_type": "code",
   "execution_count": 59,
   "id": "67f29976",
   "metadata": {},
   "outputs": [
    {
     "name": "stdout",
     "output_type": "stream",
     "text": [
      "100 -> L: 200, R: 300\n",
      "200 -> L: 400, R: 500\n",
      "400 -> L: 800, R: 900\n",
      "800 -> L: None, R: None\n",
      "900 -> L: None, R: None\n",
      "500 -> L: None, R: None\n",
      "300 -> L: 600, R: 700\n",
      "600 -> L: None, R: None\n",
      "700 -> L: 1000, R: 1100\n",
      "1000 -> L: None, R: None\n",
      "1100 -> L: None, R: None\n"
     ]
    }
   ],
   "source": [
    "print_binary_tree(root3)\n",
    "\n",
    "# root3: Contains 12 nodes, Height = 5\n",
    "# Structure:\n",
    "#        100\n",
    "#      /     \\\n",
    "#    200     300\n",
    "#   /  \\     /  \\\n",
    "# 400  500  600  700\n",
    "# / \\        /  \\\n",
    "# 800 900   1000 1100\n"
   ]
  },
  {
   "cell_type": "markdown",
   "id": "38f24206",
   "metadata": {},
   "source": [
    "### Take Input for Tree"
   ]
  },
  {
   "cell_type": "code",
   "execution_count": null,
   "id": "ed753354",
   "metadata": {},
   "outputs": [],
   "source": [
    "def take_input_binary_tree():\n",
    "    \n",
    "    data = int(input(\"Enter the data for the node (-1 for no node): \"))\n",
    "    \n",
    "    if data == -1:\n",
    "        return None\n",
    "\n",
    "    node = BinaryTreeNode(data)\n",
    "    print(f\"Enter left child of {data}:\")\n",
    "    node.left = take_input_binary_tree()  # Recursive call for left child\n",
    "    print(f\"Enter right child of {data}:\")\n",
    "    node.right = take_input_binary_tree()  # Recursive call for right child\n",
    "    \n",
    "    return node"
   ]
  },
  {
   "cell_type": "code",
   "execution_count": 68,
   "id": "9b76e08b",
   "metadata": {},
   "outputs": [
    {
     "name": "stdout",
     "output_type": "stream",
     "text": [
      "Enter left child of 1:\n",
      "Enter left child of 2:\n",
      "Enter right child of 2:\n",
      "Enter right child of 1:\n",
      "Enter left child of 3:\n",
      "Enter right child of 3:\n",
      "Binary Tree Structure:\n",
      "1 -> L: 2, R: 3\n",
      "2 -> L: None, R: None\n",
      "3 -> L: None, R: None\n"
     ]
    }
   ],
   "source": [
    "root = take_input_binary_tree()\n",
    "print(\"Binary Tree Structure:\")\n",
    "print_binary_tree(root)"
   ]
  },
  {
   "cell_type": "markdown",
   "id": "a13ffbc0",
   "metadata": {},
   "source": [
    "### Take Input for Binary Tree Level Wise"
   ]
  },
  {
   "cell_type": "code",
   "execution_count": 77,
   "id": "3ef170e1",
   "metadata": {},
   "outputs": [],
   "source": [
    "from collections import deque\n",
    "\n",
    "def take_input_level_wise():\n",
    "    data = int(input(\"Enter the data for the root node (-1 for no node): \"))\n",
    "    if data == -1:\n",
    "        return None\n",
    "    \n",
    "    root = BinaryTreeNode(data)\n",
    "    queue = deque([root])\n",
    "    \n",
    "    while queue:\n",
    "        current_node = queue.popleft()\n",
    "        \n",
    "        left_data = int(input(f\"Enter left child of {current_node.data} (-1 for no node): \"))\n",
    "        if left_data != -1:\n",
    "            current_node.left = BinaryTreeNode(left_data)\n",
    "            queue.append(current_node.left)\n",
    "        \n",
    "        right_data = int(input(f\"Enter right child of {current_node.data} (-1 for no node): \"))\n",
    "        if right_data != -1:\n",
    "            current_node.right = BinaryTreeNode(right_data)\n",
    "            queue.append(current_node.right)\n",
    "\n",
    "    return root"
   ]
  },
  {
   "cell_type": "code",
   "execution_count": 73,
   "id": "60ca16b7",
   "metadata": {},
   "outputs": [
    {
     "name": "stdout",
     "output_type": "stream",
     "text": [
      "2 -> L: 4, R: 6\n",
      "4 -> L: 8, R: 10\n",
      "8 -> L: None, R: 16\n",
      "16 -> L: None, R: None\n",
      "10 -> L: 18, R: None\n",
      "18 -> L: None, R: None\n",
      "6 -> L: 12, R: 14\n",
      "12 -> L: None, R: None\n",
      "14 -> L: None, R: None\n"
     ]
    }
   ],
   "source": [
    "root = take_input_level_wise()\n",
    "print_binary_tree(root)"
   ]
  },
  {
   "cell_type": "markdown",
   "id": "c7c6ab67",
   "metadata": {},
   "source": [
    "### Print Binary Tree Level Wise"
   ]
  },
  {
   "cell_type": "code",
   "execution_count": null,
   "id": "82bbe26b",
   "metadata": {},
   "outputs": [],
   "source": [
    "def print_binary_tree(root):\n",
    "    if root is None:\n",
    "        return\n",
    "    \n",
    "    print(root.data, end = ' -> ') # Print the current node's data\n",
    "    \n",
    "    if root.left is not None:\n",
    "        print(f\"L: {root.left.data},\", end = ' ')\n",
    "    else:\n",
    "        print(\"L: None,\", end = ' ')\n",
    "    if root.right is not None:\n",
    "        print(f\"R: {root.right.data}\", end = '\\n')\n",
    "    else:\n",
    "        print(\"R: None\")\n",
    "    \n",
    "    print_binary_tree(root.left) # Recursive call for left child\n",
    "    print_binary_tree(root.right) # Recursive call for right child"
   ]
  },
  {
   "cell_type": "code",
   "execution_count": 80,
   "id": "da635a90",
   "metadata": {},
   "outputs": [],
   "source": [
    "def print_tree_level_wise(root):\n",
    "    if root is None:\n",
    "        return\n",
    "\n",
    "    print(root.data, end = ' -> ') # Print the current node's data\n",
    "    queue = deque([root])  # Initialize a queue for level-wise traversal\n",
    "    while queue:\n",
    "        current_node = queue.popleft()\n",
    "        if current_node.left is not None:\n",
    "            print(f\"L: {current_node.left.data},\", end = ' ')\n",
    "        else:\n",
    "            print(\"L: None,\", end = ' ')\n",
    "        if current_node.right is not None:\n",
    "            print(f\"R: {current_node.right.data}\", end = '\\n')\n",
    "        else:\n",
    "            print(\"R: None\")\n",
    "\n",
    "    print_tree_level_wise(current_node.left) # Recursive call for left child\n",
    "    print_tree_level_wise(current_node.right) # Recursive call for right child\n",
    "\n",
    "    if current_node.left is not None:\n",
    "        queue.append(current_node.left)\n",
    "    if current_node.right is not None:\n",
    "        queue.append(current_node.right)"
   ]
  },
  {
   "cell_type": "code",
   "execution_count": 81,
   "id": "dce51a07",
   "metadata": {},
   "outputs": [
    {
     "name": "stdout",
     "output_type": "stream",
     "text": [
      "2 -> L: 4, R: 6\n",
      "4 -> L: 8, R: 10\n",
      "8 -> L: None, R: 16\n",
      "16 -> L: None, R: None\n",
      "10 -> L: 18, R: None\n",
      "18 -> L: None, R: None\n",
      "6 -> L: 12, R: 14\n",
      "12 -> L: None, R: None\n",
      "14 -> L: None, R: None\n"
     ]
    }
   ],
   "source": [
    "print_tree_level_wise(root)"
   ]
  },
  {
   "cell_type": "markdown",
   "id": "a647a3fd",
   "metadata": {},
   "source": [
    "### Diameter of Binary Tree"
   ]
  },
  {
   "cell_type": "code",
   "execution_count": 98,
   "id": "80084e0c",
   "metadata": {},
   "outputs": [],
   "source": [
    "def height(root):\n",
    "    \"\"\"Calculate the height of the binary tree.\"\"\"\n",
    "    if root is None:\n",
    "        return 0\n",
    "    \n",
    "    left_height = height(root.left)\n",
    "    right_height = height(root.right)\n",
    "\n",
    "    height_of_tree = 1 + max(left_height,right_height)\n",
    "\n",
    "    return height_of_tree\n",
    "\n",
    "def diameter_of_binary_tree(root):\n",
    "    if root is None:\n",
    "        return 0\n",
    "    \n",
    "    left_height = height(root.left)\n",
    "    right_height = height(root.right)\n",
    "\n",
    "    left_diameter = diameter_of_binary_tree(root.left)\n",
    "    right_diameter = diameter_of_binary_tree(root.right)\n",
    "\n",
    "    diameter = max(left_diameter,right_diameter,left_height+right_height)\n",
    "\n",
    "    return diameter\n",
    "\n",
    "    # Complexity of this function is O(n^2) where n is the number of nodes in the tree."
   ]
  },
  {
   "cell_type": "code",
   "execution_count": 99,
   "id": "8873ec73",
   "metadata": {},
   "outputs": [
    {
     "name": "stdout",
     "output_type": "stream",
     "text": [
      "Diameter of the binary tree: 4\n",
      "Diameter of the binary tree: 5\n",
      "Diameter of the binary tree: 6\n"
     ]
    }
   ],
   "source": [
    "from predefined_binary_tree import predefined_binary_tree_inputs\n",
    "\n",
    "root1, root2, root3 = predefined_binary_tree_inputs()\n",
    "\n",
    "print(\"Diameter of the binary tree:\", diameter_of_binary_tree(root1))\n",
    "\n",
    "print(\"Diameter of the binary tree:\", diameter_of_binary_tree(root2))\n",
    "\n",
    "print(\"Diameter of the binary tree:\", diameter_of_binary_tree(root3))"
   ]
  },
  {
   "cell_type": "markdown",
   "id": "aace6b58",
   "metadata": {},
   "source": [
    "### Diameter of Binary Tree - Optimized"
   ]
  },
  {
   "cell_type": "code",
   "execution_count": 103,
   "id": "266f54a0",
   "metadata": {},
   "outputs": [],
   "source": [
    "def diameter_of_binary_tree_optimized(root):\n",
    "    if root is None:\n",
    "        return 0, 0 # height, diameter\n",
    "\n",
    "    left_height, left_diameter = diameter_of_binary_tree_optimized(root.left)\n",
    "    right_height, right_diameter = diameter_of_binary_tree_optimized(root.right)\n",
    "\n",
    "    diameter_through_root = left_height + right_height\n",
    "\n",
    "    current_height = 1 + max(left_height, right_height)\n",
    "    current_diameter = max(left_diameter, right_diameter, diameter_through_root)\n",
    "\n",
    "    return current_height, current_diameter\n",
    "\n",
    "    # Complexity of this function is O(n) where n is the number of nodes in the tree.\n"
   ]
  },
  {
   "cell_type": "code",
   "execution_count": 107,
   "id": "dd1b0f22",
   "metadata": {},
   "outputs": [
    {
     "name": "stdout",
     "output_type": "stream",
     "text": [
      "Height of the binary tree: 3, Diameter: 4\n",
      "Height of the binary tree: 4, Diameter: 5\n",
      "Height of the binary tree: 4, Diameter: 6\n"
     ]
    }
   ],
   "source": [
    "root1, root2, root3 = predefined_binary_tree_inputs()\n",
    "print(f\"Height of the binary tree: {diameter_of_binary_tree_optimized(root1)[0]}, Diameter: {diameter_of_binary_tree_optimized(root1)[1]}\")\n",
    "print(f\"Height of the binary tree: {diameter_of_binary_tree_optimized(root2)[0]}, Diameter: {diameter_of_binary_tree_optimized(root2)[1]}\")\n",
    "print(f\"Height of the binary tree: {diameter_of_binary_tree_optimized(root3)[0]}, Diameter: {diameter_of_binary_tree_optimized(root3)[1]}\")"
   ]
  },
  {
   "cell_type": "markdown",
   "id": "888923c4",
   "metadata": {},
   "source": [
    "### Check if Binary Tree is Balanced"
   ]
  },
  {
   "cell_type": "code",
   "execution_count": 108,
   "id": "8370905f",
   "metadata": {},
   "outputs": [],
   "source": [
    "def is_balanced_binary_tree(root):\n",
    "    def check_balance(node):\n",
    "        if node is None:\n",
    "            return 0\n",
    "\n",
    "        left_height = check_balance(node.left)\n",
    "        right_height = check_balance(node.right)\n",
    "\n",
    "        if left_height == -1 or right_height == -1 or abs(left_height - right_height) > 1:\n",
    "            return -1\n",
    "\n",
    "        return 1 + max(left_height, right_height)\n",
    "\n",
    "    return check_balance(root) != -1"
   ]
  },
  {
   "cell_type": "code",
   "execution_count": 110,
   "id": "16da2b3a",
   "metadata": {},
   "outputs": [
    {
     "name": "stdout",
     "output_type": "stream",
     "text": [
      "Is the binary tree balanced? True\n",
      "Is the binary tree balanced? True\n",
      "Is the binary tree balanced? True\n"
     ]
    }
   ],
   "source": [
    "is_balanced = is_balanced_binary_tree(root1)\n",
    "print(\"Is the binary tree balanced?\", is_balanced)\n",
    "\n",
    "is_balanced = is_balanced_binary_tree(root2)\n",
    "print(\"Is the binary tree balanced?\", is_balanced)\n",
    "\n",
    "is_balanced = is_balanced_binary_tree(root3)\n",
    "print(\"Is the binary tree balanced?\", is_balanced)\n"
   ]
  },
  {
   "cell_type": "markdown",
   "id": "8548a68c",
   "metadata": {},
   "source": [
    "### Traversal of BinaryTree"
   ]
  },
  {
   "cell_type": "code",
   "execution_count": 111,
   "id": "04e0f32f",
   "metadata": {},
   "outputs": [],
   "source": [
    "def pre_order_traversal(root): # Preorder traversal of the tree\n",
    "    if root is None:\n",
    "        return\n",
    "    \n",
    "    print(root.data, end = \" \")  # Visit the current node\n",
    "    pre_order_traversal(root.left)  # Traverse the left subtree\n",
    "    pre_order_traversal(root.right)  # Traverse the right subtree"
   ]
  },
  {
   "cell_type": "code",
   "execution_count": null,
   "id": "79b1e9e7",
   "metadata": {},
   "outputs": [
    {
     "name": "stdout",
     "output_type": "stream",
     "text": [
      "1 2 4 5 3 6 "
     ]
    }
   ],
   "source": [
    "result = pre_order_traversal(root1)\n",
    "result\n",
    "\n",
    "## Tree Structure\n",
    "#       1\n",
    "#     /   \\\n",
    "#    2     3\n",
    "#   / \\     \\\n",
    "#  4   5     6\n"
   ]
  },
  {
   "cell_type": "code",
   "execution_count": 113,
   "id": "8e9c616a",
   "metadata": {},
   "outputs": [],
   "source": [
    "def post_order_traversal(root):  # Postorder traversal of the tree\n",
    "    if root is None:\n",
    "        return\n",
    "\n",
    "    post_order_traversal(root.left)  # Traverse the left subtree\n",
    "    post_order_traversal(root.right)  # Traverse the right subtree\n",
    "    print(root.data, end = \" \")  # Visit the current node after its children"
   ]
  },
  {
   "cell_type": "code",
   "execution_count": 114,
   "id": "53ddde2b",
   "metadata": {},
   "outputs": [
    {
     "name": "stdout",
     "output_type": "stream",
     "text": [
      "80 40 50 20 60 70 30 10 "
     ]
    }
   ],
   "source": [
    "result = post_order_traversal(root2)\n",
    "result\n",
    "\n",
    "# Structure:\n",
    "#       10\n",
    "#     /    \\\n",
    "#   20      30\n",
    "#  /  \\    /  \\\n",
    "# 40   50 60  70\n",
    "# /\n",
    "# 80"
   ]
  },
  {
   "cell_type": "code",
   "execution_count": 118,
   "id": "3a79c912",
   "metadata": {},
   "outputs": [],
   "source": [
    "def inorder_traversal(root):  # Inorder traversal of the tree\n",
    "    if root is None:\n",
    "        return\n",
    "    \n",
    "    inorder_traversal(root.left)  # Traverse the left subtree\n",
    "    print(root.data, end = \" \")  # Visit the current node\n",
    "    inorder_traversal(root.right)  # Traverse the right subtree"
   ]
  },
  {
   "cell_type": "code",
   "execution_count": 119,
   "id": "baeeca2f",
   "metadata": {},
   "outputs": [
    {
     "name": "stdout",
     "output_type": "stream",
     "text": [
      "4 2 5 1 3 6 "
     ]
    }
   ],
   "source": [
    "result = inorder_traversal(root1)\n",
    "result\n",
    "\n",
    "## Tree Structure\n",
    "#       1\n",
    "#     /   \\\n",
    "#    2     3\n",
    "#   / \\     \\\n",
    "#  4   5     6"
   ]
  },
  {
   "cell_type": "code",
   "execution_count": 120,
   "id": "50882fc1",
   "metadata": {},
   "outputs": [
    {
     "name": "stdout",
     "output_type": "stream",
     "text": [
      "80 40 20 50 10 60 30 70 "
     ]
    }
   ],
   "source": [
    "result = inorder_traversal(root2)\n",
    "result\n",
    "\n",
    "# Structure:\n",
    "#       10\n",
    "#     /    \\\n",
    "#   20      30\n",
    "#  /  \\    /  \\\n",
    "# 40   50 60  70\n",
    "# /\n",
    "# 80"
   ]
  },
  {
   "cell_type": "markdown",
   "id": "7ddb9e0d",
   "metadata": {},
   "source": [
    "### Construct Tree from Inorder and Postorder"
   ]
  },
  {
   "cell_type": "code",
   "execution_count": 127,
   "id": "31b14599",
   "metadata": {},
   "outputs": [],
   "source": [
    "def construct_tree_from_inorder_and_preorder(inorder: list[int], preorder: list[int]):\n",
    "    if not inorder or not preorder:\n",
    "        return None\n",
    "\n",
    "    root_data = preorder[0]  # First element in preorder is the root\n",
    "    root = BinaryTreeNode(root_data)\n",
    "\n",
    "    inorder_index = inorder.index(root_data)  # Find the index of the root in inorder\n",
    "\n",
    "    # Recursively construct the left and right subtrees\n",
    "    root.left = construct_tree_from_inorder_and_preorder(inorder[:inorder_index], preorder[1:inorder_index + 1])\n",
    "    root.right = construct_tree_from_inorder_and_preorder(inorder[inorder_index + 1:], preorder[inorder_index + 1:])\n",
    "\n",
    "    return root"
   ]
  },
  {
   "cell_type": "code",
   "execution_count": 131,
   "id": "42740bd5",
   "metadata": {},
   "outputs": [
    {
     "name": "stdout",
     "output_type": "stream",
     "text": [
      "Constructed Binary Tree from Inorder and Preorder:\n",
      "1 -> L: 2, R: 3\n",
      "2 -> L: 4, R: 5\n",
      "4 -> L: None, R: None\n",
      "5 -> L: None, R: None\n",
      "3 -> L: None, R: 6\n",
      "6 -> L: None, R: None\n"
     ]
    }
   ],
   "source": [
    "preorder = [1, 2, 4, 5, 3, 6]\n",
    "inorder = [4, 2, 5, 1, 3, 6]\n",
    "root = construct_tree_from_inorder_and_preorder(inorder, preorder)\n",
    "print(\"Constructed Binary Tree from Inorder and Preorder:\")\n",
    "print_binary_tree(root)"
   ]
  },
  {
   "cell_type": "markdown",
   "id": "71f29732",
   "metadata": {},
   "source": [
    "### Construct Tree from Inorder and Postorder"
   ]
  },
  {
   "cell_type": "code",
   "execution_count": 129,
   "id": "607df175",
   "metadata": {},
   "outputs": [],
   "source": [
    "def construct_tree_from_inorder_and_postorder(inorder: list[int], postorder: list[int]):\n",
    "    if not inorder or not postorder:\n",
    "        return None\n",
    "    \n",
    "    root_data = postorder.pop()  # Last element in postorder is the root\n",
    "    root = BinaryTreeNode(root_data)\n",
    "\n",
    "    inorder_index = inorder.index(root_data)  # Find the index of the root in inorder\n",
    "\n",
    "    # Recursively construct the right and left subtrees\n",
    "    root.right = construct_tree_from_inorder_and_postorder(inorder[inorder_index + 1:], postorder)\n",
    "    root.left = construct_tree_from_inorder_and_postorder(inorder[:inorder_index], postorder)\n",
    "\n",
    "    return root\n"
   ]
  },
  {
   "cell_type": "code",
   "execution_count": 132,
   "id": "6433713a",
   "metadata": {},
   "outputs": [
    {
     "name": "stdout",
     "output_type": "stream",
     "text": [
      "Constructed Binary Tree from Inorder and Postorder:\n",
      "1 -> L: 2, R: 3\n",
      "2 -> L: 4, R: 5\n",
      "4 -> L: None, R: None\n",
      "5 -> L: None, R: None\n",
      "3 -> L: None, R: 6\n",
      "6 -> L: None, R: None\n"
     ]
    }
   ],
   "source": [
    "inorder = [4, 2, 5, 1, 3, 6]\n",
    "postorder = [4, 5, 2, 6, 3, 1]\n",
    "root = construct_tree_from_inorder_and_postorder(inorder, postorder)\n",
    "print(\"Constructed Binary Tree from Inorder and Postorder:\")\n",
    "print_binary_tree(root)"
   ]
  }
 ],
 "metadata": {
  "kernelspec": {
   "display_name": "base",
   "language": "python",
   "name": "python3"
  },
  "language_info": {
   "codemirror_mode": {
    "name": "ipython",
    "version": 3
   },
   "file_extension": ".py",
   "mimetype": "text/x-python",
   "name": "python",
   "nbconvert_exporter": "python",
   "pygments_lexer": "ipython3",
   "version": "3.12.4"
  }
 },
 "nbformat": 4,
 "nbformat_minor": 5
}
