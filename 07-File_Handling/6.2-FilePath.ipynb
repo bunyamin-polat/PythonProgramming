{
 "cells": [
  {
   "cell_type": "markdown",
   "metadata": {
    "vscode": {
     "languageId": "plaintext"
    }
   },
   "source": [
    "### Working With File Paths\n",
    "\n",
    "When working with files in Python, handling file paths correctly is crucial to ensure your code works across different operating systems and environments. Python provides several modules and functions for working with file paths effectively."
   ]
  },
  {
   "cell_type": "code",
   "execution_count": 1,
   "metadata": {},
   "outputs": [
    {
     "name": "stdout",
     "output_type": "stream",
     "text": [
      "Current working directory is /Users/bunyamin/Desktop/PythonProgramming/7-File_Handling\n"
     ]
    }
   ],
   "source": [
    "import os\n",
    "\n",
    "cwd = os.getcwd()\n",
    "print(f'Current working directory is {cwd}')"
   ]
  },
  {
   "cell_type": "code",
   "execution_count": 2,
   "metadata": {},
   "outputs": [
    {
     "name": "stdout",
     "output_type": "stream",
     "text": [
      "Directory 'package' create\n"
     ]
    }
   ],
   "source": [
    "## Create a new directory\n",
    "\n",
    "new_directory = 'package'\n",
    "os.mkdir(new_directory)\n",
    "print(f\"Directory '{new_directory}' create\")"
   ]
  },
  {
   "cell_type": "code",
   "execution_count": 3,
   "metadata": {},
   "outputs": [
    {
     "name": "stdout",
     "output_type": "stream",
     "text": [
      "['destination.txt', '6.1-FileOperation.ipynb', 'example.bin', 'example.txt', '6.2-FilePath.ipynb', 'package']\n"
     ]
    }
   ],
   "source": [
    "## Listing Files and Directories\n",
    "items = os.listdir('.')\n",
    "print(items)"
   ]
  },
  {
   "cell_type": "code",
   "execution_count": 4,
   "metadata": {},
   "outputs": [
    {
     "name": "stdout",
     "output_type": "stream",
     "text": [
      "folder/file.txt\n"
     ]
    }
   ],
   "source": [
    "## Joining paths\n",
    "dir_name = 'folder'\n",
    "file_name = 'file.txt'\n",
    "\n",
    "full_path = os.path.join(dir_name, file_name)\n",
    "print(full_path)"
   ]
  },
  {
   "cell_type": "code",
   "execution_count": null,
   "metadata": {},
   "outputs": [
    {
     "name": "stdout",
     "output_type": "stream",
     "text": [
      "/Users/bunyamin/Desktop/PythonProgramming/7-File_Handling/folder/file.txt\n"
     ]
    }
   ],
   "source": [
    "dir_name = \"folder\"\n",
    "file_name = \"file.txt\"\n",
    "full_path = os.path.join(os.getcwd(), dir_name, file_name)\n",
    "print(full_path)"
   ]
  },
  {
   "cell_type": "code",
   "execution_count": 6,
   "metadata": {},
   "outputs": [
    {
     "name": "stdout",
     "output_type": "stream",
     "text": [
      "The path 'example.txt' is a file path\n"
     ]
    }
   ],
   "source": [
    "## Checking if a path is a file or directory\n",
    "\n",
    "path = 'example.txt'\n",
    "\n",
    "if os.path.isfile(path):\n",
    "    print(f\"The path '{path}' is a file path\")\n",
    "elif os.path.isdir(path):\n",
    "    print(f\"The path '{path}' is a directory\")\n",
    "else:\n",
    "    print(f\"The path '{path}' is neither a file nor a directory.\")"
   ]
  },
  {
   "cell_type": "code",
   "execution_count": 7,
   "metadata": {},
   "outputs": [
    {
     "name": "stdout",
     "output_type": "stream",
     "text": [
      "/Users/bunyamin/Desktop/PythonProgramming/7-File_Handling/example.txt\n"
     ]
    }
   ],
   "source": [
    "## Getting absolute path\n",
    "relative_path = 'example.txt'\n",
    "absolute_path = os.path.abspath(relative_path)\n",
    "print(absolute_path)"
   ]
  }
 ],
 "metadata": {
  "kernelspec": {
   "display_name": "Python 3",
   "language": "python",
   "name": "python3"
  },
  "language_info": {
   "codemirror_mode": {
    "name": "ipython",
    "version": 3
   },
   "file_extension": ".py",
   "mimetype": "text/x-python",
   "name": "python",
   "nbconvert_exporter": "python",
   "pygments_lexer": "ipython3",
   "version": "3.12.0"
  }
 },
 "nbformat": 4,
 "nbformat_minor": 2
}
