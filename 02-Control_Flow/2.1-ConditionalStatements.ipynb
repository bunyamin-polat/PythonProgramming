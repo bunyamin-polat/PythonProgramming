{
 "cells": [
  {
   "cell_type": "markdown",
   "metadata": {},
   "source": [
    "## Conditional Statements\n",
    "- Conditional statements are used to perform different actions based on certain conditions.\n",
    "\n",
    "- The main conditional statements in Python are `if`, `elif`, and `else`."
   ]
  },
  {
   "cell_type": "code",
   "execution_count": 1,
   "metadata": {},
   "outputs": [
    {
     "name": "stdout",
     "output_type": "stream",
     "text": [
      "You are allowed to vote in the election.\n"
     ]
    }
   ],
   "source": [
    "# if statement\n",
    "\n",
    "age = 20\n",
    "\n",
    "if age >= 18:\n",
    "    print('You are allowed to vote in the election.')"
   ]
  },
  {
   "cell_type": "code",
   "execution_count": 2,
   "metadata": {},
   "outputs": [
    {
     "name": "stdout",
     "output_type": "stream",
     "text": [
      "You are not allowed to vote in the election.\n"
     ]
    }
   ],
   "source": [
    "# if-else statement\n",
    "# The else statement executes a block of code if the condition in the if statement is False.\n",
    "\n",
    "age = 17\n",
    "\n",
    "if age >= 18:\n",
    "    print('You are allowed to vote in the election.')\n",
    "else:\n",
    "    print('You are not allowed to vote in the election.')"
   ]
  },
  {
   "cell_type": "code",
   "execution_count": 4,
   "metadata": {},
   "outputs": [
    {
     "name": "stdout",
     "output_type": "stream",
     "text": [
      "You are a teenager.\n"
     ]
    }
   ],
   "source": [
    "# elif\n",
    "# The elif statement allows you to check multiple conditions. It stands for \"else if\"\n",
    "age = 14\n",
    "\n",
    "if age < 13:\n",
    "    print('You are a child.')\n",
    "elif age < 18:\n",
    "    print('You are a teenager.')\n",
    "else:\n",
    "    print('You are an adult.')"
   ]
  },
  {
   "cell_type": "code",
   "execution_count": 5,
   "metadata": {},
   "outputs": [
    {
     "name": "stdout",
     "output_type": "stream",
     "text": [
      "The number is positive.\n",
      "The number is odd.\n"
     ]
    }
   ],
   "source": [
    "# Nested Condiitonal Statements\n",
    "# You can place one or more if, elif, or else statements inside another if, elif, or else statement to create nested conditional statements.\n",
    "\n",
    "num = int(input('Enter a number: '))\n",
    "\n",
    "if num >= 0:\n",
    "    print('The number is positive.')\n",
    "    if num%2 == 0:\n",
    "        print('The number is even.')\n",
    "    else:\n",
    "        print('The number is odd.')\n",
    "else:\n",
    "    print('The number is zero or negative.')"
   ]
  },
  {
   "cell_type": "markdown",
   "metadata": {},
   "source": [
    "## Practical Examples\n",
    "\n",
    "### Example 1: Leap Year"
   ]
  },
  {
   "cell_type": "code",
   "execution_count": 6,
   "metadata": {},
   "outputs": [
    {
     "name": "stdout",
     "output_type": "stream",
     "text": [
      "2024 The year is a leap year.\n"
     ]
    }
   ],
   "source": [
    "year = int(input(\"Enter a year: \"))\n",
    "if year % 4 == 0:\n",
    "    if year % 100 == 0:\n",
    "        if year % 400 == 0:\n",
    "            print(year, \"The year is a leap year.\")\n",
    "        else:\n",
    "            print(year, \"The year is not a leap year.\")\n",
    "    else:\n",
    "        print(year, \"The year is a leap year.\")\n",
    "else:\n",
    "    print(year, \"The year is not a leap year.\")\n",
    "    \n",
    "''' # Another way to write the above code #\n",
    "year = int(input(\"Enter a year: \"))\n",
    "if year % 4 == 0 and (year % 100 != 0 or year % 400 == 0):\n",
    "    print(year, \"The year is a leap year.\")\n",
    "else:\n",
    "    print(year, \"The year is not a leap year.\")\n",
    "'''"
   ]
  },
  {
   "cell_type": "markdown",
   "metadata": {},
   "source": [
    "### Example 2: Simple Calculator"
   ]
  },
  {
   "cell_type": "code",
   "execution_count": 11,
   "metadata": {},
   "outputs": [
    {
     "name": "stdout",
     "output_type": "stream",
     "text": [
      "25 * 4 = 100\n"
     ]
    }
   ],
   "source": [
    "num1 = int(input('Enter the first number: '))\n",
    "num2 = int(input('Enter the second number: '))\n",
    "\n",
    "operator = input('Enter an operator (+, -, *, /): ')\n",
    "\n",
    "if operator == '+':\n",
    "    print(num1, '+', num2, '=', num1 + num2)\n",
    "elif operator == '-':\n",
    "    print(num1, '-', num2, '=', num1 - num2)\n",
    "elif operator == '*':\n",
    "    print(num1, '*', num2, '=', num1 * num2)\n",
    "elif operator == '/':\n",
    "    if num2 != 0:\n",
    "        print(num1, '/', num2, '=', num1 / num2)\n",
    "    else:\n",
    "        print('Division by zero is not allowed.')\n",
    "else:\n",
    "    print('Invalid operator')   "
   ]
  },
  {
   "cell_type": "markdown",
   "metadata": {},
   "source": [
    "### Example 3: Ticket Price Calculation Based on Age and Student Status"
   ]
  },
  {
   "cell_type": "code",
   "execution_count": 13,
   "metadata": {},
   "outputs": [
    {
     "name": "stdout",
     "output_type": "stream",
     "text": [
      "Your ticket price is: $15\n"
     ]
    }
   ],
   "source": [
    "# Take user input\n",
    "age = int(input('Enter your age: '))\n",
    "is_student = input('Are you a student? (yes/no): ').lower()\n",
    "\n",
    "# Determine the ticket price\n",
    "if age < 5:\n",
    "    ticket_price = 'Free'\n",
    "elif age <= 12:\n",
    "    ticket_price = '$10'\n",
    "elif age <= 17:\n",
    "    if is_student == 'yes':\n",
    "        ticket_price = '$12'\n",
    "    else:\n",
    "        ticket_price = '$15'\n",
    "elif age <= 64:\n",
    "    if is_student == 'yes':\n",
    "        ticket_price = '$18'\n",
    "    else:\n",
    "        ticket_price = '$25'\n",
    "else:\n",
    "    ticket_price = '$20'\n",
    "\n",
    "print('Your ticket price is:', ticket_price)"
   ]
  },
  {
   "cell_type": "markdown",
   "metadata": {},
   "source": [
    "### Example 4: Employee Bonus Calculation ###"
   ]
  },
  {
   "cell_type": "code",
   "execution_count": 16,
   "metadata": {},
   "outputs": [
    {
     "name": "stdout",
     "output_type": "stream",
     "text": [
      "The bonus amount is: 24000.0\n"
     ]
    }
   ],
   "source": [
    "# Take user input\n",
    "years_of_experience = int(input('Enter the number of years of experience: '))\n",
    "performance_rating = float(input('Enter the performance rating (1.0-5.0): '))\n",
    "\n",
    "# Determine the bonus percentage\n",
    "\n",
    "if performance_rating >= 4.5:\n",
    "    if years_of_experience > 10:\n",
    "        bonus_percentage = 20\n",
    "    elif years_of_experience > 5:\n",
    "        bonus_percentage = 15\n",
    "    else:\n",
    "        bonus_percentage = 10\n",
    "elif performance_rating >= 3.5:\n",
    "    if years_of_experience > 10:\n",
    "        bonus_percentage = 15\n",
    "    elif years_of_experience > 5:\n",
    "        bonus_percentage = 10\n",
    "    else:\n",
    "        bonus_percentage = 5\n",
    "else:\n",
    "    bonus_percentage = 0\n",
    "\n",
    "# Calculate the bonus amount\n",
    "salary = float(input('Enter the current salary: '))\n",
    "bonus_amount = (bonus_percentage / 100) * salary\n",
    "\n",
    "print('The bonus amount is:', bonus_amount)"
   ]
  },
  {
   "cell_type": "markdown",
   "metadata": {},
   "source": [
    "### Example 4: User System Login"
   ]
  },
  {
   "cell_type": "code",
   "execution_count": 18,
   "metadata": {},
   "outputs": [
    {
     "name": "stdout",
     "output_type": "stream",
     "text": [
      "You are logged in.\n"
     ]
    }
   ],
   "source": [
    "# Define the username and password\n",
    "stored_username = 'admin'\n",
    "stored_password = 'password'\n",
    "\n",
    "# Take user input\n",
    "username = input('Enter your username: ')\n",
    "password = input('Enter your password: ')\n",
    "\n",
    "# Check if the username and password are correct\n",
    "if username == stored_username:\n",
    "    if password == stored_password:\n",
    "        print('You are logged in.')\n",
    "    else:\n",
    "        print('Incorrect password.')\n",
    "else:\n",
    "    print(\"Username not found.\")\n",
    "    \n",
    "'''# Another way to write the above code #\n",
    "if username == stored_username and password == stored_password:\n",
    "    print('You are logged in.')\n",
    "elif username == stored_username:\n",
    "    print('Incorrect password.')\n",
    "else:\n",
    "    print('Username not found.')\n",
    "'''"
   ]
  }
 ],
 "metadata": {
  "kernelspec": {
   "display_name": "Python 3",
   "language": "python",
   "name": "python3"
  },
  "language_info": {
   "codemirror_mode": {
    "name": "ipython",
    "version": 3
   },
   "file_extension": ".py",
   "mimetype": "text/x-python",
   "name": "python",
   "nbconvert_exporter": "python",
   "pygments_lexer": "ipython3",
   "version": "3.12.0"
  }
 },
 "nbformat": 4,
 "nbformat_minor": 2
}
