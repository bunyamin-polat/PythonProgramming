{
 "cells": [
  {
   "cell_type": "markdown",
   "metadata": {},
   "source": [
    "## Variables\n",
    "\n",
    "- Variables are essential components in programming, designed to store data that can be accessed and modified within a program.\n",
    "\n",
    "- In Python, variables are created simply by assigning a value to them—there is no need for an explicit declaration to allocate memory.\n",
    "\n",
    "- This assignment automatically triggers the variable's creation."
   ]
  },
  {
   "cell_type": "code",
   "execution_count": 1,
   "metadata": {},
   "outputs": [
    {
     "name": "stdout",
     "output_type": "stream",
     "text": [
      "Age: 32\n",
      "Height: 5.8\n",
      "Name: Bunyamin\n"
     ]
    }
   ],
   "source": [
    "age = 32\n",
    "height = 5.8\n",
    "name = 'Bunyamin'\n",
    "is_student = True\n",
    "\n",
    "print('Age:', age)\n",
    "print('Height:', height)\n",
    "print('Name:', name)\n"
   ]
  },
  {
   "cell_type": "markdown",
   "metadata": {},
   "source": [
    "### 1 - Naming Conventions\n",
    "   - Variable names should be descriptive and follow a consistent format for clarity.\n",
    "\n",
    "   - In Python, the recommended naming convention is **snake_case**, where words are lowercase and separated by underscores (e.g., `total_price`, `user_name`).\n",
    "\n",
    "   - Variable names must start with a letter or an underscore, followed by letters, digits, or underscores.\n",
    "\n",
    "   - Avoid using Python's reserved keywords (like `class`, `def`, or `return`) as variable names.\n",
    "   \n",
    "   - Names are case-sensitive, meaning `age` and `Age` are treated as different variables.\n",
    "\n"
   ]
  },
  {
   "cell_type": "code",
   "execution_count": 2,
   "metadata": {},
   "outputs": [],
   "source": [
    "# Valid variable names\n",
    "\n",
    "first_name = 'Bunyamin'\n",
    "last_name = 'Polat'\n",
    "age = 32"
   ]
  },
  {
   "cell_type": "code",
   "execution_count": 3,
   "metadata": {},
   "outputs": [
    {
     "ename": "SyntaxError",
     "evalue": "invalid decimal literal (752832446.py, line 2)",
     "output_type": "error",
     "traceback": [
      "\u001b[0;36m  Cell \u001b[0;32mIn[3], line 2\u001b[0;36m\u001b[0m\n\u001b[0;31m    2first_name = 'Bunyamin'\u001b[0m\n\u001b[0m    ^\u001b[0m\n\u001b[0;31mSyntaxError\u001b[0m\u001b[0;31m:\u001b[0m invalid decimal literal\n"
     ]
    }
   ],
   "source": [
    "# Invalid variable names\n",
    "2first_name = 'Bunyamin'\n",
    "first-name = 'Bunyamin'\n",
    "first name = 'Bunyamin'\n",
    "@first_name = 'Bunyamin'\n",
    "for = 'Bunyamin'"
   ]
  },
  {
   "cell_type": "markdown",
   "metadata": {},
   "source": [
    "### 2 - Understnading Variable Types\n",
    "\n",
    "   - In Python, variables can store different types of data such as numbers, strings, lists, and more.\n",
    "   - Python is a **dynamically-typed** language, meaning you don't need to explicitly define the variable's data type; it is inferred from the value assigned.\n",
    "   - Common variable types include:\n",
    "     - **int**: for integers (e.g., `x = 10`)\n",
    "     - **float**: for decimal numbers (e.g., `y = 3.14`)\n",
    "     - **str**: for strings (e.g., `name = \"Alice\"`)\n",
    "     - **bool**: for boolean values (e.g., `is_valid = True`)\n",
    "   - You can check the type of a variable using the `type()` function (e.g., `type(x)` will return `<class 'int'>`)."
   ]
  },
  {
   "cell_type": "code",
   "execution_count": 5,
   "metadata": {},
   "outputs": [
    {
     "name": "stdout",
     "output_type": "stream",
     "text": [
      "<class 'str'>\n"
     ]
    }
   ],
   "source": [
    "age = 25 #int\n",
    "height = 6.1 #float\n",
    "name = 'Bunyamin' #str\n",
    "is_student = True #bool\n",
    "\n",
    "print(type(name))"
   ]
  },
  {
   "cell_type": "markdown",
   "metadata": {},
   "source": [
    "### 3 - Type Checking and Conversion\n",
    "\n",
    "   - **Type Checking**: Use `type()` to check a variable's type (e.g., `type(10)` returns `<class 'int'>`).\n",
    "   - **Type Conversion**: Convert data types using functions like:\n",
    "     - `int()`: to integer (e.g., `int(\"10\")`)\n",
    "     - `float()`: to float (e.g., `float(5)`)\n",
    "     - `str()`: to string (e.g., `str(10)`)\n",
    "     - `bool()`: to boolean (e.g., `bool(0)` → `False`)"
   ]
  },
  {
   "cell_type": "code",
   "execution_count": 6,
   "metadata": {},
   "outputs": [
    {
     "name": "stdout",
     "output_type": "stream",
     "text": [
      "<class 'int'>\n",
      "<class 'str'>\n"
     ]
    }
   ],
   "source": [
    "age = 30\n",
    "print(type(age))\n",
    "\n",
    "age_str = str(age)\n",
    "print(type(age_str))"
   ]
  },
  {
   "cell_type": "code",
   "execution_count": 7,
   "metadata": {},
   "outputs": [
    {
     "name": "stdout",
     "output_type": "stream",
     "text": [
      "30\n",
      "<class 'str'>\n",
      "30\n",
      "<class 'int'>\n"
     ]
    }
   ],
   "source": [
    "age = '30'\n",
    "print(age)\n",
    "print(type(age))\n",
    "\n",
    "age_int = int(age)\n",
    "print(age_int)\n",
    "print(type(age_int))"
   ]
  },
  {
   "cell_type": "code",
   "execution_count": null,
   "metadata": {},
   "outputs": [
    {
     "ename": "ValueError",
     "evalue": "invalid literal for int() with base 10: 'Bunyamın'",
     "output_type": "error",
     "traceback": [
      "\u001b[0;31m---------------------------------------------------------------------------\u001b[0m",
      "\u001b[0;31mValueError\u001b[0m                                Traceback (most recent call last)",
      "Cell \u001b[0;32mIn[8], line 2\u001b[0m\n\u001b[1;32m      1\u001b[0m name \u001b[38;5;241m=\u001b[39m \u001b[38;5;124m\"\u001b[39m\u001b[38;5;124mBunyamın\u001b[39m\u001b[38;5;124m\"\u001b[39m\n\u001b[0;32m----> 2\u001b[0m \u001b[38;5;28mint\u001b[39m(name)\n",
      "\u001b[0;31mValueError\u001b[0m: invalid literal for int() with base 10: 'Bunyamın'"
     ]
    }
   ],
   "source": [
    "name = \"Bunyamin\"\n",
    "int(name)"
   ]
  },
  {
   "cell_type": "code",
   "execution_count": 9,
   "metadata": {},
   "outputs": [
    {
     "name": "stdout",
     "output_type": "stream",
     "text": [
      "5.8\n",
      "<class 'float'>\n",
      "5\n"
     ]
    }
   ],
   "source": [
    "height = 5.8\n",
    "print(height)\n",
    "print(type(height))\n",
    "\n",
    "print(int(height))"
   ]
  },
  {
   "cell_type": "markdown",
   "metadata": {},
   "source": [
    "### 4 - Simple Math Operations"
   ]
  },
  {
   "cell_type": "code",
   "execution_count": 10,
   "metadata": {},
   "outputs": [
    {
     "name": "stdout",
     "output_type": "stream",
     "text": [
      "Sum: 25.0\n",
      "Difference: 5.0\n",
      "Product: 150.0\n",
      "Quotient: 1.5\n"
     ]
    }
   ],
   "source": [
    "num1 = float(input('Enter first number: '))\n",
    "num2 = float(input('Enter second number: '))\n",
    "\n",
    "sum = num1 + num2\n",
    "print('Sum:',sum)\n",
    "diff = num1 - num2\n",
    "print('Difference:',diff)\n",
    "product = num1 * num2\n",
    "print('Product:',product)\n",
    "quotient = num1 / num2\n",
    "print('Quotient:',quotient)"
   ]
  },
  {
   "cell_type": "markdown",
   "metadata": {},
   "source": [
    "### 5 - Conclusions\n",
    "Variables are key in Python programming for storing and manipulating data. \n",
    "\n",
    "Determining, assigning, and using them efficiently is vital for writing effective code. \n",
    "\n",
    "Adhering to naming conventions and understanding variable types ensures your code remains clear, readable, and consistent."
   ]
  }
 ],
 "metadata": {
  "kernelspec": {
   "display_name": "base",
   "language": "python",
   "name": "python3"
  },
  "language_info": {
   "codemirror_mode": {
    "name": "ipython",
    "version": 3
   },
   "file_extension": ".py",
   "mimetype": "text/x-python",
   "name": "python",
   "nbconvert_exporter": "python",
   "pygments_lexer": "ipython3",
   "version": "3.12.4"
  }
 },
 "nbformat": 4,
 "nbformat_minor": 2
}
