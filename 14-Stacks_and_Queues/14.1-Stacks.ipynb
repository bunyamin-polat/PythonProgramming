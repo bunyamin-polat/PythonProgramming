{
 "cells": [
  {
   "cell_type": "markdown",
   "id": "feacd8bb",
   "metadata": {},
   "source": [
    "## Stacks\n",
    "\n",
    "A stack is a linear data structure that follows the LIFO principle — Last In, First Out. This means that the last element that was added (pushed) to the stack is the first one to be removed (popped).\n",
    "\n",
    "Think of it like a stack of plates:\n",
    "\n",
    "- You add new plates on top.\n",
    "\n",
    "- You always remove the top plate first.\n",
    "\n",
    "### Basic Stack Operations\n",
    "\n",
    "- **push** – Adds an element to the top of the stack.\n",
    "\n",
    "- **pop** – Removes the top element from the stack.\n",
    "\n",
    "- **peek (or top)** – Returns the top element without removing it.\n",
    "\n",
    "- **isEmpty** – Checks if the stack is empty.\n",
    "\n",
    "- **size** – Returns the number of elements in the stack.\n",
    "\n",
    "### What is a Stack Used For?\n",
    "\n",
    "Stacks are used in many areas of computer science and programming. Common use cases include:\n",
    "\n",
    "**1. Function Call Management**\n",
    "\n",
    "Programming languages use stacks to keep track of function calls.\n",
    "When a function is called, it's pushed onto the call stack. When it finishes, it's popped off.\n",
    "\n",
    "**2. Undo/Redo Features**\n",
    "\n",
    "Text editors (like Word) or Photoshop use stacks to allow undo and redo actions.\n",
    "\n",
    "**3. Expression Evaluation**\n",
    "\n",
    "Calculators and compilers use stacks to evaluate mathematical expressions, like converting from infix to postfix.\n",
    "\n",
    "**4. Syntax Checking**\n",
    "\n",
    "Matching brackets, parentheses, or HTML/XML tags uses stacks.\n",
    "\n",
    "**5. Depth-First Search (DFS)**\n",
    "\n",
    "Stack is used to explore paths deeply in tree and graph algorithms.\n",
    "\n",
    "\n",
    "\n"
   ]
  },
  {
   "cell_type": "markdown",
   "id": "0f0f646e",
   "metadata": {},
   "source": [
    "### Stack Implementation using In-built List"
   ]
  },
  {
   "cell_type": "code",
   "execution_count": 1,
   "id": "8f253774",
   "metadata": {},
   "outputs": [],
   "source": [
    "class StackUsingList:\n",
    "    def __init__(self):\n",
    "        self.stack = []\n",
    "        # self.__stack = [] # Uncomment this line to make the stack private\n",
    "    \n",
    "    def push(self, data):\n",
    "        self.stack.append(data)\n",
    "        print(f\"Pushed {data} into the stack.\")\n",
    "    \n",
    "    def size(self):\n",
    "        return len(self.stack)\n",
    "\n",
    "    def is_empty(self):\n",
    "        return len(self.stack) == 0\n",
    "\n",
    "    def pop(self):\n",
    "        if not self.is_empty():\n",
    "            removed = self.stack.pop()\n",
    "            print(f\"Popped {removed} from the stack.\")\n",
    "            return removed\n",
    "        else:\n",
    "            print(\"Stack is empty.\")\n",
    "            return None\n",
    "    \n",
    "    def top(self):\n",
    "        if not self.is_empty():\n",
    "            return self.stack[-1]\n",
    "        else:\n",
    "            print(\"Stack is empty.\")\n",
    "            return None\n"
   ]
  },
  {
   "cell_type": "code",
   "execution_count": 2,
   "id": "e4f54c00",
   "metadata": {},
   "outputs": [
    {
     "name": "stdout",
     "output_type": "stream",
     "text": [
      "Initial stack size: 0\n",
      "Is stack empty? True\n"
     ]
    }
   ],
   "source": [
    "my_stack = StackUsingList() # Create an instance of StackUsingList\n",
    "\n",
    "print(\"Initial stack size:\", my_stack.size())\n",
    "print(\"Is stack empty?\", my_stack.is_empty())"
   ]
  },
  {
   "cell_type": "code",
   "execution_count": 3,
   "id": "18c60228",
   "metadata": {},
   "outputs": [
    {
     "name": "stdout",
     "output_type": "stream",
     "text": [
      "Pushed 10 into the stack.\n",
      "Pushed 20 into the stack.\n",
      "Pushed 30 into the stack.\n",
      "Pushed 40 into the stack.\n",
      "Current stack contents: [10, 20, 30, 40]\n",
      "Stack size after pushing: 4\n",
      "Top element: 40\n"
     ]
    }
   ],
   "source": [
    "my_stack.push(10)\n",
    "my_stack.push(20)\n",
    "my_stack.push(30)\n",
    "my_stack.push(40)\n",
    "\n",
    "print(\"Current stack contents:\", my_stack.stack)  # Display the current stack contents\n",
    "print(\"Stack size after pushing:\", my_stack.size())\n",
    "print(\"Top element:\", my_stack.top())"
   ]
  },
  {
   "cell_type": "code",
   "execution_count": 4,
   "id": "83964a05",
   "metadata": {},
   "outputs": [
    {
     "name": "stdout",
     "output_type": "stream",
     "text": [
      "Popped 40 from the stack.\n",
      "Stack size after popping: 3\n",
      "Is stack empty after popping? False\n"
     ]
    }
   ],
   "source": [
    "my_stack.pop()\n",
    "\n",
    "print(\"Stack size after popping:\", my_stack.size())\n",
    "print(\"Is stack empty after popping?\", my_stack.is_empty())"
   ]
  },
  {
   "cell_type": "code",
   "execution_count": 5,
   "id": "b95b9f22",
   "metadata": {},
   "outputs": [
    {
     "name": "stdout",
     "output_type": "stream",
     "text": [
      "Current stack contents: [10, 20, 30]\n",
      "Stack after inserting 50 at the bottom: [50, 10, 20, 30]\n",
      "New top element after inserting at the bottom: 30\n"
     ]
    }
   ],
   "source": [
    "print(\"Current stack contents:\", my_stack.stack)  # Display the current stack contents\n",
    "\n",
    "my_stack.stack.insert(0, 50)\n",
    "\n",
    "print(\"Stack after inserting 50 at the bottom:\", my_stack.stack)\n",
    "print(\"New top element after inserting at the bottom:\", my_stack.top())\n"
   ]
  },
  {
   "cell_type": "code",
   "execution_count": 6,
   "id": "bd4b52eb",
   "metadata": {},
   "outputs": [
    {
     "name": "stdout",
     "output_type": "stream",
     "text": [
      "Current stack contents: [50, 10, 20, 30]\n",
      "Stack after inserting 60 at the bottom: [50, 10, 20, 30, 60]\n",
      "New top element after inserting at the bottom: 60\n"
     ]
    }
   ],
   "source": [
    "print(\"Current stack contents:\", my_stack.stack)  # Display the current stack contents\n",
    "\n",
    "my_stack.stack.insert(4, 60)\n",
    "\n",
    "print(\"Stack after inserting 60 at the bottom:\", my_stack.stack)\n",
    "print(\"New top element after inserting at the bottom:\", my_stack.top())"
   ]
  },
  {
   "cell_type": "markdown",
   "id": "c30da14f",
   "metadata": {},
   "source": [
    "### Stack Implementation using Linked List"
   ]
  },
  {
   "cell_type": "code",
   "execution_count": 7,
   "id": "8bf024df",
   "metadata": {},
   "outputs": [],
   "source": [
    "class Node:\n",
    "    def __init__(self, data):\n",
    "        self.data = data\n",
    "        self.next = None\n",
    "\n",
    "class StackUsingLinkedList:\n",
    "    def __init__(self):\n",
    "        self.head = None\n",
    "        self.len = 0\n",
    "\n",
    "    def push(self, data):\n",
    "        new_node = Node(data)\n",
    "        self.len += 1\n",
    "        if self.head is None:\n",
    "            self.head = new_node\n",
    "            return f\"Pushed {data} to the stack.\"\n",
    "        \n",
    "        new_node.next = self.head\n",
    "        self.head = new_node\n",
    "        return f\"Pushed {data} into the stack.\"\n",
    "\n",
    "    def top(self):\n",
    "        if self.head is None or self.len == 0:\n",
    "            return \"Stack is empty.\"\n",
    "        return self.head.data\n",
    "\n",
    "    def pop(self):\n",
    "        if self.head is None or self.len == 0:\n",
    "            return \"Stack is empty.\"\n",
    "        \n",
    "        removed_data = self.head.data\n",
    "        self.head = self.head.next\n",
    "        self.len -= 1\n",
    "        return f\"Popped {removed_data} from the stack.\"\n",
    "\n",
    "    def size(self):\n",
    "        return self.len\n",
    "\n",
    "    def is_empty(self):\n",
    "        return self.len == 0"
   ]
  },
  {
   "cell_type": "code",
   "execution_count": 8,
   "id": "d2df4cd6",
   "metadata": {},
   "outputs": [
    {
     "name": "stdout",
     "output_type": "stream",
     "text": [
      "Initial stack size: 0\n",
      "Is stack empty? True\n"
     ]
    }
   ],
   "source": [
    "my_stack2 = StackUsingLinkedList()\n",
    "print(\"Initial stack size:\", my_stack2.size())\n",
    "print(\"Is stack empty?\", my_stack2.is_empty())"
   ]
  },
  {
   "cell_type": "code",
   "execution_count": 9,
   "id": "f7c622af",
   "metadata": {},
   "outputs": [
    {
     "name": "stdout",
     "output_type": "stream",
     "text": [
      "Current stack contents: [40, 30, 20, 10]\n",
      "Stack size after pushing: 4\n",
      "Top element: 40\n"
     ]
    }
   ],
   "source": [
    "my_stack2.push(10)\n",
    "my_stack2.push(20)\n",
    "my_stack2.push(30)\n",
    "my_stack2.push(40)\n",
    "\n",
    "current = my_stack2.head\n",
    "stack_contents = []\n",
    "while current:\n",
    "    stack_contents.append(current.data)\n",
    "    current = current.next\n",
    "\n",
    "print(\"Current stack contents:\", stack_contents)\n",
    "print(\"Stack size after pushing:\", my_stack2.size())\n",
    "print(\"Top element:\", my_stack2.top())"
   ]
  },
  {
   "cell_type": "code",
   "execution_count": 11,
   "id": "0194f5fc",
   "metadata": {},
   "outputs": [
    {
     "name": "stdout",
     "output_type": "stream",
     "text": [
      "Is stack empty? False\n",
      "Popping element: Popped 40 from the stack.\n",
      "Popping element: Popped 30 from the stack.\n",
      "Stack size after popping: 2\n",
      "Is stack empty after popping? False\n"
     ]
    }
   ],
   "source": [
    "print(\"Is stack empty?\", my_stack2.is_empty())\n",
    "print(\"Popping element:\", my_stack2.pop())\n",
    "print(\"Popping element:\", my_stack2.pop())\n",
    "print(\"Stack size after popping:\", my_stack2.size())\n",
    "print(\"Is stack empty after popping?\", my_stack2.is_empty())"
   ]
  },
  {
   "cell_type": "code",
   "execution_count": 12,
   "id": "f441c088",
   "metadata": {},
   "outputs": [
    {
     "name": "stdout",
     "output_type": "stream",
     "text": [
      "Top element: 20\n"
     ]
    }
   ],
   "source": [
    "print(\"Top element:\", my_stack2.top())"
   ]
  },
  {
   "cell_type": "code",
   "execution_count": null,
   "id": "d5efb668",
   "metadata": {},
   "outputs": [],
   "source": []
  }
 ],
 "metadata": {
  "kernelspec": {
   "display_name": "base",
   "language": "python",
   "name": "python3"
  },
  "language_info": {
   "codemirror_mode": {
    "name": "ipython",
    "version": 3
   },
   "file_extension": ".py",
   "mimetype": "text/x-python",
   "name": "python",
   "nbconvert_exporter": "python",
   "pygments_lexer": "ipython3",
   "version": "3.12.4"
  }
 },
 "nbformat": 4,
 "nbformat_minor": 5
}
