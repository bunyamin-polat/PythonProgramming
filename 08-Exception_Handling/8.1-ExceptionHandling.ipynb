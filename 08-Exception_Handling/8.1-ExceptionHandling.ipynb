{
 "cells": [
  {
   "cell_type": "markdown",
   "metadata": {},
   "source": [
    "## Exception Handling in Python\n",
    "Exception handling in Python allows you to manage errors or exceptions that may occur during the execution of a program. This mechanism helps in preventing program crashes and provides a way to manage errors gracefully.\n",
    "\n",
    "### Key Concepts in Python Exception Handling\n",
    "**Exception:** \n",
    "\n",
    "An exception is an event that disrupts the normal flow of a program. It typically occurs when Python runs into an error during execution (e.g., division by zero, accessing an undefined variable, etc.).\n",
    "\n",
    "**Try-Except Block:**\n",
    "\n",
    "The `try-except` block is the primary way to handle exceptions in Python.\n",
    "\n",
    "**Finally Block:**\n",
    "\n",
    "The `finally` block allows you to define code that will always execute, regardless of whether an exception was raised or not. It’s usually used for cleanup actions like closing files or network connections.\n",
    "\n",
    "**Else Block:** \n",
    "\n",
    "The `else` block is executed if the code in the try block does not raise an exception.\n",
    "\n",
    "**Raising Exceptions:** \n",
    "\n",
    "You can manually raise exceptions using the `raise` keyword."
   ]
  },
  {
   "cell_type": "code",
   "execution_count": 1,
   "metadata": {},
   "outputs": [
    {
     "name": "stdout",
     "output_type": "stream",
     "text": [
      "The variable has not been assigned\n"
     ]
    }
   ],
   "source": [
    "## Exception try, except block\n",
    "try:\n",
    "    a = b\n",
    "except:\n",
    "    print('The variable has not been assigned')"
   ]
  },
  {
   "cell_type": "code",
   "execution_count": 2,
   "metadata": {},
   "outputs": [
    {
     "ename": "NameError",
     "evalue": "name 'b' is not defined",
     "output_type": "error",
     "traceback": [
      "\u001b[0;31m---------------------------------------------------------------------------\u001b[0m",
      "\u001b[0;31mNameError\u001b[0m                                 Traceback (most recent call last)",
      "Cell \u001b[0;32mIn[2], line 1\u001b[0m\n\u001b[0;32m----> 1\u001b[0m a\u001b[38;5;241m=\u001b[39m\u001b[43mb\u001b[49m\n",
      "\u001b[0;31mNameError\u001b[0m: name 'b' is not defined"
     ]
    }
   ],
   "source": [
    "a = b"
   ]
  },
  {
   "cell_type": "code",
   "execution_count": 3,
   "metadata": {},
   "outputs": [
    {
     "name": "stdout",
     "output_type": "stream",
     "text": [
      "name 'b' is not defined\n"
     ]
    }
   ],
   "source": [
    "try:\n",
    "    a = b\n",
    "except NameError as ex:\n",
    "    print(ex)"
   ]
  },
  {
   "cell_type": "code",
   "execution_count": 4,
   "metadata": {},
   "outputs": [
    {
     "name": "stdout",
     "output_type": "stream",
     "text": [
      "division by zero\n",
      "Please enter the denominator greater than 0\n"
     ]
    }
   ],
   "source": [
    "try:\n",
    "    result = 1/0\n",
    "    a = b\n",
    "except ZeroDivisionError as ex1:\n",
    "    print(ex1)\n",
    "    print('Please enter the denominator greater than 0')\n",
    "except Exception as ex2:\n",
    "    print(ex2)\n",
    "    print('Main exception got caught here')"
   ]
  },
  {
   "cell_type": "code",
   "execution_count": 6,
   "metadata": {},
   "outputs": [
    {
     "name": "stdout",
     "output_type": "stream",
     "text": [
      "division by zero\n",
      "Enter denominator greater than 0\n"
     ]
    }
   ],
   "source": [
    "try:\n",
    "    num = int(input('Enter a number'))\n",
    "    result = 10 / num\n",
    "except ValueError:\n",
    "    print(\"This is not a valid number\")\n",
    "except ZeroDivisionError as ex2:\n",
    "    print(ex2)\n",
    "    print(\"Enter denominator greater than 0\")\n",
    "except Exception as ex3:\n",
    "    print(ex3)"
   ]
  },
  {
   "cell_type": "code",
   "execution_count": 8,
   "metadata": {},
   "outputs": [
    {
     "name": "stdout",
     "output_type": "stream",
     "text": [
      "Enter denominator greater than 0\n"
     ]
    }
   ],
   "source": [
    "## try, except, else block\n",
    "try:\n",
    "    num = int(input('Enter a number'))\n",
    "    result = 10 / num\n",
    "except ValueError:\n",
    "    print(\"This is not a valid number\")\n",
    "except ZeroDivisionError:\n",
    "    print(\"Enter denominator greater than 0\")\n",
    "except Exception as ex:\n",
    "    print(ex)\n",
    "else:\n",
    "    print('The division is: ', result)"
   ]
  },
  {
   "cell_type": "code",
   "execution_count": 9,
   "metadata": {},
   "outputs": [
    {
     "name": "stdout",
     "output_type": "stream",
     "text": [
      "Enter denominator greater than 0\n",
      "This block will always execute\n"
     ]
    }
   ],
   "source": [
    "## try, except, else, finally block\n",
    "try:\n",
    "    num = int(input('Enter a number'))\n",
    "    result = 10 / num\n",
    "except ValueError:\n",
    "    print(\"This is not a valid number\")\n",
    "except ZeroDivisionError:\n",
    "    print(\"Enter denominator greater than 0\")\n",
    "except Exception as ex:\n",
    "    print(ex)\n",
    "else:\n",
    "    print('The division is: ', result)\n",
    "finally:\n",
    "    print('This block will always execute')"
   ]
  },
  {
   "cell_type": "markdown",
   "metadata": {},
   "source": [
    "## File Handling and Exception Handling\n",
    "\n",
    "File handling is prone to errors (e.g., file not found, permission issues). To manage these errors gracefully, we use exception handling (try-except blocks).\n",
    "\n",
    "**Common File Handling Exceptions:**\n",
    "\n",
    "**FileNotFoundError:** Raised when a file operation (like reading) is attempted on a non-existent file.\n",
    "\n",
    "**PermissionError:** Raised when you don’t have permission to access the file.\n",
    "\n",
    "**IsADirectoryError:** Raised when a directory is treated like a file.\n",
    "\n",
    "**IOError:** A more generic exception related to Input/Output operations, though in Python 3 it is usually replaced by OSError.\n"
   ]
  },
  {
   "cell_type": "code",
   "execution_count": 10,
   "metadata": {},
   "outputs": [
    {
     "name": "stdout",
     "output_type": "stream",
     "text": [
      "File not found! Please check the file name.\n",
      "File handling attempt completed.\n"
     ]
    }
   ],
   "source": [
    "## Handling FileNotFoundError\n",
    "try:\n",
    "    # Trying to open a non-existent file\n",
    "    file = open(\"non_existent_file.txt\", \"r\")\n",
    "except FileNotFoundError:\n",
    "    print(\"File not found! Please check the file name.\")\n",
    "finally:\n",
    "    print(\"File handling attempt completed.\")"
   ]
  },
  {
   "cell_type": "code",
   "execution_count": 11,
   "metadata": {},
   "outputs": [
    {
     "name": "stdout",
     "output_type": "stream",
     "text": [
      "Error: The file does not exist.\n",
      "Finished file handling operation.\n"
     ]
    }
   ],
   "source": [
    "## Using with for File Handling and Exception Handling\n",
    "\n",
    "try:\n",
    "    with open(\"example.txt\", \"r\") as file:\n",
    "        content = file.read()\n",
    "        print(content)\n",
    "except FileNotFoundError:\n",
    "    print(\"Error: The file does not exist.\")\n",
    "except PermissionError:\n",
    "    print(\"Error: You don't have permission to read this file.\")\n",
    "finally:\n",
    "    print(\"Finished file handling operation.\")"
   ]
  },
  {
   "cell_type": "code",
   "execution_count": 12,
   "metadata": {},
   "outputs": [
    {
     "name": "stdout",
     "output_type": "stream",
     "text": [
      "Write operation complete.\n"
     ]
    }
   ],
   "source": [
    "## Writing to a file using with and handling exceptions\n",
    "\n",
    "try:\n",
    "    with open(\"output.txt\", \"w\") as file:\n",
    "        file.write(\"This is some content being written.\\n\")\n",
    "except IOError:\n",
    "    print(\"An error occurred while writing to the file.\")\n",
    "finally:\n",
    "    print(\"Write operation complete.\")"
   ]
  },
  {
   "cell_type": "code",
   "execution_count": 16,
   "metadata": {},
   "outputs": [
    {
     "name": "stdout",
     "output_type": "stream",
     "text": [
      "The file is empty!\n"
     ]
    }
   ],
   "source": [
    "## Raising an Exception for an Empty File\n",
    "\n",
    "def read_file(file_name):\n",
    "    try:\n",
    "        with open(file_name, \"r\") as file:\n",
    "            content = file.read()\n",
    "            if not content:\n",
    "                raise ValueError(\"The file is empty!\")\n",
    "            return content\n",
    "    except FileNotFoundError:\n",
    "        print(\"File not found.\")\n",
    "    except ValueError as e:\n",
    "        print(e)\n",
    "\n",
    "# Reading an empty file\n",
    "read_file(\"output.txt\")"
   ]
  },
  {
   "cell_type": "markdown",
   "metadata": {},
   "source": [
    "## Best Practices for File Handling and Exception Handling\n",
    "\n",
    "- **Use the with statement:** It ensures the file is properly closed even if an exception occurs.\n",
    "\n",
    "- **Use specific exceptions:** Avoid catching general exceptions like Exception unless absolutely necessary.\n",
    "\n",
    "- **Always close files:** If you're not using the with statement, ensure that files are closed using file.close() or finally.\n",
    "\n",
    "- **Handle specific file-related exceptions:** Handle exceptions such as FileNotFoundError, PermissionError, or IOError to manage file operations properly.\n",
    "\n",
    "- **Log or report errors:** Ensure that errors are logged for debugging and tracking."
   ]
  }
 ],
 "metadata": {
  "kernelspec": {
   "display_name": "Python 3",
   "language": "python",
   "name": "python3"
  },
  "language_info": {
   "codemirror_mode": {
    "name": "ipython",
    "version": 3
   },
   "file_extension": ".py",
   "mimetype": "text/x-python",
   "name": "python",
   "nbconvert_exporter": "python",
   "pygments_lexer": "ipython3",
   "version": "3.12.0"
  }
 },
 "nbformat": 4,
 "nbformat_minor": 2
}
