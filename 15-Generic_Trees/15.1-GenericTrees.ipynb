{
 "cells": [
  {
   "cell_type": "markdown",
   "id": "0a903166",
   "metadata": {},
   "source": [
    "## What is a Generic Tree?\n",
    "\n",
    "A Generic Tree is a type of tree data structure in which each node can have an arbitrary number of children—not limited to two as in binary trees.\n",
    "\n",
    "- Unlike a binary tree (where each node has at most two children), a generic tree allows any number of child nodes.\n",
    "\n",
    "- Each node typically holds a list (or another collection) of its children.\n",
    "\n",
    "### Applications of Generic Trees\n",
    "\n",
    "Generic trees are widely used in computer science and real-world applications. Here are some common use cases:\n",
    "\n",
    "**1. File Systems**\n",
    "\n",
    "Computer file systems are hierarchical. A folder can contain many files and subfolders → modeled using generic trees.\n",
    "\n",
    "**2. XML/HTML Document Parsing**\n",
    "\n",
    "XML/HTML structures form a tree where tags can be nested. Generic trees help represent this flexible nesting.\n",
    "\n",
    "**3. Organizational Hierarchies**\n",
    "\n",
    "In corporate structures, a manager can have multiple subordinates. This kind of hierarchy can be modeled with a generic tree.\n",
    "\n",
    "**4. Game Trees (AI)**\n",
    "\n",
    "In AI-based games (like chess), each move leads to multiple possible next moves. Game states form a generic tree structure.\n",
    "\n",
    "**5. Classification Systems**\n",
    "\n",
    "Examples include biological taxonomy or product categorization in e-commerce. Each category can have many subcategories.\n",
    "\n",
    "**6. Comment/Forum Threads**\n",
    "\n",
    "In nested comment systems, a comment can have many replies. These replies can have their own replies, forming a tree structure.\n",
    "\n",
    "**Advantages**\n",
    "\n",
    "Flexible Structure: Nodes can have any number of children—ideal for complex, real-world data. Hierarchical Representation: Suitable for representing parent-child relationships.\n",
    "\n",
    "**Disadvantages**\n",
    "\n",
    "More complex to implement and manage compared to binary trees. Traversal, searching, or updating operations may require more computational resources."
   ]
  },
  {
   "cell_type": "markdown",
   "id": "7a64b989",
   "metadata": {},
   "source": [
    "### Tree Implementation"
   ]
  },
  {
   "cell_type": "code",
   "execution_count": 27,
   "id": "48ec4637",
   "metadata": {},
   "outputs": [],
   "source": [
    "class TreeNode:\n",
    "    def __init__(self, data):\n",
    "        self.data = data\n",
    "        self.children = []"
   ]
  },
  {
   "cell_type": "code",
   "execution_count": null,
   "id": "190edcee",
   "metadata": {},
   "outputs": [],
   "source": [
    "root = TreeNode(1) # Tree root node\n",
    "\n",
    "child1 = TreeNode(2) # Adding children to the root\n",
    "child2 = TreeNode(3)\n",
    "child3 = TreeNode(4)"
   ]
  },
  {
   "cell_type": "code",
   "execution_count": 3,
   "id": "178a6df7",
   "metadata": {},
   "outputs": [],
   "source": [
    "root.children.append(child1)\n",
    "root.children.append(child2)\n",
    "root.children.append(child3)"
   ]
  },
  {
   "cell_type": "code",
   "execution_count": 6,
   "id": "ddbda796",
   "metadata": {},
   "outputs": [
    {
     "name": "stdout",
     "output_type": "stream",
     "text": [
      "2\n",
      "3\n",
      "4\n"
     ]
    }
   ],
   "source": [
    "print(root.children[0].data)\n",
    "print(root.children[1].data)\n",
    "print(root.children[2].data)"
   ]
  },
  {
   "cell_type": "code",
   "execution_count": 11,
   "id": "debe2a4f",
   "metadata": {},
   "outputs": [
    {
     "name": "stdout",
     "output_type": "stream",
     "text": [
      "1\n"
     ]
    }
   ],
   "source": [
    "print(root.data)"
   ]
  },
  {
   "cell_type": "markdown",
   "id": "cf907cb4",
   "metadata": {},
   "source": [
    "## Print Tree Nodes"
   ]
  },
  {
   "cell_type": "code",
   "execution_count": 13,
   "id": "b5a063b3",
   "metadata": {},
   "outputs": [],
   "source": [
    "def print_tree(root):\n",
    "    if root is None:\n",
    "        return\n",
    "    print(root.data) # Print the current node's data\n",
    "    for child in root.children:\n",
    "        print_tree(child)"
   ]
  },
  {
   "cell_type": "code",
   "execution_count": 14,
   "id": "2da356eb",
   "metadata": {},
   "outputs": [
    {
     "name": "stdout",
     "output_type": "stream",
     "text": [
      "1\n",
      "2\n",
      "3\n",
      "4\n"
     ]
    }
   ],
   "source": [
    "print_tree(root)"
   ]
  },
  {
   "cell_type": "markdown",
   "id": "732afe64",
   "metadata": {},
   "source": [
    "## Print Tree Nodes Detailed"
   ]
  },
  {
   "cell_type": "code",
   "execution_count": 21,
   "id": "648ea10a",
   "metadata": {},
   "outputs": [],
   "source": [
    "def print_tree_detailed(root):\n",
    "    if root is None:\n",
    "        return\n",
    "\n",
    "    print(f\"{root.data} -> \", end = \"\") # Print the current node's data\n",
    "\n",
    "    for child in root.children:\n",
    "        print(child.data, end = \" \") # Print each child's data\n",
    "\n",
    "    print()\n",
    "    \n",
    "    for child in root.children:\n",
    "        print_tree_detailed(child) # Recursive call to print each child's subtree\n",
    "    "
   ]
  },
  {
   "cell_type": "code",
   "execution_count": 22,
   "id": "fe83c69a",
   "metadata": {},
   "outputs": [
    {
     "name": "stdout",
     "output_type": "stream",
     "text": [
      "1 -> 2 3 4 \n",
      "2 -> \n",
      "3 -> \n",
      "4 -> \n"
     ]
    }
   ],
   "source": [
    "print_tree_detailed(root)"
   ]
  },
  {
   "cell_type": "code",
   "execution_count": 23,
   "id": "3b1eeb06",
   "metadata": {},
   "outputs": [],
   "source": [
    "child1.children.append(child2)\n",
    "child1.children.append(child3)"
   ]
  },
  {
   "cell_type": "code",
   "execution_count": 24,
   "id": "8b62cc30",
   "metadata": {},
   "outputs": [
    {
     "name": "stdout",
     "output_type": "stream",
     "text": [
      "1 -> 2 3 4 \n",
      "2 -> 3 4 \n",
      "3 -> \n",
      "4 -> \n",
      "3 -> \n",
      "4 -> \n"
     ]
    }
   ],
   "source": [
    "print_tree_detailed(root)"
   ]
  },
  {
   "cell_type": "markdown",
   "id": "38f24206",
   "metadata": {},
   "source": [
    "## Take Input for Tree"
   ]
  },
  {
   "cell_type": "code",
   "execution_count": 30,
   "id": "ed753354",
   "metadata": {},
   "outputs": [],
   "source": [
    "def take_input():\n",
    "    \n",
    "    data = int(input(\"Enter the data for the node: \"))\n",
    "    node = TreeNode(data)\n",
    "    num_children = int(input(f\"Enter the number of children for node {data}: \"))\n",
    "    \n",
    "    for _ in range(num_children):\n",
    "        child_node = take_input()\n",
    "        node.children.append(child_node)\n",
    "        \n",
    "    return node"
   ]
  },
  {
   "cell_type": "code",
   "execution_count": 31,
   "id": "9b76e08b",
   "metadata": {},
   "outputs": [
    {
     "name": "stdout",
     "output_type": "stream",
     "text": [
      "1 -> 2 3 4 \n",
      "2 -> \n",
      "3 -> \n",
      "4 -> \n"
     ]
    }
   ],
   "source": [
    "root = take_input()\n",
    "print_tree_detailed(root)"
   ]
  },
  {
   "cell_type": "code",
   "execution_count": 34,
   "id": "025c8417",
   "metadata": {},
   "outputs": [
    {
     "name": "stdout",
     "output_type": "stream",
     "text": [
      "1 -> 2 3 4 \n",
      "2 -> 5 \n",
      "5 -> 6 \n",
      "6 -> \n",
      "3 -> \n",
      "4 -> \n"
     ]
    }
   ],
   "source": [
    "root = take_input()\n",
    "print_tree_detailed(root)"
   ]
  },
  {
   "cell_type": "markdown",
   "id": "a13ffbc0",
   "metadata": {},
   "source": [
    "### Take Input for Tree Level Wise"
   ]
  },
  {
   "cell_type": "code",
   "execution_count": 35,
   "id": "3ef170e1",
   "metadata": {},
   "outputs": [],
   "source": [
    "from collections import deque\n",
    "\n",
    "def take_input_level_wise():\n",
    "    root_data = int(input(\"Enter the data for the root node: \"))\n",
    "    root = TreeNode(root_data)\n",
    "    queue = deque([root])\n",
    "    \n",
    "    while queue:\n",
    "        current_node = queue.popleft()\n",
    "        num_children = int(input(f\"Enter the number of children for node {current_node.data}: \"))\n",
    "        \n",
    "        for _ in range(num_children):\n",
    "            child_data = int(input(\"Enter the data for the child node: \"))\n",
    "            child_node = TreeNode(child_data)\n",
    "            current_node.children.append(child_node)\n",
    "            queue.append(child_node)\n",
    "    \n",
    "    return root\n",
    "    "
   ]
  },
  {
   "cell_type": "code",
   "execution_count": 36,
   "id": "60ca16b7",
   "metadata": {},
   "outputs": [
    {
     "name": "stdout",
     "output_type": "stream",
     "text": [
      "1 -> 2 3 4 \n",
      "2 -> \n",
      "3 -> 8 9 \n",
      "8 -> \n",
      "9 -> \n",
      "4 -> 7 \n",
      "7 -> \n"
     ]
    }
   ],
   "source": [
    "root = take_input_level_wise()\n",
    "print_tree_detailed(root)"
   ]
  },
  {
   "cell_type": "markdown",
   "id": "888923c4",
   "metadata": {},
   "source": [
    "### Count of Number of Nodes"
   ]
  },
  {
   "cell_type": "code",
   "execution_count": 37,
   "id": "8370905f",
   "metadata": {},
   "outputs": [],
   "source": [
    "def count_nodes(root):\n",
    "    if root is None:\n",
    "        return 0\n",
    "    \n",
    "    count = 1  # Count the current node\n",
    "    for child in root.children:\n",
    "        count += count_nodes(child)  # Add the count of each child's subtree\n",
    "    \n",
    "    return count"
   ]
  },
  {
   "cell_type": "code",
   "execution_count": 40,
   "id": "16da2b3a",
   "metadata": {},
   "outputs": [
    {
     "name": "stdout",
     "output_type": "stream",
     "text": [
      "Total number of nodes in the tree: 7\n"
     ]
    }
   ],
   "source": [
    "# Output the total number of nodes in the tree\n",
    "print(\"Total number of nodes in the tree:\", count_nodes(root))\n"
   ]
  },
  {
   "cell_type": "markdown",
   "id": "750d6316",
   "metadata": {},
   "source": [
    "### Height of the Tree"
   ]
  },
  {
   "cell_type": "code",
   "execution_count": 41,
   "id": "7f57ca6d",
   "metadata": {},
   "outputs": [],
   "source": [
    "def height_of_tree(root):\n",
    "    if root is None:\n",
    "        return 0\n",
    "    \n",
    "    max_height = 0\n",
    "    height = 1  # Height of the current node is at least 1\n",
    "    \n",
    "    for child in root.children:\n",
    "        child_height = height_of_tree(child)\n",
    "        max_height = max(max_height, child_height)  # Find the maximum height among children\n",
    "\n",
    "    height += max_height  # Add the height of the current node to the maximum height of its children\n",
    "\n",
    "    return height"
   ]
  },
  {
   "cell_type": "code",
   "execution_count": 42,
   "id": "b4864c4c",
   "metadata": {},
   "outputs": [
    {
     "name": "stdout",
     "output_type": "stream",
     "text": [
      "Height of the tree: 3\n"
     ]
    }
   ],
   "source": [
    "height = height_of_tree(root)\n",
    "print(\"Height of the tree:\", height)"
   ]
  },
  {
   "cell_type": "markdown",
   "id": "8548a68c",
   "metadata": {},
   "source": [
    "### Traversal of Tree"
   ]
  },
  {
   "cell_type": "code",
   "execution_count": 50,
   "id": "04e0f32f",
   "metadata": {},
   "outputs": [],
   "source": [
    "def pre_order_traversal(root): # Preorder traversal of the tree\n",
    "    if root is None:\n",
    "        return\n",
    "    \n",
    "    print(root.data, end = \" \")  # Visit the current node\n",
    "    for child in root.children:\n",
    "        pre_order_traversal(child)  # Recur for each child"
   ]
  },
  {
   "cell_type": "code",
   "execution_count": 51,
   "id": "79b1e9e7",
   "metadata": {},
   "outputs": [
    {
     "name": "stdout",
     "output_type": "stream",
     "text": [
      "1 2 3 8 9 4 7 "
     ]
    }
   ],
   "source": [
    "result = pre_order_traversal(root)\n",
    "result\n",
    "\n",
    "## Tree Structure\n",
    "# 1\n",
    "# ├── 2\n",
    "# ├── 3\n",
    "# │   ├── 8\n",
    "# │   └── 9\n",
    "# └── 4\n",
    "#     └── 7\n"
   ]
  },
  {
   "cell_type": "code",
   "execution_count": 52,
   "id": "8e9c616a",
   "metadata": {},
   "outputs": [],
   "source": [
    "def post_order_traversal(root): # Postorder traversal of the tree\n",
    "    if root is None:\n",
    "        return\n",
    "    \n",
    "    for child in root.children:\n",
    "        post_order_traversal(child)  # Recur for each child\n",
    "    print(root.data, end = \" \")  # Visit the current node after its children"
   ]
  },
  {
   "cell_type": "code",
   "execution_count": 53,
   "id": "53ddde2b",
   "metadata": {},
   "outputs": [
    {
     "name": "stdout",
     "output_type": "stream",
     "text": [
      "2 8 9 3 7 4 1 "
     ]
    }
   ],
   "source": [
    "result = post_order_traversal(root)\n",
    "result\n",
    "\n",
    "## Tree Structure\n",
    "# 1\n",
    "# ├── 2\n",
    "# ├── 3\n",
    "# │   ├── 8\n",
    "# │   └── 9\n",
    "# └── 4\n",
    "#     └── 7"
   ]
  },
  {
   "cell_type": "code",
   "execution_count": null,
   "id": "3a79c912",
   "metadata": {},
   "outputs": [],
   "source": []
  },
  {
   "cell_type": "code",
   "execution_count": null,
   "id": "baeeca2f",
   "metadata": {},
   "outputs": [],
   "source": []
  },
  {
   "cell_type": "code",
   "execution_count": null,
   "id": "50882fc1",
   "metadata": {},
   "outputs": [],
   "source": []
  },
  {
   "cell_type": "code",
   "execution_count": null,
   "id": "7ddb9e0d",
   "metadata": {},
   "outputs": [],
   "source": []
  }
 ],
 "metadata": {
  "kernelspec": {
   "display_name": "base",
   "language": "python",
   "name": "python3"
  },
  "language_info": {
   "codemirror_mode": {
    "name": "ipython",
    "version": 3
   },
   "file_extension": ".py",
   "mimetype": "text/x-python",
   "name": "python",
   "nbconvert_exporter": "python",
   "pygments_lexer": "ipython3",
   "version": "3.12.4"
  }
 },
 "nbformat": 4,
 "nbformat_minor": 5
}
