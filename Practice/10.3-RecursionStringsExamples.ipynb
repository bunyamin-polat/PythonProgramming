{
 "cells": [
  {
   "cell_type": "markdown",
   "metadata": {},
   "source": [
    "## Palindrome Check using Recursion\n",
    "\n",
    "You are given a string. Your task is to check if the string is a palindrome using recursion. A palindrome is a string that reads the same forward and backward.\n",
    "\n",
    "**Input:** A string `s`.\n",
    "\n",
    "**Output:** A `boolean` indicating whether the string is a palindrome.\n",
    "\n",
    "**Example:**\n",
    "\n",
    "    Input: s = \"radar\"\n",
    "    Output: True\n",
    "    \n",
    "    Input: s = \"hello\"\n",
    "    Output: False"
   ]
  },
  {
   "cell_type": "code",
   "execution_count": 1,
   "metadata": {},
   "outputs": [
    {
     "name": "stdout",
     "output_type": "stream",
     "text": [
      "True\n",
      "False\n"
     ]
    }
   ],
   "source": [
    "def is_palindrome(s: str) -> bool:\n",
    "    \"\"\"\n",
    "    Function to check if a string is a palindrome using recursion.\n",
    "    Parameters: s (str): The string to check.\n",
    "    Returns: bool: True if the string is a palindrome, False otherwise.\n",
    "    \"\"\"\n",
    "    if len(s) == 0 or len(s) == 1:\n",
    "        return True\n",
    "    if s[0] != s[-1]:\n",
    "        return False\n",
    "    else:\n",
    "        return is_palindrome(s[1:-1])\n",
    "    \n",
    "# Example usage\n",
    "print(is_palindrome(\"radar\")) # True\n",
    "\n",
    "print(is_palindrome(\"hello\")) # False"
   ]
  },
  {
   "cell_type": "markdown",
   "metadata": {},
   "source": [
    "## Subsequences of a String\n",
    "\n",
    "You are given a string. Your task is to return all possible subsequences of that string using recursion. A subsequence is a sequence that can be derived from another sequence by deleting some elements without changing the order of the remaining elements.\n",
    "\n",
    "**Input:** A string s.\n",
    "\n",
    "**Output:** A list of all possible subsequences of the string.\n",
    "\n",
    "**Example:**\n",
    "\n",
    "    Input: s = \"abc\"\n",
    "    Output: ['', 'c', 'b', 'bc', 'a', 'ac', 'ab', 'abc']\n",
    "    \n",
    "    Input: s = \"a\"\n",
    "    Output: ['', 'a']`"
   ]
  },
  {
   "cell_type": "code",
   "execution_count": 2,
   "metadata": {},
   "outputs": [
    {
     "name": "stdout",
     "output_type": "stream",
     "text": [
      "['', 'c', 'b', 'bc', 'a', 'ac', 'ab', 'abc']\n"
     ]
    }
   ],
   "source": [
    "def subsequences(s: str) -> list:\n",
    "    \"\"\"\n",
    "    Function to generate all subsequences of a string using recursion.\n",
    "    Parameters: s (str): The string to generate subsequences from.\n",
    "    Returns: list of str: A list containing all subsequences of the string.\n",
    "    \"\"\"\n",
    "    if len(s) == 0:\n",
    "        return [\"\"]\n",
    "    else:\n",
    "        subs = subsequences(s[1:]) # Recursive call\n",
    "        new_subsequences = [] # New list to store subsequences\n",
    "        for sub in subs: # Add the subsequences to the new list\n",
    "            new_subsequences.append(sub) # Add the subsequence without the first character\n",
    "            new_subsequences.append(s[0] + sub) # Add the subsequence with the first character\n",
    "        return new_subsequences\n",
    "\n",
    "print(subsequences(\"abc\")) # ['', 'c', 'b', 'bc', 'a', 'ac', 'ab', 'abc']"
   ]
  },
  {
   "cell_type": "markdown",
   "metadata": {},
   "source": [
    "### Permutation of a String\n",
    "\n",
    "You are given a string. Your task is to return all possible permutations of that string using recursion. A permutation of a string is a rearrangement of its characters in all possible ways.\n",
    "\n",
    "**Input:** A string s.\n",
    "\n",
    "**Output:** A list of all possible permutations of the string.\n",
    "\n",
    "**Example:**\n",
    "\n",
    "    Input: s = \"abc\"\n",
    "    Output: ['abc', 'acb', 'bac', 'bca', 'cab', 'cba']\n",
    "    \n",
    "    Input: s = \"a\"\n",
    "    Output: ['a']"
   ]
  },
  {
   "cell_type": "code",
   "execution_count": 2,
   "metadata": {},
   "outputs": [
    {
     "name": "stdout",
     "output_type": "stream",
     "text": [
      "['abc', 'acb', 'bac', 'bca', 'cab', 'cba']\n"
     ]
    }
   ],
   "source": [
    "def permutations(s: str) -> list:\n",
    "    \"\"\"\n",
    "    Function to generate all permutations of a string using recursion.\n",
    "    Parameters: s (str): The string to generate permutations from.\n",
    "    Returns: list of str: A list containing all permutations of the string.\n",
    "    \"\"\"\n",
    "    # Base case: if the string is empty, return a list with an empty permutation\n",
    "    if len(s) == 0:\n",
    "        return [\"\"]\n",
    " \n",
    "    # Initialize a list to store all permutations\n",
    "    all_permutations = []\n",
    " \n",
    "    # Loop through each character in the string\n",
    "    for i in range(len(s)):\n",
    "        # Get the current character\n",
    "        current_char = s[i]\n",
    "        # Get the remaining characters\n",
    "        remaining_chars = s[:i] + s[i+1:]\n",
    " \n",
    "        # Recursively find permutations of the remaining characters\n",
    "        for perm in permutations(remaining_chars):\n",
    "            # Append the current character to each permutation of the remaining characters\n",
    "            all_permutations.append(current_char + perm)\n",
    " \n",
    "    return all_permutations\n",
    "\n",
    "print(permutations(\"abc\"))\n",
    "    "
   ]
  },
  {
   "cell_type": "markdown",
   "metadata": {},
   "source": [
    "### Return all words from phone number"
   ]
  },
  {
   "cell_type": "code",
   "execution_count": 9,
   "metadata": {},
   "outputs": [
    {
     "name": "stdout",
     "output_type": "stream",
     "text": [
      "['a', 'b', 'c']\n",
      "['d', 'e', 'f']\n",
      "['ad', 'bd', 'cd', 'ae', 'be', 'ce', 'af', 'bf', 'cf']\n"
     ]
    }
   ],
   "source": [
    "keys = {'1':'', '2':'abc', '3':'def', '4':'ghi', '5':'jkl',\n",
    "        '6':'ghi', '7':'pqrs','8':'tuv', '9':'wxyz'}\n",
    "\n",
    "def return_all_words(numbers: str) -> list:\n",
    "    \"\"\"\n",
    "    Function to return all possible words that can be formed from a given string of numbers.\n",
    "    Parameters: numbers (str): The string of numbers.\n",
    "    Returns: list of str: A list containing all possible words.\n",
    "    \"\"\"\n",
    "    if numbers == '': # Base case\n",
    "        return ['']\n",
    "\n",
    "    first = numbers[0] # Get the first number\n",
    "    rest = numbers[1:] # Get the rest of the numbers\n",
    "    \n",
    "    words = return_all_words(rest) # Recursive call\n",
    "    result = [] # List to store the result\n",
    "    \n",
    "    for word in words:\n",
    "        for char in keys[first]:\n",
    "            result.append(char + word)\n",
    "    \n",
    "    return result\n",
    "\n",
    "print(return_all_words(\"2\"))\n",
    "print(return_all_words(\"3\"))\n",
    "print(return_all_words(\"23\"))"
   ]
  },
  {
   "cell_type": "code",
   "execution_count": null,
   "metadata": {},
   "outputs": [],
   "source": []
  }
 ],
 "metadata": {
  "kernelspec": {
   "display_name": "Python 3",
   "language": "python",
   "name": "python3"
  },
  "language_info": {
   "codemirror_mode": {
    "name": "ipython",
    "version": 3
   },
   "file_extension": ".py",
   "mimetype": "text/x-python",
   "name": "python",
   "nbconvert_exporter": "python",
   "pygments_lexer": "ipython3",
   "version": "3.12.0"
  }
 },
 "nbformat": 4,
 "nbformat_minor": 2
}
