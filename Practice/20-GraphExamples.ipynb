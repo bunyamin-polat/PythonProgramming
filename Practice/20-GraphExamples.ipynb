{
 "cells": [
  {
   "cell_type": "markdown",
   "id": "022da73d",
   "metadata": {},
   "source": [
    "## Number of Unreachable Nodes\n",
    "\n",
    "You are given an undirected graph with n nodes, numbered from 0 to n - 1. The graph is represented by a 2D integer array edges, where edges[i] = [ai, bi] denotes an undirected edge between the nodes ai and bi.\n",
    "\n",
    "Your task is to return the number of pairs of different nodes that are unreachable from each other. A pair (i, j) is considered unreachable if there is no path from node i to node j.\n",
    "\n",
    "**Input:**\n",
    "\n",
    "`n`: An integer representing the number of nodes.\n",
    "\n",
    "`edges`: A 2D list of integer pairs representing the edges between nodes.\n",
    "\n",
    "**Output:**\n",
    "\n",
    "Return the number of unreachable pairs of nodes.\n",
    "\n",
    "**Example:**\n",
    "\n",
    "    Input:\n",
    "    n = 5\n",
    "    edges = [[0, 1], [0, 2], [3, 4]]\n",
    "    \n",
    "    Output:6\n",
    " \n",
    "**Explanation:**\n",
    "- The graph has two connected components: {0, 1, 2} and {3, 4}.\n",
    " \n",
    "- Unreachable pairs are: (0, 3), (0, 4), (1, 3), (1, 4), (2, 3), (2, 4).\n",
    "\n",
    "- Hence, the output is 6.\n",
    "\n",
    "**Example:**\n",
    "\n",
    "    Input:\n",
    "    n = 7\n",
    "    edges = [[0, 2], [0, 5], [2, 4], [1, 6], [5, 4]]\n",
    "\n",
    "    Output: 14\n",
    "\n",
    "**Explanation:**\n",
    "- The graph has two connected components: {0, 2, 4, 5} and {1, 6}.\n",
    " \n",
    "- Unreachable pairs are: (0, 1), (0, 6), (2, 1), (2, 6), (4, 1), (4, 6), (5, 1), (5, 6).\n",
    " \n",
    "- Hence, the output is 14."
   ]
  },
  {
   "cell_type": "code",
   "execution_count": 16,
   "id": "695188b0",
   "metadata": {},
   "outputs": [],
   "source": [
    "from collections import defaultdict, deque"
   ]
  },
  {
   "cell_type": "code",
   "execution_count": null,
   "id": "8749feab",
   "metadata": {},
   "outputs": [],
   "source": [
    "def count_unreachable_pairs(n, edges):\n",
    "\n",
    "    # Create an adjacency list for the graph\n",
    "    graph = defaultdict(list)  # graph = {i: [] for i in range(n)}\n",
    "\n",
    "    for u, v in edges:\n",
    "        graph[u].append(v)\n",
    "        graph[v].append(u)\n",
    "\n",
    "    visited = [False] * n\n",
    "    components = []\n",
    "\n",
    "    # Function to perform BFS and find connected components\n",
    "    def bfs(start):\n",
    "        queue = deque([start])\n",
    "        visited[start] = True\n",
    "        size = 0\n",
    "        \n",
    "        while queue:\n",
    "            node = queue.popleft()\n",
    "            size += 1\n",
    "            \n",
    "            for neighbor in graph[node]:\n",
    "                if not visited[neighbor]:\n",
    "                    visited[neighbor] = True\n",
    "                    queue.append(neighbor)\n",
    "        \n",
    "        return size\n",
    "\n",
    "    # Find all connected components\n",
    "    for i in range(n):\n",
    "        if not visited[i]:\n",
    "            component_size = bfs(i)\n",
    "            components.append(component_size)\n",
    "\n",
    "    # Calculate the number of unreachable pairs\n",
    "    total_pairs = n * (n - 1) // 2\n",
    "    reachable_pairs = sum(size * (size - 1) // 2 for size in components)\n",
    "    \n",
    "    return total_pairs - reachable_pairs\n",
    "    \n"
   ]
  },
  {
   "cell_type": "code",
   "execution_count": 2,
   "id": "9be75c72",
   "metadata": {},
   "outputs": [
    {
     "name": "stdout",
     "output_type": "stream",
     "text": [
      "14\n"
     ]
    }
   ],
   "source": [
    "n = 7\n",
    "edges = [[0, 2], [0, 5], [2, 4], [1, 6], [5, 4]]\n",
    "print(count_unreachable_pairs(n, edges))\n"
   ]
  },
  {
   "cell_type": "code",
   "execution_count": 3,
   "id": "add31fcc",
   "metadata": {},
   "outputs": [
    {
     "name": "stdout",
     "output_type": "stream",
     "text": [
      "6\n"
     ]
    }
   ],
   "source": [
    "n = 5\n",
    "edges = [[0, 1], [0, 2], [3, 4]]\n",
    "print(count_unreachable_pairs(n, edges))"
   ]
  },
  {
   "cell_type": "markdown",
   "id": "061d2575",
   "metadata": {},
   "source": [
    "## Eventual Safe States\n",
    "\n",
    "You are given a directed graph of n nodes labeled from `0 to n - 1`. The graph is represented by a `0-indexed 2D` integer array graph where `graph[i]` is an integer array of nodes adjacent to node i, meaning there is an edge from node i to each node in `graph[i]`.\n",
    "\n",
    "A node is a terminal node if there are no outgoing edges. A node is a safe node if every possible path starting from that node leads to a terminal node (or another safe node).\n",
    "\n",
    "Your task is to return an array containing all the safe nodes of the graph. The answer should be sorted in ascending order.\n",
    "\n",
    "**Input Parameters:**\n",
    "\n",
    "`graph (List[List[int]])`: Adjacency list representing the directed graph.\n",
    "\n",
    "**Output:**\n",
    "\n",
    "`List[int]`: A list of safe nodes sorted in ascending order.\n",
    "\n",
    "**Example:**\n",
    "\n",
    "    Input: graph = [[1,2],[2,3],[5],[0],[5],[],[]]\n",
    "    Output: [2,4,5,6]\n",
    "    \n",
    "    Input: graph = [[1,2,3,4],[1,2],[3,4],[0,4],[]]\n",
    "    Output: [4]"
   ]
  },
  {
   "cell_type": "code",
   "execution_count": 4,
   "id": "14334851",
   "metadata": {},
   "outputs": [],
   "source": [
    "def eventual_safe_nodes(graph):\n",
    "    \"\"\"\n",
    "    Function to find all the safe nodes in a directed graph.\n",
    "    \n",
    "    :param graph: List[List[int]] -> Adjacency list representing the directed graph\n",
    "    :return: List[int] -> List of all safe nodes sorted in ascending order\n",
    "    \"\"\"\n",
    "    n = len(graph)\n",
    "    safe = [False] * n # Initialize all nodes as unsafe\n",
    "    visited = [False] * n # Track visited nodes\n",
    "    rec_stack = [False] * n # Track nodes in the current recursion stack\n",
    "\n",
    "    def dfs(node):\n",
    "        if rec_stack[node]:\n",
    "            return False\n",
    "        if visited[node]:\n",
    "            return safe[node]\n",
    "        visited[node] = True\n",
    "        rec_stack[node] = True\n",
    "        for neighbor in graph[node]:\n",
    "            if not dfs(neighbor):\n",
    "                safe[node] = False\n",
    "                return False\n",
    "        safe[node] = True\n",
    "        rec_stack[node] = False\n",
    "        return True\n",
    "\n",
    "    for i in range(n):\n",
    "        if not visited[i]:\n",
    "            dfs(i)\n",
    "\n",
    "    return [i for i in range(n) if safe[i]]\n"
   ]
  },
  {
   "cell_type": "code",
   "execution_count": 5,
   "id": "3dbcbf4d",
   "metadata": {},
   "outputs": [
    {
     "name": "stdout",
     "output_type": "stream",
     "text": [
      "[2, 4, 5, 6]\n"
     ]
    }
   ],
   "source": [
    "graph = [[1,2],[2,3],[5],[0],[5],[],[]]\n",
    "safe_nodes = eventual_safe_nodes(graph)\n",
    "print(safe_nodes)"
   ]
  },
  {
   "cell_type": "code",
   "execution_count": 6,
   "id": "9f3bc2f2",
   "metadata": {},
   "outputs": [
    {
     "name": "stdout",
     "output_type": "stream",
     "text": [
      "[4]\n"
     ]
    }
   ],
   "source": [
    "graph = [[1,2,3,4],[1,2],[3,4],[0,4],[]]\n",
    "safe_nodes = eventual_safe_nodes(graph)\n",
    "print(safe_nodes)"
   ]
  },
  {
   "cell_type": "markdown",
   "id": "8272d868",
   "metadata": {},
   "source": [
    "## Count elements in all subtrees\n",
    "\n",
    "You are given an arbitrary tree consisting of 'N' nodes numbered from 0 to N-1. You need to find the total number of elements in all the subtrees of the given tree. \n",
    "\n",
    "In other words, for each node in the tree, you are required to return the count of nodes in the subtree rooted at that node.\n",
    "\n",
    "A subtree of a tree T is a tree S consisting of a node in T and all of its descendants in T. The subtree corresponding to the root node is the entire tree.\n",
    "\n",
    "The tree is represented using an array of edges where each edge connects two nodes in the tree.\n",
    "\n",
    "**Input:**\n",
    "\n",
    "`n (integer)`: The number of nodes in the tree.\n",
    "\n",
    "`edges (List[List[int]])`: A 2D list of edges, where edges[i] = [u, v] represents an edge between nodes u and v.\n",
    "\n",
    "**Output:**\n",
    "\n",
    "Return a list of integers where the i-th element is the number of nodes in the subtree rooted at node i.\n",
    "\n",
    "**Examples:**\n",
    "\n",
    "    Input: \n",
    "    n = 6\n",
    "    edges = [[0,1],[0,2],[1,3],[1,4],[2,5]]\n",
    "    Output: [6, 3, 2, 1, 1, 1]\n",
    "\n",
    "**Explanation:** \n",
    "\n",
    "- Node 0 is the root and has 5 other nodes in its subtree.\n",
    "- Node 1 has 3 nodes (including itself).\n",
    "- Node 2 has 2 nodes (including itself).\n",
    "- Nodes 3, 4, and 5 are leaves and have 1 node each (themselves).\n",
    "\n",
    "    Input: \n",
    "    n = 5\n",
    "    edges = [[0,1],[0,2],[2,3],[2,4]]\n",
    "    Output: [5, 1, 3, 1, 1]\n",
    "\n",
    "**Explanation:**\n",
    "- Node 0 has 5 nodes in total (entire tree).\n",
    "- Node 1 is a leaf and has only itself.\n",
    "- Node 2 has 3 nodes in its subtree.\n",
    "- Nodes 3 and 4 are leaves with 1 node each."
   ]
  },
  {
   "cell_type": "code",
   "execution_count": null,
   "id": "2049a659",
   "metadata": {},
   "outputs": [],
   "source": [
    "def count_subtree_nodes(n, edges):\n",
    "\n",
    "    # Create an adjacency list for the graph\n",
    "    graph = defaultdict(list)\n",
    "    for u, v in edges:\n",
    "        graph[u].append(v)\n",
    "        graph[v].append(u)\n",
    "\n",
    "    visited = [False] * n\n",
    "    subtree_sizes = [0] * n\n",
    "\n",
    "    def dfs(node):\n",
    "        visited[node] = True\n",
    "        size = 1  # Count the current node\n",
    "        \n",
    "        for neighbor in graph[node]:\n",
    "            if not visited[neighbor]:\n",
    "                size += dfs(neighbor)\n",
    "        \n",
    "        subtree_sizes[node] = size\n",
    "        return size\n",
    "\n",
    "    # Start DFS from each unvisited node\n",
    "    for i in range(n):\n",
    "        if not visited[i]:\n",
    "            dfs(i)\n",
    "\n",
    "    return subtree_sizes"
   ]
  },
  {
   "cell_type": "code",
   "execution_count": 8,
   "id": "1ffd894c",
   "metadata": {},
   "outputs": [
    {
     "name": "stdout",
     "output_type": "stream",
     "text": [
      "[5, 1, 3, 1, 1]\n"
     ]
    }
   ],
   "source": [
    "n = 5\n",
    "edges = [[0,1],[0,2],[2,3],[2,4]]\n",
    "subtree_sizes = count_subtree_nodes(n, edges)\n",
    "print(subtree_sizes)"
   ]
  },
  {
   "cell_type": "code",
   "execution_count": null,
   "id": "5ef256c8",
   "metadata": {},
   "outputs": [
    {
     "name": "stdout",
     "output_type": "stream",
     "text": [
      "[6, 3, 2, 1, 1, 1]\n"
     ]
    }
   ],
   "source": [
    "n = 6\n",
    "edges = [[0,1],[0,2],[1,3],[1,4],[2,5]]\n",
    "subtree_sizes = count_subtree_nodes(n, edges)\n",
    "print(subtree_sizes)"
   ]
  },
  {
   "cell_type": "markdown",
   "id": "c87f4dd4",
   "metadata": {},
   "source": [
    "## Number of Complete Components\n",
    "\n",
    "You are given an undirected graph with n vertices, numbered from 0 to n - 1. \n",
    "\n",
    "The graph is represented by a 2D integer array edges, where edges[i] = [ai, bi] denotes that there is an undirected edge between vertices ai and bi.\n",
    "\n",
    "Your task is to find how many complete connected components the graph contains.\n",
    "\n",
    "A connected component is a subgraph where:\n",
    "\n",
    "There is a path between any two vertices within the subgraph.\n",
    "\n",
    "No vertex in the subgraph shares an edge with a vertex outside of the subgraph.\n",
    "\n",
    "A connected component is said to be complete if there is an edge between every pair of vertices in the connected component.\n",
    "\n",
    "**Input:**\n",
    "\n",
    "`n:` An integer representing the number of vertices in the graph.\n",
    "\n",
    "`edges:` A 2D list representing the edges between vertices.\n",
    "\n",
    "**Output:**\n",
    "\n",
    "Return the number of complete connected components in the graph.\n",
    "\n",
    "**Examples:**\n",
    "\n",
    "    Input:\n",
    "    n = 6\n",
    "    edges = [[0, 1], [0, 2], [1, 2], [3, 4]]\n",
    "    Output: 1\n",
    "\n",
    "**Explanation:**\n",
    "- The graph has two connected components: \n",
    "  1. {0, 1, 2} which forms a complete connected component.\n",
    "  2. {3, 4} which is not complete as there is no edge between node 3 and node 4.\n",
    "- Hence, the number of complete connected components is 1.\n",
    "\n",
    "```Input:\n",
    "n = 4\n",
    "edges = [[0, 1], [2, 3]]\n",
    "Output: 0\n",
    "```\n",
    "\n",
    "**Explanation:**\n",
    "- There are two connected components: {0, 1} and {2, 3}, but neither is complete.\n",
    "- Hence, the output is 0.\n",
    "```Input:\n",
    "n = 4\n",
    "edges = [[0, 1], [2, 3]]\n",
    "Output: 0\n",
    "```\n",
    "\n",
    "**Explanation:**\n",
    "- There are two connected components: {0, 1} and {2, 3}, but neither is complete.\n",
    "- Hence, the output is 0."
   ]
  },
  {
   "cell_type": "code",
   "execution_count": 29,
   "id": "5265fc3b",
   "metadata": {},
   "outputs": [],
   "source": [
    "def count_complete_components(n, edges):\n",
    "    # Adjacency list\n",
    "    graph = defaultdict(list)\n",
    "    for u, v in edges:\n",
    "        graph[u].append(v)\n",
    "        graph[v].append(u)\n",
    "\n",
    "    visited = [False] * n\n",
    "    complete_components = 0\n",
    "\n",
    "    for i in range(n):\n",
    "        if not visited[i]:\n",
    "            queue = deque([i])\n",
    "            visited[i] = True\n",
    "            nodes = [i]\n",
    "            edge_count = 0\n",
    "\n",
    "            while queue:\n",
    "                node = queue.popleft()\n",
    "                for neighbor in graph[node]:\n",
    "                    edge_count += 1\n",
    "                    if not visited[neighbor]:\n",
    "                        visited[neighbor] = True\n",
    "                        queue.append(neighbor)\n",
    "                        nodes.append(neighbor)\n",
    "\n",
    "            # edge_count is double counted since it's undirected\n",
    "            actual_edges = edge_count // 2\n",
    "            k = len(nodes)\n",
    "            max_edges = k * (k - 1) // 2\n",
    "\n",
    "            if actual_edges == max_edges:\n",
    "                complete_components += 1\n",
    "\n",
    "    return complete_components\n"
   ]
  },
  {
   "cell_type": "code",
   "execution_count": 30,
   "id": "9fa61b05",
   "metadata": {},
   "outputs": [
    {
     "name": "stdout",
     "output_type": "stream",
     "text": [
      "3\n"
     ]
    }
   ],
   "source": [
    "n = 6\n",
    "edges = [[0, 1], [0, 2], [1, 2], [3, 4]]\n",
    "print(count_complete_components(n, edges))"
   ]
  },
  {
   "cell_type": "code",
   "execution_count": 31,
   "id": "30011bdb",
   "metadata": {},
   "outputs": [
    {
     "name": "stdout",
     "output_type": "stream",
     "text": [
      "2\n"
     ]
    }
   ],
   "source": [
    "n = 4\n",
    "edges = [[0, 1], [2, 3]]\n",
    "print(count_complete_components(n, edges))"
   ]
  },
  {
   "cell_type": "code",
   "execution_count": 32,
   "id": "5e8bf8ef",
   "metadata": {},
   "outputs": [
    {
     "name": "stdout",
     "output_type": "stream",
     "text": [
      "3\n"
     ]
    }
   ],
   "source": [
    "print(count_complete_components(3, []))"
   ]
  },
  {
   "cell_type": "markdown",
   "id": "718a9e1c",
   "metadata": {},
   "source": [
    "## Center of a Star Graph\n",
    "\n",
    "A star graph is a graph consisting of n nodes, labeled from 1 to n. It has one center node connected to exactly n-1 other nodes, forming n-1 edges. The goal is to find the center node of the star graph.\n",
    "\n",
    "You are given a 2D integer array edges where edges[i] = [ui, vi] represents an edge between node ui and node vi. Your task is to return the node that is the center of the star graph.\n",
    "\n",
    "**Input Parameters:**\n",
    "\n",
    "edges (List[List[int]]): A list of edges, where each edge connects two nodes.\n",
    "\n",
    "**Output:**\n",
    "\n",
    "Return the center node of the star graph.\n",
    "\n",
    "**Example:**\n",
    "\n",
    "    Input: edges = [[1,2],[2,3],[4,2]]\n",
    "    Output: 2\n",
    "    Explanation: As node 2 is connected to all other nodes, it is the center of the star graph.\n",
    "    \n",
    "    Input: edges = [[1,3],[3,4],[3,2]]\n",
    "    Output: 3"
   ]
  },
  {
   "cell_type": "code",
   "execution_count": 36,
   "id": "1170ce8c",
   "metadata": {},
   "outputs": [],
   "source": [
    "def find_center(edges):\n",
    "    \"\"\"\n",
    "    Function to find the center node of the star graph.\n",
    "    \n",
    "    :param edges: List[List[int]] -> List of edges connecting the nodes\n",
    "    :return: int -> The center node\n",
    "    \"\"\"\n",
    "    degree = defaultdict(int)\n",
    "    \n",
    "    # Count the degree of each node\n",
    "    for u, v in edges: # u and v are the nodes connected by an edge\n",
    "        degree[u] += 1 # Increment the degree of node u\n",
    "        degree[v] += 1 # Increment the degree of node v\n",
    "\n",
    "    # The center node will have degree equal to n - 1\n",
    "    for node, deg in degree.items():\n",
    "        if deg == len(edges):\n",
    "            return node\n",
    "    \n",
    "    return -1  # If no center found (should not happen in a valid star graph)\n",
    "\n",
    "## Alternative approach using the first edge\n",
    "# def find_center_alternative(edges):\n",
    "#     \"\"\"\n",
    "#     Function to find the center node of the star graph using the first edge.\n",
    "    \n",
    "#     :param edges: List[List[int]] -> List of edges connecting the nodes\n",
    "#     :return: int -> The center node\n",
    "#     \"\"\"\n",
    "#     if edges[0][0] == edges[1][0] or edges[0][0] == edges[1][1]:\n",
    "#         return edges[0][0]\n",
    "#     else:\n",
    "#         return edges[0][1]"
   ]
  },
  {
   "cell_type": "code",
   "execution_count": 37,
   "id": "df2b4c08",
   "metadata": {},
   "outputs": [
    {
     "name": "stdout",
     "output_type": "stream",
     "text": [
      "2\n"
     ]
    }
   ],
   "source": [
    "edges = [[1,2],[2,3],[4,2]]\n",
    "print(find_center(edges))"
   ]
  },
  {
   "cell_type": "code",
   "execution_count": 38,
   "id": "0cca1b4a",
   "metadata": {},
   "outputs": [
    {
     "name": "stdout",
     "output_type": "stream",
     "text": [
      "3\n"
     ]
    }
   ],
   "source": [
    "edges = [[1,3],[3,4],[3,2]]\n",
    "print(find_center(edges))"
   ]
  },
  {
   "cell_type": "markdown",
   "id": "03de8a78",
   "metadata": {},
   "source": [
    "## All paths from source to target\n",
    "\n",
    "Given a directed acyclic graph (DAG) of n nodes labeled from 0 to n - 1, you need to find all possible paths from node 0 to node n - 1. The graph is represented as an adjacency list where graph[i] contains a list of all nodes you can visit from node i (i.e., there is a directed edge from node i to each node in graph[i]). The graph is guaranteed to be a DAG. Return all possible paths from node 0 to node n - 1 in any order.\n",
    "\n",
    "**Input Parameters:**\n",
    "\n",
    "`graph (List[List[int]])`: An adjacency list where `graph[i]` represents the nodes that can be reached from node i.\n",
    "\n",
    "**Output:**\n",
    "\n",
    "Return a list of all possible paths from node 0 to node n - 1.\n",
    "\n",
    "**Example:**\n",
    "\n",
    "    Input: graph = [[1,2],[3],[3],[]]\n",
    "    Output: [[0,1,3],[0,2,3]]\n",
    "\n",
    "**Explanation:** There are two possible paths from node 0 to node 3.\n",
    "\n",
    "    Input: graph = [[4,3,1],[3,2,4],[3],[4],[]]\n",
    "    Output: [[0,4],[0,3,4],[0,1,4],[0,1,3,4],[0,2,3,4]]\n",
    "\n",
    "**Explanation:** All possible paths from node 0 to node 4.\n",
    "\n",
    "    Input: graph = [[1,2],[3],[3],[]]\n",
    "    Output: [[0,1,3],[0,2,3]]\n",
    "\n",
    "**Explanation:** There are two possible paths from node 0 to node 3.\n",
    "\n",
    "    Input: graph = [[4,3,1],[3,2,4],[3],[4],[]]\n",
    "    Output: [[0,4],[0,3,4],[0,1,4],[0,1,3,4],[0,2,3,4]]\n",
    "\n",
    "**Explanation:** All possible paths from node 0 to node 4."
   ]
  },
  {
   "cell_type": "code",
   "execution_count": 42,
   "id": "055f263b",
   "metadata": {},
   "outputs": [],
   "source": [
    "def all_paths_source_target(graph):\n",
    "    \"\"\"\n",
    "    Function to find all possible paths from node 0 to node n - 1 in a DAG.\n",
    "    \n",
    "    :param graph: List[List[int]] -> Adjacency list representing the DAG\n",
    "    :return: List[List[int]] -> List of all possible paths from node 0 to node n - 1\n",
    "    \"\"\"\n",
    "    result = []\n",
    "    n = len(graph)\n",
    "    \n",
    "    def dfs(node, path):\n",
    "        if node == n - 1:\n",
    "            result.append(path)\n",
    "            return\n",
    "        for next_node in graph[node]:\n",
    "            dfs(next_node, path + [next_node])\n",
    "\n",
    "    dfs(0, [0])\n",
    "    return result"
   ]
  },
  {
   "cell_type": "code",
   "execution_count": 43,
   "id": "3fb9f92f",
   "metadata": {},
   "outputs": [
    {
     "name": "stdout",
     "output_type": "stream",
     "text": [
      "[[0, 1, 3], [0, 2, 3]]\n"
     ]
    }
   ],
   "source": [
    "graph = [[1,2],[3],[3],[]]\n",
    "print(all_paths_source_target(graph))"
   ]
  },
  {
   "cell_type": "code",
   "execution_count": 44,
   "id": "3fbc7d4b",
   "metadata": {},
   "outputs": [
    {
     "name": "stdout",
     "output_type": "stream",
     "text": [
      "[[0, 4], [0, 3, 4], [0, 1, 3, 4], [0, 1, 2, 3, 4], [0, 1, 4]]\n"
     ]
    }
   ],
   "source": [
    "graph = [[4,3,1],[3,2,4],[3],[4],[]]\n",
    "print(all_paths_source_target(graph))"
   ]
  },
  {
   "cell_type": "markdown",
   "id": "bd2bb1c3",
   "metadata": {},
   "source": [
    "## Keys and Rooms\n",
    "\n",
    "You are given n rooms labeled from 0 to n - 1. All rooms are locked except for room 0, and each room contains a set of distinct keys. \n",
    "\n",
    "Each key has a number on it, denoting which room it unlocks, and you can collect and use all the keys in each room you visit.\n",
    "\n",
    "Your goal is to determine whether you can visit all the rooms, starting from room 0.\n",
    "\n",
    "**Input:**\n",
    "\n",
    "`rooms`: A list of lists where rooms[i] is a list of keys you can collect in room i.\n",
    "\n",
    "**Output:**\n",
    "\n",
    "Return True if you can visit all the rooms, otherwise return False.\n",
    "\n",
    "**Example:**\n",
    "\n",
    "    Input:\n",
    "    rooms = [[1], [2], [3], []]\n",
    "    \n",
    "    Output:\n",
    "    True\n",
    " \n",
    "**Explanation:**\n",
    "- You start in room 0 and collect key 1.\n",
    "- You move to room 1 and collect key 2.\n",
    "- You move to room 2 and collect key 3.\n",
    "- You move to room 3, and all rooms are visited.\n",
    "  \n",
    "```\n",
    "Input:\n",
    "rooms = [[1, 3], [3, 0, 1], [2], [0]]\n",
    "\n",
    "Output:\n",
    "False\n",
    "```\n",
    "\n",
    "**Explanation:**\n",
    "- You start in room 0 and collect keys 1 and 3.\n",
    "- Room 2 is never visited because you do not have its key.\n"
   ]
  },
  {
   "cell_type": "code",
   "execution_count": 45,
   "id": "20cb295c",
   "metadata": {},
   "outputs": [],
   "source": [
    "def can_visit_all_rooms(rooms):\n",
    "    \"\"\"\n",
    "    Function to determine if all rooms can be visited starting from room 0.\n",
    "    \n",
    "    :param rooms: List[List[int]] -> List of lists where each list contains keys to other rooms\n",
    "    :return: bool -> True if all rooms can be visited, False otherwise\n",
    "    \"\"\"\n",
    "    n = len(rooms)\n",
    "    visited = [False] * n\n",
    "    stack = [0]  # Start from room 0\n",
    "\n",
    "    while stack:\n",
    "        room = stack.pop()\n",
    "        if not visited[room]:\n",
    "            visited[room] = True\n",
    "            for key in rooms[room]:\n",
    "                if not visited[key]:\n",
    "                    stack.append(key)\n",
    "\n",
    "    return all(visited)"
   ]
  },
  {
   "cell_type": "code",
   "execution_count": 46,
   "id": "84e72031",
   "metadata": {},
   "outputs": [
    {
     "name": "stdout",
     "output_type": "stream",
     "text": [
      "True\n"
     ]
    }
   ],
   "source": [
    "rooms = [[1], [2], [3], []]\n",
    "print(can_visit_all_rooms(rooms))  # Output: True"
   ]
  },
  {
   "cell_type": "code",
   "execution_count": 47,
   "id": "1fc5b998",
   "metadata": {},
   "outputs": [
    {
     "name": "stdout",
     "output_type": "stream",
     "text": [
      "False\n"
     ]
    }
   ],
   "source": [
    "rooms = [[1, 3], [3, 0, 1], [2], [0]]\n",
    "print(can_visit_all_rooms(rooms))  # Output: False"
   ]
  },
  {
   "cell_type": "markdown",
   "id": "4937b536",
   "metadata": {},
   "source": [
    "## Number of Provinces\n",
    "\n",
    "You are given n cities, represented by an n x n matrix isConnected, where isConnected[i][j] = 1 if the i-th city and j-th city are directly connected, and isConnected[i][j] = 0 otherwise. \n",
    "\n",
    "A province is defined as a group of cities that are directly or indirectly connected. Your task is to determine the number of provinces (groups of connected cities).\n",
    "\n",
    "A province consists of cities that are connected directly or through a series of connections between other cities. No city outside of this group is connected to the cities within the group.\n",
    "\n",
    "\n",
    "**Input Parameters:**\n",
    "\n",
    "`isConnected (List[List[int]]):` A matrix where `isConnected[i][j] = 1` means the i-th city is directly connected to the j-th city, and `isConnected[i][j] = 0` means they are not.\n",
    "\n",
    "**Output:**\n",
    "\n",
    "Return the total number of provinces.\n",
    "\n",
    "**Example:**\n",
    "\n",
    "    Input: isConnected = [[1,1,0],[1,1,0],[0,0,1]]\n",
    "    Output: 2\n",
    "\n",
    "**Explanation:** The first two cities are connected, and the third city forms a separate province.\n",
    " \n",
    "    Input: isConnected = [[1,0,0],[0,1,0],[0,0,1]]\n",
    "    Output: 3\n",
    "\n",
    "**Explanation:** Each city is its own province, as there are no connections between cities."
   ]
  },
  {
   "cell_type": "code",
   "execution_count": null,
   "id": "d982bc07",
   "metadata": {},
   "outputs": [],
   "source": [
    "def find_circle_num(is_connected):\n",
    "    \"\"\"\n",
    "    Function to find the number of provinces (connected components) in a graph.\n",
    "    \n",
    "    :param is_connected: List[List[int]] -> Matrix representing the city connections\n",
    "    :return: int -> The number of provinces\n",
    "    \"\"\"\n",
    "    n = len(is_connected)\n",
    "    visited = [False] * n\n",
    "    provinces = 0\n",
    "\n",
    "    # Depth First Search (DFS) function to explore connected components\n",
    "    def dfs(city):\n",
    "        for neighbor in range(n):\n",
    "            if is_connected[city][neighbor] == 1 and not visited[neighbor]: # Check if there's a connection and if the neighbor hasn't been visited\n",
    "                visited[neighbor] = True\n",
    "                dfs(neighbor)\n",
    "\n",
    "    # Iterate through each city\n",
    "    for i in range(n): \n",
    "        if not visited[i]:\n",
    "            provinces += 1\n",
    "            visited[i] = True\n",
    "            dfs(i)\n",
    "\n",
    "    return provinces"
   ]
  },
  {
   "cell_type": "code",
   "execution_count": 50,
   "id": "65aad670",
   "metadata": {},
   "outputs": [
    {
     "name": "stdout",
     "output_type": "stream",
     "text": [
      "2\n",
      "3\n"
     ]
    }
   ],
   "source": [
    "is_connected = [[1,1,0],[1,1,0],[0,0,1]]\n",
    "print(find_circle_num(is_connected))  # Output: 2\n",
    "\n",
    "is_connected = [[1,0,0],[0,1,0],[0,0,1]]\n",
    "print(find_circle_num(is_connected))  # Output: 3"
   ]
  },
  {
   "cell_type": "markdown",
   "id": "75e3ae29",
   "metadata": {},
   "source": [
    "## Number of Operations to make Graph Connected\n",
    "\n",
    "You are given a network of n computers numbered from 0 to n - 1 connected by ethernet cables.\n",
    "\n",
    "Each connection is represented as an edge between two nodes. \n",
    "\n",
    "You can extract certain cables and place them between any pair of disconnected computers to make them directly connected.\n",
    "\n",
    "**Parameters:**\n",
    "\n",
    "`n (int):` The number of computers.\n",
    "\n",
    "`connections (List[List[int]]):` A list of connections where each connection is represented by a pair [ai, bi] indicating a direct connection between computers ai and bi.\n",
    "\n",
    "**Return Values:**\n",
    "\n",
    "`int:` The minimum number of operations required to make all computers connected. If it is not possible, return -1.\n",
    "\n",
    "**Example:**\n",
    "\n",
    "    Input: n = 5, connections = [[0,1],[1,2],[2,3],[3,4]] \n",
    "    Output: 0\n",
    "\n",
    "**Explanation:** All computers are already connected.\n",
    " \n",
    " \n",
    "    Input: n = 6, connections = [[0,1],[0,2],[1,2],[3,4]] \n",
    "    Output: -1 \n",
    "\n",
    "**Explanation:** It is impossible to connect all computers."
   ]
  },
  {
   "cell_type": "code",
   "execution_count": 51,
   "id": "88ae5160",
   "metadata": {},
   "outputs": [],
   "source": [
    "def min_operations_to_connect_computers(n, connections):\n",
    "    \"\"\"\n",
    "    Function to find the minimum number of operations required to connect all computers.\n",
    "    \n",
    "    :param n: int -> The number of computers\n",
    "    :param connections: List[List[int]] -> A list of connections between computers\n",
    "    :return: int -> The minimum number of operations required to connect all computers\n",
    "    \"\"\"\n",
    "    if len(connections) < n - 1:\n",
    "        return -1  # Not enough connections to form a spanning tree\n",
    "\n",
    "    # Create an adjacency list for the graph\n",
    "    graph = {i: [] for i in range(n)}\n",
    "    for a, b in connections:\n",
    "        graph[a].append(b)\n",
    "        graph[b].append(a)\n",
    "\n",
    "    visited = [False] * n\n",
    "    components = 0\n",
    "\n",
    "    def dfs(node):\n",
    "        stack = [node]\n",
    "        while stack:\n",
    "            curr = stack.pop()\n",
    "            for neighbor in graph[curr]:\n",
    "                if not visited[neighbor]:\n",
    "                    visited[neighbor] = True\n",
    "                    stack.append(neighbor)\n",
    "\n",
    "    # Count connected components\n",
    "    for i in range(n):\n",
    "        if not visited[i]:\n",
    "            components += 1\n",
    "            visited[i] = True\n",
    "            dfs(i)\n",
    "\n",
    "    # Minimum operations needed is (components - 1)\n",
    "    return components - 1"
   ]
  },
  {
   "cell_type": "code",
   "execution_count": 52,
   "id": "a73af692",
   "metadata": {},
   "outputs": [
    {
     "name": "stdout",
     "output_type": "stream",
     "text": [
      "0\n"
     ]
    }
   ],
   "source": [
    "n = 5\n",
    "connections = [[0,1],[1,2],[2,3],[3,4]]\n",
    "print(min_operations_to_connect_computers(n, connections))"
   ]
  },
  {
   "cell_type": "code",
   "execution_count": 53,
   "id": "95496578",
   "metadata": {},
   "outputs": [
    {
     "name": "stdout",
     "output_type": "stream",
     "text": [
      "-1\n"
     ]
    }
   ],
   "source": [
    "n = 6\n",
    "connections = [[0,1],[0,2],[1,2],[3,4]]\n",
    "print(min_operations_to_connect_computers(n, connections)) "
   ]
  },
  {
   "cell_type": "code",
   "execution_count": 54,
   "id": "f1f7c905",
   "metadata": {},
   "outputs": [
    {
     "name": "stdout",
     "output_type": "stream",
     "text": [
      "1\n"
     ]
    }
   ],
   "source": [
    "n = 4\n",
    "connections = [[0,1],[0,2],[1,2]]\n",
    "print(min_operations_to_connect_computers(n, connections))"
   ]
  },
  {
   "cell_type": "code",
   "execution_count": 55,
   "id": "4ce6aeaf",
   "metadata": {},
   "outputs": [
    {
     "name": "stdout",
     "output_type": "stream",
     "text": [
      "2\n"
     ]
    }
   ],
   "source": [
    "n = 6\n",
    "connections = [[0,1],[0,2],[0,3],[1,2],[1,3]]\n",
    "print(min_operations_to_connect_computers(n, connections))"
   ]
  },
  {
   "cell_type": "markdown",
   "id": "a8c8f9fc",
   "metadata": {},
   "source": [
    "## Course Schedule\n",
    "\n",
    "You are required to take 'N' courses labeled from 1 to N to complete your B.Tech degree. However, some courses may have prerequisites. \n",
    "\n",
    "A prerequisite for a course can be represented as a pair [A, B], which means you must take course B before taking course A.\n",
    "\n",
    "Your task is to determine if it is possible to complete all the courses given the prerequisites. If there are no cyclic dependencies in the course structure, it is possible to finish all the courses; otherwise, it is not.\n",
    "\n",
    "The problem essentially checks if a directed graph (where courses represent nodes and prerequisites represent edges) is acyclic. If there is no cycle, you can finish the courses, otherwise you cannot.\n",
    "\n",
    "**Input:**\n",
    "\n",
    "`N:` An integer representing the total number of courses.\n",
    "\n",
    "`prerequisites:` A list of pairs, where each pair [A, B] indicates that course B is a prerequisite of course A.\n",
    "\n",
    "**Output:**\n",
    "\n",
    "Return True if it is possible to finish all the courses, otherwise return False.\n",
    "\n",
    "**Example:**\n",
    "\n",
    "    Input:\n",
    "    N = 4\n",
    "    prerequisites = [[1, 2], [2, 3], [3, 4]]\n",
    " \n",
    "    Output:\n",
    "    True\n",
    "\n",
    "**Explanation:** You can take course 4 first, then course 3, then course 2, and finally course 1.\n",
    "\n",
    "    Input:\n",
    "    N = 3\n",
    "    prerequisites = [[1, 2], [2, 3], [3, 1]]\n",
    "\n",
    "    Output:\n",
    "    False\n",
    "\n",
    "**Explanation:** There is a cycle between courses 1, 2, and 3. Thus, it is impossible to finish all courses."
   ]
  },
  {
   "cell_type": "code",
   "execution_count": 59,
   "id": "38ff46ca",
   "metadata": {},
   "outputs": [],
   "source": [
    "def can_finish_courses(N, prerequisites):\n",
    "\n",
    "    # Build the adjacency list\n",
    "    graph = defaultdict(list)\n",
    "    for course, prereq in prerequisites:\n",
    "        graph[prereq].append(course)\n",
    "\n",
    "    visited = [0] * (N + 1)  # 0: unvisited, 1: visiting, 2: visited\n",
    "\n",
    "    def dfs(course):\n",
    "        if visited[course] == 1:  # Found a cycle\n",
    "            return False\n",
    "        if visited[course] == 2:  # Already visited, no cycle from here\n",
    "            return True\n",
    "\n",
    "        visited[course] = 1  # Mark as visiting\n",
    "        for neighbor in graph[course]:\n",
    "            if not dfs(neighbor):\n",
    "                return False\n",
    "        visited[course] = 2  # Mark as visited\n",
    "        return True\n",
    "\n",
    "    for course in range(1, N + 1):\n",
    "        if not dfs(course):\n",
    "            return False\n",
    "    return True"
   ]
  },
  {
   "cell_type": "code",
   "execution_count": null,
   "id": "844d7085",
   "metadata": {},
   "outputs": [
    {
     "name": "stdout",
     "output_type": "stream",
     "text": [
      "True\n"
     ]
    }
   ],
   "source": [
    "N = 4\n",
    "prerequisites = [[1, 2], [2, 3], [3, 4]]\n",
    "print(can_finish_courses(N, prerequisites)) # True, all courses can be finished"
   ]
  },
  {
   "cell_type": "code",
   "execution_count": null,
   "id": "fc8eb27d",
   "metadata": {},
   "outputs": [
    {
     "name": "stdout",
     "output_type": "stream",
     "text": [
      "False\n"
     ]
    }
   ],
   "source": [
    "N = 3\n",
    "prerequisites = [[1, 2], [2, 3], [3, 1]] \n",
    "print(can_finish_courses(N, prerequisites)) # False, there is a cycle"
   ]
  }
 ],
 "metadata": {
  "kernelspec": {
   "display_name": "base",
   "language": "python",
   "name": "python3"
  },
  "language_info": {
   "codemirror_mode": {
    "name": "ipython",
    "version": 3
   },
   "file_extension": ".py",
   "mimetype": "text/x-python",
   "name": "python",
   "nbconvert_exporter": "python",
   "pygments_lexer": "ipython3",
   "version": "3.12.4"
  }
 },
 "nbformat": 4,
 "nbformat_minor": 5
}
