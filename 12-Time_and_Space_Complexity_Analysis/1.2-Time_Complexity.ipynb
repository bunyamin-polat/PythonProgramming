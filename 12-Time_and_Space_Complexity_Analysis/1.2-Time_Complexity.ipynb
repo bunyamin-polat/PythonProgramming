{
 "cells": [
  {
   "cell_type": "markdown",
   "metadata": {},
   "source": [
    "### Middle Element of a List"
   ]
  },
  {
   "cell_type": "code",
   "execution_count": 1,
   "metadata": {},
   "outputs": [],
   "source": [
    "def middle_element(lst):\n",
    "    return lst[int(len(lst) // 2)] # This lookup operation is O(1) time complexity"
   ]
  },
  {
   "cell_type": "code",
   "execution_count": 12,
   "metadata": {},
   "outputs": [],
   "source": [
    "## Generic function for all examples\n",
    "\n",
    "import time\n",
    "import numpy as np\n",
    "\n",
    "def measure_time(func):\n",
    "    \"\"\"\n",
    "    Measures the execution time of a function for various input sizes.\n",
    "    \n",
    "    Parameters:\n",
    "    - func: The function to measure.\n",
    "    - input_generator: A function that generates the appropriate input for each size.\n",
    "    \"\"\"\n",
    "    \n",
    "    # Define input sizes\n",
    "    input_sizes = [10**i for i in range(1, 5)]\n",
    "    \n",
    "    for size in input_sizes:\n",
    "        # Generate input for the current size\n",
    "        input_data = np.arange(size, 0, -1)\n",
    "        \n",
    "        # Measure the time taken to execute the function\n",
    "        start = time.time_ns() # Get the start time in nanoseconds\n",
    "        func(input_data)\n",
    "        end = time.time_ns() # Get the end time in nanoseconds\n",
    "        \n",
    "        # Print the result in nanoseconds for better precision\n",
    "        print(f\"Input size: {size} ---> Time taken: {(end - start)} nanoseconds\")"
   ]
  },
  {
   "cell_type": "code",
   "execution_count": 6,
   "metadata": {},
   "outputs": [
    {
     "name": "stdout",
     "output_type": "stream",
     "text": [
      "Input size: 10 ---> Time taken: 9000 nanoseconds\n",
      "Input size: 100 ---> Time taken: 1000 nanoseconds\n",
      "Input size: 1000 ---> Time taken: 1000 nanoseconds\n",
      "Input size: 10000 ---> Time taken: 3000 nanoseconds\n"
     ]
    }
   ],
   "source": [
    "if __name__ == \"__main__\":\n",
    "    measure_time(middle_element)"
   ]
  },
  {
   "cell_type": "markdown",
   "metadata": {},
   "source": [
    "### Largest in an Array\n",
    "\n",
    "Finding the largest element in an array has a time complexity of `O(n)`, where `n` is the number of elements in the array."
   ]
  },
  {
   "cell_type": "code",
   "execution_count": 7,
   "metadata": {},
   "outputs": [
    {
     "name": "stdout",
     "output_type": "stream",
     "text": [
      "Input size: 10 ---> Time taken: 17000 nanoseconds\n",
      "Input size: 100 ---> Time taken: 11000 nanoseconds\n",
      "Input size: 1000 ---> Time taken: 70000 nanoseconds\n",
      "Input size: 10000 ---> Time taken: 681000 nanoseconds\n"
     ]
    }
   ],
   "source": [
    "def find_largest(lst):\n",
    "    largest = lst[0] # O(1)\n",
    "    for num in lst: # O(n)\n",
    "        if num > largest:\n",
    "            largest = num\n",
    "    return largest\n",
    "\n",
    "if __name__ == \"__main__\":\n",
    "    measure_time(find_largest)"
   ]
  },
  {
   "cell_type": "markdown",
   "metadata": {},
   "source": [
    "### Bubble Sort\n",
    "\n",
    "Bubble Sort still requires `O(n^2)` comparisons, as it will likely make several passes with multiple swaps per pass for unsorted arrays."
   ]
  },
  {
   "cell_type": "code",
   "execution_count": 8,
   "metadata": {},
   "outputs": [],
   "source": [
    "def bubble_sort(arr):\n",
    "    n = len(arr)\n",
    "    for i in range(n):\n",
    "        swapped = False\n",
    "        for j in range(0, n - i - 1):\n",
    "            if arr[j] > arr[j + 1]:\n",
    "                arr[j], arr[j + 1] = arr[j + 1], arr[j]  # Swap if elements are in the wrong order\n",
    "                swapped = True\n",
    "        if not swapped:  # No swaps means the array is already sorted\n",
    "            break\n",
    "    return arr"
   ]
  },
  {
   "cell_type": "code",
   "execution_count": 9,
   "metadata": {},
   "outputs": [
    {
     "name": "stdout",
     "output_type": "stream",
     "text": [
      "Input size: 10 ---> Time taken: 33000 nanoseconds\n",
      "Input size: 100 ---> Time taken: 2325000 nanoseconds\n",
      "Input size: 1000 ---> Time taken: 186351000 nanoseconds\n",
      "Input size: 10000 ---> Time taken: 15999306000 nanoseconds\n"
     ]
    }
   ],
   "source": [
    "if __name__ == \"__main__\":\n",
    "    measure_time(bubble_sort)"
   ]
  },
  {
   "cell_type": "markdown",
   "metadata": {},
   "source": [
    "### Insertion Sort\n",
    "\n",
    "The array elements are in random order, requiring each element to be compared and shifted to its correct position. This results in O(n^2) time complexity, as it requires roughly n^2/4 comparisons and shifts on average."
   ]
  },
  {
   "cell_type": "code",
   "execution_count": 10,
   "metadata": {},
   "outputs": [
    {
     "name": "stdout",
     "output_type": "stream",
     "text": [
      "Input size: 10 ---> Time taken: 14000 nanoseconds\n",
      "Input size: 100 ---> Time taken: 772000 nanoseconds\n",
      "Input size: 1000 ---> Time taken: 86968000 nanoseconds\n",
      "Input size: 10000 ---> Time taken: 8898603000 nanoseconds\n"
     ]
    }
   ],
   "source": [
    "def insertion_sort(arr):\n",
    "    for i in range(1, len(arr)):\n",
    "        key = arr[i]\n",
    "        j = i - 1\n",
    "        while j >= 0 and key < arr[j]:\n",
    "            arr[j + 1] = arr[j]\n",
    "            j -= 1\n",
    "        arr[j + 1] = key\n",
    "    return arr\n",
    "\n",
    "if __name__ == \"__main__\":\n",
    "    measure_time(insertion_sort)"
   ]
  },
  {
   "cell_type": "markdown",
   "metadata": {
    "vscode": {
     "languageId": "bat"
    }
   },
   "source": [
    "### Selection Sort\n",
    "\n",
    "Selection Sort has a consistent time complexity of `O(n²)` across all cases due to its fixed pattern of comparisons."
   ]
  },
  {
   "cell_type": "code",
   "execution_count": 11,
   "metadata": {},
   "outputs": [
    {
     "name": "stdout",
     "output_type": "stream",
     "text": [
      "Input size: 10 ---> Time taken: 13000 nanoseconds\n",
      "Input size: 100 ---> Time taken: 553000 nanoseconds\n",
      "Input size: 1000 ---> Time taken: 51820000 nanoseconds\n",
      "Input size: 10000 ---> Time taken: 5271611000 nanoseconds\n"
     ]
    }
   ],
   "source": [
    "def selection_sort(arr):\n",
    "    n = len(arr)\n",
    "    for i in range(n):\n",
    "        # Assume the first unsorted element is the minimum\n",
    "        min_index = i\n",
    "        for j in range(i + 1, n):\n",
    "            # Update min_index if a smaller element is found\n",
    "            if arr[j] < arr[min_index]:\n",
    "                min_index = j\n",
    "        # Swap the found minimum element with the first unsorted element\n",
    "        arr[i], arr[min_index] = arr[min_index], arr[i]\n",
    "    return arr\n",
    "\n",
    "if __name__ == \"__main__\":\n",
    "    measure_time(selection_sort)"
   ]
  },
  {
   "cell_type": "markdown",
   "metadata": {},
   "source": [
    "### Merge Sort\n",
    "\n",
    "The time complexity of Merge Sort is O(n*logn) across all cases—best, worst, and average."
   ]
  },
  {
   "cell_type": "code",
   "execution_count": 14,
   "metadata": {},
   "outputs": [
    {
     "name": "stdout",
     "output_type": "stream",
     "text": [
      "Input size: 10 ---> Time taken: 35000 nanoseconds\n",
      "Input size: 100 ---> Time taken: 269000 nanoseconds\n",
      "Input size: 1000 ---> Time taken: 3770000 nanoseconds\n",
      "Input size: 10000 ---> Time taken: 37530000 nanoseconds\n"
     ]
    }
   ],
   "source": [
    "def merge_sort(arr):\n",
    "    if len(arr) > 1:\n",
    "        mid = len(arr) // 2\n",
    "        left_half = arr[:mid]\n",
    "        right_half = arr[mid:]\n",
    "\n",
    "        # Recursive calls to sort both halves\n",
    "        merge_sort(left_half)\n",
    "        merge_sort(right_half)\n",
    "\n",
    "        # Merging the sorted halves\n",
    "        i = j = k = 0\n",
    "        while i < len(left_half) and j < len(right_half):\n",
    "            if left_half[i] < right_half[j]:\n",
    "                arr[k] = left_half[i]\n",
    "                i += 1\n",
    "            else:\n",
    "                arr[k] = right_half[j]\n",
    "                j += 1\n",
    "            k += 1\n",
    "\n",
    "        # Copy any remaining elements of left_half\n",
    "        while i < len(left_half):\n",
    "            arr[k] = left_half[i]\n",
    "            i += 1\n",
    "            k += 1\n",
    "\n",
    "        # Copy any remaining elements of right_half\n",
    "        while j < len(right_half):\n",
    "            arr[k] = right_half[j]\n",
    "            j += 1\n",
    "            k += 1\n",
    "    return arr\n",
    "\n",
    "if __name__ == \"__main__\":\n",
    "    measure_time(merge_sort)"
   ]
  },
  {
   "cell_type": "markdown",
   "metadata": {},
   "source": [
    "### Factorial Recursion\n",
    "\n",
    "The time complexity of calculating the factorial of a number n using recursion is O(n)."
   ]
  },
  {
   "cell_type": "code",
   "execution_count": 16,
   "metadata": {},
   "outputs": [
    {
     "name": "stdout",
     "output_type": "stream",
     "text": [
      "Input size: 10 ---> Time taken: 3000 nanoseconds\n",
      "Input size: 100 ---> Time taken: 8000 nanoseconds\n",
      "Input size: 1000 ---> Time taken: 380000 nanoseconds\n"
     ]
    }
   ],
   "source": [
    "def factorial(n):\n",
    "    if n == 0 or n == 1:  # Base case\n",
    "        return 1\n",
    "    else:\n",
    "        return n * factorial(n - 1)\n",
    "\n",
    "def measure_time_factorial():\n",
    "    \"\"\"\n",
    "    Measures the execution time of the factorial function for various input sizes.\n",
    "    \"\"\"\n",
    "    \n",
    "    # Define input sizes\n",
    "    input_sizes = [10, 100, 1000]\n",
    "    \n",
    "    for size in input_sizes:\n",
    "        # Measure the time taken to execute the function\n",
    "        start = time.time_ns() # Get the start time in nanoseconds\n",
    "        factorial(size)\n",
    "        end = time.time_ns() # Get the end time in nanoseconds\n",
    "        \n",
    "        # Print the result in nanoseconds for better precision\n",
    "        print(f\"Input size: {size} ---> Time taken: {(end - start)} nanoseconds\")\n",
    "        \n",
    "if __name__ == \"__main__\":\n",
    "    measure_time_factorial()"
   ]
  },
  {
   "cell_type": "markdown",
   "metadata": {},
   "source": [
    "### Fibonacci Numbers\n",
    "\n",
    "The number of calls made grows exponentially: For each call, the function splits into two calls, leading to approximately `2^n` calls.\n",
    "\n",
    "Specifically, it can be shown that the number of calls follows the Fibonacci sequence itself, leading to a time complexity of O(2^n)."
   ]
  },
  {
   "cell_type": "code",
   "execution_count": 18,
   "metadata": {},
   "outputs": [
    {
     "name": "stdout",
     "output_type": "stream",
     "text": [
      "Input size: 10 ---> Time taken: 15000 nanoseconds\n",
      "Input size: 20 ---> Time taken: 1299000 nanoseconds\n",
      "Input size: 30 ---> Time taken: 109030000 nanoseconds\n"
     ]
    }
   ],
   "source": [
    "def fibonacci(n):\n",
    "    if n == 0:\n",
    "        return 0\n",
    "    elif n == 1:\n",
    "        return 1\n",
    "    else:\n",
    "        return fibonacci(n - 1) + fibonacci(n - 2)\n",
    "    \n",
    "def measure_time_fibonacci():\n",
    "    \"\"\"\n",
    "    Measures the execution time of the fibonacci function for various input sizes.\n",
    "    \"\"\"\n",
    "    \n",
    "    # Define input sizes\n",
    "    input_sizes = [10, 20, 30]\n",
    "    \n",
    "    for size in input_sizes:\n",
    "        # Measure the time taken to execute the function\n",
    "        start = time.time_ns() # Get the start time in nanoseconds\n",
    "        fibonacci(size)\n",
    "        end = time.time_ns() # Get the end time in nanoseconds\n",
    "        \n",
    "        # Print the result in nanoseconds for better precision\n",
    "        print(f\"Input size: {size} ---> Time taken: {(end - start)} nanoseconds\")\n",
    "        \n",
    "if __name__ == \"__main__\":\n",
    "    measure_time_fibonacci()\n"
   ]
  },
  {
   "cell_type": "markdown",
   "metadata": {},
   "source": [
    "### Binary Search\n",
    "\n",
    "It is an efficient algorithm for finding a target value within a sorted array or list. The time complexity of binary search is `O(log n)`. "
   ]
  },
  {
   "cell_type": "code",
   "execution_count": 25,
   "metadata": {},
   "outputs": [
    {
     "name": "stdout",
     "output_type": "stream",
     "text": [
      "Input size: 10 ---> Time taken: 12000 nanoseconds\n",
      "Input size: 100 ---> Time taken: 3000 nanoseconds\n",
      "Input size: 1000 ---> Time taken: 5000 nanoseconds\n",
      "Input size: 10000 ---> Time taken: 15000 nanoseconds\n"
     ]
    }
   ],
   "source": [
    "def binary_search(arr, target):\n",
    "    left, right = 0, len(arr) - 1\n",
    "    \n",
    "    while left <= right:\n",
    "        mid = left + (right - left) // 2  # Avoids potential overflow\n",
    "        if arr[mid] == target:\n",
    "            return mid  # Target found\n",
    "        elif arr[mid] < target:\n",
    "            left = mid + 1  # Search in the right half\n",
    "        else:\n",
    "            right = mid - 1  # Search in the left half\n",
    "            \n",
    "    return -1  # Target not found\n",
    "\n",
    "def measure_time_binary_search():\n",
    "    \"\"\"\n",
    "    Measures the execution time of the binary_search function for various input sizes.\n",
    "    \"\"\"\n",
    "    \n",
    "    # Define input sizes\n",
    "    input_sizes = [10**i for i in range(1, 5)]\n",
    "    \n",
    "    for size in input_sizes:\n",
    "        # Generate input for the current size\n",
    "        input_data = np.arange(size)\n",
    "        \n",
    "        # Measure the time taken to execute the function\n",
    "        start = time.time_ns() # Get the start time in nanoseconds\n",
    "        binary_search(input_data, size - 1)\n",
    "        end = time.time_ns() # Get the end time in nanoseconds\n",
    "        \n",
    "        # Print the result in nanoseconds for better precision\n",
    "        print(f\"Input size: {size} ---> Time taken: {(end - start)} nanoseconds\")\n",
    "        \n",
    "if __name__ == \"__main__\":\n",
    "    measure_time_binary_search()\n"
   ]
  }
 ],
 "metadata": {
  "kernelspec": {
   "display_name": "base",
   "language": "python",
   "name": "python3"
  },
  "language_info": {
   "codemirror_mode": {
    "name": "ipython",
    "version": 3
   },
   "file_extension": ".py",
   "mimetype": "text/x-python",
   "name": "python",
   "nbconvert_exporter": "python",
   "pygments_lexer": "ipython3",
   "version": "3.12.4"
  }
 },
 "nbformat": 4,
 "nbformat_minor": 2
}
