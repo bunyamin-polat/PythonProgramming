{
 "cells": [
  {
   "cell_type": "markdown",
   "id": "fad3374e",
   "metadata": {},
   "source": [
    "## Count Even Odd\n",
    "\n",
    "You are given an array ARR of integers of size N. Your task is to determine the following:\n",
    "\n",
    "The number of elements that occur an odd number of times in the array.\n",
    "\n",
    "The number of elements that occur an even number of times in the array.\n",
    "\n",
    "Your solution should make use of a hashmap (Python dictionary) to track the count of each element.\n",
    "\n",
    "**Input Parameters:**\n",
    "\n",
    "`ARR (List[int])`: A list of integers.\n",
    "\n",
    "`N (int)`: The size of the array.\n",
    "\n",
    "**Output:**\n",
    "\n",
    "A tuple with two integers:\n",
    "\n",
    "The first integer is the count of elements that occur an odd number of times.\n",
    "\n",
    "The second integer is the count of elements that occur an even number of times.\n",
    "\n",
    "**Example:**\n",
    "\n",
    "    Input: ARR = [1, 2, 3, 2, 3, 3]\n",
    "    Output: (1, 2)\n",
    "    Explanation: \n",
    "    - 1 occurs 1 time (odd), 2 occurs 2 times (even), 3 occurs 3 times (odd)\n",
    "    - Number of elements occurring odd times = 2 (1, 3)\n",
    "    - Number of elements occurring even times = 1 (2)\n",
    "    \n",
    "    \n",
    "    Input: ARR = [5, 5, 5, 5, 5, 5, 6, 6, 6, 6, 7]\n",
    "    Output: (1, 2)\n",
    "    Explanation:\n",
    "    - 5 occurs 6 times (even), 6 occurs 4 times (even), 7 occurs 1 time (odd)\n",
    "    - Number of elements occurring odd times = 1 (7)\n",
    "    - Number of elements occurring even times = 2 (5, 6)"
   ]
  },
  {
   "cell_type": "code",
   "execution_count": null,
   "id": "405a964f",
   "metadata": {},
   "outputs": [],
   "source": [
    "def count_odd_even_occurrences(arr):\n",
    "    \"\"\"\n",
    "    Function to count the number of elements that occur an odd number of times\n",
    "    and the number of elements that occur an even number of times.\n",
    "    \n",
    "    :param arr: List[int] -> The input list of integers\n",
    "    :return: Tuple[int, int] -> A tuple containing two values:\n",
    "             - The number of elements with odd occurrences\n",
    "             - The number of elements with even occurrences\n",
    "    \"\"\"\n",
    "\n",
    "    count_map = {} # Hashmap to store the frequency of each element\n",
    "    for num in arr: \n",
    "        count_map[num] = count_map.get(num, 0) + 1 # Increment the count for each number\n",
    "\n",
    "    odd_count = sum(1 for count in count_map.values() if count % 2 == 1) # Count elements with odd occurrences\n",
    "    even_count = sum(1 for count in count_map.values() if count % 2 == 0) # Count elements with even occurrences\n",
    "\n",
    "    return odd_count, even_count\n"
   ]
  },
  {
   "cell_type": "code",
   "execution_count": 6,
   "id": "ceb3e989",
   "metadata": {},
   "outputs": [
    {
     "name": "stdout",
     "output_type": "stream",
     "text": [
      "Odd occurrences: 2\n",
      "Even occurrences: 3\n"
     ]
    }
   ],
   "source": [
    "arr = [1, 2, 3, 2, 3, 4, 5, 5]\n",
    "n = len(arr)\n",
    "result = count_odd_even_occurrences(arr)\n",
    "print(f\"Odd occurrences: {result[0]}\\nEven occurrences: {result[1]}\")   "
   ]
  },
  {
   "cell_type": "markdown",
   "id": "52425561",
   "metadata": {},
   "source": [
    "## Group Anagrams\n",
    "\n",
    "You are given an array of strings strs. Your task is to group the anagrams together and return the result. An anagram is a word formed by rearranging the letters of another, using all the original letters exactly once.\n",
    "\n",
    "**Input:**\n",
    "\n",
    "`strs`: A list of strings.\n",
    "\n",
    "**Output:**\n",
    "\n",
    "Return a list of lists, where each list contains strings that are anagrams of each other. The order of the output and the order of the strings within each group does not matter.\n",
    "\n",
    "**Example:**\n",
    "\n",
    "    Input:\n",
    "    strs = [\"eat\", \"tea\", \"tan\", \"ate\", \"nat\", \"bat\"]\n",
    "\n",
    "    Output:\n",
    "    [\n",
    "    [\"eat\", \"tea\", \"ate\"],\n",
    "    [\"tan\", \"nat\"],\n",
    "    [\"bat\"]\n",
    "    ]\n",
    "\n",
    "    Input:\n",
    "    strs = [\"\"]\n",
    "\n",
    "    Output:\n",
    "    [\n",
    "    [\"\"]\n",
    "    ]\n",
    "\n",
    "    Input:\n",
    "    strs = [\"a\"]\n",
    "\n",
    "    Output:\n",
    "    [\n",
    "    [\"a\"]\n",
    "    ]"
   ]
  },
  {
   "cell_type": "code",
   "execution_count": 7,
   "id": "b9691bec",
   "metadata": {},
   "outputs": [],
   "source": [
    "def group_anagrams(strs):\n",
    "    \"\"\"\n",
    "    Function to group anagrams from a list of strings.\n",
    "    :param strs: List[str] -> The input list of strings\n",
    "    :return: List[List[str]] -> A list of lists containing grouped anagrams\n",
    "    \"\"\"\n",
    "    anagrams = {}\n",
    "    for s in strs:\n",
    "        sorted_str = ''.join(sorted(s))\n",
    "        if sorted_str not in anagrams:\n",
    "            anagrams[sorted_str] = []\n",
    "        anagrams[sorted_str].append(s)\n",
    "\n",
    "    return list(anagrams.values())\n"
   ]
  },
  {
   "cell_type": "code",
   "execution_count": 8,
   "id": "61bf90a7",
   "metadata": {},
   "outputs": [
    {
     "name": "stdout",
     "output_type": "stream",
     "text": [
      "Grouped Anagrams: [['eat', 'tea', 'ate'], ['tan', 'nat'], ['bat']]\n"
     ]
    }
   ],
   "source": [
    "strs = [\"eat\", \"tea\", \"tan\", \"ate\", \"nat\", \"bat\"]\n",
    "result = group_anagrams(strs)\n",
    "print(\"Grouped Anagrams:\", result)"
   ]
  },
  {
   "cell_type": "markdown",
   "id": "1a787bf6",
   "metadata": {},
   "source": [
    "### Maximum Frequency Number\n",
    "\n",
    "You are given an array of integers where the numbers are in random order. Your task is to write a function to find and return the number that occurs the most times in the given array. If there are two or more numbers with the maximum frequency, return the number that appears first in the array (i.e., the number with the lowest index).\n",
    "\n",
    "**Input Parameters:**\n",
    "\n",
    "`arr (List[int])`: A list of integers.\n",
    "\n",
    "**Output:**\n",
    "\n",
    "An integer which is the most frequent number in the array. If there are ties, the number that appears first should be returned.\n",
    "\n",
    "**Example:**\n",
    "\n",
    "    Input: arr = [1, 3, 2, 2, 1, 1, 4, 5, 1]\n",
    "    Output: 1\n",
    "    \n",
    "**Explanation**: The number 1 appears the most times (4 times).\n",
    "\n",
    "    Input: arr = [4, 4, 5, 5, 6, 6, 6]\n",
    "    Output: 6\n",
    "\n",
    "**Explanation**: The number 6 appears the most times (3 times). Even though 4 and 5 each appear twice, 6 appears more frequently."
   ]
  },
  {
   "cell_type": "code",
   "execution_count": 9,
   "id": "b259a354",
   "metadata": {},
   "outputs": [],
   "source": [
    "def most_frequent_number(arr):\n",
    "    \"\"\"\n",
    "    Function to find and return the number that occurs the most times in the array.\n",
    "    In case of ties, return the number that appears first in the array.\n",
    "    \n",
    "    :param arr: List[int] -> The input list of integers\n",
    "    :return: int -> The most frequent number in the array\n",
    "    \"\"\"\n",
    "    frequency = {}\n",
    "    for num in arr:\n",
    "        if num in frequency:\n",
    "            frequency[num] += 1\n",
    "        else:\n",
    "            frequency[num] = 1\n",
    "    \n",
    "    max_feq = 0\n",
    "    most_freq = arr[0]\n",
    "    for num in arr:\n",
    "        if frequency[num] > max_feq:\n",
    "            max_feq = frequency[num]\n",
    "            most_freq = num\n",
    "\n",
    "    return most_freq\n"
   ]
  },
  {
   "cell_type": "code",
   "execution_count": 10,
   "id": "e0b718b5",
   "metadata": {},
   "outputs": [
    {
     "name": "stdout",
     "output_type": "stream",
     "text": [
      "1\n"
     ]
    }
   ],
   "source": [
    "arr = [1, 3, 2, 2, 1, 1, 4, 5, 1]\n",
    "print(most_frequent_number(arr))"
   ]
  },
  {
   "cell_type": "code",
   "execution_count": 11,
   "id": "6a34ebb3",
   "metadata": {},
   "outputs": [
    {
     "name": "stdout",
     "output_type": "stream",
     "text": [
      "6\n"
     ]
    }
   ],
   "source": [
    "arr = [4, 4, 5, 5, 6, 6, 6]\n",
    "print(most_frequent_number(arr))"
   ]
  },
  {
   "cell_type": "markdown",
   "id": "40ca8d9a",
   "metadata": {},
   "source": [
    "### Greatest Number Product\n",
    "\n",
    "You are given an array ARR of integers. Your task is to find the greatest number in the array such that this number is also equal to the product of two different elements from the same array.\n",
    "\n",
    "**Input Parameters:**\n",
    "\n",
    "`ARR (List[int])`: A list of integers.\n",
    "\n",
    "**Output:**\n",
    "\n",
    "An integer which is the greatest number that is also the product of two different elements in the array. If no such number exists, return -1.\n",
    "\n",
    "**Example:**\n",
    "\n",
    "    Input: ARR = [1, 2, 3, 6, 12]\n",
    "    Output: 12\n",
    "**Explanation**: The number 12 is present in the array and it is the product of 2 and 6.\n",
    "    \n",
    "    Input: ARR = [4, 2, 3, 8]\n",
    "    Output: 8\n",
    "**Explanation**: The number 8 is present in the array and it is the product of 2 and 4."
   ]
  },
  {
   "cell_type": "code",
   "execution_count": null,
   "id": "a88cf67a",
   "metadata": {},
   "outputs": [],
   "source": [
    "def greatest_product_equal_to_element(arr):\n",
    "    \"\"\"\n",
    "    Function to find the greatest number in the array that is equal to the product of two different elements.\n",
    "    \n",
    "    :param arr: List[int] -> The input list of integers\n",
    "    :return: int -> The greatest number in the array that is equal to the product of two different elements\n",
    "    \"\"\"\n",
    "    \n",
    "    product_map ={}\n",
    "    for i in range(len(arr)):\n",
    "        product_map[arr[i]] = 1 # Initialize with 1 to avoid zero product issues\n",
    "\n",
    "    max_product = -1 # Initialize to -1 to indicate no valid product found\n",
    "\n",
    "    for i in range(len(arr)):\n",
    "        for j in range(len(arr)):\n",
    "            if i != j: # Ensure we are not multiplying the same element\n",
    "                product = arr[i] * arr[j]\n",
    "                if product > max_product and product in product_map: # Check if product is in the array and greater than current max\n",
    "                    max_product = product\n",
    "\n",
    "    return max_product if max_product != -1 else -1"
   ]
  },
  {
   "cell_type": "code",
   "execution_count": 15,
   "id": "416006e4",
   "metadata": {},
   "outputs": [
    {
     "name": "stdout",
     "output_type": "stream",
     "text": [
      "12\n"
     ]
    }
   ],
   "source": [
    "arr = [1, 2, 3, 6, 12]\n",
    "print(greatest_product_equal_to_element(arr))"
   ]
  },
  {
   "cell_type": "code",
   "execution_count": 14,
   "id": "3b7fadff",
   "metadata": {},
   "outputs": [
    {
     "name": "stdout",
     "output_type": "stream",
     "text": [
      "-1\n"
     ]
    }
   ],
   "source": [
    "arr = [3, 5, 7, 9]\n",
    "print(greatest_product_equal_to_element(arr))"
   ]
  },
  {
   "cell_type": "markdown",
   "id": "5a60ce27",
   "metadata": {},
   "source": [
    "## Two Sum\n",
    "\n",
    "You are given an array of integers nums and an integer target. \n",
    "\n",
    "Your task is to find two distinct indices in the array such that the sum of the elements at these indices equals the given target. \n",
    "\n",
    "You must return the indices in a list, and you can assume that each input has exactly one solution. You may not use the same element twice.\n",
    "\n",
    "**Input Parameters:**\n",
    "\n",
    "`nums (List[int])`: A list of integers.\n",
    "\n",
    "`target (int)`: The target sum that two distinct numbers in the list should add up to.\n",
    "\n",
    "**Output:**\n",
    "\n",
    "A list of two integers representing the indices of the two numbers that add up to the target.\n",
    "\n",
    "**Example:**\n",
    "\n",
    "    Input: nums = [2, 7, 11, 15], target = 9\n",
    "    Output: [0, 1]\n",
    "\n",
    "**Explanation**: Because `nums[0] + nums[1] == 9`, we return `[0, 1]`.\n",
    "    \n",
    "    Input: nums = [3, 2, 4], target = 6\n",
    "    Output: [1, 2]\n",
    "\n",
    "**Explanation**: Because `nums[1] + nums[2] == 6`, we return `[1, 2]`."
   ]
  },
  {
   "cell_type": "code",
   "execution_count": null,
   "id": "45a0812e",
   "metadata": {},
   "outputs": [],
   "source": [
    "def two_sum(nums, target):\n",
    "    \"\"\"\n",
    "    Function to return indices of the two numbers such that they add up to the target.\n",
    "    \n",
    "    :param nums: List[int] -> The input list of integers\n",
    "    :param target: int -> The target sum\n",
    "    :return: List[int] -> A list of two indices whose corresponding elements add up to the target\n",
    "    \"\"\"\n",
    "\n",
    "    index_map = {}\n",
    "    for i in range(len(nums)):\n",
    "        if target - nums[i] in index_map:\n",
    "            return [index_map[target - nums[i]], i]\n",
    "        index_map[nums[i]] = i\n",
    "    return []\n"
   ]
  },
  {
   "cell_type": "code",
   "execution_count": 18,
   "id": "52acabff",
   "metadata": {},
   "outputs": [
    {
     "name": "stdout",
     "output_type": "stream",
     "text": [
      "Indices of the two numbers that add up to the target: [0, 1]\n"
     ]
    }
   ],
   "source": [
    "nums = [2, 7, 11, 15]\n",
    "target = 9\n",
    "result = two_sum(nums, target)\n",
    "print(\"Indices of the two numbers that add up to the target:\", result)"
   ]
  },
  {
   "cell_type": "markdown",
   "id": "a77017a5",
   "metadata": {},
   "source": [
    "## Duplicate Number\n",
    "\n",
    "You are given an integer array `nums`. Write a function that returns `True` if any value appears at least twice in the array and `False` if every element is distinct.\n",
    "\n",
    "Your task is to implement the solution using a hashmap (Python dictionary).\n",
    "\n",
    "**Input Parameters:**\n",
    "\n",
    "`nums (List[int])`: A list of integers.\n",
    "\n",
    "**Output:**\n",
    "\n",
    "bool: True if any value appears at least twice in the array, otherwise False.\n",
    "\n",
    "**Example:**\n",
    "\n",
    "    Input: nums = [1, 1, 1, 3, 3, 4, 3, 2, 4, 2]\n",
    "    Output: True\n",
    "    \n",
    "    Input: nums = [1, 2, 3, 4]\n",
    "    Output: False\n",
    "    \n",
    "    Input: nums = [1, 2, 3, 1]\n",
    "    Output: True"
   ]
  },
  {
   "cell_type": "code",
   "execution_count": 19,
   "id": "0cb89f71",
   "metadata": {},
   "outputs": [],
   "source": [
    "def contains_duplicate(nums):\n",
    "    \"\"\"\n",
    "    Function to check if the array contains any duplicate elements.\n",
    "    :param nums: List[int] -> The input list of integers\n",
    "    :return: bool -> True if duplicates exist, False otherwise\n",
    "    \"\"\"\n",
    "    seen = {}\n",
    "    for num in nums:\n",
    "        if num in seen:\n",
    "            return True\n",
    "        seen[num] = True\n",
    "    return False"
   ]
  },
  {
   "cell_type": "code",
   "execution_count": 20,
   "id": "2b738d5f",
   "metadata": {},
   "outputs": [
    {
     "name": "stdout",
     "output_type": "stream",
     "text": [
      "Contains duplicate: False\n"
     ]
    }
   ],
   "source": [
    "nums = [1, 2, 3, 4]\n",
    "print(\"Contains duplicate:\", contains_duplicate(nums))"
   ]
  },
  {
   "cell_type": "code",
   "execution_count": 21,
   "id": "af648fa7",
   "metadata": {},
   "outputs": [
    {
     "name": "stdout",
     "output_type": "stream",
     "text": [
      "Contains duplicate: True\n"
     ]
    }
   ],
   "source": [
    "nums = [1, 2, 3, 4, 1]\n",
    "print(\"Contains duplicate:\", contains_duplicate(nums))"
   ]
  },
  {
   "cell_type": "code",
   "execution_count": null,
   "id": "a86c777e",
   "metadata": {},
   "outputs": [],
   "source": []
  }
 ],
 "metadata": {
  "kernelspec": {
   "display_name": "base",
   "language": "python",
   "name": "python3"
  },
  "language_info": {
   "codemirror_mode": {
    "name": "ipython",
    "version": 3
   },
   "file_extension": ".py",
   "mimetype": "text/x-python",
   "name": "python",
   "nbconvert_exporter": "python",
   "pygments_lexer": "ipython3",
   "version": "3.12.4"
  }
 },
 "nbformat": 4,
 "nbformat_minor": 5
}
