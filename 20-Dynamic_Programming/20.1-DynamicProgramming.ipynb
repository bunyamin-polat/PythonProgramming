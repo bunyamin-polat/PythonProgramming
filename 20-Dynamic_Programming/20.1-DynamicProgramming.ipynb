{
 "cells": [
  {
   "cell_type": "markdown",
   "id": "f0775681",
   "metadata": {},
   "source": [
    "## Dynamic Programming\n",
    "Dynamic programming is a method for solving complex problems by breaking them down into simpler subproblems. \n",
    "\n",
    "It is applicable when the problem can be divided into overlapping subproblems that can be solved independently.\n",
    "\n",
    "### Key Concepts\n",
    "\n",
    "- **Optimal Substructure**: A problem exhibits optimal substructure if an optimal solution can be constructed from optimal solutions of its subproblems.\n",
    "\n",
    "- **Overlapping Subproblems**: A problem has overlapping subproblems if the same subproblems are solved multiple times.\n",
    "\n",
    "### Techniques\n",
    "- **Memoization**: A top-down approach where results of subproblems are stored to avoid redundant calculations.\n",
    " \n",
    "- **Tabulation**: A bottom-up approach where solutions to subproblems are computed iteratively and stored in a table.\n",
    "  \n",
    "### Example Problems\n",
    "- **Fibonacci Sequence**: The nth Fibonacci number can be computed using dynamic programming to avoid redundant calculations.\n",
    "  \n",
    "- **Knapsack Problem**: Given weights and values of items, determine the maximum value that can be carried in a knapsack of a given capacity.\n",
    "  \n",
    "- **Longest Common Subsequence**: Find the longest subsequence present in both sequences.\n"
   ]
  },
  {
   "cell_type": "markdown",
   "id": "bfa0332f",
   "metadata": {},
   "source": [
    "### Fibonacci Series with Recursion\n",
    "\n",
    "We can calculate the Fibonacci series using recursion, which is a classic example of a problem that can be solved using dynamic programming techniques. \n",
    "\n",
    "The Fibonacci sequence is defined as follows:\n",
    "- F(0) = 0\n",
    "- F(1) = 1\n",
    "- F(n) = F(n-1) + F(n-2) for n > 1\n",
    "This recursive definition leads to a lot of repeated calculations, which can be optimized using dynamic programming techniques.\n",
    "\n",
    "Time complexity of the naive recursive approach is `O(2^n)`, which is inefficient for large `n`.\n",
    "\n",
    "We can optimize it using memoization or tabulation to achieve `O(n)` time complexity."
   ]
  },
  {
   "cell_type": "code",
   "execution_count": 1,
   "id": "aac1907b",
   "metadata": {},
   "outputs": [
    {
     "name": "stdout",
     "output_type": "stream",
     "text": [
      "Fibonacci sequence up to 10:\n",
      "0 1 1 2 3 5 8 13 21 34 55 \n"
     ]
    }
   ],
   "source": [
    "def fibonacci(n):\n",
    "    if n <= 1:\n",
    "        return n\n",
    "    else:\n",
    "        return fibonacci(n - 1) + fibonacci(n - 2) # Recursive call to calculate Fibonacci number\n",
    "\n",
    "print(\"Fibonacci sequence up to 10:\")\n",
    "for i in range(11):\n",
    "    print(fibonacci(i), end=' ')\n",
    "print()  # Print a newline at the end"
   ]
  },
  {
   "cell_type": "markdown",
   "id": "2d76ae5b",
   "metadata": {},
   "source": [
    "### Fibonacci Series with Memoization\n",
    "\n",
    "We can optimize the recursive Fibonacci function using memoization, which stores the results of previously computed Fibonacci numbers to avoid redundant calculations.\n",
    "\n",
    "Time and space complexity of this approach is `O(n)`."
   ]
  },
  {
   "cell_type": "code",
   "execution_count": null,
   "id": "81ec85cb",
   "metadata": {},
   "outputs": [
    {
     "name": "stdout",
     "output_type": "stream",
     "text": [
      "Fibonacci sequence up to 10 with memoization:\n",
      "0 1 1 2 3 5 8 13 21 34 55 \n"
     ]
    }
   ],
   "source": [
    "memo = {}\n",
    "def fibonacci_memoization(n):\n",
    "    if n in memo: # Check if the result is already computed\n",
    "        return memo[n]\n",
    "    if n <= 1:\n",
    "        memo[n] = n # Base case\n",
    "    else:\n",
    "        memo[n] = fibonacci_memoization(n - 1) + fibonacci_memoization(n - 2) # Recursive call with memoization\n",
    "    return memo[n]\n",
    "\n",
    "print(\"Fibonacci sequence up to 10 with memoization:\")\n",
    "for i in range(11):\n",
    "    print(fibonacci_memoization(i), end=' ')\n",
    "print()  # Print a newline at the end"
   ]
  },
  {
   "cell_type": "markdown",
   "id": "85a4b9cf",
   "metadata": {},
   "source": [
    "### Fibonacci Series with Tabulation\n",
    "\n",
    "We can optimize the recursive Fibonacci function using tabulation, which builds a table (array) of Fibonacci numbers from the bottom up.\n",
    "\n",
    "Time and space complexity of this approach is `O(n)`."
   ]
  },
  {
   "cell_type": "code",
   "execution_count": 4,
   "id": "d265c35e",
   "metadata": {},
   "outputs": [
    {
     "name": "stdout",
     "output_type": "stream",
     "text": [
      "Fibonacci sequence up to 10 with tabulation:\n",
      "0 1 1 2 3 5 8 13 21 34 55 \n"
     ]
    }
   ],
   "source": [
    "def fibonacci_tabulation(n):\n",
    "    if n == 0:\n",
    "        return 0\n",
    "    fib = [0] * (n + 1) # Create a table to store Fibonacci numbers\n",
    "    fib[0], fib[1] = 0, 1 # Base cases\n",
    "    for i in range(2, n + 1):\n",
    "        fib[i] = fib[i - 1] + fib[i - 2] # Fill the table iteratively\n",
    "    return fib[n]\n",
    "\n",
    "print(\"Fibonacci sequence up to 10 with tabulation:\")\n",
    "for i in range(11):\n",
    "    print(fibonacci_tabulation(i), end=' ')\n",
    "print()  # Print a newline at the end"
   ]
  },
  {
   "cell_type": "code",
   "execution_count": 5,
   "id": "767231c7",
   "metadata": {},
   "outputs": [
    {
     "name": "stdout",
     "output_type": "stream",
     "text": [
      "Fibonacci sequence up to 10 with optimized space:\n",
      "0 1 1 2 3 5 8 13 21 34 55 \n"
     ]
    }
   ],
   "source": [
    "## For memory optimization, we can use two variables to store the last two Fibonacci numbers instead of an array.\n",
    "## In this way, we reduce the space complexity to O(1) while keeping the time complexity O(n).\n",
    "\n",
    "def fibonacci_optimized(n):\n",
    "    if n == 0:\n",
    "        return 0\n",
    "    a, b = 0, 1\n",
    "    for _ in range(2, n + 1):\n",
    "        a, b = b, a + b\n",
    "    return b\n",
    "\n",
    "print(\"Fibonacci sequence up to 10 with optimized space:\")\n",
    "for i in range(11):\n",
    "    print(fibonacci_optimized(i), end=' ')\n",
    "print()  # Print a newline at the end"
   ]
  },
  {
   "cell_type": "markdown",
   "id": "afdcd322",
   "metadata": {},
   "source": [
    "### Minimum Steps to Reduce N to One\n",
    "To reduce a number `n` to 1 using the minimum number of steps, we can use dynamic programming. The allowed operations are:\n",
    "1. If `n` is even, divide it by 2.\n",
    "2. If `n` is odd, subtract 1 from it.\n",
    "3. If `n` is divisible by 3, divide it by 3.\n"
   ]
  },
  {
   "cell_type": "code",
   "execution_count": 6,
   "id": "a57e67b3",
   "metadata": {},
   "outputs": [],
   "source": [
    "## Using recursion\n",
    "\n",
    "def min_steps_recursion(n):\n",
    "    if n == 1:\n",
    "        return 0 # Base case\n",
    "    steps = min_steps_recursion(n - 1) # Subtract 1\n",
    "    if n % 2 == 0:\n",
    "        steps = min(steps, min_steps_recursion(n // 2)) # Divide by 2\n",
    "    if n % 3 == 0:\n",
    "        steps = min(steps, min_steps_recursion(n // 3))\n",
    "    return steps + 1"
   ]
  },
  {
   "cell_type": "code",
   "execution_count": 7,
   "id": "0254918b",
   "metadata": {},
   "outputs": [
    {
     "name": "stdout",
     "output_type": "stream",
     "text": [
      "Minimum steps to reduce 10 to 1 (recursion): 3\n"
     ]
    }
   ],
   "source": [
    "n = 10\n",
    "print(f\"Minimum steps to reduce {n} to 1 (recursion): {min_steps_recursion(n)}\")"
   ]
  },
  {
   "cell_type": "code",
   "execution_count": null,
   "id": "f4e03cc0",
   "metadata": {},
   "outputs": [],
   "source": [
    "## Using memoization\n",
    "\n",
    "def min_steps_memoization(n, memo=None):\n",
    "    if memo is None:\n",
    "        memo = {}\n",
    "    if n == 1:\n",
    "        return 0\n",
    "    if n in memo: # Check if the result is already computed\n",
    "        return memo[n]\n",
    "    steps = min_steps_memoization(n - 1, memo) # Subtract 1\n",
    "    if n % 2 == 0:\n",
    "        steps = min(steps, min_steps_memoization(n // 2, memo)) # Divide by 2\n",
    "    if n % 3 == 0:\n",
    "        steps = min(steps, min_steps_memoization(n // 3, memo))\n",
    "    memo[n] = steps + 1 # Store the result in the memo dictionary\n",
    "    return memo[n]\n",
    "    "
   ]
  },
  {
   "cell_type": "code",
   "execution_count": 12,
   "id": "2f7f02af",
   "metadata": {},
   "outputs": [
    {
     "name": "stdout",
     "output_type": "stream",
     "text": [
      "Minimum steps to reduce 7 to 1 (memoization): 3\n"
     ]
    }
   ],
   "source": [
    "n = 7\n",
    "print(f\"Minimum steps to reduce {n} to 1 (memoization): {min_steps_memoization(n)}\")"
   ]
  },
  {
   "cell_type": "code",
   "execution_count": 10,
   "id": "1c58e3bf",
   "metadata": {},
   "outputs": [],
   "source": [
    "## Using tabulation\n",
    "\n",
    "def min_steps_tabulation(n):\n",
    "    dp = [0] * (n + 1)\n",
    "    dp[1] = 0 # Base case\n",
    "    for i in range(2, n + 1):\n",
    "        dp[i] = dp[i - 1] + 1 # Subtract 1\n",
    "        if i % 2 == 0:\n",
    "            dp[i] = min(dp[i], dp[i // 2] + 1) # Divide by 2\n",
    "        if i % 3 == 0:\n",
    "            dp[i] = min(dp[i], dp[i // 3] + 1) # Divide by 3\n",
    "    return dp[n]"
   ]
  },
  {
   "cell_type": "code",
   "execution_count": 11,
   "id": "82a9b938",
   "metadata": {},
   "outputs": [
    {
     "name": "stdout",
     "output_type": "stream",
     "text": [
      "Minimum steps to reduce 11 to 1 (tabulation): 4\n"
     ]
    }
   ],
   "source": [
    "n = 11\n",
    "\n",
    "print(f\"Minimum steps to reduce {n} to 1 (tabulation): {min_steps_tabulation(n)}\")"
   ]
  },
  {
   "cell_type": "markdown",
   "id": "c25b6a8b",
   "metadata": {},
   "source": [
    "### Count of Balanced Tree of Height N\n",
    "To count the number of balanced binary trees of height `n`, we can use dynamic programming. \n",
    "\n",
    "The number of balanced binary trees of height `n` can be calculated using the following recurrence relation:\n",
    "- `T(0) = 1` (An empty tree)\n",
    "- `T(1) = 1` (A single node tree)\n",
    "- `T(n) = T(n-1) * T(n-1) + 2 * T(n-1) * T(n-2)` for `n > 1`   \n",
    "- This relation accounts for the fact that a balanced binary tree can have its left and right subtrees of heights `n-1` and `n-2`, or vice versa.\n",
    "- The time complexity of this approach is `O(n^2)` and the space complexity is `O(n)`."
   ]
  },
  {
   "cell_type": "code",
   "execution_count": null,
   "id": "5d786354",
   "metadata": {},
   "outputs": [],
   "source": [
    "## Using recursion to count balanced trees of height n\n",
    "\n",
    "def count_balanced_trees_recursion(n):\n",
    "    if n == 0 or n == 1:\n",
    "        return 1  # Base case: one tree of height 0 or 1\n",
    "    left = count_balanced_trees_recursion(n - 1)  # Left subtree of height n-1\n",
    "    right = count_balanced_trees_recursion(n - 2)  # Right subtree of height n-2\n",
    "    return left * left + 2 * left * right  # Count balanced trees"
   ]
  },
  {
   "cell_type": "code",
   "execution_count": 21,
   "id": "03254844",
   "metadata": {},
   "outputs": [
    {
     "name": "stdout",
     "output_type": "stream",
     "text": [
      "Number of balanced trees of height 4 (recursion): 315\n"
     ]
    }
   ],
   "source": [
    "n = 4\n",
    "print(f\"Number of balanced trees of height {n} (recursion): {count_balanced_trees_recursion(n)}\")"
   ]
  },
  {
   "cell_type": "code",
   "execution_count": 17,
   "id": "49a12c34",
   "metadata": {},
   "outputs": [],
   "source": [
    "## Using memoization\n",
    "\n",
    "def count_balanced_trees_memoization(n, memo=None):\n",
    "    if memo is None:\n",
    "        memo = {}\n",
    "    if n in memo:  # Check if the result is already computed\n",
    "        return memo[n]\n",
    "    if n == 0 or n == 1:\n",
    "        return 1  # Base case: one tree of height 0 or 1\n",
    "    left = count_balanced_trees_memoization(n - 1, memo)  # Left subtree of height n-1\n",
    "    right = count_balanced_trees_memoization(n - 2, memo)  # Right subtree of height n-2\n",
    "    memo[n] = left * left + 2 * left * right\n",
    "    return memo[n]"
   ]
  },
  {
   "cell_type": "code",
   "execution_count": 22,
   "id": "ca648a2e",
   "metadata": {},
   "outputs": [
    {
     "name": "stdout",
     "output_type": "stream",
     "text": [
      "Number of balanced trees of height 3 (memoization): 15\n"
     ]
    }
   ],
   "source": [
    "n = 3\n",
    "\n",
    "print(f\"Number of balanced trees of height {n} (memoization): {count_balanced_trees_memoization(n)}\")"
   ]
  },
  {
   "cell_type": "code",
   "execution_count": 23,
   "id": "5bd88825",
   "metadata": {},
   "outputs": [],
   "source": [
    "## Using tabulation\n",
    "\n",
    "def count_balanced_trees_tabulation(n):\n",
    "    if n == 0 or n == 1:\n",
    "        return 1  # Base case: one tree of height 0 or 1\n",
    "    dp = [0] * (n + 1)\n",
    "    dp[0], dp[1] = 1, 1  # Base cases\n",
    "    for i in range(2, n + 1):\n",
    "        dp[i] = dp[i - 1] * dp[i - 1] + 2 * dp[i - 1] * dp[i - 2]  # Count balanced trees\n",
    "    return dp[n]"
   ]
  },
  {
   "cell_type": "code",
   "execution_count": 25,
   "id": "5cf25d96",
   "metadata": {},
   "outputs": [
    {
     "name": "stdout",
     "output_type": "stream",
     "text": [
      "Number of balanced trees of height 4 (memoization): 315\n"
     ]
    }
   ],
   "source": [
    "n = 4\n",
    "\n",
    "print(f\"Number of balanced trees of height {n} (memoization): {count_balanced_trees_tabulation(n)}\")"
   ]
  },
  {
   "cell_type": "markdown",
   "id": "5b25a3f0",
   "metadata": {},
   "source": [
    "### Minimum Cost Path in a Grid\n",
    "You have a cost matrix called `cost[][]`, and you need to find the minimum cost to reach a specific position `(M, N)` starting from the top-left corner `(0, 0)`.\n",
    "\n",
    "Each cell in the matrix has a cost that you need to add up to get the total cost for the path you take. You can only `move down`, `to the right`, or `diagonally down-right` from any cell.\n",
    "\n",
    "Keep in mind that all costs are positive integers.\n",
    "\n"
   ]
  },
  {
   "cell_type": "code",
   "execution_count": null,
   "id": "75596def",
   "metadata": {},
   "outputs": [],
   "source": [
    "## Using recursion to find the minimum cost path in a grid\n",
    "\n",
    "def min_cost_path_recursive(cost, m, n):\n",
    "    if m == 0 and n == 0: # Base case: top-left corner\n",
    "        return cost[0][0]\n",
    "    \n",
    "    if m < 0 or n < 0: # If we go out of bounds\n",
    "        return float('inf') # Return a large value to ignore this path\n",
    "    \n",
    "    if m == 0: # If we are in the first row, we can only move right\n",
    "        return cost[0][n] + min_cost_path_recursive(cost, 0, n - 1)\n",
    "    \n",
    "    if n == 0: # If we are in the first column, we can only move down\n",
    "        return cost[m][0] + min_cost_path_recursive(cost, m - 1, 0)\n",
    "\n",
    "    return cost[m][n] + min(min_cost_path_recursive(cost, m - 1, n), # Move down\n",
    "                            min_cost_path_recursive(cost, m, n - 1), # Move right\n",
    "                            min_cost_path_recursive(cost, m - 1, n - 1)) # Move diagonally\n"
   ]
  },
  {
   "cell_type": "code",
   "execution_count": 31,
   "id": "06120aeb",
   "metadata": {},
   "outputs": [
    {
     "name": "stdout",
     "output_type": "stream",
     "text": [
      "Minimum cost to reach (2, 2) from (0, 0): 8\n"
     ]
    }
   ],
   "source": [
    "cost_matrix = [\n",
    "    [1, 2, 3],\n",
    "    [4, 8, 2],\n",
    "    [1, 5, 3]\n",
    "]\n",
    "\n",
    "m, n = 2, 2\n",
    "print(f\"Minimum cost to reach ({m}, {n}) from (0, 0): {min_cost_path_recursive(cost_matrix, m, n)}\")"
   ]
  },
  {
   "cell_type": "code",
   "execution_count": 32,
   "id": "2a604107",
   "metadata": {},
   "outputs": [],
   "source": [
    "## Using memoization to find the minimum cost path in a grid\n",
    "\n",
    "def min_cost_path_memoization(cost, m, n, memo=None):\n",
    "    if memo is None:\n",
    "        memo = {}\n",
    "    if (m, n) in memo:  # Check if the result is already computed\n",
    "        return memo[(m, n)]\n",
    "    \n",
    "    if m == 0 and n == 0:  # Base case: top-left corner\n",
    "        return cost[0][0]\n",
    "    \n",
    "    if m < 0 or n < 0:  # If we go out of bounds\n",
    "        return float('inf')  # Return a large value to ignore this path\n",
    "    \n",
    "    if m == 0:  # If we are in the first row, we can only move right\n",
    "        return cost[0][n] + min_cost_path_memoization(cost, 0, n - 1, memo)\n",
    "    \n",
    "    if n == 0:  # If we are in the first column, we can only move down\n",
    "        return cost[m][0] + min_cost_path_memoization(cost, m - 1, 0, memo)\n",
    "\n",
    "    memo[(m, n)] = cost[m][n] + min(min_cost_path_memoization(cost, m - 1, n, memo),  # Move down\n",
    "                                    min_cost_path_memoization(cost, m, n - 1, memo),  # Move right\n",
    "                                    min_cost_path_memoization(cost, m - 1, n - 1, memo))  # Move diagonally\n",
    "    return memo[(m, n)]"
   ]
  },
  {
   "cell_type": "code",
   "execution_count": 36,
   "id": "16bce3ea",
   "metadata": {},
   "outputs": [
    {
     "name": "stdout",
     "output_type": "stream",
     "text": [
      "Minimum cost to reach (1, 1) from (0, 0): 9\n"
     ]
    }
   ],
   "source": [
    "cost_matrix = [\n",
    "    [1, 2, 3],\n",
    "    [4, 8, 2],\n",
    "    [1, 5, 3]\n",
    "]\n",
    "\n",
    "m, n = 1, 1\n",
    "print(f\"Minimum cost to reach ({m}, {n}) from (0, 0): {min_cost_path_memoization(cost_matrix, m, n)}\")"
   ]
  },
  {
   "cell_type": "code",
   "execution_count": 37,
   "id": "24588178",
   "metadata": {},
   "outputs": [],
   "source": [
    "## Using tabulation to find the minimum cost path in a grid\n",
    "\n",
    "def min_cost_path_tabulation(cost):\n",
    "    m = len(cost)\n",
    "    n = len(cost[0])\n",
    "    dp = [[0] * n for _ in range(m)]  # Create a DP table\n",
    "    \n",
    "    dp[0][0] = cost[0][0]  # Base case\n",
    "    \n",
    "    # Fill the first row\n",
    "    for j in range(1, n):\n",
    "        dp[0][j] = dp[0][j - 1] + cost[0][j]\n",
    "    \n",
    "    # Fill the first column\n",
    "    for i in range(1, m):\n",
    "        dp[i][0] = dp[i - 1][0] + cost[i][0]\n",
    "    \n",
    "    # Fill the rest of the DP table\n",
    "    for i in range(1, m):\n",
    "        for j in range(1, n):\n",
    "            dp[i][j] = cost[i][j] + min(dp[i - 1][j], dp[i][j - 1], dp[i - 1][j - 1])  # Move down, right, or diagonally\n",
    "    \n",
    "    return dp[m - 1][n - 1]  # Return the minimum cost to reach (m-1, n-1)"
   ]
  },
  {
   "cell_type": "code",
   "execution_count": 41,
   "id": "dd1c8ea0",
   "metadata": {},
   "outputs": [
    {
     "name": "stdout",
     "output_type": "stream",
     "text": [
      "Minimum cost to reach (2, 2) from (0, 0): 10\n"
     ]
    }
   ],
   "source": [
    "cost_matrix = [\n",
    "    [1, 2, 3],\n",
    "    [4, 6, 8],\n",
    "    [1, 5, 3]\n",
    "]\n",
    "\n",
    "m, n = 2, 2\n",
    "print(f\"Minimum cost to reach ({m}, {n}) from (0, 0): {min_cost_path_tabulation(cost_matrix)}\")"
   ]
  },
  {
   "cell_type": "code",
   "execution_count": null,
   "id": "b145d500",
   "metadata": {},
   "outputs": [],
   "source": []
  }
 ],
 "metadata": {
  "kernelspec": {
   "display_name": "base",
   "language": "python",
   "name": "python3"
  },
  "language_info": {
   "codemirror_mode": {
    "name": "ipython",
    "version": 3
   },
   "file_extension": ".py",
   "mimetype": "text/x-python",
   "name": "python",
   "nbconvert_exporter": "python",
   "pygments_lexer": "ipython3",
   "version": "3.12.4"
  }
 },
 "nbformat": 4,
 "nbformat_minor": 5
}
