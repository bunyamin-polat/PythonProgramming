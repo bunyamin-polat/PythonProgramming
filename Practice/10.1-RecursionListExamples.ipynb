{
 "cells": [
  {
   "cell_type": "markdown",
   "metadata": {},
   "source": [
    "## Sum of an Array using Recursion\n",
    "\n",
    "You are given an array of integers. Your task is to calculate and return the sum of all the elements in the array using recursion.\n",
    "\n",
    "**Input:** An array of integers.\n",
    "\n",
    "**Output:** An integer representing the sum of the array elements.\n",
    "\n",
    "**Example:**\n",
    "\n",
    "    Input: arr = [1, 2, 3, 4, 5]\n",
    "    Output: 15\n",
    "    \n",
    "    Input: arr = [10, -2, 3, 5]\n",
    "    Output: 16"
   ]
  },
  {
   "cell_type": "code",
   "execution_count": 1,
   "metadata": {},
   "outputs": [
    {
     "name": "stdout",
     "output_type": "stream",
     "text": [
      "15\n"
     ]
    }
   ],
   "source": [
    "def recursive_sum(arr: list[int]) -> int:\n",
    "    \"\"\"\n",
    "    Function to calculate the sum of an array using recursion.\n",
    "    Parameters: arr (list of int): The array of integers.\n",
    "    Returns: int: The sum of the array elements.\n",
    "    \"\"\"\n",
    "    if len(arr) == 0:\n",
    "        return 0\n",
    "    return arr[0] + recursive_sum(arr[1:])\n",
    "\n",
    "print(recursive_sum([1, 2, 3, 4, 5]))  # Output: 15"
   ]
  },
  {
   "cell_type": "markdown",
   "metadata": {},
   "source": [
    "## First Index of an Element using Recursion\n",
    "\n",
    "You are given an array and an element. Your task is to find the first index where the array contains that element using recursion. If the element is not found, return -1.\n",
    "\n",
    "**Input:**\n",
    "\n",
    "    An array arr of integers.\n",
    "\n",
    "    An integer element.\n",
    "\n",
    "**Output:** An integer representing the first index where element is found in arr, or -1 if it is not found.\n",
    "\n",
    "**Example:**\n",
    "\n",
    "    Input: arr = [1, 2, 3, 2, 4, 2], element = 2\n",
    "    Output: 1\n",
    "    \n",
    "    Input: arr = [5, 6, 7, 8], element = 10\n",
    "    Output: -1"
   ]
  },
  {
   "cell_type": "code",
   "execution_count": 2,
   "metadata": {},
   "outputs": [
    {
     "name": "stdout",
     "output_type": "stream",
     "text": [
      "1\n"
     ]
    }
   ],
   "source": [
    "def find_first_index(arr: list[int], target:int) -> int:\n",
    "    \"\"\"\n",
    "    Function to find the first index of a target element in an array using recursion.\n",
    "    Parameters: arr (list of int): The array of integers.\n",
    "                target (int): The target element to find.\n",
    "    Returns: int: The index of the target element in the array.\n",
    "    \"\"\"\n",
    "    if len(arr) == 0:\n",
    "        return -1\n",
    "    if arr[0] == target:\n",
    "        return 0\n",
    "    index = find_first_index(arr[1:], target)\n",
    "    return -1 if index == -1 else index + 1 # Increment the index by 1 if found. Because we are slicing the array.\n",
    "\n",
    "\n",
    "print(find_first_index([3,2,5,2,8,2,1],2)) # 1"
   ]
  },
  {
   "cell_type": "markdown",
   "metadata": {},
   "source": [
    "## Print all Index of Element using Recursion\n",
    "\n",
    "You are given an array and an element. Your task is to find all the indices where the array contains that element using recursion.\n",
    "\n",
    "**Input:**\n",
    "\n",
    "    An array arr of integers.\n",
    "\n",
    "    An integer element.\n",
    "\n",
    "**Output:** A list of indices where element is found in `arr`.\n",
    "\n",
    "**Example:**\n",
    "\n",
    "    Input: arr = [1, 2, 3, 2, 4, 2], element = 2\n",
    "    Output: [1, 3, 5]\n",
    "    \n",
    "    Input: arr = [5, 6, 7, 8], element = 10\n",
    "    Output: []"
   ]
  },
  {
   "cell_type": "code",
   "execution_count": 7,
   "metadata": {},
   "outputs": [
    {
     "data": {
      "text/plain": [
       "[1, 3, 5]"
      ]
     },
     "execution_count": 7,
     "metadata": {},
     "output_type": "execute_result"
    }
   ],
   "source": [
    "def find_indices(arr, element):\n",
    "    \"\"\"\n",
    "    Function to find all indices of a given element in an array using recursion.\n",
    "    \n",
    "    Parameters:\n",
    "    arr (list of int): The array to search through.\n",
    "    element (int): The element to find.\n",
    "    \n",
    "    Returns:\n",
    "    list of int: A list containing all indices of the element in the array.\n",
    "    \"\"\"\n",
    "    \n",
    "    if len(arr) == 0:\n",
    "        return []\n",
    "    indices = find_indices(arr[1:], element)\n",
    "    if arr[0] == element:\n",
    "        return [0] + [index + 1 for index in indices]\n",
    "    return [index + 1 for index in indices]\n",
    "    \n",
    "find_indices([3,2,5,2,8,2,1],2)"
   ]
  }
 ],
 "metadata": {
  "kernelspec": {
   "display_name": "Python 3",
   "language": "python",
   "name": "python3"
  },
  "language_info": {
   "codemirror_mode": {
    "name": "ipython",
    "version": 3
   },
   "file_extension": ".py",
   "mimetype": "text/x-python",
   "name": "python",
   "nbconvert_exporter": "python",
   "pygments_lexer": "ipython3",
   "version": "3.12.0"
  }
 },
 "nbformat": 4,
 "nbformat_minor": 2
}
